{
 "cells": [
  {
   "cell_type": "markdown",
   "metadata": {},
   "source": [
    "# Part 1: Podcast Transcription and Information Extraction"
   ]
  },
  {
   "cell_type": "markdown",
   "metadata": {},
   "source": [
    "## Step 1 - Retrieve the audio file"
   ]
  },
  {
   "cell_type": "code",
   "execution_count": null,
   "metadata": {},
   "outputs": [],
   "source": [
    "%pip install feedparser"
   ]
  },
  {
   "cell_type": "code",
   "execution_count": 1,
   "metadata": {},
   "outputs": [],
   "source": [
    "import feedparser\n",
    "podcast_feed_url = \"https://feeds.acast.com/public/shows/d556eb54-6160-4c85-95f4-47d9f5216c49\"\n",
    "podcast_feed = feedparser.parse(podcast_feed_url)"
   ]
  },
  {
   "cell_type": "code",
   "execution_count": 2,
   "metadata": {},
   "outputs": [],
   "source": [
    "for item in podcast_feed.entries[0].links:\n",
    "  if (item['type'] == 'audio/mpeg'):\n",
    "    episode_url = item.href"
   ]
  },
  {
   "cell_type": "markdown",
   "metadata": {},
   "source": [
    "## Step 2 - Transcribe the audio file"
   ]
  },
  {
   "cell_type": "code",
   "execution_count": null,
   "metadata": {},
   "outputs": [],
   "source": [
    "%pip install git+https://github.com/openai/whisper.git  -q"
   ]
  },
  {
   "cell_type": "code",
   "execution_count": 15,
   "metadata": {},
   "outputs": [],
   "source": [
    "import pathlib\n",
    "import whisper"
   ]
  },
  {
   "cell_type": "code",
   "execution_count": 16,
   "metadata": {},
   "outputs": [
    {
     "name": "stdout",
     "output_type": "stream",
     "text": [
      "Model has been downloaded, no re-download necessary\n"
     ]
    }
   ],
   "source": [
    "# Perform download only once and save to Network storage\n",
    "model_path = pathlib.Path.cwd()\n",
    "if model_path.joinpath(\"medium.pt\").exists():\n",
    "  print (\"Model has been downloaded, no re-download necessary\")\n",
    "else:\n",
    "  print (\"Starting download of Whisper Model\")\n",
    "  whisper._download(whisper._MODELS[\"medium\"], str(model_path), False)"
   ]
  },
  {
   "cell_type": "code",
   "execution_count": 17,
   "metadata": {},
   "outputs": [],
   "source": [
    "# Load model from saved location\n",
    "model = whisper.load_model('medium', device='cuda', download_root=model_path)"
   ]
  },
  {
   "cell_type": "code",
   "execution_count": 18,
   "metadata": {},
   "outputs": [
    {
     "name": "stdout",
     "output_type": "stream",
     "text": [
      "CPU times: total: 5min 4s\n",
      "Wall time: 3min 26s\n"
     ]
    }
   ],
   "source": [
    "%%time\n",
    "result = model.transcribe(\"podcast_episode.mp3\")"
   ]
  },
  {
   "cell_type": "code",
   "execution_count": 19,
   "metadata": {},
   "outputs": [
    {
     "data": {
      "text/plain": [
       "\" Hello and welcome to the Smith's show. At Smith's, everyone wins when it comes to saving big. Because when you order online through the Smith's app, you get the same great prices, deals, and rewards on pickup or delivery that you do in-store with no hidden fees or markups. So no matter how you shop, you'll always save big at Smith's. Smith's. Fresh for everyone. Save big on your favorites with the buy five or more, save a dollar each sale. Simply buy five or more participating items and save a dollar each with your card. Smith's. Fresh for everyone. Hello and welcome to The Intelligence from The Economist. I'm Oreh Ogumbiyi. And I'm Jason Palmer. Every weekday, we provide a fresh perspective on the events shaping your world. The American state of Montana is very protective of its great outdoors. Its natural wonders are even prized in its constitution. But a group of climate-conscious young citizens have taken the state to court for not going far enough. And have you ever thought of wr\""
      ]
     },
     "execution_count": 19,
     "metadata": {},
     "output_type": "execute_result"
    }
   ],
   "source": [
    "# Check the transcription happened correctly by peeking into the first 1000 characters\n",
    "podcast_transcript = result['text']\n",
    "result['text'][:1000]"
   ]
  },
  {
   "cell_type": "code",
   "execution_count": 20,
   "metadata": {},
   "outputs": [
    {
     "data": {
      "text/plain": [
       "\" Hello and welcome to the Smith's show. At Smith's, everyone wins when it comes to saving big. Because when you order online through the Smith's app, you get the same great prices, deals, and rewards on pickup or delivery that you do in-store with no hidden fees or markups. So no matter how you shop, you'll always save big at Smith's. Smith's. Fresh for everyone. Save big on your favorites with the buy five or more, save a dollar each sale. Simply buy five or more participating items and save a dollar each with your card. Smith's. Fresh for everyone. Hello and welcome to The Intelligence from The Economist. I'm Oreh Ogumbiyi. And I'm Jason Palmer. Every weekday, we provide a fresh perspective on the events shaping your world. The American state of Montana is very protective of its great outdoors. Its natural wonders are even prized in its constitution. But a group of climate-conscious young citizens have taken the state to court for not going far enough. And have you ever thought of writing a book? Getting it published is relatively easy. Making sure it sells, tops the charts, and is profitable? Not so much. Our correspondent brings you a step-by-step guide to creating a bestseller. First up, though. There's a day that's gone down in the history of Chile, September the 11th, 1973. Michael Reed is a former longtime writer of our column, Bayo, on Latin American affairs. And it was the day that the Chilean armed forces overthrew the elected socialist government of President Salvador Allende. The images from that day and the sounds from that day have been etched into history. Piles of smoke billowed from La Moneda, Chile's presidential palace in the heart of the capital, Santiago. Hawker hunter jets of the Chilean Air Force fired rockets at the palace. Tanks patrolled the surrounding streets. Troops dragooned prisoners with their hands on their heads through the city streets. Allende in tweed jacket and with a tin hat, brandishing a pistol, was photographed in La Moneda. By 2 p.m. he would die by his own hand. And the world would learn the name of the leader of the violent coup against Allende, General Augusto Pinochet, who would rule Chile as dictator for the next 17 years. But Allende's voice still echoed, in particular that of his final speech broadcast on one of the few radio sessions that was still operating. And in that speech, he said in very measured tones, despite the noise and the shouting in the background, that he was not going to resign. That he would repay the loyalty of the people, in his words, by laying down his life. And he said, much sooner than later, the grand avenues will open up once again, down which free people will march to build a fairer society. It is an anniversary which divides because of the totemic and traumatic significance of these events. And half a century later, that division, in some ways, seems almost as great. So the 50-year anniversary of that coup is this week, but let's start by walking through how Chile got to that point. Why was there this military coup? Chile had stood out in Latin America because it had had stable civilian government since 1932. The economy was dependent on American-owned copper companies, on the one hand, and farming, which was dominated by large and inefficient estates. A previous government, before Allende, had pushed through reforms to try to address those issues. But Allende was elected in 1970 on a platform in which he proclaimed a Chilean road to socialism. More in the pattern of a Fidel Castro than a European Social Democrat. Which, it seems, didn't work out. No, it didn't. He faced a basic problem, and that was that he had only won 36% of the vote. There hadn't been a big swing to the left. He never had a political power. His macroeconomic policy was populist. I mean, they took over all these companies, and they printed lots of money, which prompted inflation and shortages and so on. And then there was the international context. It was the Cold War. And the Nixon administration in the United States was afraid that Chile might become a second Cuba. And so they did everything they could to undermine the Allende government. By 1973, Chile was really at breaking point. There were large protests against inflation and shortages. But also out of fear that Chile was moving towards the dictatorship of the proletariat in the Marxist-Leninist term. But you said he was elected in 1970, and it was in 1973 that the proletariat was elected. And in 1970, and it was in 1973 that the breaking point arrived. Didn't he see that coming? Yeah, I think he may have done. I think he certainly had no good options by mid-1973. One way out would have been to try and strike a deal with the Christian Democrats, who were the largest party in Congress, centrist. And that would have split Allende's left-wing coalition. The military, the armed forces, had been quite patient by Latin American standards. But in the end, they decided to move partly because there was a lot of discontent within the armed forces. Pinochet, in fact, decided to join the coup only at the last minute. Pinochet was a very calculating kind of person who always wanted to wait to see which way the wind was blowing before joining it. And once the winds blew him into power, what happened next? Many Chilean politicians had assumed that the army would just step in, restore order, and call a fresh election. But none of that happened. And instead, Pinochet launched a reign of terror. Supporters of Allende, many of them were rounded up. More than 2,000 were killed or disappeared. Some 30,000 were tortured, and many thousands went into exile. So what about the ways that Allende was running the country? How did those change beyond the brutal terror? Pinochet had another shock in store for Chile. In general, military dictatorships in Latin America tended to support kind of state-led industrialization. But he was persuaded to hire a team of free market economists known as the Chicago Boys, because many of them had studied at the University of Chicago, the Temple of Milton Friedman. And they proceeded to tear down state controls and tariff barriers and privatized almost anything. That actually produced an economic crash in 1982. But after that, there was more pragmatic free market economic management. And it put Chile on a path to sustained economic growth. There was one aspect which was much more controversial, which has produced discontent in recent years, which was that the Chicago Boys thought that Chile should not just have a market economy, but a market society in which the provision of public services, like education and health care, would be a job mainly for the market. And what about the sort of onwards political consequences here? What happened to Chile's left? Well, obviously, the coup was a traumatic defeat. But gradually, there was a rethink. And in particular, the Socialist Party, of which Allende was a member, concluded that the way to bring progressive change to Chile and to restore democracy was to strike a broad alliance that would include the Christian Democrats. The deal that Allende perhaps might have done in 1973, but didn't. And it happened in the 1980s. And that broad front managed to win the plebiscite, which Pinochet had called for 1989, on whether his rule should continue or not. And Chile made a successful transition to democracy. And what was known as the Concertacion, this broad alliance of the left and the center, proceeded to govern Chile for most of the following 20 years and brought about a lot of reform, a lot of economic growth. Poverty came right down and there was a lot of progress. Then it became a victim of its own success. And so you think from that historical background arises a political discontent that we've seen in Chile more recently and talked about a lot on the show. Yeah. I mean, in 2019, there was what was called a social explosion. Of a mixture of massive peaceful protests on the one hand. And a lot of violent vandalism on the other. Demands were essentially for better pensions, better health care, better education. But it was framed as a kind of critique of the gradualist approach of the previous 20 years. The social explosion signaled the arrival in force of a younger, newer, more radical left in Chile. And one of its leaders, Gabriel Boric, would be elected as president at the end of 2021. And Boric sees himself as an heir much more to Allende rather than to the Concertacion. And on the day of his inauguration, as he walked towards the palace, La Moneda, he paid homage to the statue of Allende, which today stands behind the palace. And he invoked Salvador Allende in a speech to his followers. And so what does that tell you then about the situation in Chile, that the echo of Allende is there? Well, the echo of Allende is there, but also in a way the echo of Pinochet is there because the swing to the hard left proved to be temporary. Since then, we've seen the emergence of a new hard right party in Chile, led by José Antonio Cast, who does not criticize the dictatorship. The reasons for his support are not nostalgia for Pinochet, but there's no doubt the country is more politically polarized today than it was 10 years ago. It's been embodied really in a wrangle about a new constitution, because the existing constitution descends from Pinochet's constitution. In 2019, at a rather dangerous moment with the protests, there was a broad political agreement to set up an elected constitutional convention to write a new charter for the country. The hard left dominated it, and the document that came out was a quite extreme document. But it was overwhelmingly rejected in a plebiscite a year ago, and so it was back to the drawing board. The Congress agreed to set up yet another constitutional convention, a smaller one, and this time the hard right is the largest single force. I think a positive outcome would be if a draft corrects some of that market society stuff and gives a bigger role for the state in social provision, which I think a lot of Trillians want. But the country is in quite a rejectionist mood, and I think the anniversary has done nothing to overcome that rejectionist mood. All of this is in a very minor key compared with what happened between 1970 and 1973. And most people in Chile do not want to go back to coups and dictatorships, and that is overwhelmingly positive. Michael, thank you very much for your time. Thank you, Jason. In 2018, Kevin Costner took on a new role in the critically acclaimed TV series Yellowstone. He's a wealthy ranch owner and the patriarch of a powerful family in Montana, one hell bent on preserving the nature that the state is known for, as well as the cowboy way of life. The show makes riding in ram pickups and wrangling cows look like the only life worth living. But what it also does really well is offer up some escapism by painting the screen with the most beautiful scenery. The majesty of the mountains, the forests, the sense of freedom that comes from the seemingly never ending plains nestled between the mountain peaks. And of course, the horses. Costner's character, John Dutton, is pitted against the world trying to preserve this slice of paradise. They wonder why we fight so hard. You see what you've been missing? Didn't one thing to pack any vodka? Yeah, just look at the horizon. Yeah, I see it, Dad. It's very pretty. But in the most recent season, Dutton takes on that fight from the governor's mansion. I John Dutton, do solemnly swear to uphold the constitution of the state of Montana. While this often violent drama typically bears little resemblance to domestic American politics, it does get one thing absolutely right. Montana's state constitution puts its natural wonders before all else. And that is something that real life activists are seizing on to try to protect the state. And that is something that real life activists are seizing on to try to protect the state and the rest of the world from the continued burning of fossil fuels. So in 2020, a group of 16 young people who at the time that the lawsuit was filed were between the ages of 2 and 18, sued the state. Annie Crabill is a news editor for The Economist. And they argued that the state's energy policies by favoring fossil fuels over renewables violated this constitutional right to a clean and healthful environment. And how do the plaintiffs claim that the state is doing that, failing to maintain a clean and healthful environment? So all the plaintiffs have pretty compelling stories. I met with one of the older plaintiffs, Grace Gibson Snyder in Missoula, Montana, where she's from. And Grace is a sixth generation Montanan. She grew up going to Glacier National Park, which is this spectacular park, just a couple hours from Missoula. And she talked about how year after year she would kind of see the glaciers melting with each passing season. She would go backpacking or play soccer. And the season that she could safely do those things in was increasingly cut short due to worsening wildfire smoke. The lead plaintiff, whose name is Ricky Held, grew up on a ranch. And she described in her testimony, growing up seeing worsening flash flooding, droughts and wildfires that would have these negative impacts, not only on her well-being and lifestyle, but just her family's business. So it negatively impacted crops and the livestock on her family's ranch. So what was especially important in this lawsuit is the part about the state constitution protecting the environment, quote, for present and future generations. So the lawsuit was kind of narrowed over time, in part because the legislature dissolved the energy policy. That was at the core of the lawsuit, which people cynically thought was designed to derail the trial. But one bit stuck. And it was a provision that barred state agencies from taking into account the effects of greenhouse gas emissions when considering new energy projects. So it basically forbid the state from considering the impacts of climate change when thinking about new fossil fuel projects. OK, so this case was heard in June, you said. Has the judge ruled on it yet? Yes. So the case kicked off in June. And in mid-August, the district court judge, Kathy Seeley, ruled in favor of the plaintiffs. She struck down that provision and she said it's unconstitutional for the legislature to bar the state from taking climate change into account. And she said in her opinion that Montana's emissions have been proven to be a substantial factor in causing climate impacts to Montana's environment. And the plaintiffs were totally in the right to bring this lawsuit. She said that they have proven that as children and youth, they are disproportionately harmed by fossil fuel pollution and climate impacts. OK, this sounds big. Will the state really now be forced to take emissions into account for all energy projects? So not exactly. The order as written does not compel the state to take emissions into account. It just prevents them from banning that outright. But it really has been hailed as a game changer. And that's the consensus view among experts. I spoke with Michael Gerard, who is a professor at Columbia Law School, and he founded the Sabin Center, which tracks environmental litigation. It's only the second time that there's ever been an actual trial on climate science, where climate scientists were on the stand, subject to cross-examination under oath. And here, after extensive testimony, the court ruled that the climate scientists were right. Additionally, this was the first time that a court has found there is a constitutional right to a clean environment in the United States. We've seen similar rulings in other countries, but not in the U.S. So this was a landmark case in its own right, in Gerard's view. But he really sees these environmental cases as being really important. And he pointed to a Supreme Court case from 2007, Massachusetts v. EPA, as being kind of a major push behind many of the Obama administration's climate policies. But I also spoke with Quinn Yergain, who is an expert on state constitutions and an associate professor at Widener University Commonwealth Law School. And Yergain is more skeptical about the implications of this case. I agree that it'll definitely result in more climate litigation and more green amendments. I disagree with the idea that this is a landmark decision or, I would say, substantial in any way. And I would also sort of disagree with some of the maybe implicit optimism that more green amendments and more climate litigation is an inherently good thing and represents a good use of limited resources. So Yergain does not believe that this decision would provide the basis upon which a court could then turn around and order the state government to massively decrease carbon emissions, which is, to be clear, what the plaintiffs originally asked for. And Yergain argues that a better use of time and resources in this increasingly worming world would be to directly mandate the use of renewables instead of going in for more of these rights-based green amendments. Yeah, that's the big question. The law firm that brought this lawsuit has lots of other litigation in the works. They have launched efforts in all 50 states. But the first states that will see an impact will be the ones that have similar provisions in their constitutions protecting environmental rights. So the next youth climate change case that is going to trial will be in Hawaii next year. And Hawaii has a similar provision in its constitution. New York, Pennsylvania, Illinois, those are some of the others. We're seeing a lot of attention and perhaps maybe a lot of momentum for green amendments. New York passed a green amendment in November of 2021, for example. But what these cases will in and of themselves achieve, I think, remains really worth watching, but not a surefire path to mandating decarbonization. Annie, thank you so much for coming on the show. Thank you very much for having me. The garage door opened eerily, its mouth yawning expectantly, a large dark toad about to gobble an unsuspecting fly. Danielle's deal books deal with family, courage, loyalty, wealth, fear, revenge and love. Catherine Nixie is a Britain correspondent for The Economist. Her books are also about selling staggering numbers of copies. She's written over 200 books. The latest one, Happiness, came out in August and her next one, Second Act, is going to be released in October. She's one of the world's best selling living authors, according to some claims, the best selling living author. And she sold over a billion copies. And so obviously, the literary world being what it is, it completely ignores her. Publishing is a very peculiar business. It's worth around 37 billion pounds in Britain and America alone. But you'd pretty much never know this from the literature that it itself produces. It always tends to focus on books in the brainy vein rather than anything so vulgar as volumes that actually sell. If you look into one authoritative history of English literature, you'll find it's got about 60 mentions of Shakespeare, 10 mentions of the sublime, 8 on blank verse, but an absolute blank silence for such concepts as business or turnover or profit. Another literary history refers to popular novels, which William Thackeray, the English author, called Jammed Hearts for the Mind. And it does so under the heading Problems of Popular Culture. So book selling is incredibly sniffy about these best sellers, but it absolutely depends on them. September and October are when publishers release the titles that they hope are going to be the money spinners for the next few years. But almost no books make any money at all. In fact, most of them lose it. To print, produce and publicize a book costs a publisher around $15,000. And it takes around 5000 copies, therefore, to break even. Most books never even come close. Only 0.4% of titles in Britain last year sold more than that 5000 mark. Miss Steel's books, by contrast, have sold 268,000 copies in Britain this year so far alone. I mean, they might be Jammed Hearts, but that's why people like to gobble them up. But the funny thing is, is though the industry completely depends on them, it has an almost total inability to predict which books are going to become best sellers. For publishers, buying books is less like sagely predicting what's going to be a winner than buying a literary lottery ticket and hoping for the best. If you want to know just how unpredictable it is, then look at the publisher's random house. Everything about publishing is random. Success is random. Getting winning books is random. It's all random. That's why they're the random house. The term bestseller first appeared in the late Victorian period in the 1890s, and the first authoritative lists followed soon after. People get a bit sniffy about the term bestseller because they say, actually, Shakespeare is a bestseller. It's just sells more slowly, which is kind of true, and the Bible's probably the best bestseller. But really, everyone knows what a bestseller is. They are the fun fiction that you want to read, but probably shouldn't. Their writing can be good. H.G. Wells, an English writer, was at the top of early rankings, but it really doesn't need to be good. I mean, just read The Da Vinci Code by Dan Brown. Sex tends to sell well in bestsellers, but the thing that sells best of all is celebrity. Prince Harry's Spare broke all records as the fastest-selling nonfiction book when it was published earlier this year. And if you are hoping to write a bestseller yourself, then you should bear in mind that fiction sells better than nonfiction, and that thrillers and romance sell best of all. You should also remember that recognition matters, so you should really be churning these things out. And if you absolutely must write nonfiction books, which never sell, then try and make it biography, which really does. Of the top ten bestsellers in one recent week, three of them were romances. One was a thriller, and four were by a single author, Colleen Hoover, the romantic novelist who's revolutionized romantic publishing. If you look at those lists, they're not that literary. Only one of the ten Covenant of Water was a kind of bookish sort of a book. They are often pretty aspirational, so men tend to be muscly, women tend to be attractive. They're often set in hot, beautiful locations. The other thing that strikes you is how many of them are books in a series. Look at the top ten of the New York Times bestsellers, and it will often be such and such a book, which is 23rd in a series, 24th in a series, 100th in a series. James Patterson, an American thriller writer, has churned out over 340 books. It's the kind of speed that brings to mind Truman Capote's famous phrase that that's less writing than typing. Danielle Steele, when she writes books, says that she writes until her nails bleed. Not all bestsellers are bad, but some of their sentences might have benefited from a little more introspection. Or, in some cases, it feels like at the very least, a second read. In one bestseller, a character finds her lover in bed with someone else, and she observes, The only thing that struck me was that his face was as expressionless as his buttocks, which stared at me from the bed. You can reread that sentence several times and still not feel that it's given up all of its secrets. However, if you really, really want to write a bestseller, then just ignore Miss Steele, ignore James Patterson, ignore all the other novelists. Because the book that sold the most copies in America over the past 10 years was by none of them. It was instead, Oh, the Places You'll Go by Dr. Seuss. And number three in that list was that other literary classic, The Very Hungry Caterpillar by Eric Carle. The thing about children's books is they don't just sell well, they also keep on selling year after year, and they build fans across the generations. And if you're an author, they're also quite short. There's surely no better-paid sentences than those of The Very Hungry Caterpillar in all of literature. Incidentally, these books all obey the bestseller formula perfectly. They have sentences of Hemingway-esque brevity. They've got nice, pleasant settings. And of course, they've got excellent weather. That's all for this episode of The Intelligence. We've got some news for you. If you're a subscriber, The Economist's app now has a dedicated tab for this and all of our shows. It's the easiest way to tune in every day. And if you're not a subscriber to The Economist, what are you waiting for? Come join us. Get a free 30-day digital subscription by going to economist.com slash intelligence offer. The link is in the show notes. We'll see you back here tomorrow. The Economist\""
      ]
     },
     "execution_count": 20,
     "metadata": {},
     "output_type": "execute_result"
    }
   ],
   "source": [
    "podcast_transcript"
   ]
  },
  {
   "cell_type": "markdown",
   "metadata": {},
   "source": [
    "## Step 3 - Create a summary of the podcast"
   ]
  },
  {
   "cell_type": "code",
   "execution_count": null,
   "metadata": {},
   "outputs": [],
   "source": [
    "%pip install openai\n",
    "%pip install tiktoken"
   ]
  },
  {
   "cell_type": "code",
   "execution_count": 21,
   "metadata": {},
   "outputs": [],
   "source": [
    "import openai\n",
    "from getpass import getpass\n",
    "\n",
    "openai.api_key = getpass('Enter the OpenAI API Key in the cell  ')"
   ]
  },
  {
   "cell_type": "code",
   "execution_count": null,
   "metadata": {},
   "outputs": [],
   "source": [
    "# we can confirm that the API key works by listing all the OpenAI models\n",
    "models = openai.Model.list()\n",
    "for model in models[\"data\"]:\n",
    "  print (model[\"root\"])"
   ]
  },
  {
   "cell_type": "code",
   "execution_count": 23,
   "metadata": {},
   "outputs": [
    {
     "name": "stdout",
     "output_type": "stream",
     "text": [
      "Number of tokens in input prompt  5289\n"
     ]
    }
   ],
   "source": [
    "import tiktoken\n",
    "enc = tiktoken.encoding_for_model(\"gpt-3.5-turbo\")\n",
    "print (\"Number of tokens in input prompt \", len(enc.encode(podcast_transcript)))"
   ]
  },
  {
   "cell_type": "code",
   "execution_count": 24,
   "metadata": {},
   "outputs": [],
   "source": [
    "instructPrompt = \"\"\"\n",
    "Please provide a summary of the following podcast, the transcript for which is provided below.\n",
    "\n",
    "Here is how I would like you to perform this task:\n",
    "- Identify the main speakers or participants in the podcast, and classify them as hosts or guests. Generally the podcast will be narrated by one or more hosts. You can generally identify a guest because they will be introduced by the host, and will then be interviewed by the host. For each participant, identify what organization they belong to (if any) and what their title is. Not every episode will have a guest.\n",
    "- Break the podcast into sections, based on topics or themes.\n",
    "- For each topic, summarize the topic with a concise summary.\n",
    "\n",
    "When printing your summary, please organize it as follows:\n",
    "- At the beginning of your response, for each podcast guest (not including the host/s), print the following information in the following format: GUEST NAME: [name]\\nGUEST ORGANIZATION: [org]\\nGUEST TITLE: [title]\n",
    "- If there is no guest, then set [name] [org] and [title] equal to \"none\"\n",
    "- After printing the guest information, print the summary of the episode, breaking it into the individual topics if needed.\n",
    "- Finally, print any interesting takeaways from the episode. These should be items that are the most interesting or surprising moments in the entire episode. Please limit these to a maximum of 3 bullet points.\n",
    "\n",
    "Here is the podcast transcript:\n",
    "\n",
    "\n",
    "\"\"\"\n",
    "\n",
    "request = instructPrompt + podcast_transcript"
   ]
  },
  {
   "cell_type": "code",
   "execution_count": 25,
   "metadata": {},
   "outputs": [],
   "source": [
    "chatOutput = openai.ChatCompletion.create(model=\"gpt-3.5-turbo-16k\",\n",
    "                                            messages=[{\"role\": \"system\", \"content\": \"You are a helpful assistant.\"},\n",
    "                                                      {\"role\": \"user\", \"content\": request}\n",
    "                                                      ]\n",
    "                                            )"
   ]
  },
  {
   "cell_type": "code",
   "execution_count": 26,
   "metadata": {},
   "outputs": [
    {
     "data": {
      "text/plain": [
       "'none\\nSUMMARY:\\n- The first topic discusses the 50-year anniversary of the military coup in Chile that overthrew the elected socialist government of President Salvador Allende. The podcast explores the background and factors that led to the coup, as well as the aftermath and political climate in Chile today.\\n- The second topic focuses on a recent court case in Montana where a group of young climate activists sued the state for not taking sufficient action to address climate change. The court ruled in favor of the plaintiffs, stating that the state\\'s energy policies violated their constitutional right to a clean and healthful environment.\\n- The third topic highlights the success and impact of bestselling author Danielle Steel. The podcast explores the publishing industry\\'s tendency to overlook popular fiction and focus on more literary works, despite the significant financial contributions of bestsellers.\\n- The episode concludes with an examination of the unpredictable nature of bestsellers and the factors that contribute to their success, including celebrity authorship, series novels, and aspirational themes.\\n\\nInteresting takeaways:\\n- The court ruling in the Montana climate change lawsuit has been hailed as a game changer and a landmark decision, potentially leading to more climate litigation and the inclusion of emissions considerations in energy projects.\\n- Despite their popularity and financial success, bestselling authors like Danielle Steel are often overlooked by the literary world, which tends to focus more on literary works and overlook the contributions of popular fiction.\\n- Children\\'s books, such as \"Oh, the Places You\\'ll Go\" and \"The Very Hungry Caterpillar,\" can be extremely successful and continue to sell year after year, appealing to multiple generations.'"
      ]
     },
     "execution_count": 26,
     "metadata": {},
     "output_type": "execute_result"
    }
   ],
   "source": [
    "podcastSummary = chatOutput.choices[0].message.content\n",
    "podcastSummary"
   ]
  },
  {
   "cell_type": "markdown",
   "metadata": {},
   "source": [
    "## Step 4 - Using functions to extract additional information to provide additional context on the episode"
   ]
  },
  {
   "cell_type": "code",
   "execution_count": 27,
   "metadata": {},
   "outputs": [
    {
     "name": "stdout",
     "output_type": "stream",
     "text": [
      "Number of tokens in input prompt  1095\n"
     ]
    }
   ],
   "source": [
    "request = podcast_transcript[:5000]\n",
    "enc = tiktoken.encoding_for_model(\"gpt-3.5-turbo\")\n",
    "print (\"Number of tokens in input prompt \", len(enc.encode(request)))"
   ]
  },
  {
   "cell_type": "code",
   "execution_count": 28,
   "metadata": {},
   "outputs": [],
   "source": [
    "completion = openai.ChatCompletion.create(\n",
    "    model=\"gpt-3.5-turbo\",\n",
    "    messages=[{\"role\": \"user\", \"content\": request}],\n",
    "    functions=[\n",
    "    {\n",
    "        \"name\": \"get_podcast_guest_information\",\n",
    "        \"description\": \"Get information on the podcast guest using their name to search on Wikipedia\",\n",
    "        \"parameters\": {\n",
    "            \"type\": \"object\",\n",
    "            \"properties\": {\n",
    "                \"guest_name\": {\n",
    "                    \"type\": \"string\",\n",
    "                    \"description\": \"The name of the guest who is speaking in the podcast\",\n",
    "                },\n",
    "                \"unit\": {\"type\": \"string\"},\n",
    "            },\n",
    "            \"required\": [\"guest_name\"],\n",
    "        },\n",
    "    }\n",
    "    ],\n",
    "    function_call={\"name\": \"get_podcast_guest_information\"}\n",
    "    )"
   ]
  },
  {
   "cell_type": "code",
   "execution_count": null,
   "metadata": {},
   "outputs": [],
   "source": [
    "completion"
   ]
  },
  {
   "cell_type": "code",
   "execution_count": 30,
   "metadata": {},
   "outputs": [
    {
     "name": "stdout",
     "output_type": "stream",
     "text": [
      "Podcast Guest is  Salvador Allende\n"
     ]
    }
   ],
   "source": [
    "import json\n",
    "\n",
    "podcast_guest = \"\"\n",
    "response_message = completion[\"choices\"][0][\"message\"]\n",
    "if response_message.get(\"function_call\"):\n",
    "  function_name = response_message[\"function_call\"][\"name\"]\n",
    "  function_args = json.loads(response_message[\"function_call\"][\"arguments\"])\n",
    "  podcast_guest=function_args.get(\"guest_name\")\n",
    "\n",
    "print (\"Podcast Guest is \", podcast_guest)"
   ]
  },
  {
   "cell_type": "code",
   "execution_count": null,
   "metadata": {},
   "outputs": [],
   "source": [
    "%pip install wikipedia"
   ]
  },
  {
   "cell_type": "code",
   "execution_count": 31,
   "metadata": {},
   "outputs": [],
   "source": [
    "import wikipedia\n",
    "input = wikipedia.page(podcast_guest, auto_suggest=False)"
   ]
  },
  {
   "cell_type": "code",
   "execution_count": 32,
   "metadata": {},
   "outputs": [
    {
     "name": "stdout",
     "output_type": "stream",
     "text": [
      "Salvador Guillermo Allende Gossens (US: , UK: , American Spanish: [salβaˈðoɾ ɣiˈʝeɾmo aˈʝende ˈɣosens]; 26 June 1908 – 11 September 1973) was a Chilean physician and socialist politician, who served as the 28th president of Chile from 3 November 1970 until his death on 11 September 1973. As a democratic socialist committed to democracy, he has been described as the first Marxist to be elected president in a liberal democracy in Latin America.Allende's involvement in Chilean politics spanned a period of nearly forty years, during which he held various positions including senator, deputy, and cabinet minister. As a life-long committed member of the Socialist Party of Chile, whose foundation he had actively contributed to, he unsuccessfully ran for the national presidency in the 1952, 1958, and 1964 elections. In 1970, he won the presidency as the candidate of the Popular Unity coalition in a close three-way race. He was elected in a run-off by Congress, as no candidate had gained a majority. In office, Allende pursued a policy he called \"The Chilean Way to Socialism\". The coalition government was far from unanimous. Allende said that he was committed to democracy and represented the more moderate faction of the Socialist Party of Chile, while the radical wing sought a more radical anti-capitalist course. Instead, the Communist Party of Chile favored a gradual and cautious approach that sought cooperation with Christian democrats, which proved influential for the Italian Communist Party and the Historic Compromise.As president, Allende sought to nationalize major industries, expand education, and improve the living standards of the working class. He clashed with the right-wing parties that controlled Congress of Chile and with the judiciary. On 11 September 1973, the military moved to oust Allende in a coup d'état supported by the CIA, which initially denied the allegations. In 2000, the CIA admitted its role in the 1970 kidnapping of a top general who had refused to use the army to stop Allende's inauguration. 2023 declassified documents showed that U.S. President Richard Nixon, his National Security Advisor Henry Kissinger, and the United States government, which had branded Allende as a dangerous communist, were aware of the 1973 coup d'état and its plans to overthrow Allende's democratically-elected government.As troops surrounded La Moneda Palace, Allende gave his last speech vowing not to resign. Later that day, Allende died by suicide in his office; the exact circumstances of his death are still disputed. Following Allende's death, General Augusto Pinochet refused to return authority to a civilian government, and Chile was later ruled by the Government Junta of Chile, ending more than four decades of uninterrupted democratic governance, a period known as the Presidential Republic (1925–1973); the military dictatorship of Pinochet only ended after the successful internationally-backed 1989 Chilean constitutional referendum led to the peaceful Chilean transition to democracy. The military junta that took over dissolved the Congress of Chile, suspended the Chilean Constitution of 1925, and initiated a program of persecuting alleged dissidents, in which at least 3,095 civilians disappeared or were killed.\n"
     ]
    }
   ],
   "source": [
    "podcast_guest_info = input.summary\n",
    "print (podcast_guest_info)"
   ]
  },
  {
   "cell_type": "markdown",
   "metadata": {},
   "source": [
    "### adjust prompt to extract full name of podcast guest"
   ]
  },
  {
   "cell_type": "code",
   "execution_count": 33,
   "metadata": {},
   "outputs": [
    {
     "name": "stdout",
     "output_type": "stream",
     "text": [
      "[]\n"
     ]
    }
   ],
   "source": [
    "import re\n",
    "\n",
    "text = podcastSummary\n",
    "# Regular expression to extract guest information\n",
    "pattern = r\"GUEST NAME: (?P<name>.+?)\\nGUEST ORGANIZATION: (?P<org>.+?)\\nGUEST TITLE: (?P<title>.+?)\\n\\n\"\n",
    "\n",
    "# Extracting the details using regex\n",
    "matches = list(re.finditer(pattern, text))\n",
    "\n",
    "guest_details = [{\"name\": match.group(\"name\"), \"organization\": match.group(\"org\"), \"title\": match.group(\"title\")} for match in matches]\n",
    "\n",
    "print(guest_details)"
   ]
  },
  {
   "cell_type": "code",
   "execution_count": 34,
   "metadata": {},
   "outputs": [
    {
     "name": "stdout",
     "output_type": "stream",
     "text": [
      "Number of tokens in input prompt  1\n"
     ]
    }
   ],
   "source": [
    "request = str(guest_details)\n",
    "enc = tiktoken.encoding_for_model(\"gpt-3.5-turbo\")\n",
    "print (\"Number of tokens in input prompt \", len(enc.encode(request)))"
   ]
  },
  {
   "cell_type": "code",
   "execution_count": 35,
   "metadata": {},
   "outputs": [],
   "source": [
    "completion = openai.ChatCompletion.create(\n",
    "    model=\"gpt-3.5-turbo\",\n",
    "    messages=[{\"role\": \"user\", \"content\": request}],\n",
    "    functions=[\n",
    "    {\n",
    "        \"name\": \"get_podcast_guest_information\",\n",
    "        \"description\": \"Get information on the podcast guest using their full name and the name of the organization they are part of to search for them on Wikipedia or Google.\",\n",
    "        \"parameters\": {\n",
    "            \"type\": \"object\",\n",
    "            \"properties\": {\n",
    "                \"guest_name\": {\n",
    "                    \"type\": \"string\",\n",
    "                    \"description\": \"The full name of the guest who is speaking in the podcast\",\n",
    "                },\n",
    "                \"guest_organization\": {\n",
    "                    \"type\": \"string\",\n",
    "                    \"description\": \"The full name of the organization that the podcast guest belongs to or runs\",\n",
    "                },\n",
    "                \"guest_title\": {\n",
    "                    \"type\": \"string\",\n",
    "                    \"description\": \"The title, designation or role of the podcast guest in their organization\",\n",
    "                },\n",
    "            },\n",
    "            \"required\": [\"guest_name\"],\n",
    "        },\n",
    "    }\n",
    "],\n",
    "function_call={\"name\": \"get_podcast_guest_information\"}\n",
    ")"
   ]
  },
  {
   "cell_type": "code",
   "execution_count": 36,
   "metadata": {},
   "outputs": [],
   "source": [
    "import json\n",
    "\n",
    "podcast_guest = \"\"\n",
    "podcast_guest_org = \"\"\n",
    "podcast_guest_title = \"\"\n",
    "response_message = completion[\"choices\"][0][\"message\"]\n",
    "if response_message.get(\"function_call\"):\n",
    "  function_name = response_message[\"function_call\"][\"name\"]\n",
    "  function_args = json.loads(response_message[\"function_call\"][\"arguments\"])\n",
    "  podcast_guest=function_args.get(\"guest_name\")\n",
    "  podcast_guest_org=function_args.get(\"guest_organization\")\n",
    "  podcast_guest_title=function_args.get(\"guest_title\")"
   ]
  },
  {
   "cell_type": "code",
   "execution_count": 37,
   "metadata": {},
   "outputs": [
    {
     "name": "stdout",
     "output_type": "stream",
     "text": [
      "Elon Musk\n",
      "None\n",
      "None\n"
     ]
    }
   ],
   "source": [
    "print (podcast_guest)\n",
    "print (podcast_guest_org)\n",
    "print (podcast_guest_title)"
   ]
  },
  {
   "cell_type": "code",
   "execution_count": 38,
   "metadata": {},
   "outputs": [],
   "source": [
    "if podcast_guest_org is None:\n",
    "  podcast_guest_org = \"\"\n",
    "if podcast_guest_title is None:\n",
    "  podcast_guest_title = \"\""
   ]
  },
  {
   "cell_type": "code",
   "execution_count": null,
   "metadata": {},
   "outputs": [],
   "source": [
    "input = wikipedia.page(podcast_guest + \" \" + podcast_guest_org + \" \" + podcast_guest_title, auto_suggest=True)"
   ]
  },
  {
   "cell_type": "code",
   "execution_count": 40,
   "metadata": {},
   "outputs": [
    {
     "data": {
      "text/plain": [
       "'Salvador Guillermo Allende Gossens (US: , UK: , American Spanish: [salβaˈðoɾ ɣiˈʝeɾmo aˈʝende ˈɣosens]; 26 June 1908 – 11 September 1973) was a Chilean physician and socialist politician, who served as the 28th president of Chile from 3 November 1970 until his death on 11 September 1973. As a democratic socialist committed to democracy, he has been described as the first Marxist to be elected president in a liberal democracy in Latin America.Allende\\'s involvement in Chilean politics spanned a period of nearly forty years, during which he held various positions including senator, deputy, and cabinet minister. As a life-long committed member of the Socialist Party of Chile, whose foundation he had actively contributed to, he unsuccessfully ran for the national presidency in the 1952, 1958, and 1964 elections. In 1970, he won the presidency as the candidate of the Popular Unity coalition in a close three-way race. He was elected in a run-off by Congress, as no candidate had gained a majority. In office, Allende pursued a policy he called \"The Chilean Way to Socialism\". The coalition government was far from unanimous. Allende said that he was committed to democracy and represented the more moderate faction of the Socialist Party of Chile, while the radical wing sought a more radical anti-capitalist course. Instead, the Communist Party of Chile favored a gradual and cautious approach that sought cooperation with Christian democrats, which proved influential for the Italian Communist Party and the Historic Compromise.As president, Allende sought to nationalize major industries, expand education, and improve the living standards of the working class. He clashed with the right-wing parties that controlled Congress of Chile and with the judiciary. On 11 September 1973, the military moved to oust Allende in a coup d\\'état supported by the CIA, which initially denied the allegations. In 2000, the CIA admitted its role in the 1970 kidnapping of a top general who had refused to use the army to stop Allende\\'s inauguration. 2023 declassified documents showed that U.S. President Richard Nixon, his National Security Advisor Henry Kissinger, and the United States government, which had branded Allende as a dangerous communist, were aware of the 1973 coup d\\'état and its plans to overthrow Allende\\'s democratically-elected government.As troops surrounded La Moneda Palace, Allende gave his last speech vowing not to resign. Later that day, Allende died by suicide in his office; the exact circumstances of his death are still disputed. Following Allende\\'s death, General Augusto Pinochet refused to return authority to a civilian government, and Chile was later ruled by the Government Junta of Chile, ending more than four decades of uninterrupted democratic governance, a period known as the Presidential Republic (1925–1973); the military dictatorship of Pinochet only ended after the successful internationally-backed 1989 Chilean constitutional referendum led to the peaceful Chilean transition to democracy. The military junta that took over dissolved the Congress of Chile, suspended the Chilean Constitution of 1925, and initiated a program of persecuting alleged dissidents, in which at least 3,095 civilians disappeared or were killed.'"
      ]
     },
     "execution_count": 40,
     "metadata": {},
     "output_type": "execute_result"
    }
   ],
   "source": [
    "input.summary"
   ]
  },
  {
   "cell_type": "markdown",
   "metadata": {},
   "source": [
    "### Try Google Search using langchain to find guest info"
   ]
  },
  {
   "cell_type": "code",
   "execution_count": null,
   "metadata": {},
   "outputs": [],
   "source": [
    "%pip install langchain\n",
    "%pip install google-search-results\n",
    "%pip install openai"
   ]
  },
  {
   "cell_type": "code",
   "execution_count": 41,
   "metadata": {},
   "outputs": [
    {
     "name": "stdout",
     "output_type": "stream",
     "text": [
      "\n",
      "\n",
      "\u001b[1m> Entering new AgentExecutor chain...\u001b[0m\n",
      "\u001b[32;1m\u001b[1;3m I should look up information about Elon Musk.  \n",
      "Action: Search  \n",
      "Action Input: Elon Musk  \u001b[0m\n",
      "Observation: \u001b[36;1m\u001b[1;3m[{'title': 'Elon Musk, Sam Altman and Mark Zuckerberg Discuss AI with Lawmakers in Washington', 'link': 'https://www.nytimes.com/2023/09/13/technology/silicon-valley-ai-washington-schumer.html', 'source': 'The New York Times', 'date': '1 hour ago', 'thumbnail': 'https://serpapi.com/searches/6502918ef0adfbbe3f33e9c6/images/2ab3086dd55744898a07c4b651359400e24a3ae847e86a34.jpeg'}, {'title': 'Bill Gates, Elon Musk and Mark Zuckerberg meeting in Washington to discuss future AI regulations', 'link': 'https://www.cnn.com/2023/09/13/tech/schumer-tech-companies-ai-regulations/index.html', 'source': 'CNN', 'date': '7 hours ago', 'thumbnail': 'https://serpapi.com/searches/6502918ef0adfbbe3f33e9c6/images/2ab3086dd55744891e7cd74a219fc5fa0a324c17b4826e0a.jpeg'}, {'title': \"Musk calls for 'referee' for AI as tech moguls gather for forum\", 'link': 'https://www.euronews.com/next/2023/09/14/elon-musk-calls-for-a-referee-for-ai-as-tech-moguls-gather-for-regulation-forum-at-us-capi', 'source': 'Euronews.com', 'date': '6 hours ago', 'thumbnail': 'https://serpapi.com/searches/6502918ef0adfbbe3f33e9c6/images/2ab3086dd55744899e0e3e1519379ed3f45fb47c38a205f8.jpeg'}, {'title': \"Taiwan slams Elon Musk, says it's 'not for sale' nor part of China\", 'link': 'https://www.cnbc.com/2023/09/14/taiwan-slams-elon-musk-says-its-not-for-sale-nor-part-of-china.html', 'source': 'CNBC', 'date': '23 mins ago', 'thumbnail': 'https://serpapi.com/searches/6502918ef0adfbbe3f33e9c6/images/2ab3086dd5574489089630c805c0ef8d89ef13a47039b347.jpeg'}, {'title': 'Taiwan tells Elon Musk it is ‘not for sale’ after latest China comments', 'link': 'https://www.theguardian.com/world/2023/sep/14/taiwan-elon-musk-china-comments-response-all-in-summit-los-angeles', 'source': 'The Guardian', 'date': '1 hour ago', 'thumbnail': 'https://serpapi.com/searches/6502918ef0adfbbe3f33e9c6/images/2ab3086dd55744892e67059b504b5fa6a57d8d83d7f0918e.jpeg'}, {'title': \"Elon Musk's Twitter Layoffs Severance Fight Heads to Settlement Talks\", 'link': 'https://www.bloomberg.com/news/articles/2023-09-14/twitter-mass-layoff-severance-fight-heads-to-settlement-talks', 'source': 'Bloomberg.com', 'date': '59 mins ago', 'thumbnail': 'https://serpapi.com/searches/6502918ef0adfbbe3f33e9c6/images/2ab3086dd5574489de6084e44ed1a72be1c3744a17aa83e6.jpeg'}, {'title': 'During ‘the most concentrated pain’ in his life, Elon Musk saved Tesla and created ‘the algorithm’ that would become his manufacturing and management philosophy', 'link': 'https://fortune.com/2023/09/13/elon-musk-management-manufacturing-philosophy-the-algorithm/', 'source': 'Fortune', 'date': '6 hours ago', 'thumbnail': 'https://serpapi.com/searches/6502918ef0adfbbe3f33e9c6/images/2ab3086dd557448986b7ecc9f5b9ea96232c3e346767110a.jpeg'}, {'title': 'Elon Musk by Walter Isaacson review – arrested development', 'link': 'https://www.theguardian.com/books/2023/sep/13/elon-musk-by-walter-isaacson-review-arrested-development', 'date': '11 hours ago', 'thumbnail': 'https://encrypted-tbn0.gstatic.com/images?q=tbn:ANd9GcTT8ztrIVbW9B_4Gtnucaws25PXBlF-BHrrwSAu_81G42GMtMmlLhB9ub_-&usqp=CAI&s'}, {'title': 'Musk the Father - Jill Filipovic', 'link': 'https://jill.substack.com/p/musk-the-father', 'date': '2 days ago', 'thumbnail': 'https://encrypted-tbn0.gstatic.com/images?q=tbn:ANd9GcTWB9BxjxxzR3jkHvHBHTaHedoXMjjKtrYXxNlATtNM42MMosst7ODBNNMs&usqp=CAI&s'}, {'link': 'https://twitter.com/cb_doge?ref_src=twsrc%5Egoogle%7Ctwcamp%5Eserp%7Ctwgr%5Eauthor', 'date': '19 hours ago'}]\u001b[0m\n",
      "Thought:\u001b[32;1m\u001b[1;3m I now have a list of articles and information about Elon Musk.\n",
      "Action: Read\n",
      "Action Input: Articles and information about Elon Musk\u001b[0m\n",
      "Observation: Read is not a valid tool, try one of [Search].\n",
      "Thought:\u001b[32;1m\u001b[1;3m I should read the articles and information about Elon Musk.\n",
      "Action: Search\n",
      "Action Input: Articles and information about Elon Musk\u001b[0m\n",
      "Observation: \u001b[36;1m\u001b[1;3mMusk was born to a South African father and a Canadian mother. He displayed an early talent for computers and entrepreneurship. At age 12 he created a video game and sold it to a computer magazine.\u001b[0m\n",
      "Thought:\u001b[32;1m\u001b[1;3m I now know more about Elon Musk.\n",
      "Final Answer: Elon Musk is a South African-born Canadian entrepreneur and inventor who displayed an early talent for computers and entrepreneurship. At age 12 he created a video game and sold it to a computer magazine.\u001b[0m\n",
      "\n",
      "\u001b[1m> Finished chain.\u001b[0m\n",
      "Elon Musk is a South African-born Canadian entrepreneur and inventor who displayed an early talent for computers and entrepreneurship. At age 12 he created a video game and sold it to a computer magazine.\n"
     ]
    }
   ],
   "source": [
    "# Get description of guest via LangChain SERP API tool\n",
    "from langchain.llms import OpenAI\n",
    "from langchain.agents import load_tools\n",
    "from langchain.agents import initialize_agent\n",
    "import os\n",
    "\n",
    "os.environ['OPENAI_API_KEY'] = \"\"\n",
    "os.environ[\"SERPAPI_API_KEY\"] = \"\"\n",
    "\n",
    "llm = OpenAI(temperature=0.3)\n",
    "tools = load_tools([\"serpapi\"], llm=llm)\n",
    "agent = initialize_agent(tools, llm, agent=\"zero-shot-react-description\", verbose=True)\n",
    "\n",
    "# Using the agent to get a description of the podcast guest\n",
    "query = f\"Describe this person: {podcast_guest} {podcast_guest_org} {podcast_guest_title}\"\n",
    "result = agent.run(query)\n",
    "podcast_guest_summary = result\n",
    "print(result)"
   ]
  },
  {
   "cell_type": "code",
   "execution_count": 42,
   "metadata": {},
   "outputs": [
    {
     "name": "stdout",
     "output_type": "stream",
     "text": [
      "{'search_metadata': {'id': '6502919b36e6a993c645e8ad', 'status': 'Success', 'json_endpoint': 'https://serpapi.com/searches/42a26444afd588b9/6502919b36e6a993c645e8ad.json', 'created_at': '2023-09-14 04:52:43 UTC', 'processed_at': '2023-09-14 04:52:43 UTC', 'google_images_url': 'https://www.google.com/search?q=Elon+Musk++&oq=Elon+Musk++&hl=en&gl=us&tbm=isch', 'raw_html_file': 'https://serpapi.com/searches/42a26444afd588b9/6502919b36e6a993c645e8ad.html', 'total_time_taken': 4.77}, 'search_parameters': {'engine': 'google_images', 'q': 'Elon Musk  ', 'google_domain': 'google.com', 'hl': 'en', 'gl': 'us', 'device': 'desktop'}, 'search_information': {'image_results_state': 'Results for exact spelling', 'menu_items': [{'position': 1, 'title': 'All', 'link': 'https://www.google.com/search?q=Elon+Musk&source=lmns&hl=en-US&sa=X&ved=2ahUKEwjI67SUp6mBAxU7E2IAHd3lBaIQ0pQJKAB6BAgBEAI', 'serpapi_link': 'https://serpapi.com/search.json?device=desktop&engine=google&google_domain=google.com&hl=en-US&q=Elon+Musk'}, {'position': 2, 'title': 'News', 'link': 'https://www.google.com/search?q=Elon+Musk&source=lmns&tbm=nws&hl=en-US&sa=X&ved=2ahUKEwjI67SUp6mBAxU7E2IAHd3lBaIQ0pQJKAF6BAgBEAQ', 'serpapi_link': 'https://serpapi.com/search.json?device=desktop&engine=google&google_domain=google.com&hl=en-US&q=Elon+Musk&tbm=nws'}, {'position': 3, 'title': 'Images'}, {'position': 4, 'title': 'Videos', 'link': 'https://www.google.com/search?q=Elon+Musk&source=lmns&tbm=vid&hl=en-US&sa=X&ved=2ahUKEwjI67SUp6mBAxU7E2IAHd3lBaIQ0pQJKAN6BAgBEAg', 'serpapi_link': 'https://serpapi.com/search.json?device=desktop&engine=google_videos&gl=us&google_domain=google.com&hl=en-US&q=Elon+Musk'}, {'position': 5, 'title': 'Shopping', 'link': 'https://www.google.com/search?q=Elon+Musk&source=lmns&tbm=shop&hl=en-US&sa=X&ved=2ahUKEwjI67SUp6mBAxU7E2IAHd3lBaIQ0pQJKAR6BAgBEAo', 'serpapi_link': 'https://serpapi.com/search.json?device=desktop&engine=google_shopping&gl=us&google_domain=google.com&hl=en-US&q=Elon+Musk'}, {'position': 6, 'title': 'Books', 'link': 'https://www.google.com/search?q=Elon+Musk&source=lmns&tbm=bks&hl=en-US&sa=X&ved=2ahUKEwjI67SUp6mBAxU7E2IAHd3lBaIQ0pQJKAB6BAgBEA0'}, {'position': 7, 'title': 'Maps', 'link': 'https://maps.google.com/maps?q=Elon+Musk&source=lmns&entry=mc&hl=en-US&sa=X&ved=2ahUKEwjI67SUp6mBAxU7E2IAHd3lBaIQ0pQJKAF6BAgBEA4'}, {'position': 8, 'title': 'Flights', 'link': 'https://www.google.com/travel/flights?q=Elon+Musk&source=lmns&tbm=flm&hl=en-US&sa=X&ved=2ahUKEwjI67SUp6mBAxU7E2IAHd3lBaIQ0pQJKAJ6BAgBEA8'}, {'position': 9, 'title': 'Finance', 'link': 'https://www.google.com/search?q=Elon+Musk&source=lmns&tbm=fin&hl=en-US&sa=X&ved=2ahUKEwjI67SUp6mBAxU7E2IAHd3lBaIQ0pQJKAN6BAgBEBA'}]}, 'suggested_searches': [{'name': 'tesla', 'link': 'https://www.google.com/search?q=Elon+Musk&tbm=isch&chips=q:elon+musk,g_1:tesla:-yYiAyYYP_s%3D&hl=en-US&sa=X&ved=2ahUKEwjI67SUp6mBAxU7E2IAHd3lBaIQ4lYoAHoECAEQMg', 'chips': 'q:elon+musk,g_1:tesla:-yYiAyYYP_s%3D', 'serpapi_link': 'https://serpapi.com/search.json?chips=q%3Aelon%2Bmusk%2Cg_1%3Atesla%3A-yYiAyYYP_s%253D&device=desktop&engine=google_images&gl=us&google_domain=google.com&hl=en&q=Elon+Musk++', 'thumbnail': 'https://serpapi.com/searches/6502919b36e6a993c645e8ad/images/6d65a90a2a20e47b519f3bd91ba66bfee1a4f347716cce100844a885cb719463.jpeg'}, {'name': 'spacex', 'link': 'https://www.google.com/search?q=Elon+Musk&tbm=isch&chips=q:elon+musk,g_1:spacex:vsno_fNYSfI%3D&hl=en-US&sa=X&ved=2ahUKEwjI67SUp6mBAxU7E2IAHd3lBaIQ4lYoAXoECAEQNA', 'chips': 'q:elon+musk,g_1:spacex:vsno_fNYSfI%3D', 'serpapi_link': 'https://serpapi.com/search.json?chips=q%3Aelon%2Bmusk%2Cg_1%3Aspacex%3Avsno_fNYSfI%253D&device=desktop&engine=google_images&gl=us&google_domain=google.com&hl=en&q=Elon+Musk++', 'thumbnail': 'https://serpapi.com/searches/6502919b36e6a993c645e8ad/images/6d65a90a2a20e47b519f3bd91ba66bfe19ce13f859653d291b5c6dc03d32368d.jpeg'}, {'name': 'wallpaper', 'link': 'https://www.google.com/search?q=Elon+Musk&tbm=isch&chips=q:elon+musk,g_1:wallpaper:2ZERqIKiRoY%3D&hl=en-US&sa=X&ved=2ahUKEwjI67SUp6mBAxU7E2IAHd3lBaIQ4lYoAnoECAEQNg', 'chips': 'q:elon+musk,g_1:wallpaper:2ZERqIKiRoY%3D', 'serpapi_link': 'https://serpapi.com/search.json?chips=q%3Aelon%2Bmusk%2Cg_1%3Awallpaper%3A2ZERqIKiRoY%253D&device=desktop&engine=google_images&gl=us&google_domain=google.com&hl=en&q=Elon+Musk++', 'thumbnail': 'https://serpapi.com/searches/6502919b36e6a993c645e8ad/images/6d65a90a2a20e47b519f3bd91ba66bfe876ba8761ffe5633b762ec995191ef43.jpeg'}, {'name': 'rocket', 'link': 'https://www.google.com/search?q=Elon+Musk&tbm=isch&chips=q:elon+musk,g_1:rocket:cUf44mli76Q%3D&hl=en-US&sa=X&ved=2ahUKEwjI67SUp6mBAxU7E2IAHd3lBaIQ4lYoA3oECAEQOA', 'chips': 'q:elon+musk,g_1:rocket:cUf44mli76Q%3D', 'serpapi_link': 'https://serpapi.com/search.json?chips=q%3Aelon%2Bmusk%2Cg_1%3Arocket%3AcUf44mli76Q%253D&device=desktop&engine=google_images&gl=us&google_domain=google.com&hl=en&q=Elon+Musk++', 'thumbnail': 'https://serpapi.com/searches/6502919b36e6a993c645e8ad/images/6d65a90a2a20e47b519f3bd91ba66bfe8b72f889b775f17db0a57fd6f5855267.jpeg'}, {'name': 'car', 'link': 'https://www.google.com/search?q=Elon+Musk&tbm=isch&chips=q:elon+musk,g_1:car:Yg8xYFg9euw%3D&hl=en-US&sa=X&ved=2ahUKEwjI67SUp6mBAxU7E2IAHd3lBaIQ4lYoBHoECAEQOg', 'chips': 'q:elon+musk,g_1:car:Yg8xYFg9euw%3D', 'serpapi_link': 'https://serpapi.com/search.json?chips=q%3Aelon%2Bmusk%2Cg_1%3Acar%3AYg8xYFg9euw%253D&device=desktop&engine=google_images&gl=us&google_domain=google.com&hl=en&q=Elon+Musk++', 'thumbnail': 'https://serpapi.com/searches/6502919b36e6a993c645e8ad/images/6d65a90a2a20e47b519f3bd91ba66bfe0e35ebe4dfa5f960b90e9234799bdcfe.jpeg'}, {'name': 'twitter', 'link': 'https://www.google.com/search?q=Elon+Musk&tbm=isch&chips=q:elon+musk,g_1:twitter:nxpgyTzG0cg%3D&hl=en-US&sa=X&ved=2ahUKEwjI67SUp6mBAxU7E2IAHd3lBaIQ4lYoBXoECAEQPA', 'chips': 'q:elon+musk,g_1:twitter:nxpgyTzG0cg%3D', 'serpapi_link': 'https://serpapi.com/search.json?chips=q%3Aelon%2Bmusk%2Cg_1%3Atwitter%3AnxpgyTzG0cg%253D&device=desktop&engine=google_images&gl=us&google_domain=google.com&hl=en&q=Elon+Musk++', 'thumbnail': 'https://serpapi.com/searches/6502919b36e6a993c645e8ad/images/6d65a90a2a20e47b519f3bd91ba66bfe576e9844714e9d594df98782f295dae0.jpeg'}, {'name': 'grimes', 'link': 'https://www.google.com/search?q=Elon+Musk&tbm=isch&chips=q:elon+musk,g_1:grimes:h7Ze_mCVU5Q%3D&hl=en-US&sa=X&ved=2ahUKEwjI67SUp6mBAxU7E2IAHd3lBaIQ4lYoBnoECAEQPg', 'chips': 'q:elon+musk,g_1:grimes:h7Ze_mCVU5Q%3D', 'serpapi_link': 'https://serpapi.com/search.json?chips=q%3Aelon%2Bmusk%2Cg_1%3Agrimes%3Ah7Ze_mCVU5Q%253D&device=desktop&engine=google_images&gl=us&google_domain=google.com&hl=en&q=Elon+Musk++', 'thumbnail': 'https://serpapi.com/searches/6502919b36e6a993c645e8ad/images/6d65a90a2a20e47b519f3bd91ba66bfe87c010affd60b85f98ab4efa5272cf89.jpeg'}, {'name': 'early', 'link': 'https://www.google.com/search?q=Elon+Musk&tbm=isch&chips=q:elon+musk,g_1:early:Ey2Dpv_5yrM%3D&hl=en-US&sa=X&ved=2ahUKEwjI67SUp6mBAxU7E2IAHd3lBaIQ4lYoB3oECAEQQA', 'chips': 'q:elon+musk,g_1:early:Ey2Dpv_5yrM%3D', 'serpapi_link': 'https://serpapi.com/search.json?chips=q%3Aelon%2Bmusk%2Cg_1%3Aearly%3AEy2Dpv_5yrM%253D&device=desktop&engine=google_images&gl=us&google_domain=google.com&hl=en&q=Elon+Musk++', 'thumbnail': 'https://serpapi.com/searches/6502919b36e6a993c645e8ad/images/6d65a90a2a20e47b519f3bd91ba66bfef6b3abd3ce4361978266005c96f6e98e.jpeg'}, {'name': 'paypal', 'link': 'https://www.google.com/search?q=Elon+Musk&tbm=isch&chips=q:elon+musk,g_1:paypal:uB1ziUy-8RY%3D&hl=en-US&sa=X&ved=2ahUKEwjI67SUp6mBAxU7E2IAHd3lBaIQ4lYoCHoECAEQQg', 'chips': 'q:elon+musk,g_1:paypal:uB1ziUy-8RY%3D', 'serpapi_link': 'https://serpapi.com/search.json?chips=q%3Aelon%2Bmusk%2Cg_1%3Apaypal%3AuB1ziUy-8RY%253D&device=desktop&engine=google_images&gl=us&google_domain=google.com&hl=en&q=Elon+Musk++', 'thumbnail': 'https://serpapi.com/searches/6502919b36e6a993c645e8ad/images/6d65a90a2a20e47b519f3bd91ba66bfeb9040adfe2e3e3efef2df3fefc2b8246.jpeg'}, {'name': 'family', 'link': 'https://www.google.com/search?q=Elon+Musk&tbm=isch&chips=q:elon+musk,g_1:family:KT9WXJ-NsPI%3D&hl=en-US&sa=X&ved=2ahUKEwjI67SUp6mBAxU7E2IAHd3lBaIQ4lYoCXoECAEQRA', 'chips': 'q:elon+musk,g_1:family:KT9WXJ-NsPI%3D', 'serpapi_link': 'https://serpapi.com/search.json?chips=q%3Aelon%2Bmusk%2Cg_1%3Afamily%3AKT9WXJ-NsPI%253D&device=desktop&engine=google_images&gl=us&google_domain=google.com&hl=en&q=Elon+Musk++', 'thumbnail': 'https://serpapi.com/searches/6502919b36e6a993c645e8ad/images/6d65a90a2a20e47b519f3bd91ba66bfe04055df733fbf578a39955f0eb6e6d08.jpeg'}, {'name': 'roadster', 'link': 'https://www.google.com/search?q=Elon+Musk&tbm=isch&chips=q:elon+musk,g_1:roadster:naOYF6YDaPI%3D&hl=en-US&sa=X&ved=2ahUKEwjI67SUp6mBAxU7E2IAHd3lBaIQ4lYoCnoECAEQRg', 'chips': 'q:elon+musk,g_1:roadster:naOYF6YDaPI%3D', 'serpapi_link': 'https://serpapi.com/search.json?chips=q%3Aelon%2Bmusk%2Cg_1%3Aroadster%3AnaOYF6YDaPI%253D&device=desktop&engine=google_images&gl=us&google_domain=google.com&hl=en&q=Elon+Musk++', 'thumbnail': 'https://serpapi.com/searches/6502919b36e6a993c645e8ad/images/6d65a90a2a20e47b519f3bd91ba66bfe987cf06bc6a450772c2d1fdb0ef5934d.jpeg'}, {'name': 'portrait', 'link': 'https://www.google.com/search?q=Elon+Musk&tbm=isch&chips=q:elon+musk,g_1:portrait:TUHLhyMwzDQ%3D&hl=en-US&sa=X&ved=2ahUKEwjI67SUp6mBAxU7E2IAHd3lBaIQ4lYoC3oECAEQSA', 'chips': 'q:elon+musk,g_1:portrait:TUHLhyMwzDQ%3D', 'serpapi_link': 'https://serpapi.com/search.json?chips=q%3Aelon%2Bmusk%2Cg_1%3Aportrait%3ATUHLhyMwzDQ%253D&device=desktop&engine=google_images&gl=us&google_domain=google.com&hl=en&q=Elon+Musk++', 'thumbnail': 'https://serpapi.com/searches/6502919b36e6a993c645e8ad/images/6d65a90a2a20e47b519f3bd91ba66bfee37ec3aef4867b46cb58caf4e8181951.jpeg'}, {'name': 'old', 'link': 'https://www.google.com/search?q=Elon+Musk&tbm=isch&chips=q:elon+musk,g_1:old:jQy_4QV2X2Q%3D&hl=en-US&sa=X&ved=2ahUKEwjI67SUp6mBAxU7E2IAHd3lBaIQ4lYoDHoECAEQSg', 'chips': 'q:elon+musk,g_1:old:jQy_4QV2X2Q%3D', 'serpapi_link': 'https://serpapi.com/search.json?chips=q%3Aelon%2Bmusk%2Cg_1%3Aold%3AjQy_4QV2X2Q%253D&device=desktop&engine=google_images&gl=us&google_domain=google.com&hl=en&q=Elon+Musk++', 'thumbnail': 'https://encrypted-tbn0.gstatic.com/images?q=tbn:ANd9GcSbXqceo7OVNO9wovyVI7-FHMuQpkI8GLAKITd6efaukGSh4ph8lBMiJGU&usqp=CAU'}, {'name': 'starlink', 'link': 'https://www.google.com/search?q=Elon+Musk&tbm=isch&chips=q:elon+musk,g_1:starlink:-AlMabhuhVA%3D&hl=en-US&sa=X&ved=2ahUKEwjI67SUp6mBAxU7E2IAHd3lBaIQ4lYoDXoECAEQTA', 'chips': 'q:elon+musk,g_1:starlink:-AlMabhuhVA%3D', 'serpapi_link': 'https://serpapi.com/search.json?chips=q%3Aelon%2Bmusk%2Cg_1%3Astarlink%3A-AlMabhuhVA%253D&device=desktop&engine=google_images&gl=us&google_domain=google.com&hl=en&q=Elon+Musk++', 'thumbnail': 'https://encrypted-tbn0.gstatic.com/images?q=tbn:ANd9GcTkq9aUJQb5IS1fSmg5UflXh3KXbsggU_WkDK9qNQSry93fT7wiOS1xDqo&usqp=CAU'}, {'name': 'daughter', 'link': 'https://www.google.com/search?q=Elon+Musk&tbm=isch&chips=q:elon+musk,g_1:daughter:7ARMvcGbdys%3D&hl=en-US&sa=X&ved=2ahUKEwjI67SUp6mBAxU7E2IAHd3lBaIQ4lYoDnoECAEQTg', 'chips': 'q:elon+musk,g_1:daughter:7ARMvcGbdys%3D', 'serpapi_link': 'https://serpapi.com/search.json?chips=q%3Aelon%2Bmusk%2Cg_1%3Adaughter%3A7ARMvcGbdys%253D&device=desktop&engine=google_images&gl=us&google_domain=google.com&hl=en&q=Elon+Musk++', 'thumbnail': 'https://encrypted-tbn0.gstatic.com/images?q=tbn:ANd9GcTYZ_UQBKVOfbwe1jcay6ILGJd380uM63mPgnh7_aHQ9N9Mg7xwNT4vgf8&usqp=CAU'}, {'name': 'high school', 'link': 'https://www.google.com/search?q=Elon+Musk&tbm=isch&chips=q:elon+musk,g_1:high+school:TlpPzbpyjXg%3D&hl=en-US&sa=X&ved=2ahUKEwjI67SUp6mBAxU7E2IAHd3lBaIQ4lYoD3oECAEQUA', 'chips': 'q:elon+musk,g_1:high+school:TlpPzbpyjXg%3D', 'serpapi_link': 'https://serpapi.com/search.json?chips=q%3Aelon%2Bmusk%2Cg_1%3Ahigh%2Bschool%3ATlpPzbpyjXg%253D&device=desktop&engine=google_images&gl=us&google_domain=google.com&hl=en&q=Elon+Musk++', 'thumbnail': 'https://encrypted-tbn0.gstatic.com/images?q=tbn:ANd9GcRqQ9YyCSIa---0yOG6ju7oh_DTFed2h1lbrda5_l55xFlfXiCyWZ7nkUk&usqp=CAU'}, {'name': 'baby', 'link': 'https://www.google.com/search?q=Elon+Musk&tbm=isch&chips=q:elon+musk,g_1:baby:fzvHLOwWkw0%3D&hl=en-US&sa=X&ved=2ahUKEwjI67SUp6mBAxU7E2IAHd3lBaIQ4lYoEHoECAEQUg', 'chips': 'q:elon+musk,g_1:baby:fzvHLOwWkw0%3D', 'serpapi_link': 'https://serpapi.com/search.json?chips=q%3Aelon%2Bmusk%2Cg_1%3Ababy%3AfzvHLOwWkw0%253D&device=desktop&engine=google_images&gl=us&google_domain=google.com&hl=en&q=Elon+Musk++', 'thumbnail': 'https://encrypted-tbn0.gstatic.com/images?q=tbn:ANd9GcSVRF0V103-ZZqPZ68Pf9IfTGA1gUWjR2rJYgv8ezpDbor8cWMl6kBpJTg&usqp=CAU'}, {'name': 'starship', 'link': 'https://www.google.com/search?q=Elon+Musk&tbm=isch&chips=q:elon+musk,g_1:starship:qk-g7hjq7to%3D&hl=en-US&sa=X&ved=2ahUKEwjI67SUp6mBAxU7E2IAHd3lBaIQ4lYoEXoECAEQVA', 'chips': 'q:elon+musk,g_1:starship:qk-g7hjq7to%3D', 'serpapi_link': 'https://serpapi.com/search.json?chips=q%3Aelon%2Bmusk%2Cg_1%3Astarship%3Aqk-g7hjq7to%253D&device=desktop&engine=google_images&gl=us&google_domain=google.com&hl=en&q=Elon+Musk++', 'thumbnail': 'https://encrypted-tbn0.gstatic.com/images?q=tbn:ANd9GcSwVTOjfW6rRz-bMQ3T6gwnLwCUOAJ9eU07B9qbRGPfx0TVjH4vT4ZAzOE&usqp=CAU'}, {'name': 'art', 'link': 'https://www.google.com/search?q=Elon+Musk&tbm=isch&chips=q:elon+musk,g_1:art:BbGp12_HiRQ%3D&hl=en-US&sa=X&ved=2ahUKEwjI67SUp6mBAxU7E2IAHd3lBaIQ4lYoEnoECAEQVg', 'chips': 'q:elon+musk,g_1:art:BbGp12_HiRQ%3D', 'serpapi_link': 'https://serpapi.com/search.json?chips=q%3Aelon%2Bmusk%2Cg_1%3Aart%3ABbGp12_HiRQ%253D&device=desktop&engine=google_images&gl=us&google_domain=google.com&hl=en&q=Elon+Musk++', 'thumbnail': 'https://encrypted-tbn0.gstatic.com/images?q=tbn:ANd9GcROBj4m4CR58rXGzUohPmAE6hGOc2O2SgXZkrI154sggroMxRCwhDO4_EM&usqp=CAU'}, {'name': 'phone', 'link': 'https://www.google.com/search?q=Elon+Musk&tbm=isch&chips=q:elon+musk,g_1:phone:NkcmnGB2oe4%3D&hl=en-US&sa=X&ved=2ahUKEwjI67SUp6mBAxU7E2IAHd3lBaIQ4lYoE3oECAEQWA', 'chips': 'q:elon+musk,g_1:phone:NkcmnGB2oe4%3D', 'serpapi_link': 'https://serpapi.com/search.json?chips=q%3Aelon%2Bmusk%2Cg_1%3Aphone%3ANkcmnGB2oe4%253D&device=desktop&engine=google_images&gl=us&google_domain=google.com&hl=en&q=Elon+Musk++', 'thumbnail': 'https://encrypted-tbn0.gstatic.com/images?q=tbn:ANd9GcSBxyF1qFe4i4Oskjgug6hkeKTpLacRyNp6owIi0OFXacng-_zwx8ll-ms&usqp=CAU'}, {'name': 'now', 'link': 'https://www.google.com/search?q=Elon+Musk&tbm=isch&chips=q:elon+musk,g_1:now:3m41GlGMA8U%3D&hl=en-US&sa=X&ved=2ahUKEwjI67SUp6mBAxU7E2IAHd3lBaIQ4lYoFHoECAEQWg', 'chips': 'q:elon+musk,g_1:now:3m41GlGMA8U%3D', 'serpapi_link': 'https://serpapi.com/search.json?chips=q%3Aelon%2Bmusk%2Cg_1%3Anow%3A3m41GlGMA8U%253D&device=desktop&engine=google_images&gl=us&google_domain=google.com&hl=en&q=Elon+Musk++', 'thumbnail': 'https://encrypted-tbn0.gstatic.com/images?q=tbn:ANd9GcR5dT3Mwj0ks0-k5VL6Pjabgz3bUSGdKZ7Qqv1P9t1uu3zmVR0fcPv9Hws&usqp=CAU'}, {'name': 'son', 'link': 'https://www.google.com/search?q=Elon+Musk&tbm=isch&chips=q:elon+musk,g_1:son:sG_kPPq2CBg%3D&hl=en-US&sa=X&ved=2ahUKEwjI67SUp6mBAxU7E2IAHd3lBaIQ4lYoFXoECAEQXA', 'chips': 'q:elon+musk,g_1:son:sG_kPPq2CBg%3D', 'serpapi_link': 'https://serpapi.com/search.json?chips=q%3Aelon%2Bmusk%2Cg_1%3Ason%3AsG_kPPq2CBg%253D&device=desktop&engine=google_images&gl=us&google_domain=google.com&hl=en&q=Elon+Musk++', 'thumbnail': 'https://encrypted-tbn0.gstatic.com/images?q=tbn:ANd9GcQtCIVh0qfGrujHIanaQCF_M0ZplpRc6kdkQ8naxKstUuCDAVhpJN69vqE&usqp=CAU'}, {'name': 'office', 'link': 'https://www.google.com/search?q=Elon+Musk&tbm=isch&chips=q:elon+musk,g_1:office:6DfHOGnNpm0%3D&hl=en-US&sa=X&ved=2ahUKEwjI67SUp6mBAxU7E2IAHd3lBaIQ4lYoFnoECAEQXg', 'chips': 'q:elon+musk,g_1:office:6DfHOGnNpm0%3D', 'serpapi_link': 'https://serpapi.com/search.json?chips=q%3Aelon%2Bmusk%2Cg_1%3Aoffice%3A6DfHOGnNpm0%253D&device=desktop&engine=google_images&gl=us&google_domain=google.com&hl=en&q=Elon+Musk++', 'thumbnail': 'https://encrypted-tbn0.gstatic.com/images?q=tbn:ANd9GcQY8yHm4uwbWZ0UBSlJSCnFqHSBPDupleL9SH3ZLcAoij9rCRvVl75Lh5Y&usqp=CAU'}, {'name': 'love', 'link': 'https://www.google.com/search?q=Elon+Musk&tbm=isch&chips=q:elon+musk,g_1:love:pCrMFd1QlFM%3D&hl=en-US&sa=X&ved=2ahUKEwjI67SUp6mBAxU7E2IAHd3lBaIQ4lYoF3oECAEQYA', 'chips': 'q:elon+musk,g_1:love:pCrMFd1QlFM%3D', 'serpapi_link': 'https://serpapi.com/search.json?chips=q%3Aelon%2Bmusk%2Cg_1%3Alove%3ApCrMFd1QlFM%253D&device=desktop&engine=google_images&gl=us&google_domain=google.com&hl=en&q=Elon+Musk++', 'thumbnail': 'https://encrypted-tbn0.gstatic.com/images?q=tbn:ANd9GcQ2uFuaXcWq55SEhc9GHd1wPism86Wu_DB9TraBru6cZpKjtl8ncd08P54&usqp=CAU'}, {'name': 'met gala', 'link': 'https://www.google.com/search?q=Elon+Musk&tbm=isch&chips=q:elon+musk,g_1:met+gala:cRWsITvRwnA%3D&hl=en-US&sa=X&ved=2ahUKEwjI67SUp6mBAxU7E2IAHd3lBaIQ4lYoGHoECAEQYg', 'chips': 'q:elon+musk,g_1:met+gala:cRWsITvRwnA%3D', 'serpapi_link': 'https://serpapi.com/search.json?chips=q%3Aelon%2Bmusk%2Cg_1%3Amet%2Bgala%3AcRWsITvRwnA%253D&device=desktop&engine=google_images&gl=us&google_domain=google.com&hl=en&q=Elon+Musk++', 'thumbnail': 'https://encrypted-tbn0.gstatic.com/images?q=tbn:ANd9GcSdhOZ0XeAcNZEFvwOn1Bd1HHJQGl_J8URlD0sRr6BnA2AkvsaVn9LD7Vo&usqp=CAU'}, {'name': 'magazine', 'link': 'https://www.google.com/search?q=Elon+Musk&tbm=isch&chips=q:elon+musk,g_1:magazine:whYf9XJV3gA%3D&hl=en-US&sa=X&ved=2ahUKEwjI67SUp6mBAxU7E2IAHd3lBaIQ4lYoGXoECAEQZA', 'chips': 'q:elon+musk,g_1:magazine:whYf9XJV3gA%3D', 'serpapi_link': 'https://serpapi.com/search.json?chips=q%3Aelon%2Bmusk%2Cg_1%3Amagazine%3AwhYf9XJV3gA%253D&device=desktop&engine=google_images&gl=us&google_domain=google.com&hl=en&q=Elon+Musk++', 'thumbnail': 'https://encrypted-tbn0.gstatic.com/images?q=tbn:ANd9GcRFNiDnAoYpTX2pjLZtwM0ncz7WsctyHrSFSTNjzNROy4zPXcL_gOPZ8mY&usqp=CAU'}, {'name': 'entrepreneur', 'link': 'https://www.google.com/search?q=Elon+Musk&tbm=isch&chips=q:elon+musk,g_1:entrepreneur:Nf51MLjE4WM%3D&hl=en-US&sa=X&ved=2ahUKEwjI67SUp6mBAxU7E2IAHd3lBaIQ4lYoGnoECAEQZg', 'chips': 'q:elon+musk,g_1:entrepreneur:Nf51MLjE4WM%3D', 'serpapi_link': 'https://serpapi.com/search.json?chips=q%3Aelon%2Bmusk%2Cg_1%3Aentrepreneur%3ANf51MLjE4WM%253D&device=desktop&engine=google_images&gl=us&google_domain=google.com&hl=en&q=Elon+Musk++', 'thumbnail': 'https://encrypted-tbn0.gstatic.com/images?q=tbn:ANd9GcTEGbPz4mOzK7HXmAdrM9bHOgAXJCC4Bvjo5uKqNbq-hKc21o2L0gL6J3A&usqp=CAU'}, {'name': 'child', 'link': 'https://www.google.com/search?q=Elon+Musk&tbm=isch&chips=q:elon+musk,g_1:child:AYyer3ltTDo%3D&hl=en-US&sa=X&ved=2ahUKEwjI67SUp6mBAxU7E2IAHd3lBaIQ4lYoG3oECAEQaA', 'chips': 'q:elon+musk,g_1:child:AYyer3ltTDo%3D', 'serpapi_link': 'https://serpapi.com/search.json?chips=q%3Aelon%2Bmusk%2Cg_1%3Achild%3AAYyer3ltTDo%253D&device=desktop&engine=google_images&gl=us&google_domain=google.com&hl=en&q=Elon+Musk++', 'thumbnail': 'https://encrypted-tbn0.gstatic.com/images?q=tbn:ANd9GcTUB1bvFerymhqr373A2nNGnbtKzFnT5h5kcVlHPZ1OGQOIECxE4BxYD1g&usqp=CAU'}, {'name': 'style', 'link': 'https://www.google.com/search?q=Elon+Musk&tbm=isch&chips=q:elon+musk,g_1:style:FpZQrlrnlDs%3D&hl=en-US&sa=X&ved=2ahUKEwjI67SUp6mBAxU7E2IAHd3lBaIQ4lYoHHoECAEQag', 'chips': 'q:elon+musk,g_1:style:FpZQrlrnlDs%3D', 'serpapi_link': 'https://serpapi.com/search.json?chips=q%3Aelon%2Bmusk%2Cg_1%3Astyle%3AFpZQrlrnlDs%253D&device=desktop&engine=google_images&gl=us&google_domain=google.com&hl=en&q=Elon+Musk++', 'thumbnail': 'https://encrypted-tbn0.gstatic.com/images?q=tbn:ANd9GcRzn6f-eBW-SwTOXgZ4EohFAsFOQ6gAVCCmdX_i7PCDK2B6eqxuAt7Rtu8&usqp=CAU'}, {'name': 'bitcoin', 'link': 'https://www.google.com/search?q=Elon+Musk&tbm=isch&chips=q:elon+musk,g_1:bitcoin:tUP6iW3hasE%3D&hl=en-US&sa=X&ved=2ahUKEwjI67SUp6mBAxU7E2IAHd3lBaIQ4lYoHXoECAEQbA', 'chips': 'q:elon+musk,g_1:bitcoin:tUP6iW3hasE%3D', 'serpapi_link': 'https://serpapi.com/search.json?chips=q%3Aelon%2Bmusk%2Cg_1%3Abitcoin%3AtUP6iW3hasE%253D&device=desktop&engine=google_images&gl=us&google_domain=google.com&hl=en&q=Elon+Musk++', 'thumbnail': 'https://encrypted-tbn0.gstatic.com/images?q=tbn:ANd9GcQ_9tp_X-4jj2f8W6dQZwBe3T6cRPOswgc5vNZc1TMcLzeihu9Pv69gM9I&usqp=CAU'}], 'images_results': [{'position': 1, 'thumbnail': 'https://serpapi.com/searches/6502919b36e6a993c645e8ad/images/88bc042fadac0da5427b7fdd68732842eaf86831b73e55d9c66f854937ca0492.jpeg', 'related_content_id': 'WFZnUzBvakhRdnFFdE1cIixcIm1sLUdvSkk0cGhJcDFN', 'serpapi_related_content_link': 'https://serpapi.com/search.json?engine=google_images_related_content&gl=us&hl=en&q=Elon+Musk++&related_content_id=WFZnUzBvakhRdnFFdE1cIixcIm1sLUdvSkk0cGhJcDFN', 'source': 'CNBC', 'source_logo': 'https://serpapi.com/searches/6502919b36e6a993c645e8ad/images/88bc042fadac0da5427b7fdd687328421c8552674362af3fcaabffb049fa217a.png', 'title': \"Elon Musk biographer moves to 'clarify' details on Ukraine, Starlink\", 'link': 'https://www.cnbc.com/2023/09/09/elon-musk-biographer-moves-to-clarify-details-on-ukraine-starlink.html', 'original': 'https://image.cnbcfm.com/api/v1/image/107293744-1693398435735-elon.jpg?v=1694271610', 'original_width': 2878, 'original_height': 1918, 'is_product': False}, {'position': 2, 'thumbnail': 'https://serpapi.com/searches/6502919b36e6a993c645e8ad/images/88bc042fadac0da5bde1cd225d611be6c5382156baf3de96fcd586b6153ff805.jpeg', 'related_content_id': 'aFFLTVZCd1YtTXJzaU1cIixcImNFbExpTWs4VDlPOExN', 'serpapi_related_content_link': 'https://serpapi.com/search.json?engine=google_images_related_content&gl=us&hl=en&q=Elon+Musk++&related_content_id=aFFLTVZCd1YtTXJzaU1cIixcImNFbExpTWs4VDlPOExN', 'source': 'Wikipedia', 'source_logo': 'https://serpapi.com/searches/6502919b36e6a993c645e8ad/images/88bc042fadac0da5bde1cd225d611be61422aa12b424c8548d3ff5ad1221d654.png', 'title': 'Elon Musk - Wikipedia', 'link': 'https://en.wikipedia.org/wiki/Elon_Musk', 'original': 'https://upload.wikimedia.org/wikipedia/commons/9/99/Elon_Musk_Colorado_2022_%28cropped2%29.jpg', 'original_width': 805, 'original_height': 987, 'is_product': False}, {'position': 3, 'thumbnail': 'https://serpapi.com/searches/6502919b36e6a993c645e8ad/images/88bc042fadac0da587267c21558ac95e024bfa09ffae0c863bc484d2cd284cfc.jpeg', 'related_content_id': 'Ny1oMmE2UkxKcU1hYU1cIixcIkZ2cGdhTmRLYS1mTFBN', 'serpapi_related_content_link': 'https://serpapi.com/search.json?engine=google_images_related_content&gl=us&hl=en&q=Elon+Musk++&related_content_id=Ny1oMmE2UkxKcU1hYU1cIixcIkZ2cGdhTmRLYS1mTFBN', 'source': 'NDTV', 'source_logo': 'https://serpapi.com/searches/6502919b36e6a993c645e8ad/images/88bc042fadac0da587267c21558ac95e6e29981c7ca834e7790b07e5b85db96a.png', 'title': 'Elon Musk\\'s Biographer Claims Billionaire Has \"Demon-Like\" Outbursts And  \"Multiple Personalities\"', 'link': 'https://www.ndtv.com/world-news/elon-musks-biographer-claims-billionaire-has-demon-like-outbursts-and-multiple-personalities-4382253', 'original': 'https://c.ndtvimg.com/2023-07/v06clarg_elon-muskteslaai_625x300_20_July_23.jpg?ver-20230906.05', 'original_width': 1200, 'original_height': 738, 'is_product': False}, {'position': 4, 'thumbnail': 'https://serpapi.com/searches/6502919b36e6a993c645e8ad/images/88bc042fadac0da5ac979cbb61bc25b2f5d92ae2a26ba2b8c74d119670d903ba.jpeg', 'related_content_id': 'MTZnMzlBNlpjTTZmQ01cIixcIm5PS3Q4WDRhS1pSbm5N', 'serpapi_related_content_link': 'https://serpapi.com/search.json?engine=google_images_related_content&gl=us&hl=en&q=Elon+Musk++&related_content_id=MTZnMzlBNlpjTTZmQ01cIixcIm5PS3Q4WDRhS1pSbm5N', 'source': 'NBC News', 'source_logo': 'https://serpapi.com/searches/6502919b36e6a993c645e8ad/images/88bc042fadac0da5ac979cbb61bc25b2351f153d3b9a3e080e54205c8a919f46.png', 'title': \"Elon Musk warns senators of the 'civilizational risk' AI poses\", 'link': 'https://www.nbcnews.com/politics/congress/big-tech-ceos-ai-meeting-senators-musk-zuckerberg-rcna104738', 'original': 'https://media1.s-nbcnews.com/i/rockcms/2023-07/157843/230724-elon-musk-ac-1041p-bc05fb_538c4ff881049b65f2b1265745683daf7bdfa4c0.jpg', 'original_width': 2500, 'original_height': 1666, 'is_product': False}, {'position': 5, 'thumbnail': 'https://serpapi.com/searches/6502919b36e6a993c645e8ad/images/88bc042fadac0da5ab51d29a2886b29f53f9cf6ae6ecfe00611bde8cd2b2ddff.jpeg', 'related_content_id': 'V2I1Slh2bVpGd2pfY01cIixcIlZTVHE1bDNNQ2NycXhN', 'serpapi_related_content_link': 'https://serpapi.com/search.json?engine=google_images_related_content&gl=us&hl=en&q=Elon+Musk++&related_content_id=V2I1Slh2bVpGd2pfY01cIixcIlZTVHE1bDNNQ2NycXhN', 'source': 'The New York Times', 'source_logo': 'https://serpapi.com/searches/6502919b36e6a993c645e8ad/images/88bc042fadac0da5ab51d29a2886b29f785b5b7bbf96f548c193a5393c26cb6f.png', 'title': 'Takeaways From a New Elon Musk Biography: Ukraine, Trump and More - The New  York Times', 'link': 'https://www.nytimes.com/2023/09/09/technology/elon-musk-walter-isaacson-takeaways.html', 'tag': '5 days ago', 'original': 'https://static01.nyt.com/images/2023/09/09/multimedia/09isaacson-book-2-bpcw/09isaacson-book-2-bpcw-articleLarge.jpg?quality=75&auto=webp&disable=upscale', 'original_width': 600, 'original_height': 400, 'is_product': False}, {'position': 6, 'thumbnail': 'https://serpapi.com/searches/6502919b36e6a993c645e8ad/images/88bc042fadac0da56dc98e4b586b102e3be82094a53219ede41ab39d4755908f.jpeg', 'related_content_id': 'S0U2TVBVZFpEdWpzd01cIixcImlDTmd4dkhleDJfZlZN', 'serpapi_related_content_link': 'https://serpapi.com/search.json?engine=google_images_related_content&gl=us&hl=en&q=Elon+Musk++&related_content_id=S0U2TVBVZFpEdWpzd01cIixcImlDTmd4dkhleDJfZlZN', 'source': 'Yahoo Finance', 'source_logo': 'https://serpapi.com/searches/6502919b36e6a993c645e8ad/images/88bc042fadac0da56dc98e4b586b102e17e421b0857927b0d5ae6f811eba4e99.png', 'title': \"Elon Musk sent a picture of Grimes having a C-section to her father and  brothers, leaving her 'horrified,' and him 'clueless' about why she was  upset\", 'link': 'https://finance.yahoo.com/news/elon-musk-sent-picture-grimes-151822171.html', 'tag': '1 day ago', 'original': 'https://s.yimg.com/ny/api/res/1.2/psnbi_aZGn8ux1ugx2nlNg--/YXBwaWQ9aGlnaGxhbmRlcjt3PTY0MDtoPTQ4MA--/https://media.zenfs.com/en/business_insider_articles_888/4e20a919f2d3a281687cf4fd9deba86e', 'original_width': 640, 'original_height': 480, 'is_product': False}, {'position': 7, 'thumbnail': 'https://serpapi.com/searches/6502919b36e6a993c645e8ad/images/88bc042fadac0da5ec10974204c5d587866842097ee5f70b74064ffa4c1ba643.jpeg', 'related_content_id': 'dlpScXQ5UkNWUjVYZk1cIixcIktNRW9aYWFkUHJHWmlN', 'serpapi_related_content_link': 'https://serpapi.com/search.json?engine=google_images_related_content&gl=us&hl=en&q=Elon+Musk++&related_content_id=dlpScXQ5UkNWUjVYZk1cIixcIktNRW9aYWFkUHJHWmlN', 'source': 'PBS', 'source_logo': 'https://serpapi.com/searches/6502919b36e6a993c645e8ad/images/88bc042fadac0da5ec10974204c5d58766c67fb0d3b5cd50bb12cb30ee210dcc.png', 'title': \"Elon Musk's refusal to provide Starlink support for Ukraine attack in  Crimea raises questions for Pentagon | PBS NewsHour\", 'link': 'https://www.pbs.org/newshour/economy/elon-musks-refusal-to-provide-starlink-support-for-ukraine-attack-in-crimea-raises-questions-for-pentagon', 'original': 'https://d3i6fh83elv35t.cloudfront.net/static/2022/11/2022-05-03T002516Z_1147569926_HP1EI5301607C_RTRMADP_3_FASHION-MET-GALA-1024x680.jpg', 'original_width': 1024, 'original_height': 680, 'is_product': False}, {'position': 8, 'thumbnail': 'https://serpapi.com/searches/6502919b36e6a993c645e8ad/images/88bc042fadac0da5519572d68900efd226b61d5d31714b3bc5aeb4ffd288c298.jpeg', 'related_content_id': 'UVdYaHZWMlNWRGVvZk1cIixcIkJyaTF4VUFxZ2Foel9N', 'serpapi_related_content_link': 'https://serpapi.com/search.json?engine=google_images_related_content&gl=us&hl=en&q=Elon+Musk++&related_content_id=UVdYaHZWMlNWRGVvZk1cIixcIkJyaTF4VUFxZ2Foel9N', 'source': 'People', 'source_logo': 'https://serpapi.com/searches/6502919b36e6a993c645e8ad/images/88bc042fadac0da5519572d68900efd248b5657fa003571fde69e893bd659bcd.png', 'title': \"Elon Musk's Son Became Vegetarian at Age 8 to Decrease 'Carbon Footprint'\", 'link': 'https://people.com/elon-musks-son-damian-became-vegetarian-at-age-8-to-decrease-carbon-footprint-7968194', 'original': 'https://people.com/thmb/BaxClBVJAu95CiTb1mNOqXXLNGw=/1500x0/filters:no_upscale():max_bytes(150000):strip_icc():focal(999x0:1001x2)/elon-musk-secret-project-42-glass-house-071423-1-5505e11097414473a6b068b5a7d4fb6a.jpg', 'original_width': 1500, 'original_height': 1000, 'is_product': False}, {'position': 9, 'thumbnail': 'https://serpapi.com/searches/6502919b36e6a993c645e8ad/images/88bc042fadac0da5c8acf23c915874ce52e022078055846ed26ca4634690dafb.jpeg', 'related_content_id': 'ZWFIbEt5VEp3VWQ0Qk1cIixcIjQ0VWYydGNiR3RZd2tN', 'serpapi_related_content_link': 'https://serpapi.com/search.json?engine=google_images_related_content&gl=us&hl=en&q=Elon+Musk++&related_content_id=ZWFIbEt5VEp3VWQ0Qk1cIixcIjQ0VWYydGNiR3RZd2tN', 'source': 'CNBC', 'source_logo': 'https://serpapi.com/searches/6502919b36e6a993c645e8ad/images/88bc042fadac0da5c8acf23c915874cedc30d9cef3ece2cc08bcf3278037f404.png', 'title': \"Elon Musk moving servers himself shows his 'maniacal sense of urgency' at  X, formerly Twitter\", 'link': 'https://www.cnbc.com/2023/09/11/elon-musk-moved-twitter-servers-himself-in-the-night-new-biography-details-his-maniacal-sense-of-urgency.html', 'original': 'https://image.cnbcfm.com/api/v1/image/107258433-1686936193786-gettyimages-1499013102-_r7a3499_u7zet3zg.jpeg?v=1694446980&w=929&h=523&vtcrop=y', 'original_width': 929, 'original_height': 523, 'is_product': False}, {'position': 10, 'thumbnail': 'https://serpapi.com/searches/6502919b36e6a993c645e8ad/images/88bc042fadac0da5fbed1d81b391636813763194a4479a328201d6a03f577802.jpeg', 'related_content_id': 'Rzc0QUxEMmoxbWp4V01cIixcIm92OEUteTBmUFdlM2ZN', 'serpapi_related_content_link': 'https://serpapi.com/search.json?engine=google_images_related_content&gl=us&hl=en&q=Elon+Musk++&related_content_id=Rzc0QUxEMmoxbWp4V01cIixcIm92OEUteTBmUFdlM2ZN', 'source': 'Los Angeles Times', 'source_logo': 'https://serpapi.com/searches/6502919b36e6a993c645e8ad/images/88bc042fadac0da5fbed1d81b39163683dce031e36b392837f39a5548bd7a55f.png', 'title': \"Key takeaways from Walter Isaacson's Elon Musk biography - Los Angeles Times\", 'link': 'https://www.latimes.com/entertainment-arts/books/story/2023-09-11/the-discerning-readers-takeaways-from-walter-isaacsons-elon-musk-biography', 'original': 'https://ca-times.brightspotcdn.com/dims4/default/0d4c1c8/2147483647/strip/true/crop/3570x2380+0+0/resize/1200x800!/quality/75/?url=https%3A%2F%2Fcalifornia-times-brightspot.s3.amazonaws.com%2F33%2Fce%2F5676c8944c5bb48335aa852c1d1e%2Felon-musk.jpg', 'original_width': 1200, 'original_height': 800, 'is_product': False}, {'position': 11, 'thumbnail': 'https://serpapi.com/searches/6502919b36e6a993c645e8ad/images/88bc042fadac0da5bde1cd225d611be6b7fb1ee2ea3c91885f64ad3ad658d635.jpeg', 'related_content_id': 'bXdTelJrRVJBM0JySU1cIixcIjRqWVk2NUJqckxYSENN', 'serpapi_related_content_link': 'https://serpapi.com/search.json?engine=google_images_related_content&gl=us&hl=en&q=Elon+Musk++&related_content_id=bXdTelJrRVJBM0JySU1cIixcIjRqWVk2NUJqckxYSENN', 'source': 'Los Angeles Times', 'source_logo': 'https://serpapi.com/searches/6502919b36e6a993c645e8ad/images/88bc042fadac0da5bde1cd225d611be657b3299ed0c2989156160155beef4529.png', 'title': 'Elon Musk, Grimes have a secret third child, biography says - Los Angeles  Times', 'link': 'https://www.latimes.com/entertainment-arts/books/story/2023-09-10/elon-musk-grimes-third-child-techno-mechanicus-biography', 'original': 'https://ca-times.brightspotcdn.com/dims4/default/7607e4c/2147483647/strip/true/crop/4018x2892+0+0/resize/1200x864!/quality/75/?url=https%3A%2F%2Fcalifornia-times-brightspot.s3.amazonaws.com%2Fa6%2F44%2Fa2cc3ece4296bb7ed7e4f5722210%2Fhttps-delivery.gettyimages.com%2Fdownloads%2F955815456', 'original_width': 1200, 'original_height': 864, 'is_product': False}, {'position': 12, 'thumbnail': 'https://serpapi.com/searches/6502919b36e6a993c645e8ad/images/88bc042fadac0da5bde1cd225d611be6196668b776167b74fa31e7d445832e8a.jpeg', 'related_content_id': 'dVUwUm9iY2ZhZEIzSU1cIixcInNEX1VLYnVnTmQzcmFN', 'serpapi_related_content_link': 'https://serpapi.com/search.json?engine=google_images_related_content&gl=us&hl=en&q=Elon+Musk++&related_content_id=dVUwUm9iY2ZhZEIzSU1cIixcInNEX1VLYnVnTmQzcmFN', 'source': 'CNBC', 'source_logo': 'https://serpapi.com/searches/6502919b36e6a993c645e8ad/images/88bc042fadac0da5bde1cd225d611be6d317d7a4c70dfaf7df008c98425a05b5.png', 'title': \"Walter Isaacson: Elon Musk's 'enraging qualities' key to his success\", 'link': 'https://www.cnbc.com/2023/09/13/walter-isaacson-elon-musk-enraging-qualities-key-to-his-success.html', 'tag': '10 hours ago', 'original': 'https://image.cnbcfm.com/api/v1/image/107258323-1686929277901-gettyimages-1258741135-AFP_33K267T.jpeg?v=1694627473&w=929&h=523&vtcrop=y', 'original_width': 929, 'original_height': 523, 'is_product': False}, {'position': 13, 'thumbnail': 'https://serpapi.com/searches/6502919b36e6a993c645e8ad/images/88bc042fadac0da5bde1cd225d611be6805f91a58bf789940ecee75656964125.jpeg', 'related_content_id': 'NUxHTXYtQUFmSFQxZU1cIixcInFqNUdBdXhXSVg0Z0ZN', 'serpapi_related_content_link': 'https://serpapi.com/search.json?engine=google_images_related_content&gl=us&hl=en&q=Elon+Musk++&related_content_id=NUxHTXYtQUFmSFQxZU1cIixcInFqNUdBdXhXSVg0Z0ZN', 'source': 'Fox Business', 'source_logo': 'https://serpapi.com/searches/6502919b36e6a993c645e8ad/images/88bc042fadac0da5bde1cd225d611be6c747cbc135394df2d632759355950e43.png', 'title': \"Bill Gates says Elon Musk was 'super mean to me' after Tesla stock feud |  Fox Business\", 'link': 'https://www.foxbusiness.com/business-leaders/bill-gates-says-elon-musk-super-mean-me-after-tesla-stock-feud', 'original': 'https://static.foxbusiness.com/foxbusiness.com/content/uploads/2023/07/elon-musk-2.jpg', 'original_width': 1280, 'original_height': 720, 'is_product': False}, {'position': 14, 'thumbnail': 'https://serpapi.com/searches/6502919b36e6a993c645e8ad/images/88bc042fadac0da5bde1cd225d611be6f78788e8aaec154396224bae5c0968a5.jpeg', 'related_content_id': 'YjVweFJHNElHcDVyU01cIixcInlZUkg0MUxZenpjU2lN', 'serpapi_related_content_link': 'https://serpapi.com/search.json?engine=google_images_related_content&gl=us&hl=en&q=Elon+Musk++&related_content_id=YjVweFJHNElHcDVyU01cIixcInlZUkg0MUxZenpjU2lN', 'source': 'EOnline.com', 'source_logo': 'https://serpapi.com/searches/6502919b36e6a993c645e8ad/images/88bc042fadac0da5bde1cd225d611be68400feccc99bcbb31c1329154bafdea3.png', 'title': 'Grimes Says Elon Musk Sent Around Photo of Her Having C-Section - E! Online', 'link': 'https://www.eonline.com/news/1385276/grimes-says-clueless-elon-musk-sent-around-photo-of-her-having-c-section-with-son-x', 'original': 'https://akns-images.eonline.com/eol_images/Entire_Site/2022210/rs_1200x1200-220310122703-1200-Elon_Musk_and_Grimes-Met_Gala_2018-gj.jpg?fit=around%7C1200:1200&output-quality=90&crop=1200:1200;center,top', 'original_width': 1200, 'original_height': 1200, 'is_product': False}, {'position': 15, 'thumbnail': 'https://serpapi.com/searches/6502919b36e6a993c645e8ad/images/88bc042fadac0da5bde1cd225d611be6bfd1e049c78b2df3fdf2dbb07ff82d56.jpeg', 'related_content_id': 'ZzFzM1FfSnZUdllKZ01cIixcImVZR0pLY3FnQUMwN0pN', 'serpapi_related_content_link': 'https://serpapi.com/search.json?engine=google_images_related_content&gl=us&hl=en&q=Elon+Musk++&related_content_id=ZzFzM1FfSnZUdllKZ01cIixcImVZR0pLY3FnQUMwN0pN', 'source': 'NDTV', 'source_logo': 'https://serpapi.com/searches/6502919b36e6a993c645e8ad/images/88bc042fadac0da5bde1cd225d611be6446fbf36fa6c778eb8e59c933b5569a2.png', 'title': 'Elon Musk \"Committed Evil\" By Stopping Attack On Russia, Claims Ukrainian  Official', 'link': 'https://www.ndtv.com/world-news/elon-musk-committed-evil-by-stopping-attack-on-russia-claims-ukrainian-official-4373320', 'original': 'https://c.ndtvimg.com/2023-08/6ue8g1i_tesla-elon-musk_625x300_03_August_23.jpg', 'original_width': 1200, 'original_height': 738, 'is_product': False}, {'position': 16, 'thumbnail': 'https://serpapi.com/searches/6502919b36e6a993c645e8ad/images/88bc042fadac0da5bde1cd225d611be60b82e09660b25896874e9fbd8b7c40ef.jpeg', 'related_content_id': 'ZmZpZHFoMkx6NEV6V01cIixcIjJtbzVaeU5GNk5FcG1N', 'serpapi_related_content_link': 'https://serpapi.com/search.json?engine=google_images_related_content&gl=us&hl=en&q=Elon+Musk++&related_content_id=ZmZpZHFoMkx6NEV6V01cIixcIjJtbzVaeU5GNk5FcG1N', 'source': 'People', 'source_logo': 'https://serpapi.com/searches/6502919b36e6a993c645e8ad/images/88bc042fadac0da5bde1cd225d611be6803f0945d6a732185857c86724c54c72.png', 'title': \"Grimes Says Priority Keeping Her and Elon Musk's Babies 'Out of the Public  Eye'\", 'link': 'https://people.com/grimes-says-priority-is-keeping-her-and-elon-musk-s-babies-out-of-the-public-eye-7968013', 'tag': '2 days ago', 'original': 'https://people.com/thmb/L5acGGiDLpQPgFCzxGS9Za0gsDA=/1500x0/filters:no_upscale():max_bytes(150000):strip_icc():focal(745x387:747x389)/grimes-Elon-Musk-091123-split-73323068bcf4456d9641310bb019af9c.jpg', 'original_width': 1500, 'original_height': 1000, 'is_product': False}, {'position': 17, 'thumbnail': 'https://serpapi.com/searches/6502919b36e6a993c645e8ad/images/88bc042fadac0da5bde1cd225d611be6df359ce88315d2412e79f5de28d1cc5d.jpeg', 'related_content_id': 'ajY2em14eFBqZjJzaE1cIixcIlM4LTlkZEVfeTdydFBN', 'serpapi_related_content_link': 'https://serpapi.com/search.json?engine=google_images_related_content&gl=us&hl=en&q=Elon+Musk++&related_content_id=ajY2em14eFBqZjJzaE1cIixcIlM4LTlkZEVfeTdydFBN', 'source': 'Britannica', 'source_logo': 'https://serpapi.com/searches/6502919b36e6a993c645e8ad/images/88bc042fadac0da5bde1cd225d611be662f462f0651b843c59929979c6a35437.png', 'title': 'Elon Musk | Biography, SpaceX, Tesla, Twitter, X, & Facts | Britannica', 'link': 'https://www.britannica.com/biography/Elon-Musk', 'original': 'https://cdn.britannica.com/05/236505-050-17B6E34A/Elon-Musk-2022.jpg', 'original_width': 1600, 'original_height': 1158, 'is_product': False}, {'position': 18, 'thumbnail': 'https://serpapi.com/searches/6502919b36e6a993c645e8ad/images/88bc042fadac0da5bde1cd225d611be6fe93938080306df9da82351527655d30.jpeg', 'related_content_id': 'cTczSUlFUjhwcXVBU01cIixcIlRiMzFBZUZFRlN4TjFN', 'serpapi_related_content_link': 'https://serpapi.com/search.json?engine=google_images_related_content&gl=us&hl=en&q=Elon+Musk++&related_content_id=cTczSUlFUjhwcXVBU01cIixcIlRiMzFBZUZFRlN4TjFN', 'source': 'CNN', 'source_logo': 'https://serpapi.com/searches/6502919b36e6a993c645e8ad/images/88bc042fadac0da5bde1cd225d611be64b4f8d54d72ac238af17e201fa62acae.png', 'title': 'ADL chief fires back at Elon Musk for waging campaign of harassment against  the group | CNN Business', 'link': 'https://www.cnn.com/2023/09/07/media/adl-elon-musk-reliable-sources/index.html', 'tag': '6 days ago', 'original': 'https://media.cnn.com/api/v1/images/stellar/prod/230907094533-elon-musk-paris-file.jpg?c=16x9&q=h_720,w_1280,c_fill', 'original_width': 1280, 'original_height': 720, 'is_product': False}, {'position': 19, 'thumbnail': 'https://serpapi.com/searches/6502919b36e6a993c645e8ad/images/88bc042fadac0da5bde1cd225d611be696c08a90ff99892498d413667f50e185.jpeg', 'related_content_id': 'YWwyaEs5aGs3dHI4eU1cIixcImRjLVBKanJ1VV9LUzlN', 'serpapi_related_content_link': 'https://serpapi.com/search.json?engine=google_images_related_content&gl=us&hl=en&q=Elon+Musk++&related_content_id=YWwyaEs5aGs3dHI4eU1cIixcImRjLVBKanJ1VV9LUzlN', 'source': 'Pitchfork', 'source_logo': 'https://serpapi.com/searches/6502919b36e6a993c645e8ad/images/88bc042fadac0da5bde1cd225d611be6731db6a772af18438ee8cb006c07ccd2.png', 'title': 'Grimes and Elon Musk Reveal Third Child, Techno Mechanicus, in New  Biography | Pitchfork', 'link': 'https://pitchfork.com/news/grimes-and-elon-musk-reveal-third-child-techno-mechanicus-in-new-biography/', 'tag': '4 days ago', 'original': 'https://media.pitchfork.com/photos/64fcda5a2d3564554fc65979/2:1/w_2560%2Cc_limit/Screen%2520Shot%25202023-09-09%2520at%25203.49.19%2520PM.png', 'original_width': 2560, 'original_height': 1280, 'is_product': False}, {'position': 20, 'thumbnail': 'https://serpapi.com/searches/6502919b36e6a993c645e8ad/images/88bc042fadac0da5bde1cd225d611be6b6ec8e5a6fede520305d4a02dce175e6.jpeg', 'related_content_id': 'c2tHd19FQUYwRnVUNE1cIixcImpTZ013V3E4UFNqWGZN', 'serpapi_related_content_link': 'https://serpapi.com/search.json?engine=google_images_related_content&gl=us&hl=en&q=Elon+Musk++&related_content_id=c2tHd19FQUYwRnVUNE1cIixcImpTZ013V3E4UFNqWGZN', 'source': 'bio. Biography.com', 'source_logo': 'https://serpapi.com/searches/6502919b36e6a993c645e8ad/images/88bc042fadac0da5bde1cd225d611be6392d010b2d646bbf69a2b5e4d1fdf41b.png', 'title': 'Elon Musk - Tesla, Age & Family', 'link': 'https://www.biography.com/business-leaders/elon-musk', 'original': 'https://hips.hearstapps.com/hmg-prod/images/gettyimages-1229892983-square.jpg?crop=1.00xw:1.00xh;0,0&resize=1200:*', 'original_width': 1200, 'original_height': 1200, 'is_product': False}, {'position': 21, 'thumbnail': 'https://encrypted-tbn0.gstatic.com/images?q=tbn:ANd9GcSWVgOsqLqvHOFZ2eK8TsmI94mHgQAGCv57tQ&usqp=CAU', 'related_content_id': 'OUFvWC05a0NNTWtMT01cIixcImFVYmFGNE5PNENmUk9N', 'serpapi_related_content_link': 'https://serpapi.com/search.json?engine=google_images_related_content&gl=us&hl=en&q=Elon+Musk++&related_content_id=OUFvWC05a0NNTWtMT01cIixcImFVYmFGNE5PNENmUk9N', 'source': 'CNN', 'source_logo': 'https://encrypted-tbn2.gstatic.com/faviconV2?url=https://cnn.com&client=VFE&size=16&type=FAVICON&fallback_opts=TYPE,SIZE,URL&nfrp=2', 'title': \"Four takeaways from Walter Isaacson's biography of Elon Musk | CNN Business\", 'link': 'https://www.cnn.com/2023/09/12/tech/elon-musk-isaacson-biography-takeaways/index.html', 'tag': '1 day ago', 'original': 'https://media.cnn.com/api/v1/images/stellar/prod/230911111631-elon-musk-walter-isaacson-biography-cover.jpg?c=16x9&q=h_720,w_1280,c_fill', 'original_width': 1280, 'original_height': 720, 'is_product': False}, {'position': 22, 'thumbnail': 'https://encrypted-tbn0.gstatic.com/images?q=tbn:ANd9GcQT7_ymNF7XSz3oO6g0bsIiFvJJ4k218uvwqA&usqp=CAU', 'related_content_id': 'VWxPYThxNDktTENmTE1cIixcIk9KWDdZRGJsWG9lcWxN', 'serpapi_related_content_link': 'https://serpapi.com/search.json?engine=google_images_related_content&gl=us&hl=en&q=Elon+Musk++&related_content_id=VWxPYThxNDktTENmTE1cIixcIk9KWDdZRGJsWG9lcWxN', 'source': 'TheStreet', 'source_logo': 'https://encrypted-tbn2.gstatic.com/faviconV2?url=https://thestreet.com&client=VFE&size=16&type=FAVICON&fallback_opts=TYPE,SIZE,URL&nfrp=2', 'title': \"Elon Musk couldn't have innovated without his demons, biographer says -  TheStreet\", 'link': 'https://www.thestreet.com/technology/elon-musk-couldnt-have-innovated-without-his-demons-biographer-says', 'original': 'https://www.thestreet.com/.image/ar_1:1%2Cc_fill%2Ccs_srgb%2Cfl_progressive%2Cq_auto:good%2Cw_1200/MTk5Mjg4NzA5MjA2NTE3NzEw/elon-musk-lead-db-071023.jpg', 'original_width': 1200, 'original_height': 1200, 'is_product': False}, {'position': 23, 'thumbnail': 'https://encrypted-tbn0.gstatic.com/images?q=tbn:ANd9GcTZ4eYRdre7aCqUMUxJL7ED5EAd2N2oNwbRqg&usqp=CAU', 'related_content_id': 'dWhrZ1pTUmtWb3Zwa01cIixcIjdhTXlhQzdaeHZvMjZN', 'serpapi_related_content_link': 'https://serpapi.com/search.json?engine=google_images_related_content&gl=us&hl=en&q=Elon+Musk++&related_content_id=dWhrZ1pTUmtWb3Zwa01cIixcIjdhTXlhQzdaeHZvMjZN', 'source': 'CNN', 'source_logo': 'https://encrypted-tbn2.gstatic.com/faviconV2?url=https://cnn.com&client=VFE&size=16&type=FAVICON&fallback_opts=TYPE,SIZE,URL&nfrp=2', 'title': \"The origin of Elon Musk's feud with Bill Gates, according to Musk's new  biography | CNN Business\", 'link': 'https://www.cnn.com/2023/09/11/tech/elon-musk-bill-gates-isaacson-book/index.html', 'tag': '2 days ago', 'original': 'https://media.cnn.com/api/v1/images/stellar/prod/230911084935-musk-gates-split.jpg?c=16x9&q=h_720,w_1280,c_fill', 'original_width': 1280, 'original_height': 720, 'is_product': False}, {'position': 24, 'thumbnail': 'https://encrypted-tbn0.gstatic.com/images?q=tbn:ANd9GcT2cNVWXlqLn1FIOGa2HrA-h-Daqtso6I0SAg&usqp=CAU', 'related_content_id': 'SVdSYWZmcGtsbDRXSU1cIixcImdlNThLS3RBem1HWjVN', 'serpapi_related_content_link': 'https://serpapi.com/search.json?engine=google_images_related_content&gl=us&hl=en&q=Elon+Musk++&related_content_id=SVdSYWZmcGtsbDRXSU1cIixcImdlNThLS3RBem1HWjVN', 'source': 'India Today', 'source_logo': 'https://encrypted-tbn2.gstatic.com/faviconV2?url=https://indiatoday.in&client=VFE&size=16&type=FAVICON&fallback_opts=TYPE,SIZE,URL&nfrp=2', 'title': 'Elon Musk confirms name of secret third child with Grimes, shares meaning  behind Tau Techno Mechanicus - India Today', 'link': 'https://www.indiatoday.in/technology/news/story/elon-musk-and-grimes-have-a-third-child-named-techno-twitter-owner-shares-meaning-behind-the-name-2433655-2023-09-10', 'original': 'https://akm-img-a-in.tosshub.com/indiatoday/images/media_bank/202309/elon-musk-100306-16x9.jpg?VersionId=USbVufOEy1lYV6YWqCRSVI8XZsZ5lzC.&size=690:388', 'original_width': 690, 'original_height': 388, 'is_product': False}, {'position': 25, 'thumbnail': 'https://encrypted-tbn0.gstatic.com/images?q=tbn:ANd9GcQxXqeoHBxpEi0o4rSTpI-sdAVFPe8U84OB2Q&usqp=CAU', 'related_content_id': 'bGtKa0xwMHVpWGZuTk1cIixcIkpUYXFKclhPd0hqN3BN', 'serpapi_related_content_link': 'https://serpapi.com/search.json?engine=google_images_related_content&gl=us&hl=en&q=Elon+Musk++&related_content_id=bGtKa0xwMHVpWGZuTk1cIixcIkpUYXFKclhPd0hqN3BN', 'source': 'ABC News', 'source_logo': 'https://encrypted-tbn2.gstatic.com/faviconV2?url=https://abcnews.go.com&client=VFE&size=16&type=FAVICON&fallback_opts=TYPE,SIZE,URL&nfrp=2', 'title': \"A timeline of Elon Musk's tumultuous Twitter acquisition - ABC News\", 'link': 'https://abcnews.go.com/Business/timeline-elon-musks-tumultuous-twitter-acquisition-attempt/story?id=86611191', 'original': 'https://s.abcnews.com/images/Business/elon-musk-file-gty-jef-220711_1657563938913_hpMain_16x9_1600.jpg', 'original_width': 1600, 'original_height': 900, 'is_product': False}, {'position': 26, 'thumbnail': 'https://encrypted-tbn0.gstatic.com/images?q=tbn:ANd9GcQvFYQlpAE2QEF2AdGYBFv6LMNcRbbc9iiC5g&usqp=CAU', 'related_content_id': 'RnhNT2x0MjlYYi1ZaE1cIixcIjV6ZnYteXNOcnZLTU1N', 'serpapi_related_content_link': 'https://serpapi.com/search.json?engine=google_images_related_content&gl=us&hl=en&q=Elon+Musk++&related_content_id=RnhNT2x0MjlYYi1ZaE1cIixcIjV6ZnYteXNOcnZLTU1N', 'source': 'The New York Times', 'source_logo': 'https://encrypted-tbn2.gstatic.com/faviconV2?url=https://nytimes.com&client=VFE&size=16&type=FAVICON&fallback_opts=TYPE,SIZE,URL&nfrp=2', 'title': \"Book Review: 'Elon Musk,' by Walter Isaacson - The New York Times\", 'link': 'https://www.nytimes.com/2023/09/09/books/review/elon-musk-walter-isaacson.html', 'original': 'https://static01.nyt.com/images/2023/08/12/books/12WALTER-ISAACSON-COVER/12WALTER-ISAACSON-COVER-articleLarge.jpg?quality=75&auto=webp&disable=upscale', 'original_width': 600, 'original_height': 788, 'is_product': False}, {'position': 27, 'thumbnail': 'https://encrypted-tbn0.gstatic.com/images?q=tbn:ANd9GcTs6tT_AIKM6CwbrMzcRpGnXpwvLfhvBMIG5w&usqp=CAU', 'related_content_id': 'RHBRUjUxbEtHV1plWE1cIixcIkRtWGZubEZkbERnVm5N', 'serpapi_related_content_link': 'https://serpapi.com/search.json?engine=google_images_related_content&gl=us&hl=en&q=Elon+Musk++&related_content_id=RHBRUjUxbEtHV1plWE1cIixcIkRtWGZubEZkbERnVm5N', 'source': 'Sky News', 'source_logo': 'https://encrypted-tbn2.gstatic.com/faviconV2?url=https://news.sky.com&client=VFE&size=16&type=FAVICON&fallback_opts=TYPE,SIZE,URL&nfrp=2', 'title': 'Elon Musk sparks fury as billionaire admits scuppering Ukrainian attack on  Russia | World News | Sky News', 'link': 'https://news.sky.com/story/elon-musk-sparks-fury-as-billionaire-admits-scuppering-ukrainian-attack-on-russia-12957209', 'original': 'https://e3.365dm.com/23/05/2048x1152/skynews-elon-musk-telsa-twitter_6165457.jpg', 'original_width': 2048, 'original_height': 1152, 'is_product': False}, {'position': 28, 'thumbnail': 'https://encrypted-tbn0.gstatic.com/images?q=tbn:ANd9GcTZ658M3x7bRG6th6xPozERW7z-Y7gwThc_MA&usqp=CAU', 'related_content_id': 'RG9tcE9DeDBaaERzMU1cIixcIi10RDJ1UUU5cTRPbjFN', 'serpapi_related_content_link': 'https://serpapi.com/search.json?engine=google_images_related_content&gl=us&hl=en&q=Elon+Musk++&related_content_id=RG9tcE9DeDBaaERzMU1cIixcIi10RDJ1UUU5cTRPbjFN', 'source': 'Rolling Stone', 'source_logo': 'https://encrypted-tbn2.gstatic.com/faviconV2?url=https://rollingstone.com&client=VFE&size=16&type=FAVICON&fallback_opts=TYPE,SIZE,URL&nfrp=2', 'title': 'Elon Musk Says He Wants New Twitter CEO by End of 2023 – Rolling Stone', 'link': 'https://www.rollingstone.com/culture/culture-news/elon-musk-says-find-new-twitter-ceo-2023-1234680357/', 'original': 'https://www.rollingstone.com/wp-content/uploads/2023/02/elon-twitter-new-ceo.jpg?w=1581&h=1054&crop=1', 'original_width': 1581, 'original_height': 1054, 'is_product': False}, {'position': 29, 'thumbnail': 'https://encrypted-tbn0.gstatic.com/images?q=tbn:ANd9GcSbgP1suTCVmjXw-fFmitkdl4nYvyC0ia4TrA&usqp=CAU', 'related_content_id': 'dV83R1ktTnFWS19MV01cIixcIkdDV00ybFE3ZklPOVJN', 'serpapi_related_content_link': 'https://serpapi.com/search.json?engine=google_images_related_content&gl=us&hl=en&q=Elon+Musk++&related_content_id=dV83R1ktTnFWS19MV01cIixcIkdDV00ybFE3ZklPOVJN', 'source': 'People', 'source_logo': 'https://encrypted-tbn2.gstatic.com/faviconV2?url=https://people.com&client=VFE&size=16&type=FAVICON&fallback_opts=TYPE,SIZE,URL&nfrp=2', 'title': 'Elon Musk Biography: Biggest Bombshells and Revelations', 'link': 'https://people.com/elon-musk-biography-biggest-bombshells-revelations-7968447', 'original': 'https://people.com/thmb/FzF9X9Zy-Fn-axCgdo3N25c-bBM=/1500x0/filters:no_upscale():max_bytes(150000):strip_icc():focal(689x29:691x31)/elon-musk-grimes22-50391e9afa074715a57e23450841abac.jpg', 'original_width': 1500, 'original_height': 1000, 'is_product': False}, {'position': 30, 'thumbnail': 'https://encrypted-tbn0.gstatic.com/images?q=tbn:ANd9GcRxPTX3GyaBtuRVuswsiFTP74zyjTmm9JosRg&usqp=CAU', 'related_content_id': 'Q1pNcGhLenhxSk1sZE1cIixcIkRSaWw1dXcyODBDMmlN', 'serpapi_related_content_link': 'https://serpapi.com/search.json?engine=google_images_related_content&gl=us&hl=en&q=Elon+Musk++&related_content_id=Q1pNcGhLenhxSk1sZE1cIixcIkRSaWw1dXcyODBDMmlN', 'source': 'CNBC', 'source_logo': 'https://encrypted-tbn2.gstatic.com/faviconV2?url=https://cnbc.com&client=VFE&size=16&type=FAVICON&fallback_opts=TYPE,SIZE,URL&nfrp=2', 'title': \"Taiwan slams Elon Musk, says it's 'not for sale' nor part of China\", 'link': 'https://www.cnbc.com/2023/09/14/taiwan-slams-elon-musk-says-its-not-for-sale-nor-part-of-china.html', 'tag': '21 minutes ago', 'original': 'https://image.cnbcfm.com/api/v1/image/107300519-1694660530286-gettyimages-1662765295-SENATE_AI.jpeg?v=1694665764&w=929&h=523&vtcrop=y', 'original_width': 929, 'original_height': 523, 'is_product': False}, {'position': 31, 'thumbnail': 'https://encrypted-tbn0.gstatic.com/images?q=tbn:ANd9GcTr4rrt7AA_iFOY1a9Jg2LL0tuTphjF7atUYg&usqp=CAU', 'related_content_id': 'dk8yQU1VSXdLa05Wck1cIixcIjNtOUlQcWYyak5hOGNN', 'serpapi_related_content_link': 'https://serpapi.com/search.json?engine=google_images_related_content&gl=us&hl=en&q=Elon+Musk++&related_content_id=dk8yQU1VSXdLa05Wck1cIixcIjNtOUlQcWYyak5hOGNN', 'source': 'Simon & Schuster', 'source_logo': 'https://encrypted-tbn2.gstatic.com/faviconV2?url=https://simonandschuster.com&client=VFE&size=16&type=FAVICON&fallback_opts=TYPE,SIZE,URL&nfrp=2', 'title': 'Elon Musk | Book by Walter Isaacson | Official Publisher Page | Simon &  Schuster', 'link': 'https://www.simonandschuster.com/books/Elon-Musk/Walter-Isaacson/9781982181284', 'original': 'https://d28hgpri8am2if.cloudfront.net/book_images/onix/cvr9781982181284/elon-musk-9781982181284_hr.jpg', 'original_width': 1400, 'original_height': 2138, 'is_product': False}, {'position': 32, 'thumbnail': 'https://encrypted-tbn0.gstatic.com/images?q=tbn:ANd9GcTgYYH4UY4O1TPt6UjjBxdftRdMYQjY-dFOcQ&usqp=CAU', 'related_content_id': 'VTRhcUc1ck5CQ05tY01cIixcIjFUOTlGVWVwU2txa3lN', 'serpapi_related_content_link': 'https://serpapi.com/search.json?engine=google_images_related_content&gl=us&hl=en&q=Elon+Musk++&related_content_id=VTRhcUc1ck5CQ05tY01cIixcIjFUOTlGVWVwU2txa3lN', 'source': 'Investopedia', 'source_logo': 'https://encrypted-tbn2.gstatic.com/faviconV2?url=https://investopedia.com&client=VFE&size=16&type=FAVICON&fallback_opts=TYPE,SIZE,URL&nfrp=2', 'title': \"Elon Musk Has Rebranded Twitter to 'X'—Here's Musk's Net Worth\", 'link': 'https://www.investopedia.com/elon-musk-launched-his-own-ai-startup-heres-musks-net-worth-7562899', 'original': 'https://www.investopedia.com/thmb/2aiIrgENqxk_fOHi5sNho0HMCYA=/1500x0/filters:no_upscale():max_bytes(150000):strip_icc()/GettyImages-1459166551-ce898f4cd2e04caab74bf5e6ba108605.jpg', 'original_width': 1500, 'original_height': 1093, 'is_product': False}, {'position': 33, 'thumbnail': 'https://encrypted-tbn0.gstatic.com/images?q=tbn:ANd9GcQzAX7-I-Bi1jAmprxiaNb2n_cwLWYydMjlhg&usqp=CAU', 'related_content_id': 'cmJ2NVVEZ19xejdHNk1cIixcIkxaci1mSHZ1TWN5WXhN', 'serpapi_related_content_link': 'https://serpapi.com/search.json?engine=google_images_related_content&gl=us&hl=en&q=Elon+Musk++&related_content_id=cmJ2NVVEZ19xejdHNk1cIixcIkxaci1mSHZ1TWN5WXhN', 'source': 'The Guardian', 'source_logo': 'https://encrypted-tbn2.gstatic.com/faviconV2?url=https://theguardian.com&client=VFE&size=16&type=FAVICON&fallback_opts=TYPE,SIZE,URL&nfrp=2', 'title': \"The Elon Musk Show review – is the world's richest man a genius, or just a  goofy loner? | Television & radio | The Guardian\", 'link': 'https://www.theguardian.com/tv-and-radio/2022/oct/12/the-elon-musk-show-review-is-the-worlds-richest-man-a-genius-or-just-a-goofy-loner', 'original': 'https://i.guim.co.uk/img/media/b10f15a0955d23826586810847cc3431e36616f1/0_508_2065_1238/master/2065.jpg?width=1200&height=1200&quality=85&auto=format&fit=crop&s=b6b0e2df577f6dc993d68b672483ef58', 'original_width': 1200, 'original_height': 1200, 'is_product': False}, {'position': 34, 'thumbnail': 'https://encrypted-tbn0.gstatic.com/images?q=tbn:ANd9GcRg5HPCytpWvEfq2pztuRdVar_CC3tOEoRQtg&usqp=CAU', 'related_content_id': 'TkVoYmZubERVUHhIaU1cIixcIlZ1M0dsSmRyWEtOYXNN', 'serpapi_related_content_link': 'https://serpapi.com/search.json?engine=google_images_related_content&gl=us&hl=en&q=Elon+Musk++&related_content_id=TkVoYmZubERVUHhIaU1cIixcIlZ1M0dsSmRyWEtOYXNN', 'source': 'CNBC', 'source_logo': 'https://encrypted-tbn2.gstatic.com/faviconV2?url=https://cnbc.com&client=VFE&size=16&type=FAVICON&fallback_opts=TYPE,SIZE,URL&nfrp=2', 'title': 'Musk, Zuckerberg among tech leaders visiting Senate to speak about AI', 'link': 'https://www.cnbc.com/2023/09/13/musk-zuckerberg-among-tech-leaders-visiting-senate-to-speak-about-ai-.html', 'tag': '8 hours ago', 'original': 'https://image.cnbcfm.com/api/v1/image/107300100-16946163562023-09-13t142809z_977388899_rc2m73a815je_rtrmadp_0_usa-ai-congress.jpeg?v=1694638090', 'original_width': 3500, 'original_height': 2434, 'is_product': False}, {'position': 35, 'thumbnail': 'https://encrypted-tbn0.gstatic.com/images?q=tbn:ANd9GcQDYyvs_nat8O2eC5btMC3ow5IjT_Q75YZ27A&usqp=CAU', 'related_content_id': 'dUw4YS1SV20wNEJsWU1cIixcImdXNmFZdVpPSlZqWkdN', 'serpapi_related_content_link': 'https://serpapi.com/search.json?engine=google_images_related_content&gl=us&hl=en&q=Elon+Musk++&related_content_id=dUw4YS1SV20wNEJsWU1cIixcImdXNmFZdVpPSlZqWkdN', 'source': 'YouTube', 'source_logo': 'https://encrypted-tbn2.gstatic.com/faviconV2?url=https://youtube.com&client=VFE&size=16&type=FAVICON&fallback_opts=TYPE,SIZE,URL&nfrp=2', 'title': \"Elon Musk's Biographer: 'He's Addicted to Drama, He's Addicted to Risk' |  WSJ - YouTube\", 'link': 'https://www.youtube.com/watch?v=WIkntYwePII', 'tag': '10:30', 'original': 'https://i.ytimg.com/vi/WIkntYwePII/maxresdefault.jpg', 'original_width': 1280, 'original_height': 720, 'is_product': False}, {'position': 36, 'thumbnail': 'https://encrypted-tbn0.gstatic.com/images?q=tbn:ANd9GcTGdm9BtWknQq8FVfTFwGgSbAkax8xqeUhn3Q&usqp=CAU', 'related_content_id': 'b0ozV0RDWFJKblIwTk1cIixcIkN2c3h6clEzYkZ6aVhN', 'serpapi_related_content_link': 'https://serpapi.com/search.json?engine=google_images_related_content&gl=us&hl=en&q=Elon+Musk++&related_content_id=b0ozV0RDWFJKblIwTk1cIixcIkN2c3h6clEzYkZ6aVhN', 'source': 'The Today Show', 'source_logo': 'https://encrypted-tbn2.gstatic.com/faviconV2?url=https://today.com&client=VFE&size=16&type=FAVICON&fallback_opts=TYPE,SIZE,URL&nfrp=2', 'title': \"Elon Musk biographer talks billionaire's life, influence, more\", 'link': 'https://www.today.com/video/elon-musk-biographer-talks-billionaire-s-life-influence-more-192672837994', 'tag': 'Video', 'original': 'https://media-cldnry.s-nbcnews.com/image/upload/mpx/2704722219/2023_09/1694435757931_tdy_news_8a_walter_isaacson_elon_musk_230911_1920x1080-32xq2p.jpg', 'original_width': 1920, 'original_height': 1080, 'is_product': False}, {'position': 37, 'thumbnail': 'https://encrypted-tbn0.gstatic.com/images?q=tbn:ANd9GcQ784_o6QtyVP97olbakVGVFtRxftlel16U1Q&usqp=CAU', 'related_content_id': 'bDJzcURmMl83b1d2WE1cIixcIjJ5X2Z4S0FxQk0yaERN', 'serpapi_related_content_link': 'https://serpapi.com/search.json?engine=google_images_related_content&gl=us&hl=en&q=Elon+Musk++&related_content_id=bDJzcURmMl83b1d2WE1cIixcIjJ5X2Z4S0FxQk0yaERN', 'source': 'People', 'source_logo': 'https://encrypted-tbn2.gstatic.com/faviconV2?url=https://people.com&client=VFE&size=16&type=FAVICON&fallback_opts=TYPE,SIZE,URL&nfrp=2', 'title': 'Amber Heard and Elon Musk Recall Relationship in New Biography', 'link': 'https://people.com/amber-heard-elon-musk-recount-relationship-in-biography-7967945', 'original': 'https://people.com/thmb/b-Q1zJoo1tlSlP4ptmwLEK2PcG0=/1500x0/filters:no_upscale():max_bytes(150000):strip_icc():focal(389x339:391x341)/amber-heard-elon-musk-110322-4d46ee4d4af04698889d3c1be1c488ac.jpg', 'original_width': 1500, 'original_height': 1000, 'is_product': False}, {'position': 38, 'thumbnail': 'https://encrypted-tbn0.gstatic.com/images?q=tbn:ANd9GcRw8UfxvpY3ZNV_TTYb0pFMpb05L45B2XnLKA&usqp=CAU', 'related_content_id': 'MzVQejRCNUphRzViVk1cIixcImEySkxVa2t2SjhaUDJN', 'serpapi_related_content_link': 'https://serpapi.com/search.json?engine=google_images_related_content&gl=us&hl=en&q=Elon+Musk++&related_content_id=MzVQejRCNUphRzViVk1cIixcImEySkxVa2t2SjhaUDJN', 'source': 'Future of Life Institute', 'source_logo': 'https://encrypted-tbn2.gstatic.com/faviconV2?url=https://futureoflife.org&client=VFE&size=16&type=FAVICON&fallback_opts=TYPE,SIZE,URL&nfrp=2', 'title': 'Elon Musk - Future of Life Institute', 'link': 'https://futureoflife.org/person/24104/', 'original': 'https://futureoflife.org/wp-content/uploads/2020/08/elon_musk_royal_society.jpg', 'original_width': 1200, 'original_height': 1200, 'is_product': False}, {'position': 39, 'thumbnail': 'https://encrypted-tbn0.gstatic.com/images?q=tbn:ANd9GcTtSalzBWWFtYZMptaTavaRxNkzybGzAXl5pA&usqp=CAU', 'related_content_id': 'RzU3cVBCc0EyTTR6Yk1cIixcImtJM0Y1TXUwdDdZb2FN', 'serpapi_related_content_link': 'https://serpapi.com/search.json?engine=google_images_related_content&gl=us&hl=en&q=Elon+Musk++&related_content_id=RzU3cVBCc0EyTTR6Yk1cIixcImtJM0Y1TXUwdDdZb2FN', 'source': 'Forbes', 'source_logo': 'https://encrypted-tbn2.gstatic.com/faviconV2?url=https://forbes.com&client=VFE&size=16&type=FAVICON&fallback_opts=TYPE,SIZE,URL&nfrp=2', 'title': \"Grimes Says Relationship With Elon Musk Was 'Best Internship Ever'\", 'link': 'https://www.forbes.com/sites/dereksaul/2023/08/09/grimes-says-relationship-with-elon-musk-was-best-internship-ever/', 'original': 'https://imageio.forbes.com/specials-images/imageserve/64d39b065e712ec30bb1ea41/People-Elon-Musk-Grimes/0x0.jpg?crop=2867,1612,x0,y17,safe&height=399&width=711&fit=bounds', 'original_width': 710, 'original_height': 399, 'is_product': False}, {'position': 40, 'thumbnail': 'https://encrypted-tbn0.gstatic.com/images?q=tbn:ANd9GcQ6nPduNgtzb0gYgeGn32BSSENiMXpxtiy-Qg&usqp=CAU', 'related_content_id': 'eUlud3U4UGFnaTU0eE1cIixcIm9STG81VnA4Y0tSaUxN', 'serpapi_related_content_link': 'https://serpapi.com/search.json?engine=google_images_related_content&gl=us&hl=en&q=Elon+Musk++&related_content_id=eUlud3U4UGFnaTU0eE1cIixcIm9STG81VnA4Y0tSaUxN', 'source': 'NBC News', 'source_logo': 'https://encrypted-tbn2.gstatic.com/faviconV2?url=https://nbcnews.com&client=VFE&size=16&type=FAVICON&fallback_opts=TYPE,SIZE,URL&nfrp=2', 'title': \"Elon Musk says he's secured $46.5 billion in financing to buy Twitter\", 'link': 'https://www.nbcnews.com/business/business-news/elon-musk-secured-financing-buy-twitter-deal-rcna25372', 'original': 'https://media-cldnry.s-nbcnews.com/image/upload/rockcms/2022-04/220421-elon-musk-al-1017-a6eece.jpg', 'original_width': 2500, 'original_height': 1667, 'is_product': False}, {'position': 41, 'thumbnail': 'https://encrypted-tbn0.gstatic.com/images?q=tbn:ANd9GcQVZRr3qC5IXBdmX29RYfIv_CmBfv5DkYt2mA&usqp=CAU', 'related_content_id': 'bEQ3Z1Rnak9JRkZkN01cIixcIlpnQUd6WGl1TmdRdlpN', 'serpapi_related_content_link': 'https://serpapi.com/search.json?engine=google_images_related_content&gl=us&hl=en&q=Elon+Musk++&related_content_id=bEQ3Z1Rnak9JRkZkN01cIixcIlpnQUd6WGl1TmdRdlpN', 'source': 'CNBC', 'source_logo': 'https://encrypted-tbn2.gstatic.com/faviconV2?url=https://cnbc.com&client=VFE&size=16&type=FAVICON&fallback_opts=TYPE,SIZE,URL&nfrp=2', 'title': 'Elon Musk calls for federal department of AI after Capitol Hill summit', 'link': 'https://www.cnbc.com/2023/09/13/elon-musk-calls-for-federal-department-of-ai-after-capitol-hill-summit.html', 'tag': '11 hours ago', 'original': 'https://image.cnbcfm.com/api/v1/image/107300056-1694614982233-gettyimages-1662689427-AFP_33V72T8.jpeg?v=1694635395&w=929&h=523&vtcrop=y', 'original_width': 929, 'original_height': 523, 'is_product': False}, {'position': 42, 'thumbnail': 'https://encrypted-tbn0.gstatic.com/images?q=tbn:ANd9GcRINtmjkWDpLWGUln9EjgVKhv1DN-ZPaF1IOw&usqp=CAU', 'related_content_id': 'a0RfeW5UOHMxVFNKdU1cIixcIkRWaFM3MzBVbFNxMmlN', 'serpapi_related_content_link': 'https://serpapi.com/search.json?engine=google_images_related_content&gl=us&hl=en&q=Elon+Musk++&related_content_id=a0RfeW5UOHMxVFNKdU1cIixcIkRWaFM3MzBVbFNxMmlN', 'source': 'CNN', 'source_logo': 'https://encrypted-tbn2.gstatic.com/faviconV2?url=https://cnn.com&client=VFE&size=16&type=FAVICON&fallback_opts=TYPE,SIZE,URL&nfrp=2', 'title': 'Elon Musk confirms he and Grimes have a third child | CNN', 'link': 'https://www.cnn.com/2023/09/11/entertainment/elon-musk-grimes-third-child-scli-intl/index.html', 'tag': '2 days ago', 'original': 'https://media.cnn.com/api/v1/images/stellar/prod/230911095535-elon-musk-grimes-third-child-file-050718.jpg?c=original', 'original_width': 2000, 'original_height': 1126, 'is_product': False}, {'position': 43, 'thumbnail': 'https://encrypted-tbn0.gstatic.com/images?q=tbn:ANd9GcR6yd1wjsuO7XokVEqthLWPG1BPUJ1F8I58KQ&usqp=CAU', 'related_content_id': 'dllqSXVNbWl5TDkxTE1cIixcIkpMQURhYzUxdnVwV1JN', 'serpapi_related_content_link': 'https://serpapi.com/search.json?engine=google_images_related_content&gl=us&hl=en&q=Elon+Musk++&related_content_id=dllqSXVNbWl5TDkxTE1cIixcIkpMQURhYzUxdnVwV1JN', 'source': 'NPR', 'source_logo': 'https://encrypted-tbn2.gstatic.com/faviconV2?url=https://npr.org&client=VFE&size=16&type=FAVICON&fallback_opts=TYPE,SIZE,URL&nfrp=2', 'title': 'Elon Musk addresses Twitter staff about free speech, remote work, layoffs  and aliens : NPR', 'link': 'https://www.npr.org/2022/06/16/1105608659/elon-musk-twitter-employees', 'original': 'https://media.npr.org/assets/img/2022/06/16/gettyimages-1395371348-b670e119df530553e1cac24560455e51baee7324-s1100-c50.jpg', 'original_width': 1100, 'original_height': 825, 'is_product': False}, {'position': 44, 'thumbnail': 'https://encrypted-tbn0.gstatic.com/images?q=tbn:ANd9GcQ7soUXlq-wHEs6ves1iZp0mTpNQ4I0PoptQw&usqp=CAU', 'related_content_id': 'ZlNUZUFkXy1ndmpfSU1cIixcInlEN19SUEhMVjJtUTJN', 'serpapi_related_content_link': 'https://serpapi.com/search.json?engine=google_images_related_content&gl=us&hl=en&q=Elon+Musk++&related_content_id=ZlNUZUFkXy1ndmpfSU1cIixcInlEN19SUEhMVjJtUTJN', 'source': 'Axios', 'source_logo': 'https://encrypted-tbn2.gstatic.com/faviconV2?url=https://axios.com&client=VFE&size=16&type=FAVICON&fallback_opts=TYPE,SIZE,URL&nfrp=2', 'title': 'Exclusive excerpt from Walter Isaacson\\'s \"Elon Musk\" spills Tesla\\'s hunt  for $25,000 car', 'link': 'https://www.axios.com/2023/09/08/walter-isaacson-elon-musk-book-excerpt', 'tag': '5 days ago', 'original': 'https://images.axios.com/Qk2AKLfBzvNMkGUsa2kGYdAb608=/0x0:1920x1080/1920x1080/2023/09/07/1694112399292.png', 'original_width': 1920, 'original_height': 1080, 'is_product': False}, {'position': 45, 'thumbnail': 'https://encrypted-tbn0.gstatic.com/images?q=tbn:ANd9GcTEeSSlX4SYxYDX5TgStnhuOvnqotr3ysqpMQ&usqp=CAU', 'related_content_id': 'eTNlNlY0TjBYbXl0T01cIixcInBCQktsX1lsdG9pdktN', 'serpapi_related_content_link': 'https://serpapi.com/search.json?engine=google_images_related_content&gl=us&hl=en&q=Elon+Musk++&related_content_id=eTNlNlY0TjBYbXl0T01cIixcInBCQktsX1lsdG9pdktN', 'source': 'IMDb', 'source_logo': 'https://encrypted-tbn2.gstatic.com/faviconV2?url=https://imdb.com&client=VFE&size=16&type=FAVICON&fallback_opts=TYPE,SIZE,URL&nfrp=2', 'title': 'The Elon Musk Show (TV Series 2022) - IMDb', 'link': 'https://www.imdb.com/title/tt19896392/', 'original': 'https://m.media-amazon.com/images/M/MV5BMzZkNDZiNWUtYjFkNi00NjFkLThiOTAtNDAxZWVjNzZlZjc2XkEyXkFqcGdeQXVyMTUyNjc3NDQ4._V1_.jpg', 'original_width': 1175, 'original_height': 1763, 'is_product': False}, {'position': 46, 'thumbnail': 'https://encrypted-tbn0.gstatic.com/images?q=tbn:ANd9GcTYOKOXDGnf0dywoBFA-cOwtqBZIZvYhHJATA&usqp=CAU', 'related_content_id': 'LTV6d284Xy1jVzYwck1cIixcIjFqVkJKdzdMWnByLVFN', 'serpapi_related_content_link': 'https://serpapi.com/search.json?engine=google_images_related_content&gl=us&hl=en&q=Elon+Musk++&related_content_id=LTV6d284Xy1jVzYwck1cIixcIjFqVkJKdzdMWnByLVFN', 'source': 'Space.com', 'source_logo': 'https://encrypted-tbn2.gstatic.com/faviconV2?url=https://space.com&client=VFE&size=16&type=FAVICON&fallback_opts=TYPE,SIZE,URL&nfrp=2', 'title': 'Elon Musk: Revolutionary private space entrepreneur | Space', 'link': 'https://www.space.com/18849-elon-musk.html', 'original': 'https://cdn.mos.cms.futurecdn.net/8hBsu6KV4QMdTMkuZ6cRM.jpg', 'original_width': 1024, 'original_height': 722, 'is_product': False}, {'position': 47, 'thumbnail': 'https://encrypted-tbn0.gstatic.com/images?q=tbn:ANd9GcTTTjlQ99Z0Ye27IfKks4wsjUdAt4E4Lsa_eA&usqp=CAU', 'related_content_id': 'aDRZZTJuSmZ4RG91T01cIixcIkczRkRHLWlaei01LUhN', 'serpapi_related_content_link': 'https://serpapi.com/search.json?engine=google_images_related_content&gl=us&hl=en&q=Elon+Musk++&related_content_id=aDRZZTJuSmZ4RG91T01cIixcIkczRkRHLWlaei01LUhN', 'source': 'Investopedia', 'source_logo': 'https://encrypted-tbn2.gstatic.com/faviconV2?url=https://investopedia.com&client=VFE&size=16&type=FAVICON&fallback_opts=TYPE,SIZE,URL&nfrp=2', 'title': 'Musk to Twitter: \"Do You Like Me? Y/N?\"', 'link': 'https://www.investopedia.com/musk-twitter-ceo-poll-6944657', 'original': 'https://www.investopedia.com/thmb/yHJ-TScXYLK0-nsquk3F7nQ3ROg=/1500x0/filters:no_upscale():max_bytes(150000):strip_icc()/GettyImages-1229893385-660e28619bce4b86b26897be614e36ff.jpg', 'original_width': 1500, 'original_height': 1025, 'is_product': False}, {'position': 48, 'thumbnail': 'https://encrypted-tbn0.gstatic.com/images?q=tbn:ANd9GcRmUNV9u0vn7dNbDPeMU0DhFWATkNi7fBfXMA&usqp=CAU', 'related_content_id': 'aGNWQXFDTDJDVTN2MU1cIixcIklXY0U0V3BPckozaVZN', 'serpapi_related_content_link': 'https://serpapi.com/search.json?engine=google_images_related_content&gl=us&hl=en&q=Elon+Musk++&related_content_id=aGNWQXFDTDJDVTN2MU1cIixcIklXY0U0V3BPckozaVZN', 'source': 'The New York Times', 'source_logo': 'https://encrypted-tbn2.gstatic.com/faviconV2?url=https://nytimes.com&client=VFE&size=16&type=FAVICON&fallback_opts=TYPE,SIZE,URL&nfrp=2', 'title': \"Elon Musk's Event With Ron DeSantis Exposes Twitter's Weaknesses - The New  York Times\", 'link': 'https://www.nytimes.com/2023/05/24/technology/elon-musk-desantis-twitter.html', 'original': 'https://static01.nyt.com/images/2023/05/24/multimedia/24MUSK-top-hbft/24MUSK-top-hbft-superJumbo.jpg', 'original_width': 1366, 'original_height': 2048, 'is_product': False}, {'position': 49, 'thumbnail': 'https://encrypted-tbn0.gstatic.com/images?q=tbn:ANd9GcSn6t4Md9yV78BSC0UxNGhEDCUkxV0x_5dmqw&usqp=CAU', 'related_content_id': 'Z1lDRjdoR1NKQVl3LU1cIixcIkZKMlJtZm1VaDdQNklN', 'serpapi_related_content_link': 'https://serpapi.com/search.json?engine=google_images_related_content&gl=us&hl=en&q=Elon+Musk++&related_content_id=Z1lDRjdoR1NKQVl3LU1cIixcIkZKMlJtZm1VaDdQNklN', 'source': 'NBC 6 South Florida', 'source_logo': 'https://encrypted-tbn2.gstatic.com/faviconV2?url=https://nbcmiami.com&client=VFE&size=16&type=FAVICON&fallback_opts=TYPE,SIZE,URL&nfrp=2', 'title': \"Elon Musk and Grimes have third child named 'Techno Mechanicus,' Walter  Isaacson's new biography says – NBC 6 South Florida\", 'link': 'https://www.nbcmiami.com/entertainment/entertainment-news/elon-musk-and-grimes-have-third-child-named-techno-mechanicus-new-biography-says/3108638/', 'original': 'https://media.nbcmiami.com/2020/10/201030_4258216_Grimes__5_Month_Old_Baby_With_Elon_Musk___s__1920x1080_1813730883925.jpg?quality=85&strip=all&resize=320%2C180', 'original_width': 320, 'original_height': 180, 'is_product': False}, {'position': 50, 'thumbnail': 'https://encrypted-tbn0.gstatic.com/images?q=tbn:ANd9GcTk7xP8jeI_kNEFG8pnLpKKiQIelHDhooTxYw&usqp=CAU', 'related_content_id': 'dFVDTEMwY1BDUkJ4Vk1cIixcIjFNZXFjUUhwUzI4MU1N', 'serpapi_related_content_link': 'https://serpapi.com/search.json?engine=google_images_related_content&gl=us&hl=en&q=Elon+Musk++&related_content_id=dFVDTEMwY1BDUkJ4Vk1cIixcIjFNZXFjUUhwUzI4MU1N', 'source': 'NPR', 'source_logo': 'https://encrypted-tbn2.gstatic.com/faviconV2?url=https://npr.org&client=VFE&size=16&type=FAVICON&fallback_opts=TYPE,SIZE,URL&nfrp=2', 'title': \"Elon Musk bought Twitter. Here's what he says he'll do next : NPR\", 'link': 'https://www.npr.org/2022/04/25/1094671225/elon-musk-bought-twitter-plans', 'original': 'https://media.npr.org/assets/img/2022/04/25/ap22101192217431-1-_custom-de3bb39df7e1d7f51c9df80df84c87fabfc9d8f3.jpg', 'original_width': 6000, 'original_height': 4004, 'is_product': False}, {'position': 51, 'thumbnail': 'https://encrypted-tbn0.gstatic.com/images?q=tbn:ANd9GcTezylR5E7ISFZh6uwA2ftL3BNMyxeJVd2Qqw&usqp=CAU', 'related_content_id': 'bkVFVl9IZWlQZDNDd01cIixcIk1RVVpBNm9FcDU4a25N', 'serpapi_related_content_link': 'https://serpapi.com/search.json?engine=google_images_related_content&gl=us&hl=en&q=Elon+Musk++&related_content_id=bkVFVl9IZWlQZDNDd01cIixcIk1RVVpBNm9FcDU4a25N', 'source': 'ABC News', 'source_logo': 'https://encrypted-tbn2.gstatic.com/faviconV2?url=https://abcnews.go.com&client=VFE&size=16&type=FAVICON&fallback_opts=TYPE,SIZE,URL&nfrp=2', 'title': \"Elon Musk says he'll resign as head of Twitter - ABC News\", 'link': 'https://abcnews.go.com/Business/elon-musk-hell-resign-head-twitter/story?id=95630793', 'original': 'https://s.abcnews.com/images/US/elon-musk-gty-gmh-221220_1671587715270_hpMain_4x5_992.jpg', 'original_width': 794, 'original_height': 992, 'is_product': False}, {'position': 52, 'thumbnail': 'https://encrypted-tbn0.gstatic.com/images?q=tbn:ANd9GcQE-tFK8foLlz_75g4gPa64OiT7J15p3gqnEg&usqp=CAU', 'related_content_id': 'UjhrNnI5Q09rS284UU1cIixcImpWMkYwN2IyUGNXQ3ZN', 'serpapi_related_content_link': 'https://serpapi.com/search.json?engine=google_images_related_content&gl=us&hl=en&q=Elon+Musk++&related_content_id=UjhrNnI5Q09rS284UU1cIixcImpWMkYwN2IyUGNXQ3ZN', 'source': 'Variety', 'source_logo': 'https://encrypted-tbn2.gstatic.com/faviconV2?url=https://variety.com&client=VFE&size=16&type=FAVICON&fallback_opts=TYPE,SIZE,URL&nfrp=2', 'title': 'Elon Musk Closes Twitter Deal, Fires CEO, CFO and Other Senior Execs -  Variety', 'link': 'https://variety.com/2022/digital/news/elon-musk-closes-twitter-deal-fires-ceo-cfo-1235416656/', 'original': 'https://variety.com/wp-content/uploads/2022/07/Elon-Musk-Twitter-Lawsuit.jpg?w=1000&h=563&crop=1', 'original_width': 1000, 'original_height': 563, 'is_product': False}, {'position': 53, 'thumbnail': 'https://encrypted-tbn0.gstatic.com/images?q=tbn:ANd9GcTS0FXiepelD2ELFMzGssh5rWQdiThOPGuUtQ&usqp=CAU', 'related_content_id': 'UGcyMjlETGVzd1FJSU1cIixcImdBNHhRNFdLRUNjbDRN', 'serpapi_related_content_link': 'https://serpapi.com/search.json?engine=google_images_related_content&gl=us&hl=en&q=Elon+Musk++&related_content_id=UGcyMjlETGVzd1FJSU1cIixcImdBNHhRNFdLRUNjbDRN', 'source': 'Axios', 'source_logo': 'https://encrypted-tbn2.gstatic.com/faviconV2?url=https://axios.com&client=VFE&size=16&type=FAVICON&fallback_opts=TYPE,SIZE,URL&nfrp=2', 'title': 'Elon Musk - Economy & Business - Axios', 'link': 'https://www.axios.com/economy-business/elon-musk', 'original': 'https://images.axios.com/3LA4jde2UBN9C03PVadf985e9vw=/840x0:1920x1080/1920x1920/2023/05/24/1684893355078.jpg?w=1920', 'original_width': 1920, 'original_height': 1920, 'is_product': False}, {'position': 54, 'thumbnail': 'https://encrypted-tbn0.gstatic.com/images?q=tbn:ANd9GcTsgRfMWq4dxNN2RXvfsNmWgirG1URorQXQkw&usqp=CAU', 'related_content_id': 'TVhHS0JON1ZZd29IcU1cIixcImNiUlNOYzJyc0w1ZmxN', 'serpapi_related_content_link': 'https://serpapi.com/search.json?engine=google_images_related_content&gl=us&hl=en&q=Elon+Musk++&related_content_id=TVhHS0JON1ZZd29IcU1cIixcImNiUlNOYzJyc0w1ZmxN', 'source': 'Wall Street Journal', 'source_logo': 'https://encrypted-tbn2.gstatic.com/faviconV2?url=https://wsj.com&client=VFE&size=16&type=FAVICON&fallback_opts=TYPE,SIZE,URL&nfrp=2', 'title': \"Twitter Didn't Seek a Sale. Now Elon Musk Doesn't Want to Buy. Cue Strange  Legal Drama. - WSJ\", 'link': 'https://www.wsj.com/articles/elon-musk-twitter-strange-legal-fight-11657488572', 'original': 'https://images.wsj.net/im-580612/8SR', 'original_width': 1278, 'original_height': 1278, 'is_product': False}, {'position': 55, 'thumbnail': 'https://encrypted-tbn0.gstatic.com/images?q=tbn:ANd9GcTknu5FGDIKCuT5-3TIyfM5feSjfXY3QzsImg&usqp=CAU', 'related_content_id': 'QXZVTnk1T1p2RE1obE1cIixcImRUWmV3dlRyZHdxcEZN', 'serpapi_related_content_link': 'https://serpapi.com/search.json?engine=google_images_related_content&gl=us&hl=en&q=Elon+Musk++&related_content_id=QXZVTnk1T1p2RE1obE1cIixcImRUWmV3dlRyZHdxcEZN', 'source': 'Reuters', 'source_logo': 'https://encrypted-tbn2.gstatic.com/faviconV2?url=https://reuters.com&client=VFE&size=16&type=FAVICON&fallback_opts=TYPE,SIZE,URL&nfrp=2', 'title': \"Elon Musk, WHO chief spar on Twitter over U.N. agency's role | Reuters\", 'link': 'https://www.reuters.com/world/elon-musk-who-spar-twitter-over-un-agencys-role-2023-03-23/', 'original': 'https://cloudfront-us-east-2.images.arcpublishing.com/reuters/NPYZQCXOD5NHFDJXBOQLVZD7PM.jpg', 'original_width': 4802, 'original_height': 3202, 'is_product': False}, {'position': 56, 'thumbnail': 'https://encrypted-tbn0.gstatic.com/images?q=tbn:ANd9GcRBiIW3jDyN74tIeEDAXxjh93ygbYXfsOpMcQ&usqp=CAU', 'related_content_id': 'OUxIekc1djJCRnFaQk1cIixcIjJ5X2Z4S0FxQk0yaERN', 'serpapi_related_content_link': 'https://serpapi.com/search.json?engine=google_images_related_content&gl=us&hl=en&q=Elon+Musk++&related_content_id=OUxIekc1djJCRnFaQk1cIixcIjJ5X2Z4S0FxQk0yaERN', 'source': 'People', 'source_logo': 'https://encrypted-tbn2.gstatic.com/faviconV2?url=https://people.com&client=VFE&size=16&type=FAVICON&fallback_opts=TYPE,SIZE,URL&nfrp=2', 'title': 'Amber Heard and Elon Musk Recall Relationship in New Biography', 'link': 'https://people.com/amber-heard-elon-musk-recount-relationship-in-biography-7967945', 'original': 'https://people.com/thmb/Lagtku3pfaNXxx2k54qIPUVx9y4=/1500x0/filters:no_upscale():max_bytes(150000):strip_icc():focal(674x9:676x11)/amber-heard-elon-musk-in-los-angeles-110422-a8918acd758d4107858915bf0207929c.jpg', 'original_width': 1500, 'original_height': 1000, 'is_product': False}, {'position': 57, 'thumbnail': 'https://encrypted-tbn0.gstatic.com/images?q=tbn:ANd9GcSgIyTFzkeqPakXVmvYyxxbw_tBilXgrKq8Zg&usqp=CAU', 'related_content_id': 'aHJIMDJqRGhpSHpMOU1cIixcImp2Q21HZlJUNWd3N3RN', 'serpapi_related_content_link': 'https://serpapi.com/search.json?engine=google_images_related_content&gl=us&hl=en&q=Elon+Musk++&related_content_id=aHJIMDJqRGhpSHpMOU1cIixcImp2Q21HZlJUNWd3N3RN', 'source': 'WIRED', 'source_logo': 'https://encrypted-tbn2.gstatic.com/faviconV2?url=https://wired.com&client=VFE&size=16&type=FAVICON&fallback_opts=TYPE,SIZE,URL&nfrp=2', 'title': 'Elon Musk Getting Twitter Fire-Hose Data Raises Privacy Concerns | WIRED', 'link': 'https://www.wired.com/story/elon-musk-twitter-firehose/', 'original': 'https://media.wired.com/photos/62a393d78eaf9419b31098a5/16:9/w_2208,h_1242,c_limit/musk_sec_GettyImages-1395062612.jpg', 'original_width': 2208, 'original_height': 1242, 'is_product': False}, {'position': 58, 'thumbnail': 'https://encrypted-tbn0.gstatic.com/images?q=tbn:ANd9GcSLWm3MxqL0RDugL-oMVzOx1fusc8PGRodhbQ&usqp=CAU', 'related_content_id': 'QTF1NWh0QjZod3pzcU1cIixcImFUVVJDTC1NUXNPRWNN', 'serpapi_related_content_link': 'https://serpapi.com/search.json?engine=google_images_related_content&gl=us&hl=en&q=Elon+Musk++&related_content_id=QTF1NWh0QjZod3pzcU1cIixcImFUVVJDTC1NUXNPRWNN', 'source': 'NPR', 'source_logo': 'https://encrypted-tbn2.gstatic.com/faviconV2?url=https://npr.org&client=VFE&size=16&type=FAVICON&fallback_opts=TYPE,SIZE,URL&nfrp=2', 'title': 'Elon Musk tells employees to return to the office 40 hours a week - or quit  : NPR', 'link': 'https://www.npr.org/2022/06/01/1102513281/elon-musk-tesla-return-to-work', 'original': 'https://media.npr.org/assets/img/2022/06/01/ap22146727679490-6b4aeaa7fd9c9b23d41bbdf9711ba54ba1e7b3ae-s1100-c50.jpg', 'original_width': 1100, 'original_height': 825, 'is_product': False}, {'position': 59, 'thumbnail': 'https://encrypted-tbn0.gstatic.com/images?q=tbn:ANd9GcS4FFz2G026dV8MpNXk_RFbh4pDMGcxlSBaRg&usqp=CAU', 'related_content_id': 'T0V1VWlDeFN6aEpQZ01cIixcIlBjUVVmZldpLWFza3NN', 'serpapi_related_content_link': 'https://serpapi.com/search.json?engine=google_images_related_content&gl=us&hl=en&q=Elon+Musk++&related_content_id=T0V1VWlDeFN6aEpQZ01cIixcIlBjUVVmZldpLWFza3NN', 'source': 'The New Yorker', 'source_logo': 'https://encrypted-tbn2.gstatic.com/faviconV2?url=https://newyorker.com&client=VFE&size=16&type=FAVICON&fallback_opts=TYPE,SIZE,URL&nfrp=2', 'title': 'Elon Musk Changes His Own Name to WTF | The New Yorker', 'link': 'https://www.newyorker.com/humor/borowitz-report/elon-musk-changes-his-own-name-to-wtf', 'original': 'https://media.newyorker.com/photos/64c7c51d03ba9998f5c21971/master/pass/Boro_Elon_07-31-23.jpg', 'original_width': 2560, 'original_height': 1706, 'is_product': False}, {'position': 60, 'thumbnail': 'https://encrypted-tbn0.gstatic.com/images?q=tbn:ANd9GcT6-ajp5efj66nqrXp_B8_y_1yyy0kJhnFXUg&usqp=CAU', 'related_content_id': 'dnVRbGZuWTBPd25YcE1cIixcInR5cUtZVEhWZWtSMzJN', 'serpapi_related_content_link': 'https://serpapi.com/search.json?engine=google_images_related_content&gl=us&hl=en&q=Elon+Musk++&related_content_id=dnVRbGZuWTBPd25YcE1cIixcInR5cUtZVEhWZWtSMzJN', 'source': 'KARK', 'source_logo': 'https://encrypted-tbn2.gstatic.com/faviconV2?url=https://kark.com&client=VFE&size=16&type=FAVICON&fallback_opts=TYPE,SIZE,URL&nfrp=2', 'title': 'Elon Musk imposes daily limits on reading posts on Twitter | KARK', 'link': 'https://www.kark.com/news/business/ap-twitter-users-run-into-service-issues-after-elon-musk-imposes-daily-limits-on-reading-tweets/', 'original': 'https://www.kark.com/wp-content/uploads/sites/85/2023/07/64a19e1b2bda75.65491531.jpeg?w=2560&h=1440&crop=1', 'original_width': 2560, 'original_height': 1440, 'is_product': False}, {'position': 61, 'thumbnail': 'https://encrypted-tbn0.gstatic.com/images?q=tbn:ANd9GcSbVHtKZ0IR6faJJyyFenkKVbVjllZOInxltQ&usqp=CAU', 'related_content_id': 'Z04zNGdRTlI2RFdTT01cIixcIkh6allRNzFHTDc5VWdN', 'serpapi_related_content_link': 'https://serpapi.com/search.json?engine=google_images_related_content&gl=us&hl=en&q=Elon+Musk++&related_content_id=Z04zNGdRTlI2RFdTT01cIixcIkh6allRNzFHTDc5VWdN', 'source': 'Fox News', 'source_logo': 'https://encrypted-tbn2.gstatic.com/faviconV2?url=https://foxnews.com&client=VFE&size=16&type=FAVICON&fallback_opts=TYPE,SIZE,URL&nfrp=2', 'title': 'Elon Musk | Fox News', 'link': 'https://www.foxnews.com/category/person/elon-musk', 'original': 'https://static.foxnews.com/foxnews.com/content/uploads/2022/01/GettyImages-1358939083.jpg', 'original_width': 1280, 'original_height': 720, 'is_product': False}, {'position': 62, 'thumbnail': 'https://encrypted-tbn0.gstatic.com/images?q=tbn:ANd9GcRDqhYVukUpydf_fbPJI1RNeW3l6e_tTpp0oQ&usqp=CAU', 'related_content_id': 'T1czV3hsd3BrQWtpaU1cIixcIlZIQWNpRTJrVEloSTFN', 'serpapi_related_content_link': 'https://serpapi.com/search.json?engine=google_images_related_content&gl=us&hl=en&q=Elon+Musk++&related_content_id=T1czV3hsd3BrQWtpaU1cIixcIlZIQWNpRTJrVEloSTFN', 'source': 'Rolling Stone', 'source_logo': 'https://encrypted-tbn2.gstatic.com/faviconV2?url=https://rollingstone.com&client=VFE&size=16&type=FAVICON&fallback_opts=TYPE,SIZE,URL&nfrp=2', 'title': \"Elon Musk: Inventor's Plans for Outer Space, Cars, Finding Love – Rolling  Stone\", 'link': 'https://www.rollingstone.com/culture/culture-features/elon-musk-the-architect-of-tomorrow-120850/', 'original': 'https://www.rollingstone.com/wp-content/uploads/2018/06/elon-musk-rolling-stone-interview-ae137f40-5cf4-4b28-bc47-d37b06b60310.jpg?w=1600&h=900&crop=1', 'original_width': 1600, 'original_height': 900, 'is_product': False}, {'position': 63, 'thumbnail': 'https://encrypted-tbn0.gstatic.com/images?q=tbn:ANd9GcSrN3gepWY8pA4c0LU7iYvh8kVIqnQFwjm4nw&usqp=CAU', 'related_content_id': 'cy0wQlpwYV9scXV6bk1cIixcIjFQSV9BRmhZZVRETG1N', 'serpapi_related_content_link': 'https://serpapi.com/search.json?engine=google_images_related_content&gl=us&hl=en&q=Elon+Musk++&related_content_id=cy0wQlpwYV9scXV6bk1cIixcIjFQSV9BRmhZZVRETG1N', 'source': 'Business Insider', 'source_logo': 'https://encrypted-tbn2.gstatic.com/faviconV2?url=https://businessinsider.com&client=VFE&size=16&type=FAVICON&fallback_opts=TYPE,SIZE,URL&nfrp=2', 'title': 'Elon Musk and Grimes: Exploring Their Relationship', 'link': 'https://www.businessinsider.com/elon-musk-grimes', 'original': 'https://i.insider.com/614def482fb46b0019bdf808?width=700', 'original_width': 700, 'original_height': 525, 'is_product': False}, {'position': 64, 'thumbnail': 'https://encrypted-tbn0.gstatic.com/images?q=tbn:ANd9GcS99PVVXKkJDNUm_c4H4OvKbyjFo1usv1kRiw&usqp=CAU', 'related_content_id': 'b0xaRERGc01NVi1JNk1cIixcImkzZjhSZXo1cHpvOThN', 'serpapi_related_content_link': 'https://serpapi.com/search.json?engine=google_images_related_content&gl=us&hl=en&q=Elon+Musk++&related_content_id=b0xaRERGc01NVi1JNk1cIixcImkzZjhSZXo1cHpvOThN', 'source': 'Cosmopolitan', 'source_logo': 'https://encrypted-tbn2.gstatic.com/faviconV2?url=https://cosmopolitan.com&client=VFE&size=16&type=FAVICON&fallback_opts=TYPE,SIZE,URL&nfrp=2', 'title': \"Elon Musk and Grimes' Relationship Timeline - Who's Grimes' Boyfriend?\", 'link': 'https://www.cosmopolitan.com/entertainment/celebs/a32082195/elon-musk-grimes-relationship-timeline/', 'tag': '4:20', 'original': 'https://hips.hearstapps.com/hmg-prod/images/elon-musk-and-grimes-attend-the-heavenly-bodies-fashion-the-news-photo-1632506809.jpg?crop=1xw:0.84629xh;center,top&resize=1200:*', 'original_width': 1200, 'original_height': 675, 'is_product': False}, {'position': 65, 'thumbnail': 'https://encrypted-tbn0.gstatic.com/images?q=tbn:ANd9GcRAi0avqZLGJEthc834ZPXWBmHEwqP6flyKRA&usqp=CAU', 'related_content_id': 'QlR6UVZOWEQ3Q0x0aU1cIixcIk9aV2xReDlYa3RJUVVN', 'serpapi_related_content_link': 'https://serpapi.com/search.json?engine=google_images_related_content&gl=us&hl=en&q=Elon+Musk++&related_content_id=QlR6UVZOWEQ3Q0x0aU1cIixcIk9aV2xReDlYa3RJUVVN', 'source': 'Marca.com', 'source_logo': 'https://encrypted-tbn2.gstatic.com/faviconV2?url=https://marca.com&client=VFE&size=16&type=FAVICON&fallback_opts=TYPE,SIZE,URL&nfrp=2', 'title': 'Elon Musk regrets buying Twitter: The decision was quite painful | Marca', 'link': 'https://www.marca.com/en/technology/2023/04/12/6437028522601d52578b4657.html', 'original': 'https://phantom-marca.unidadeditorial.es/12f4756c390a18794c603f6ab410a86a/resize/828/f/jpg/assets/multimedia/imagenes/2023/04/12/16813179628477.jpg', 'original_width': 828, 'original_height': 552, 'is_product': False}, {'position': 66, 'thumbnail': 'https://encrypted-tbn0.gstatic.com/images?q=tbn:ANd9GcTVL2C7m__X0sQw6cmwEEskpgYZYEX9nbq6cQ&usqp=CAU', 'related_content_id': 'NTBvakMzeWVaclhmYU1cIixcIkk0aHpiSUFzWDRLT1NN', 'serpapi_related_content_link': 'https://serpapi.com/search.json?engine=google_images_related_content&gl=us&hl=en&q=Elon+Musk++&related_content_id=NTBvakMzeWVaclhmYU1cIixcIkk0aHpiSUFzWDRLT1NN', 'source': 'The New York Times', 'source_logo': 'https://encrypted-tbn2.gstatic.com/faviconV2?url=https://nytimes.com&client=VFE&size=16&type=FAVICON&fallback_opts=TYPE,SIZE,URL&nfrp=2', 'title': \"Musk Shakes Up Twitter's Legal Team as He Looks to Cut More Costs - The New  York Times\", 'link': 'https://www.nytimes.com/2022/12/13/technology/elon-musk-twitter-shakeup.html', 'original': 'https://static01.nyt.com/images/2022/12/12/multimedia/00twitter-legal-musk-1-afec/00twitter-legal-musk-1-afec-articleLarge.jpg?quality=75&auto=webp&disable=upscale', 'original_width': 600, 'original_height': 400, 'is_product': False}, {'position': 67, 'thumbnail': 'https://encrypted-tbn0.gstatic.com/images?q=tbn:ANd9GcSNcA1w-Mf8L5Rq03F0-LHV5fciE5JN2GUeUw&usqp=CAU', 'related_content_id': 'YWlYbTlFekJLZjdvN01cIixcIkFIakM3MmhVNkNoRDZN', 'serpapi_related_content_link': 'https://serpapi.com/search.json?engine=google_images_related_content&gl=us&hl=en&q=Elon+Musk++&related_content_id=YWlYbTlFekJLZjdvN01cIixcIkFIakM3MmhVNkNoRDZN', 'source': 'The Economist', 'source_logo': 'https://encrypted-tbn2.gstatic.com/faviconV2?url=https://economist.com&client=VFE&size=16&type=FAVICON&fallback_opts=TYPE,SIZE,URL&nfrp=2', 'title': \"How worried should you be about Elon Musk's superpowers?\", 'link': 'https://www.economist.com/leaders/2022/10/06/how-worried-should-you-be-about-elon-musks-superpowers', 'original': 'https://www.economist.com/cdn-cgi/image/width=1424,quality=80,format=auto/media-assets/image/20221008_LDP001.jpg', 'original_width': 1280, 'original_height': 720, 'is_product': False}, {'position': 68, 'thumbnail': 'https://encrypted-tbn0.gstatic.com/images?q=tbn:ANd9GcTyIyf4m_-e4Cmit2qKkQ34W8L7xgxNw8404g&usqp=CAU', 'related_content_id': 'WEpseW9fNEZST3VWMU1cIixcInNBeEN1VWRrUFYySmpN', 'serpapi_related_content_link': 'https://serpapi.com/search.json?engine=google_images_related_content&gl=us&hl=en&q=Elon+Musk++&related_content_id=WEpseW9fNEZST3VWMU1cIixcInNBeEN1VWRrUFYySmpN', 'source': 'CNN', 'source_logo': 'https://encrypted-tbn2.gstatic.com/faviconV2?url=https://cnn.com&client=VFE&size=16&type=FAVICON&fallback_opts=TYPE,SIZE,URL&nfrp=2', 'title': 'xAI: Elon Musk announces a new AI company | CNN Business', 'link': 'https://www.cnn.com/2023/07/12/tech/elon-musk-ai-company/index.html', 'original': 'https://media.cnn.com/api/v1/images/stellar/prod/230712124429-01-elon-musk-0616.jpg?c=16x9&q=h_720,w_1280,c_fill', 'original_width': 1280, 'original_height': 720, 'is_product': False}, {'position': 69, 'thumbnail': 'https://encrypted-tbn0.gstatic.com/images?q=tbn:ANd9GcS3c4_qZh8d1-kDWJypmuq-JA6tBdHxmuneIg&usqp=CAU', 'related_content_id': 'T21tcjFZazR6dlBYZE1cIixcImVxNTVJRUpUcmtudWxN', 'serpapi_related_content_link': 'https://serpapi.com/search.json?engine=google_images_related_content&gl=us&hl=en&q=Elon+Musk++&related_content_id=T21tcjFZazR6dlBYZE1cIixcImVxNTVJRUpUcmtudWxN', 'source': 'Newsweek', 'source_logo': 'https://encrypted-tbn2.gstatic.com/faviconV2?url=https://newsweek.com&client=VFE&size=16&type=FAVICON&fallback_opts=TYPE,SIZE,URL&nfrp=2', 'title': 'Elon Musk news & latest pictures from Newsweek.com', 'link': 'https://www.newsweek.com/topic/elon-musk', 'original': 'https://d.newsweek.com/en/full/1962972/spacex-owner-tesla-ceo-elon-musk.jpg', 'original_width': 1600, 'original_height': 1200, 'is_product': False}, {'position': 70, 'thumbnail': 'https://encrypted-tbn0.gstatic.com/images?q=tbn:ANd9GcRxq7tTTT_mDJeGE7m_aFoHy5b5rnPH99EONg&usqp=CAU', 'related_content_id': 'VlYxV0g5eEg2eVkxSU1cIixcIjRXbi1iNVpYaTdVRDVN', 'serpapi_related_content_link': 'https://serpapi.com/search.json?engine=google_images_related_content&gl=us&hl=en&q=Elon+Musk++&related_content_id=VlYxV0g5eEg2eVkxSU1cIixcIjRXbi1iNVpYaTdVRDVN', 'source': 'TED', 'source_logo': 'https://encrypted-tbn2.gstatic.com/faviconV2?url=https://ted.com&client=VFE&size=16&type=FAVICON&fallback_opts=TYPE,SIZE,URL&nfrp=2', 'title': 'Elon Musk: A future worth getting excited about | TED Talk', 'link': 'https://www.ted.com/talks/elon_musk_a_future_worth_getting_excited_about', 'tag': '1:06:27', 'original': 'https://talkstar-photos.s3.amazonaws.com/uploads/8d031167-aff1-4fa7-8a2a-4c9e7fdd598f/ElonMuskExtendedInterview_2022-stageshot.jpg', 'original_width': 2400, 'original_height': 1800, 'is_product': False}, {'position': 71, 'thumbnail': 'https://encrypted-tbn0.gstatic.com/images?q=tbn:ANd9GcSerST7EVCXGJ1eHb8kclL0YXWec5SKcGz1fA&usqp=CAU', 'related_content_id': 'd3EyNDFaS0txWjVBYk1cIixcInZxWXhaRC1QNlFwWVJN', 'serpapi_related_content_link': 'https://serpapi.com/search.json?engine=google_images_related_content&gl=us&hl=en&q=Elon+Musk++&related_content_id=d3EyNDFaS0txWjVBYk1cIixcInZxWXhaRC1QNlFwWVJN', 'source': 'The Guardian', 'source_logo': 'https://encrypted-tbn2.gstatic.com/faviconV2?url=https://theguardian.com&client=VFE&size=16&type=FAVICON&fallback_opts=TYPE,SIZE,URL&nfrp=2', 'title': 'Elon Musk by Walter Isaacson review – arrested development | Biography  books | The Guardian', 'link': 'https://www.theguardian.com/books/2023/sep/13/elon-musk-by-walter-isaacson-review-arrested-development', 'tag': '12 hours ago', 'original': 'https://i.guim.co.uk/img/media/73766d43e0c9f05fa9c283852853a916a7ad5cd7/0_211_3500_2101/master/3500.jpg?width=465&dpr=1&s=none', 'original_width': 465, 'original_height': 279, 'is_product': False}, {'position': 72, 'thumbnail': 'https://encrypted-tbn0.gstatic.com/images?q=tbn:ANd9GcQ31GtJmz_dxNtiCehKvUAP5-xYKZunVAAwjA&usqp=CAU', 'related_content_id': 'cXlFSVpXWEx1UVYtaU1cIixcIkc1Ym4ya2RGd2w1NFZN', 'serpapi_related_content_link': 'https://serpapi.com/search.json?engine=google_images_related_content&gl=us&hl=en&q=Elon+Musk++&related_content_id=cXlFSVpXWEx1UVYtaU1cIixcIkc1Ym4ya2RGd2w1NFZN', 'source': 'WIRED', 'source_logo': 'https://encrypted-tbn2.gstatic.com/faviconV2?url=https://wired.com&client=VFE&size=16&type=FAVICON&fallback_opts=TYPE,SIZE,URL&nfrp=2', 'title': \"By Seizing @Music, Elon Musk Shows He Doesn't Know What Made Twitter Good |  WIRED\", 'link': 'https://www.wired.com/story/by-seizing-music-elon-musk-shows-he-doesnt-know-what-made-twitter-good/', 'original': 'https://media.wired.com/photos/64d4170d32101aa6f13ca1ff/master/w_2560%2Cc_limit/Elon-Musk-@Music-Handle-X-Business-1258664001.jpg', 'original_width': 2400, 'original_height': 1800, 'is_product': False}, {'position': 73, 'thumbnail': 'https://encrypted-tbn0.gstatic.com/images?q=tbn:ANd9GcQrkkIwV2k5ACkOvjD1p8aidUO6LzkcOoqPYw&usqp=CAU', 'related_content_id': 'SHdPeTJ1U1hRbWNLS01cIixcImdFX2ZhVjlYMDlfU3JN', 'serpapi_related_content_link': 'https://serpapi.com/search.json?engine=google_images_related_content&gl=us&hl=en&q=Elon+Musk++&related_content_id=SHdPeTJ1U1hRbWNLS01cIixcImdFX2ZhVjlYMDlfU3JN', 'source': 'Amazon', 'source_logo': 'https://encrypted-tbn2.gstatic.com/faviconV2?url=https://amazon.com&client=VFE&size=16&type=FAVICON&fallback_opts=TYPE,SIZE,URL&nfrp=2', 'title': 'Elon Musk: Tesla, SpaceX, and the Quest for a Fantastic Future: Vance,  Ashlee: 9780062301253: Amazon.com: Books', 'link': 'https://www.amazon.com/Elon-Musk-SpaceX-Fantastic-Future/dp/006230125X', 'original': 'https://m.media-amazon.com/images/I/81SlrVsShvL._AC_UF1000,1000_QL80_.jpg', 'original_width': 664, 'original_height': 1000, 'is_product': False}, {'position': 74, 'thumbnail': 'https://encrypted-tbn0.gstatic.com/images?q=tbn:ANd9GcRI70VFakQgDI1bUJq6-7fXJwKNL91v5-sNyQ&usqp=CAU', 'related_content_id': 'Qnl2a0ZhM3NtUlRXeE1cIixcIkZ5cGNvZnpSYTNfZEpN', 'serpapi_related_content_link': 'https://serpapi.com/search.json?engine=google_images_related_content&gl=us&hl=en&q=Elon+Musk++&related_content_id=Qnl2a0ZhM3NtUlRXeE1cIixcIkZ5cGNvZnpSYTNfZEpN', 'source': 'The Hollywood Reporter', 'source_logo': 'https://encrypted-tbn2.gstatic.com/faviconV2?url=https://hollywoodreporter.com&client=VFE&size=16&type=FAVICON&fallback_opts=TYPE,SIZE,URL&nfrp=2', 'title': 'Elon Musk Threatens to Sue Nonprofit that Tracks Hate Speech – The  Hollywood Reporter', 'link': 'https://www.hollywoodreporter.com/business/business-news/elon-musk-threaten-free-speech-lawsuit-1235548143/', 'original': 'https://www.hollywoodreporter.com/wp-content/uploads/2023/07/Elon-Musk-Met-Gala-Carpet-GettyImages-1395043574-H-2023.jpg?w=1296', 'original_width': 1296, 'original_height': 730, 'is_product': False}, {'position': 75, 'thumbnail': 'https://encrypted-tbn0.gstatic.com/images?q=tbn:ANd9GcRqlvEyvRfmbtB4RNCTuc-uzTbaNMiDo4VWaw&usqp=CAU', 'related_content_id': 'MzhHME9oXzJ4RHV4Tk1cIixcIjNYOGJOREN5SGxMcHFN', 'serpapi_related_content_link': 'https://serpapi.com/search.json?engine=google_images_related_content&gl=us&hl=en&q=Elon+Musk++&related_content_id=MzhHME9oXzJ4RHV4Tk1cIixcIjNYOGJOREN5SGxMcHFN', 'source': 'WEAU', 'source_logo': 'https://encrypted-tbn2.gstatic.com/faviconV2?url=https://weau.com&client=VFE&size=16&type=FAVICON&fallback_opts=TYPE,SIZE,URL&nfrp=2', 'title': 'Elon Musk sells $7B in Tesla shares ahead of Twitter fight', 'link': 'https://www.weau.com/2022/08/10/elon-musk-sells-7b-tesla-shares-ahead-twitter-fight/', 'original': 'https://gray-weau-prod.cdn.arcpublishing.com/resizer/XqW3_-Tw18Qf7wwEKXuuVwe5KsY=/1200x675/smart/filters:quality(85)/cloudfront-us-east-1.images.arcpublishing.com/gray/IUJE5BQ5BBEZVNLPNNV4UGKIYM.jpg', 'original_width': 1200, 'original_height': 675, 'is_product': False}, {'position': 76, 'thumbnail': 'https://encrypted-tbn0.gstatic.com/images?q=tbn:ANd9GcSUEHkTFlWPoXfRnnrSw7ccS-p_9jntphWswA&usqp=CAU', 'related_content_id': 'bFdmeHlFNUFLTk1EUE1cIixcIjJ2SDQ4eHRGbFVHdEJN', 'serpapi_related_content_link': 'https://serpapi.com/search.json?engine=google_images_related_content&gl=us&hl=en&q=Elon+Musk++&related_content_id=bFdmeHlFNUFLTk1EUE1cIixcIjJ2SDQ4eHRGbFVHdEJN', 'source': 'Business Insider', 'source_logo': 'https://encrypted-tbn2.gstatic.com/faviconV2?url=https://businessinsider.com&client=VFE&size=16&type=FAVICON&fallback_opts=TYPE,SIZE,URL&nfrp=2', 'title': \"Elon Musk Runs Twitter, Tesla and Has World's Highest Net Worth\", 'link': 'https://www.businessinsider.com/elon-musk', 'original': 'https://i.insider.com/64c7a2c9048ff200190deaf5?width=1000&format=jpeg&auto=webp', 'original_width': 1000, 'original_height': 750, 'is_product': False}, {'position': 77, 'thumbnail': 'https://encrypted-tbn0.gstatic.com/images?q=tbn:ANd9GcQTSAqbwsqZZyBnZ2zx5H-CZCoBhfRgsJLkHw&usqp=CAU', 'related_content_id': 'TlJ1WGtOZWZUSmc0ak1cIixcIkhaUS03ckJzeEl0V25N', 'serpapi_related_content_link': 'https://serpapi.com/search.json?engine=google_images_related_content&gl=us&hl=en&q=Elon+Musk++&related_content_id=TlJ1WGtOZWZUSmc0ak1cIixcIkhaUS03ckJzeEl0V25N', 'source': 'The New York Times', 'source_logo': 'https://encrypted-tbn2.gstatic.com/faviconV2?url=https://nytimes.com&client=VFE&size=16&type=FAVICON&fallback_opts=TYPE,SIZE,URL&nfrp=2', 'title': 'Elon Musk Sells Another $3.6 Billion in Tesla Stock - The New York Times', 'link': 'https://www.nytimes.com/2022/12/15/business/elon-musk-tesla-stock.html', 'original': 'https://static01.nyt.com/images/2022/12/15/multimedia/15musk-stock1-1-3e89/15musk-stock1-1-3e89-mediumSquareAt3X.jpg', 'original_width': 1694, 'original_height': 1694, 'is_product': False}, {'position': 78, 'thumbnail': 'https://encrypted-tbn0.gstatic.com/images?q=tbn:ANd9GcRsN0tZtwRzeJcvmhvFdZ5FZuheRERp7yhZ3g&usqp=CAU', 'related_content_id': 'aW1KYi1MUWZHbXAtN01cIixcIjdlMTJQS0JUR0p3aUhN', 'serpapi_related_content_link': 'https://serpapi.com/search.json?engine=google_images_related_content&gl=us&hl=en&q=Elon+Musk++&related_content_id=aW1KYi1MUWZHbXAtN01cIixcIjdlMTJQS0JUR0p3aUhN', 'source': 'Esquire', 'source_logo': 'https://encrypted-tbn2.gstatic.com/faviconV2?url=https://esquire.com&client=VFE&size=16&type=FAVICON&fallback_opts=TYPE,SIZE,URL&nfrp=2', 'title': 'Elon Musk Interview - Elon Musk SpaceX Interview', 'link': 'https://www.esquire.com/news-politics/a16681/elon-musk-interview-1212/', 'original': 'https://hips.hearstapps.com/hmg-prod/images/tesla-motors-chairman-and-ceo-elon-musk-speaks-at-the-news-photo-1666979963.jpg', 'original_width': 4128, 'original_height': 2832, 'is_product': False}, {'position': 79, 'thumbnail': 'https://encrypted-tbn0.gstatic.com/images?q=tbn:ANd9GcSErWixnbtXLYAJOmL-7vSVsQQSlQ6CAXfgnA&usqp=CAU', 'related_content_id': 'dkV2TmlUUEgxdWFWNE1cIixcImZmc2UtbHBMVTY1cjVN', 'serpapi_related_content_link': 'https://serpapi.com/search.json?engine=google_images_related_content&gl=us&hl=en&q=Elon+Musk++&related_content_id=dkV2TmlUUEgxdWFWNE1cIixcImZmc2UtbHBMVTY1cjVN', 'source': 'MarketWatch', 'source_logo': 'https://encrypted-tbn2.gstatic.com/faviconV2?url=https://marketwatch.com&client=VFE&size=16&type=FAVICON&fallback_opts=TYPE,SIZE,URL&nfrp=2', 'title': \"Opinion: Elon Musk shows in 'funding secured' trial that he does not live  in the real world - MarketWatch\", 'link': 'https://www.marketwatch.com/story/elon-musk-shows-in-funding-secured-trial-that-he-does-not-live-in-the-real-world-11674610397', 'original': 'https://images.mktw.net/im-709700?width=1280&size=1', 'original_width': 1280, 'original_height': 1279, 'is_product': False}, {'position': 80, 'thumbnail': 'https://encrypted-tbn0.gstatic.com/images?q=tbn:ANd9GcRjXK2bfxKHW8_aUBxlYQpEnteSUTOOmftwIg&usqp=CAU', 'related_content_id': 'OVhVWkhZU1BSbjh2bU1cIixcIjdUTC0wWkF1R1BpYU5N', 'serpapi_related_content_link': 'https://serpapi.com/search.json?engine=google_images_related_content&gl=us&hl=en&q=Elon+Musk++&related_content_id=OVhVWkhZU1BSbjh2bU1cIixcIjdUTC0wWkF1R1BpYU5N', 'source': 'NBC News', 'source_logo': 'https://encrypted-tbn2.gstatic.com/faviconV2?url=https://nbcnews.com&client=VFE&size=16&type=FAVICON&fallback_opts=TYPE,SIZE,URL&nfrp=2', 'title': 'Lawyers press Elon Musk in second day on witness stand over failed Tesla  take-private deal', 'link': 'https://www.nbcnews.com/business/business-news/tesla-shareholders-lawsuit-elon-musk-testimony-what-happened-rcna66986', 'original': 'https://media-cldnry.s-nbcnews.com/image/upload/t_fit-760w,f_auto,q_auto:best/rockcms/2022-12/220616-elon-musk-al-1141-730a67-143ebb.jpg', 'original_width': 760, 'original_height': 507, 'is_product': False}, {'position': 81, 'thumbnail': 'https://encrypted-tbn0.gstatic.com/images?q=tbn:ANd9GcSx2wocFqkTaFhYiupCkZ5K-bOs5GpsiJKT1g&usqp=CAU', 'related_content_id': 'UE8wa0o5cm9DUkhLTU1cIixcInZ0dXhZQndMV0ExS3ZN', 'serpapi_related_content_link': 'https://serpapi.com/search.json?engine=google_images_related_content&gl=us&hl=en&q=Elon+Musk++&related_content_id=UE8wa0o5cm9DUkhLTU1cIixcInZ0dXhZQndMV0ExS3ZN', 'source': 'Inc. Magazine', 'source_logo': 'https://encrypted-tbn2.gstatic.com/faviconV2?url=https://inc.com&client=VFE&size=16&type=FAVICON&fallback_opts=TYPE,SIZE,URL&nfrp=2', 'title': 'Entrepreneur of the Year, 2007: Elon Musk | Inc.com', 'link': 'https://www.inc.com/magazine/20071201/entrepreneur-of-the-year-elon-musk.html', 'original': 'https://images.inc.com/uploaded_files/image/1920x1080/feature-114-Elon-Musk-EoY-opener-pan_7026.jpg', 'original_width': 1920, 'original_height': 1080, 'is_product': False}, {'position': 82, 'thumbnail': 'https://encrypted-tbn0.gstatic.com/images?q=tbn:ANd9GcT8OLW5kocCJmoZvfpnjRCDqKuMcS2nqSq4xA&usqp=CAU', 'related_content_id': 'NElVWU5HYnpwZUU2b01cIixcIjdfZXpaZ242TXI5bTFN', 'serpapi_related_content_link': 'https://serpapi.com/search.json?engine=google_images_related_content&gl=us&hl=en&q=Elon+Musk++&related_content_id=NElVWU5HYnpwZUU2b01cIixcIjdfZXpaZ242TXI5bTFN', 'source': 'CNBC', 'source_logo': 'https://encrypted-tbn2.gstatic.com/faviconV2?url=https://cnbc.com&client=VFE&size=16&type=FAVICON&fallback_opts=TYPE,SIZE,URL&nfrp=2', 'title': 'Elon Musk is no longer the richest person in the world', 'link': 'https://www.cnbc.com/2022/12/12/elon-musk-is-no-longer-the-richest-person-in-the-world.html', 'original': 'https://image.cnbcfm.com/api/v1/image/107149350-1668034438907-musk2.jpg?v=1684168047', 'original_width': 2354, 'original_height': 1570, 'is_product': False}, {'position': 83, 'thumbnail': 'https://encrypted-tbn0.gstatic.com/images?q=tbn:ANd9GcQK9YgaEf5XABcdPkfZPDQ8goo9jQ_0-FMjFg&usqp=CAU', 'related_content_id': 'VHFKQjBsa09Ld1I4ZU1cIixcIl9neU1HbUtMMktQSlBN', 'serpapi_related_content_link': 'https://serpapi.com/search.json?engine=google_images_related_content&gl=us&hl=en&q=Elon+Musk++&related_content_id=VHFKQjBsa09Ld1I4ZU1cIixcIl9neU1HbUtMMktQSlBN', 'source': 'The Verge', 'source_logo': 'https://encrypted-tbn2.gstatic.com/faviconV2?url=https://theverge.com&client=VFE&size=16&type=FAVICON&fallback_opts=TYPE,SIZE,URL&nfrp=2', 'title': \"Elon Musk says 'get off your work-from-home bullshit' - The Verge\", 'link': 'https://www.theverge.com/2023/5/16/23726294/elon-musk-remote-work-cnbc-interview', 'original': 'https://cdn.vox-cdn.com/thumbor/GzoDnY9MCnUpspr4sZ03rtVzKVA=/0x0:2040x1360/2000x1333/filters:focal(1020x680:1021x681)/cdn.vox-cdn.com/uploads/chorus_asset/file/23906799/VRG_Illo_STK022_K_Radtke_Musk_Crazy.jpg', 'original_width': 2000, 'original_height': 1333, 'is_product': False}, {'position': 84, 'thumbnail': 'https://encrypted-tbn0.gstatic.com/images?q=tbn:ANd9GcTLOt7zk80CSzmngiRmbdknvYXrGtfqqWvmJw&usqp=CAU', 'related_content_id': 'Qzd1NmMyRHUyUmtKUE1cIixcInNTQTlkeF9LVWpQQXJN', 'serpapi_related_content_link': 'https://serpapi.com/search.json?engine=google_images_related_content&gl=us&hl=en&q=Elon+Musk++&related_content_id=Qzd1NmMyRHUyUmtKUE1cIixcInNTQTlkeF9LVWpQQXJN', 'source': 'People', 'source_logo': 'https://encrypted-tbn2.gstatic.com/faviconV2?url=https://people.com&client=VFE&size=16&type=FAVICON&fallback_opts=TYPE,SIZE,URL&nfrp=2', 'title': \"Elon Musk's Dating History: From Amber Heard to Grimes\", 'link': 'https://people.com/elon-musk-complete-dating-history-7502497', 'original': 'https://people.com/thmb/9jL1ZYO23z79RLpPxiWDO0gG2mk=/1500x0/filters:no_upscale():max_bytes(150000):strip_icc():focal(1022x395:1024x397)/elon-musk-dating-history-bace773a12014978823f48eab121cb9d.jpg', 'original_width': 1500, 'original_height': 1125, 'is_product': False}, {'position': 85, 'thumbnail': 'https://encrypted-tbn0.gstatic.com/images?q=tbn:ANd9GcTIQa3GGVYZYwdqobGdyhN5ZxLhBbAj5GyA0A&usqp=CAU', 'related_content_id': 'UUJsSTBPQnlkUHFkUU1cIixcIjlhNEJzOGowOUVQSnFN', 'serpapi_related_content_link': 'https://serpapi.com/search.json?engine=google_images_related_content&gl=us&hl=en&q=Elon+Musk++&related_content_id=UUJsSTBPQnlkUHFkUU1cIixcIjlhNEJzOGowOUVQSnFN', 'source': 'POLITICO.eu', 'source_logo': 'https://encrypted-tbn2.gstatic.com/faviconV2?url=https://politico.eu&client=VFE&size=16&type=FAVICON&fallback_opts=TYPE,SIZE,URL&nfrp=2', 'title': 'Elon Musk invited to testify in the European Parliament – POLITICO', 'link': 'https://www.politico.eu/article/elon-musk-invited-to-testify-in-the-european-parliament/', 'original': 'https://www.politico.eu/cdn-cgi/image/width=1160,height=773,quality=80,onerror=redirect,format=auto/wp-content/uploads/2022/10/05/GettyImages-1211442310-scaled.jpg', 'original_width': 1160, 'original_height': 773, 'is_product': False}, {'position': 86, 'thumbnail': 'https://encrypted-tbn0.gstatic.com/images?q=tbn:ANd9GcRK10UolSKLkpB-NqUumqQ0EHdkaknOOO4Anw&usqp=CAU', 'related_content_id': 'ZFVuWVV0dG4wTjJub01cIixcIm84MTJPWTZ4MFFXTFFN', 'serpapi_related_content_link': 'https://serpapi.com/search.json?engine=google_images_related_content&gl=us&hl=en&q=Elon+Musk++&related_content_id=ZFVuWVV0dG4wTjJub01cIixcIm84MTJPWTZ4MFFXTFFN', 'source': 'TED', 'source_logo': 'https://encrypted-tbn2.gstatic.com/faviconV2?url=https://ted.com&client=VFE&size=16&type=FAVICON&fallback_opts=TYPE,SIZE,URL&nfrp=2', 'title': \"Elon Musk: The future we're building -- and boring | TED Talk\", 'link': 'https://www.ted.com/talks/elon_musk_the_future_we_re_building_and_boring', 'tag': '40:40', 'original': 'https://pi.tedcdn.com/r/talkstar-photos.s3.amazonaws.com/uploads/e0bcf2a3-9f82-42b7-aeaf-054d83e84d51/ElonMusk_2017-embed.jpg?u%5Br%5D=2&u%5Bs%5D=0.5&u%5Ba%5D=0.8&u%5Bt%5D=0.03&quality=82w=640', 'original_width': 2880, 'original_height': 1620, 'is_product': False}, {'position': 87, 'thumbnail': 'https://encrypted-tbn0.gstatic.com/images?q=tbn:ANd9GcQIg7pxlTcTjSjHqDLbWteKq8KgmJ3u4wkq-w&usqp=CAU', 'related_content_id': 'RjNsaWN1SGs5OE5pTE1cIixcIjV0YlR6aHFIbG9HNEhN', 'serpapi_related_content_link': 'https://serpapi.com/search.json?engine=google_images_related_content&gl=us&hl=en&q=Elon+Musk++&related_content_id=RjNsaWN1SGs5OE5pTE1cIixcIjV0YlR6aHFIbG9HNEhN', 'source': 'ERP Today', 'source_logo': 'https://encrypted-tbn2.gstatic.com/faviconV2?url=https://erp.today&client=VFE&size=16&type=FAVICON&fallback_opts=TYPE,SIZE,URL&nfrp=2', 'title': 'Elon Musk buys Twitter; Oracle in, Salesforce out', 'link': 'https://erp.today/musk-buys-twitter-oracle-in-salesforce-out/', 'original': 'https://erp.today/wp-content/uploads/2022/10/elon-musk.jpeg', 'original_width': 1920, 'original_height': 1290, 'is_product': False}, {'position': 88, 'thumbnail': 'https://encrypted-tbn0.gstatic.com/images?q=tbn:ANd9GcQQQJ9aZEajJ02YCB4JV1E3pOSLCtIB6oSSSA&usqp=CAU', 'related_content_id': 'Rml3S09BQlVrZ1NQUk1cIixcIl85bXNCUl9leGFDSW9N', 'serpapi_related_content_link': 'https://serpapi.com/search.json?engine=google_images_related_content&gl=us&hl=en&q=Elon+Musk++&related_content_id=Rml3S09BQlVrZ1NQUk1cIixcIl85bXNCUl9leGFDSW9N', 'source': 'Time', 'source_logo': 'https://encrypted-tbn2.gstatic.com/faviconV2?url=https://time.com&client=VFE&size=16&type=FAVICON&fallback_opts=TYPE,SIZE,URL&nfrp=2', 'title': 'Musk Addresses Twitter Staff for First Time Since Bid to Buy | Time', 'link': 'https://time.com/6188425/elon-musk-staff-twitter-tweets/', 'original': 'https://api.time.com/wp-content/uploads/2022/06/elon-musk-staff-twitter-tweets.jpg', 'original_width': 3320, 'original_height': 4832, 'is_product': False}, {'position': 89, 'thumbnail': 'https://encrypted-tbn0.gstatic.com/images?q=tbn:ANd9GcRYsQuA2Yo-GXX4cDJhFXMaWP0fTHq1mUssEA&usqp=CAU', 'related_content_id': 'bUROeTZWSXpUZVgwRE1cIixcImx2N3FFM1FRUlNKTTNN', 'serpapi_related_content_link': 'https://serpapi.com/search.json?engine=google_images_related_content&gl=us&hl=en&q=Elon+Musk++&related_content_id=bUROeTZWSXpUZVgwRE1cIixcImx2N3FFM1FRUlNKTTNN', 'source': 'Deadline', 'source_logo': 'https://encrypted-tbn2.gstatic.com/faviconV2?url=https://deadline.com&client=VFE&size=16&type=FAVICON&fallback_opts=TYPE,SIZE,URL&nfrp=2', 'title': 'Former Fifth Harmony Member Lauren Jauregui Says Elon Musk Is “Destroying  Twitter Ahead Of Elections” – Deadline', 'link': 'https://deadline.com/2023/07/fifth-harmony-member-lauren-jauregui-elon-musk-destroying-twitter-ahead-elections-1235429007/', 'original': 'https://deadline.com/wp-content/uploads/2023/07/lauren-jauregui-elon-musk-twitter.jpg?w=681&h=383&crop=1', 'original_width': 681, 'original_height': 383, 'is_product': False}, {'position': 90, 'thumbnail': 'https://encrypted-tbn0.gstatic.com/images?q=tbn:ANd9GcQJXYYkKilFESC33bLxCDL6kldc_AXpvhMxbg&usqp=CAU', 'related_content_id': 'Zl9SbXMwSjdDVGxUQk1cIixcIlZEbUJqZmJyRk84MnNN', 'serpapi_related_content_link': 'https://serpapi.com/search.json?engine=google_images_related_content&gl=us&hl=en&q=Elon+Musk++&related_content_id=Zl9SbXMwSjdDVGxUQk1cIixcIlZEbUJqZmJyRk84MnNN', 'source': 'NPR', 'source_logo': 'https://encrypted-tbn2.gstatic.com/faviconV2?url=https://npr.org&client=VFE&size=16&type=FAVICON&fallback_opts=TYPE,SIZE,URL&nfrp=2', 'title': 'Guinness World Records: Elon Musk has lost more money than anyone in  history : NPR', 'link': 'https://www.npr.org/2023/01/12/1148634966/elon-musk-guinness-world-records', 'original': 'https://media.npr.org/assets/img/2023/01/12/ap23011863687114_custom-9043283387600dd08ca89471e5f78244ea8e31be-s1100-c50.jpg', 'original_width': 1100, 'original_height': 732, 'is_product': False}, {'position': 91, 'thumbnail': 'https://encrypted-tbn0.gstatic.com/images?q=tbn:ANd9GcR4dIZY91DpKEGsq8y9GvNNXID5TOY7C6TnbQ&usqp=CAU', 'related_content_id': 'N3ZhNHNmWWJOcXVYOU1cIixcIlZTWTNRQjJTc3lQTjFN', 'serpapi_related_content_link': 'https://serpapi.com/search.json?engine=google_images_related_content&gl=us&hl=en&q=Elon+Musk++&related_content_id=N3ZhNHNmWWJOcXVYOU1cIixcIlZTWTNRQjJTc3lQTjFN', 'source': 'Bankrate', 'source_logo': 'https://encrypted-tbn2.gstatic.com/faviconV2?url=https://bankrate.com&client=VFE&size=16&type=FAVICON&fallback_opts=TYPE,SIZE,URL&nfrp=2', 'title': \"Elon Musk In 2023: What To Know About The World's Richest Person | Bankrate\", 'link': 'https://www.bankrate.com/investing/elon-musk/', 'original': 'https://www.bankrate.com/2022/08/08174208/Elon-Musk.jpg?auto=webp&optimize=high&crop=16:9', 'original_width': 1280, 'original_height': 720, 'is_product': False}, {'position': 92, 'thumbnail': 'https://encrypted-tbn0.gstatic.com/images?q=tbn:ANd9GcRTH-QfY4Yrh7UCVcw9DbfFlVwpqf54h4h7CA&usqp=CAU', 'related_content_id': 'UTV2QmNsQjVkRUduME1cIixcIlNiVXU0YVdMb2ZSaUtN', 'serpapi_related_content_link': 'https://serpapi.com/search.json?engine=google_images_related_content&gl=us&hl=en&q=Elon+Musk++&related_content_id=UTV2QmNsQjVkRUduME1cIixcIlNiVXU0YVdMb2ZSaUtN', 'source': 'Los Angeles Times', 'source_logo': 'https://encrypted-tbn2.gstatic.com/faviconV2?url=https://latimes.com&client=VFE&size=16&type=FAVICON&fallback_opts=TYPE,SIZE,URL&nfrp=2', 'title': 'What drove Elon Musk to troll progressive politics - Los Angeles Times', 'link': 'https://www.latimes.com/entertainment-arts/books/story/2023-09-08/walter-isaacson-elon-musk-excerpt', 'tag': '5 days ago', 'original': 'https://ca-times.brightspotcdn.com/dims4/default/1329623/2147483647/strip/true/crop/3142x2095+0+0/resize/2400x1600!/quality/75/?url=https%3A%2F%2Fcalifornia-times-brightspot.s3.amazonaws.com%2Ff4%2F9d%2F5f76f29e4f04ae62bb15813c9e98%2Fmusk-twitter-politics-32905.jpg', 'original_width': 2400, 'original_height': 1600, 'is_product': False}, {'position': 93, 'thumbnail': 'https://encrypted-tbn0.gstatic.com/images?q=tbn:ANd9GcQHmRFF1WfYAz0iSHYRgCuJW-jeZ3xfnBeXAA&usqp=CAU', 'related_content_id': 'Wk43OWY3U19JOFlQMk1cIixcIkxmUjZUODVmZEJqc19N', 'serpapi_related_content_link': 'https://serpapi.com/search.json?engine=google_images_related_content&gl=us&hl=en&q=Elon+Musk++&related_content_id=Wk43OWY3U19JOFlQMk1cIixcIkxmUjZUODVmZEJqc19N', 'source': 'Big Think', 'source_logo': 'https://encrypted-tbn2.gstatic.com/faviconV2?url=https://bigthink.com&client=VFE&size=16&type=FAVICON&fallback_opts=TYPE,SIZE,URL&nfrp=2', 'title': 'Elon Musk - Big Think', 'link': 'https://bigthink.com/people/elonmusk/', 'original': 'https://bigthink.com/wp-content/uploads/2021/05/3853-136116.jpg?w=512&h=512&crop=1', 'original_width': 512, 'original_height': 512, 'is_product': False}, {'position': 94, 'thumbnail': 'https://encrypted-tbn0.gstatic.com/images?q=tbn:ANd9GcSBbwhtOL6W1zjp70_CqjKrSrJ0-qxBn8pa2A&usqp=CAU', 'related_content_id': 'Rk11cmtXWkJNM1RyYk1cIixcIjBKTjhidGc0c1VYRWdN', 'serpapi_related_content_link': 'https://serpapi.com/search.json?engine=google_images_related_content&gl=us&hl=en&q=Elon+Musk++&related_content_id=Rk11cmtXWkJNM1RyYk1cIixcIjBKTjhidGc0c1VYRWdN', 'source': 'CNET', 'source_logo': 'https://encrypted-tbn2.gstatic.com/faviconV2?url=https://cnet.com&client=VFE&size=16&type=FAVICON&fallback_opts=TYPE,SIZE,URL&nfrp=2', 'title': 'Elon Musk Launches Artificial Intelligence Company xAI: What to Know - CNET', 'link': 'https://www.cnet.com/tech/elon-musk-launches-artificial-intelligence-company-xai-what-to-know/', 'original': 'https://www.cnet.com/a/img/resize/676d35c8df73811c4e93c4deb9c08b640a53b4f1/hub/2023/07/12/51a17895-547c-46ec-b4a7-39e3c78bd937/elon-musk-gettyimages-1258889149.jpg?auto=webp&fit=crop&height=900&width=1200', 'original_width': 1200, 'original_height': 900, 'is_product': False}, {'position': 95, 'thumbnail': 'https://encrypted-tbn0.gstatic.com/images?q=tbn:ANd9GcTdPTZvHXqUKrFwXtWTABC_5Lt6DC1u4x2vag&usqp=CAU', 'related_content_id': 'V0tzRjE3cTRvTnRHSE1cIixcIkRwX1k3ejJjaDA5dG9N', 'serpapi_related_content_link': 'https://serpapi.com/search.json?engine=google_images_related_content&gl=us&hl=en&q=Elon+Musk++&related_content_id=V0tzRjE3cTRvTnRHSE1cIixcIkRwX1k3ejJjaDA5dG9N', 'source': 'C-Suite Spotlight', 'source_logo': 'https://encrypted-tbn2.gstatic.com/faviconV2?url=https://csuitespotlight.com&client=VFE&size=16&type=FAVICON&fallback_opts=TYPE,SIZE,URL&nfrp=2', 'title': 'Elon Musk Donates Unused Submarine And More To Alma Mater UPenn – C-Suite  Spotlight', 'link': 'https://csuitespotlight.com/2021/01/20/elon-musk-donates-unused-submarine-and-more-to-alma-mater-upenn/', 'original': 'https://csuitespotlight.com/wp-content/uploads/2021/01/Elon-Musk.jpg', 'original_width': 1200, 'original_height': 800, 'is_product': False}, {'position': 96, 'thumbnail': 'https://encrypted-tbn0.gstatic.com/images?q=tbn:ANd9GcR2yetHKet9L0eAXkK48awqbEcD-8xKWQmxFw&usqp=CAU', 'related_content_id': 'bllTd1NCRVZNcVVQZk1cIixcIlZfa053Uzl6TFRCWmVN', 'serpapi_related_content_link': 'https://serpapi.com/search.json?engine=google_images_related_content&gl=us&hl=en&q=Elon+Musk++&related_content_id=bllTd1NCRVZNcVVQZk1cIixcIlZfa053Uzl6TFRCWmVN', 'source': 'Marca.com', 'source_logo': 'https://encrypted-tbn2.gstatic.com/faviconV2?url=https://marca.com&client=VFE&size=16&type=FAVICON&fallback_opts=TYPE,SIZE,URL&nfrp=2', 'title': 'Elon Musk sends cease and desist letter to Mark Zuckerberg over Threads  creation | Marca', 'link': 'https://www.marca.com/en/technology/2023/07/06/64a72cc8e2704e7eba8b45f4.html', 'original': 'https://phantom-marca.unidadeditorial.es/83b03ddcf102aec3394f9b91fe396ea8/resize/828/f/jpg/assets/multimedia/imagenes/2023/07/06/16886759755090.jpg', 'original_width': 828, 'original_height': 552, 'is_product': False}, {'position': 97, 'thumbnail': 'https://encrypted-tbn0.gstatic.com/images?q=tbn:ANd9GcQzmmmnwW9J7HIyZSscJlGX1nD-6Lfoyd1dqg&usqp=CAU', 'related_content_id': 'bTBKZVhYZ3V2U2tCR01cIixcInNRWVR6Y284RGh4bjZN', 'serpapi_related_content_link': 'https://serpapi.com/search.json?engine=google_images_related_content&gl=us&hl=en&q=Elon+Musk++&related_content_id=bTBKZVhYZ3V2U2tCR01cIixcInNRWVR6Y284RGh4bjZN', 'source': 'ABC News', 'source_logo': 'https://encrypted-tbn2.gstatic.com/faviconV2?url=https://abcnews.go.com&client=VFE&size=16&type=FAVICON&fallback_opts=TYPE,SIZE,URL&nfrp=2', 'title': 'Elon Musk set to purchase Twitter after reversing course - ABC News', 'link': 'https://abcnews.go.com/Business/elon-musk-proposes-buy-twitter-original-price-reversing/story?id=90983803', 'tag': '0:52', 'original': 'https://s.abcnews.com/images/US/elon-musk-file-rt-jef-221004_1664903580364_hpMain_4x5_992.jpg', 'original_width': 793, 'original_height': 992, 'is_product': False}, {'position': 98, 'thumbnail': 'https://encrypted-tbn0.gstatic.com/images?q=tbn:ANd9GcQ15OVqLui5VukxaTXfZd8POJTsoymtRoH3_g&usqp=CAU', 'related_content_id': 'Qjd1OUlUWE1Pdi0wcU1cIixcIm44NVpTQUlEWUgybC1N', 'serpapi_related_content_link': 'https://serpapi.com/search.json?engine=google_images_related_content&gl=us&hl=en&q=Elon+Musk++&related_content_id=Qjd1OUlUWE1Pdi0wcU1cIixcIm44NVpTQUlEWUgybC1N', 'source': 'The Guardian', 'source_logo': 'https://encrypted-tbn2.gstatic.com/faviconV2?url=https://theguardian.com&client=VFE&size=16&type=FAVICON&fallback_opts=TYPE,SIZE,URL&nfrp=2', 'title': 'Elon Musk wants Tesla hires cleared by him as he shifts focus away from  Twitter | Elon Musk | The Guardian', 'link': 'https://www.theguardian.com/technology/2023/may/15/elon-musk-tesla-hires-cleared-twitter-new-ceo', 'original': 'https://i.guim.co.uk/img/media/924e52ffa801ea398d083e5aabc9f6ea01fe2b55/0_0_5227_3138/master/5227.jpg?width=1200&height=1200&quality=85&auto=format&fit=crop&s=ea6907909af5744ce8789a74c975967f', 'original_width': 1200, 'original_height': 1200, 'is_product': False}, {'position': 99, 'thumbnail': 'https://encrypted-tbn0.gstatic.com/images?q=tbn:ANd9GcSX_qH6AjnVlesjmamP92nhFQ3h88K_raKbSA&usqp=CAU', 'related_content_id': 'UTFodXA4ZU1UeUNrVU1cIixcImo0QTdYSDAyMlJZUl9N', 'serpapi_related_content_link': 'https://serpapi.com/search.json?engine=google_images_related_content&gl=us&hl=en&q=Elon+Musk++&related_content_id=UTFodXA4ZU1UeUNrVU1cIixcImo0QTdYSDAyMlJZUl9N', 'source': 'The Wall Street Journal', 'source_logo': 'https://encrypted-tbn2.gstatic.com/faviconV2?url=https://wsj.com&client=VFE&size=16&type=FAVICON&fallback_opts=TYPE,SIZE,URL&nfrp=2', 'title': \"A Pain in the Neck: Elon Musk and Tesla's Revolving C-Suite - WSJ\", 'link': 'https://www.wsj.com/articles/a-pain-in-the-neck-elon-musk-and-teslas-revolving-c-suite-a72c8cbd', 'original': 'https://images.wsj.net/im-834615?width=1280&size=1', 'original_width': 1280, 'original_height': 1280, 'is_product': False}, {'position': 100, 'thumbnail': 'https://encrypted-tbn0.gstatic.com/images?q=tbn:ANd9GcRMnWe_4LMkil7nHXS55GAR5TamfPu1xMl6_g&usqp=CAU', 'related_content_id': 'WW1jYU9rWXlXMXhrTU1cIixcImY3WUx2ZW1NMzlwRFhN', 'serpapi_related_content_link': 'https://serpapi.com/search.json?engine=google_images_related_content&gl=us&hl=en&q=Elon+Musk++&related_content_id=WW1jYU9rWXlXMXhrTU1cIixcImY3WUx2ZW1NMzlwRFhN', 'source': 'Fox Business', 'source_logo': 'https://encrypted-tbn2.gstatic.com/faviconV2?url=https://foxbusiness.com&client=VFE&size=16&type=FAVICON&fallback_opts=TYPE,SIZE,URL&nfrp=2', 'title': 'Elon Musk Twitter poll: Users say he should step down as CEO | Fox Business', 'link': 'https://www.foxbusiness.com/technology/elon-musk-twitter-poll-users-say-should-step-down-ceo', 'original': 'https://static.foxbusiness.com/foxbusiness.com/content/uploads/2022/04/thumbnail_elon-musk-twitter-.jpg', 'original_width': 1280, 'original_height': 720, 'is_product': False}], 'related_searches': [{'link': 'https://www.google.com/search?q=elon+musk+wife&tbm=isch&hl=en&sa=X&ved=2ahUKEwjI67SUp6mBAxU7E2IAHd3lBaIQrNwCKAB6BQgBEKsB', 'serpapi_link': 'https://serpapi.com/search.json?device=desktop&engine=google_images&gl=us&google_domain=google.com&hl=en&q=elon+musk+wife', 'query': 'elon musk wife', 'highlighted_words': ['wife'], 'thumbnail': 'https://encrypted-tbn0.gstatic.com/images?q=tbn:ANd9GcTdSbwLT2kDKbl1L9vaRjYarATR49quUStTnfWUfB9Z2EqMiOmwrg3doQA&usqp=CAU'}, {'link': 'https://www.google.com/search?q=old+elon+musk&tbm=isch&hl=en&sa=X&ved=2ahUKEwjI67SUp6mBAxU7E2IAHd3lBaIQrNwCKAB6BQgBEK0B', 'serpapi_link': 'https://serpapi.com/search.json?device=desktop&engine=google_images&gl=us&google_domain=google.com&hl=en&q=old+elon+musk', 'query': 'old elon musk', 'highlighted_words': ['old'], 'thumbnail': 'https://encrypted-tbn0.gstatic.com/images?q=tbn:ANd9GcTpU9G7Jo9Wl0xP827cRKWCwoRZvsiAisWVvY_inqdOli13COibdl2NVhA&usqp=CAU'}, {'link': 'https://www.google.com/search?q=rocket+elon+musk&tbm=isch&hl=en&sa=X&ved=2ahUKEwjI67SUp6mBAxU7E2IAHd3lBaIQrNwCKAB6BQgBEK8B', 'serpapi_link': 'https://serpapi.com/search.json?device=desktop&engine=google_images&gl=us&google_domain=google.com&hl=en&q=rocket+elon+musk', 'query': 'rocket elon musk', 'highlighted_words': ['rocket'], 'thumbnail': 'https://encrypted-tbn0.gstatic.com/images?q=tbn:ANd9GcThEJ1jgrh7swCssM7G_Dn5_zpdmwORV9J7IrS5gABw_CbRkphkqs2CqiY&usqp=CAU'}, {'link': 'https://www.google.com/search?q=car+elon+musk&tbm=isch&hl=en&sa=X&ved=2ahUKEwjI67SUp6mBAxU7E2IAHd3lBaIQrNwCKAB6BQgBEO0B', 'serpapi_link': 'https://serpapi.com/search.json?device=desktop&engine=google_images&gl=us&google_domain=google.com&hl=en&q=car+elon+musk', 'query': 'car elon musk', 'highlighted_words': ['car'], 'thumbnail': 'https://encrypted-tbn0.gstatic.com/images?q=tbn:ANd9GcRs4dVigS0VowFleNRibN4obZerOE0SCRaXkvkAzD_MbLNwn9_06-e5OgU&usqp=CAU'}, {'link': 'https://www.google.com/search?q=elon+musk+2023&tbm=isch&hl=en&sa=X&ved=2ahUKEwjI67SUp6mBAxU7E2IAHd3lBaIQrNwCKAB6BQgBEO8B', 'serpapi_link': 'https://serpapi.com/search.json?device=desktop&engine=google_images&gl=us&google_domain=google.com&hl=en&q=elon+musk+2023', 'query': 'elon musk 2023', 'highlighted_words': ['2023'], 'thumbnail': 'https://encrypted-tbn0.gstatic.com/images?q=tbn:ANd9GcT5Iah3wESpLhWgKxsl7tQvfQzXpftRg6coqRrxlRu-d6lPOUbHUCzakzk&usqp=CAU'}, {'link': 'https://www.google.com/search?q=elon+musk+build&tbm=isch&hl=en&sa=X&ved=2ahUKEwjI67SUp6mBAxU7E2IAHd3lBaIQrNwCKAB6BQgBEPEB', 'serpapi_link': 'https://serpapi.com/search.json?device=desktop&engine=google_images&gl=us&google_domain=google.com&hl=en&q=elon+musk+build', 'query': 'elon musk build', 'highlighted_words': ['build'], 'thumbnail': 'https://encrypted-tbn0.gstatic.com/images?q=tbn:ANd9GcSHFazlhhkL1gS_bY23NsMd5X1TIRayZoXM36_UrMWudF9phCHYzIZVN_o&usqp=CAU'}, {'link': 'https://www.google.com/search?q=elon+musk+children&tbm=isch&hl=en&sa=X&ved=2ahUKEwjI67SUp6mBAxU7E2IAHd3lBaIQrNwCKAB6BQgBEKkC', 'serpapi_link': 'https://serpapi.com/search.json?device=desktop&engine=google_images&gl=us&google_domain=google.com&hl=en&q=elon+musk+children', 'query': 'elon musk children', 'highlighted_words': ['children'], 'thumbnail': 'https://encrypted-tbn0.gstatic.com/images?q=tbn:ANd9GcRNy_iaEXcF5gjA2GZGdWHQFKUsIyH2FTQVLf9KfYOo4b9GgoN-S8W0vmg&usqp=CAU'}, {'link': 'https://www.google.com/search?q=wallpaper+elon+musk&tbm=isch&hl=en&sa=X&ved=2ahUKEwjI67SUp6mBAxU7E2IAHd3lBaIQrNwCKAB6BQgBEKsC', 'serpapi_link': 'https://serpapi.com/search.json?device=desktop&engine=google_images&gl=us&google_domain=google.com&hl=en&q=wallpaper+elon+musk', 'query': 'wallpaper elon musk', 'highlighted_words': ['wallpaper'], 'thumbnail': 'https://encrypted-tbn0.gstatic.com/images?q=tbn:ANd9GcRsH-6_iz69LAokGYNi1BkJsggvzWelgMzleHcKqXOnZ9htV87ZTEjHwck&usqp=CAU'}, {'link': 'https://www.google.com/search?q=family+elon+musk&tbm=isch&hl=en&sa=X&ved=2ahUKEwjI67SUp6mBAxU7E2IAHd3lBaIQrNwCKAB6BQgBEK0C', 'serpapi_link': 'https://serpapi.com/search.json?device=desktop&engine=google_images&gl=us&google_domain=google.com&hl=en&q=family+elon+musk', 'query': 'family elon musk', 'highlighted_words': ['family'], 'thumbnail': 'https://encrypted-tbn0.gstatic.com/images?q=tbn:ANd9GcSIajqRe4I6Md2U_wvudJPGFOBMEH4f39rCLEK6t4L5asBeDzkwlDfTTMk&usqp=CAU'}, {'link': 'https://www.google.com/search?q=elon+musk+twitter&tbm=isch&hl=en&sa=X&ved=2ahUKEwjI67SUp6mBAxU7E2IAHd3lBaIQrNwCKAB6BQgBEOMC', 'serpapi_link': 'https://serpapi.com/search.json?device=desktop&engine=google_images&gl=us&google_domain=google.com&hl=en&q=elon+musk+twitter', 'query': 'elon musk twitter', 'highlighted_words': ['twitter'], 'thumbnail': 'https://encrypted-tbn0.gstatic.com/images?q=tbn:ANd9GcRGSgCgIrNrhXEcnpoanvUOv4_n-ggEbRPcb-FvSbVhKyQ2QR5_HjX_52k&usqp=CAU'}, {'link': 'https://www.google.com/search?q=elon+musk+funny&tbm=isch&hl=en&sa=X&ved=2ahUKEwjI67SUp6mBAxU7E2IAHd3lBaIQrNwCKAB6BQgBEOUC', 'serpapi_link': 'https://serpapi.com/search.json?device=desktop&engine=google_images&gl=us&google_domain=google.com&hl=en&q=elon+musk+funny', 'query': 'elon musk funny', 'highlighted_words': ['funny'], 'thumbnail': 'https://encrypted-tbn0.gstatic.com/images?q=tbn:ANd9GcTeBI-y5hDXXGhe2AGzJO834TyHQbuIRk2CcxPVEGB85lie0-SLeeddlo4&usqp=CAU'}, {'link': 'https://www.google.com/search?q=grimes+and+elon+musk+baby&tbm=isch&hl=en&sa=X&ved=2ahUKEwjI67SUp6mBAxU7E2IAHd3lBaIQrNwCKAB6BQgBEOcC', 'serpapi_link': 'https://serpapi.com/search.json?device=desktop&engine=google_images&gl=us&google_domain=google.com&hl=en&q=grimes+and+elon+musk+baby', 'query': 'grimes and elon musk baby', 'highlighted_words': ['grimes and', 'baby'], 'thumbnail': 'https://encrypted-tbn0.gstatic.com/images?q=tbn:ANd9GcQy1hO7vbWhPkCe8FKvEYQs8JuljfIdqzYQjTpQ9Bm0ezwWy9tCcEnLMvg&usqp=CAU'}]}\n",
      "https://image.cnbcfm.com/api/v1/image/107293744-1693398435735-elon.jpg?v=1694271610\n"
     ]
    }
   ],
   "source": [
    "from serpapi import GoogleSearch\n",
    "\n",
    "image_query = f\"{podcast_guest} {podcast_guest_org} {podcast_guest_title}\"\n",
    "search = GoogleSearch({\n",
    "    \"engine\": \"google_images\",\n",
    "    \"q\": image_query,\n",
    "    \"api_key\": os.environ[\"SERPAPI_API_KEY\"]\n",
    "})\n",
    "image_search_result = search.get_dict()\n",
    "print(image_search_result)\n",
    "image_url = image_search_result['images_results'][0]['original']\n",
    "print(image_url)"
   ]
  },
  {
   "cell_type": "code",
   "execution_count": 43,
   "metadata": {},
   "outputs": [
    {
     "name": "stdout",
     "output_type": "stream",
     "text": [
      "{'name': 'Elon Musk', 'organization': '', 'title': '', 'summary': 'Elon Musk is a South African-born Canadian entrepreneur and inventor who displayed an early talent for computers and entrepreneurship. At age 12 he created a video game and sold it to a computer magazine.', 'profile_picture': 'https://image.cnbcfm.com/api/v1/image/107293744-1693398435735-elon.jpg?v=1694271610'}\n"
     ]
    }
   ],
   "source": [
    "podcast_guest = {\n",
    "    \"name\": podcast_guest,\n",
    "    \"organization\": podcast_guest_org,\n",
    "    \"title\": podcast_guest_title,\n",
    "    \"summary\": podcast_guest_summary,\n",
    "    \"profile_picture\": image_url\n",
    "}\n",
    "\n",
    "print(podcast_guest)"
   ]
  },
  {
   "cell_type": "markdown",
   "metadata": {},
   "source": [
    "## Step 5 - Extract the Highlights of the podcast"
   ]
  },
  {
   "cell_type": "code",
   "execution_count": 44,
   "metadata": {},
   "outputs": [],
   "source": [
    "instructPrompt = \"\"\"\n",
    "You are a podcast editor and producer. You are provided with the transcript of a podcast episode and have to identify the 5 most significant moments in the podcast as highlights\n",
    "- Each highlight needs to be a statement by one of the podcast guests\n",
    "- Each highlight has to be impactful and an important takeaway from this podcast episode\n",
    "- Each highlight must be concise and make listeners want to hear more about why the podcast guest said that\n",
    "- The highlights that you pick must be spread out throughout the episode\n",
    "\n",
    "Provide only the highlights and nothing else. Provide the full sentence of the highlight and format it as follows -\n",
    "\n",
    "- Highlight 1 of the podcast\n",
    "- Highlight 2 of the podcast\n",
    "- Highlight 3 of the podcast\n",
    "\"\"\"\n",
    "\n",
    "request = instructPrompt + podcast_transcript"
   ]
  },
  {
   "cell_type": "code",
   "execution_count": 45,
   "metadata": {},
   "outputs": [],
   "source": [
    "chatOutput = openai.ChatCompletion.create(model=\"gpt-3.5-turbo-16k\",\n",
    "                                            messages=[{\"role\": \"system\", \"content\": \"You are a helpful assistant.\"},\n",
    "                                                      {\"role\": \"user\", \"content\": request}\n",
    "                                                      ]\n",
    "                                            )"
   ]
  },
  {
   "cell_type": "code",
   "execution_count": 46,
   "metadata": {},
   "outputs": [
    {
     "data": {
      "text/plain": [
       "'- Highlight 1: \"It is an anniversary which divides because of the totemic and traumatic significance of these events.\"\\n- Highlight 2: \"The court ruled that the climate scientists were right.\"\\n- Highlight 3: \"Publishing is a very peculiar business.\"'"
      ]
     },
     "execution_count": 46,
     "metadata": {},
     "output_type": "execute_result"
    }
   ],
   "source": [
    "chatOutput.choices[0].message.content"
   ]
  },
  {
   "cell_type": "markdown",
   "metadata": {},
   "source": [
    "# Part 2: On-demand information extraction"
   ]
  },
  {
   "cell_type": "code",
   "execution_count": null,
   "metadata": {},
   "outputs": [],
   "source": [
    "%pip install feedparser\n",
    "%pip install git+https://github.com/openai/whisper.git  -q\n",
    "%pip install requests"
   ]
  },
  {
   "cell_type": "code",
   "execution_count": 47,
   "metadata": {},
   "outputs": [],
   "source": [
    "def get_transcribe_podcast(rss_url, local_path):\n",
    "  print (\"Starting Podcast Transcription Function\")\n",
    "  print (\"Feed URL: \", rss_url)\n",
    "  print (\"Local Path:\", local_path)\n",
    "\n",
    "  # Read from the RSS Feed URL\n",
    "  import feedparser\n",
    "  intelligence_feed = feedparser.parse(rss_url)\n",
    "  for item in intelligence_feed.entries[0].links:\n",
    "    if (item['type'] == 'audio/mpeg'):\n",
    "      episode_url = item.href\n",
    "  episode_name = \"podcast_episode.mp3\"\n",
    "  print (\"RSS URL read and episode URL: \", episode_url)\n",
    "\n",
    "  # Download the podcast episode by parsing the RSS feed\n",
    "  from pathlib import Path\n",
    "  p = Path(local_path)\n",
    "  p.mkdir(exist_ok=True)\n",
    "\n",
    "  print (\"Downloading the podcast episode\")\n",
    "  import requests\n",
    "  with requests.get(episode_url, stream=True) as r:\n",
    "    r.raise_for_status()\n",
    "    episode_path = p.joinpath(episode_name)\n",
    "    with open(episode_path, 'wb') as f:\n",
    "      for chunk in r.iter_content(chunk_size=8192):\n",
    "        f.write(chunk)\n",
    "\n",
    "  print (\"Podcast Episode downloaded\")\n",
    "\n",
    "  # Load the Whisper model\n",
    "  import os\n",
    "  import whisper\n",
    "  print (\"Download and Load the Whisper model\")\n",
    "  model = whisper.load_model(\"medium\")\n",
    "  print (model.device)\n",
    "\n",
    "  # Perform the transcription\n",
    "  print (\"Starting podcast transcription\")\n",
    "  result = model.transcribe(local_path + episode_name)\n",
    "\n",
    "  # Return the transcribed text\n",
    "  print (\"Podcast transcription completed, returning results...\")\n",
    "  return result"
   ]
  },
  {
   "cell_type": "code",
   "execution_count": 48,
   "metadata": {},
   "outputs": [
    {
     "name": "stdout",
     "output_type": "stream",
     "text": [
      "Starting Podcast Transcription Function\n",
      "Feed URL:  https://access.acast.com/rss/d556eb54-6160-4c85-95f4-47d9f5216c49\n",
      "Local Path: \n",
      "RSS URL read and episode URL:  https://sphinx.acast.com/p/acast/s/theintelligencepodcast/e/650184a9e83f8e00119635e3/media.mp3?tk=eyJ0ayI6ImRlZmF1bHQiLCJhZHMiOnRydWUsInNwb25zIjp0cnVlLCJzdGF0dXMiOiJwdWJsaWMifQ==&sig=keXWV7We63buVFCm9lUDg0W2Vs9-AOdYOHYDgPEcM6Y\n",
      "Downloading the podcast episode\n",
      "Podcast Episode downloaded\n",
      "Download and Load the Whisper model\n",
      "cuda:0\n",
      "Starting podcast transcription\n",
      "Podcast transcription completed, returning results...\n"
     ]
    }
   ],
   "source": [
    "output = get_transcribe_podcast(\"https://access.acast.com/rss/d556eb54-6160-4c85-95f4-47d9f5216c49\", \"\")"
   ]
  },
  {
   "cell_type": "code",
   "execution_count": 49,
   "metadata": {},
   "outputs": [
    {
     "data": {
      "text/plain": [
       "\" Hello and welcome to the Smith's show. At Smith's, everyone wins when it comes to saving big. Because when you order online through the Smith's app, you get the same great prices, deals, and rewards on pickup or delivery that you do in-store with no hidden fees or markups. So no matter how you shop, you'll always save big at Smith's. Smith's. Fresh for everyone. Save big on your favorites with the buy five or more, save a dollar each sale. Simply buy five or more participating items and save a dollar each with your card. Smith's. Fresh for everyone. Hello and welcome to The Intelligence from The Economist. I'm Oreh Ogumbiyi. And I'm Jason Palmer. Every weekday, we provide a fresh perspective on the events shaping your world. The American state of Montana is very protective of its great outdoors. Its natural wonders are even prized in its constitution. But a group of climate-conscious young citizens have taken the state to court for not going far enough. And have you ever thought of wr\""
      ]
     },
     "execution_count": 49,
     "metadata": {},
     "output_type": "execute_result"
    }
   ],
   "source": [
    "output['text'][:1000]"
   ]
  },
  {
   "cell_type": "markdown",
   "metadata": {},
   "source": [
    "### Step 1 - Create a cloud transcription function"
   ]
  },
  {
   "cell_type": "code",
   "execution_count": null,
   "metadata": {},
   "outputs": [],
   "source": [
    "%pip install modal"
   ]
  },
  {
   "cell_type": "code",
   "execution_count": null,
   "metadata": {},
   "outputs": [],
   "source": [
    "%modal token new --source corise > authenticationURL.txt"
   ]
  },
  {
   "cell_type": "code",
   "execution_count": 50,
   "metadata": {},
   "outputs": [],
   "source": [
    "import getpass\n",
    "import subprocess\n",
    "\n",
    "def set_modal_token():\n",
    "  token_id = getpass.getpass('Please enter your Modal token ID in the cell: ')\n",
    "  token_secret = getpass.getpass('Please enter your Modal token secret in the cell:  ')\n",
    "\n",
    "  # Using subprocess to execute the command\n",
    "  subprocess.run(f\"!modal token set --token-id (token_id) --token-secret (token_secret)\", shell=True)"
   ]
  },
  {
   "cell_type": "code",
   "execution_count": 51,
   "metadata": {},
   "outputs": [],
   "source": [
    "import getpass\n",
    "import subprocess\n",
    "\n",
    "def set_modal_token():\n",
    "    token_id = getpass.getpass('Please enter your Modal token ID in the cell: ')\n",
    "    token_secret = getpass.getpass('Please enter your Modal token secret in the cell: ')\n",
    "\n",
    "    # Properly format the subprocess command string\n",
    "    command = f\"modal token set --token-id {token_id} --token-secret {token_secret}\"\n",
    "\n",
    "    # Using subprocess to execute the command\n",
    "    subprocess.run(command, shell=True)"
   ]
  },
  {
   "cell_type": "code",
   "execution_count": 52,
   "metadata": {},
   "outputs": [],
   "source": [
    "set_modal_token()"
   ]
  },
  {
   "cell_type": "code",
   "execution_count": 55,
   "metadata": {},
   "outputs": [
    {
     "name": "stdout",
     "output_type": "stream",
     "text": [
      "Overwriting podcast_backend.py\n"
     ]
    }
   ],
   "source": [
    "%%writefile podcast_backend.py\n",
    "import modal\n",
    "import pathlib\n",
    "\n",
    "def download_whisper():\n",
    "  # Load the Whisper model\n",
    "  import os\n",
    "  import whisper\n",
    "  print (\"Download the Whisper model\")\n",
    "\n",
    "  # Perform download only once and save to Container storage\n",
    "  model_path = pathlib.Path.cwd()\n",
    "  whisper._download(whisper._MODELS[\"medium\"], str(model_path), False)\n",
    "\n",
    "stub = modal.Stub(\"corise-podcast-project\")\n",
    "corise_image = modal.Image.debian_slim().pip_install(\"feedparser\",\n",
    "                                                     \"https://github.com/openai/whisper/archive/9f70a352f9f8630ab3aa0d06af5cb9532bd8c21d.tar.gz\",\n",
    "                                                     \"requests\",\n",
    "                                                     \"ffmpeg\").apt_install(\"ffmpeg\").run_function(download_whisper)\n",
    "\n",
    "@stub.function(image=corise_image, gpu=\"any\")\n",
    "def get_transcribe_podcast(rss_url, local_path):\n",
    "  print (\"Starting Podcast Transcription Function\")\n",
    "  print (\"Feed URL: \", rss_url)\n",
    "  print (\"Local Path:\", local_path)\n",
    "\n",
    "  # Read from the RSS Feed URL\n",
    "  import feedparser\n",
    "  intelligence_feed = feedparser.parse(rss_url)\n",
    "  for item in intelligence_feed.entries[0].links:\n",
    "    if (item['type'] == 'audio/mpeg'):\n",
    "      episode_url = item.href\n",
    "  episode_name = \"podcast_episode.mp3\"\n",
    "  print (\"RSS URL read and episode URL: \", episode_url)\n",
    "\n",
    "  # Download the podcast episode by parsing the RSS feed\n",
    "  from pathlib import Path\n",
    "  p = Path(local_path)\n",
    "  p.mkdir(exist_ok=True)\n",
    "\n",
    "  print (\"Downloading the podcast episode\")\n",
    "  import requests\n",
    "  with requests.get(episode_url, stream=True) as r:\n",
    "    r.raise_for_status()\n",
    "    episode_path = p.joinpath(episode_name)\n",
    "    with open(episode_path, 'wb') as f:\n",
    "      for chunk in r.iter_content(chunk_size=8192):\n",
    "        f.write(chunk)\n",
    "\n",
    "  print (\"Podcast Episode downloaded\")\n",
    "\n",
    "  # Load the Whisper model\n",
    "  import os\n",
    "  import whisper\n",
    "\n",
    "  # Load model from saved location\n",
    "  print (\"Load the Whisper model\")\n",
    "  model = whisper.load_model('medium', device='cuda', download_root='/content/podcast/')\n",
    "\n",
    "  # Perform the transcription\n",
    "  print (\"Starting podcast transcription\")\n",
    "  result = model.transcribe(local_path + episode_name)\n",
    "\n",
    "  # Return the transcribed text\n",
    "  print (\"Podcast transcription completed, returning results...\")\n",
    "  return result\n",
    "\n",
    "@stub.local_entrypoint()\n",
    "def main(url, path):\n",
    "  output = get_transcribe_podcast.call(url, path)\n",
    "  print (output['text'])"
   ]
  },
  {
   "cell_type": "code",
   "execution_count": 48,
   "metadata": {},
   "outputs": [],
   "source": [
    "!modal token set"
   ]
  },
  {
   "cell_type": "markdown",
   "metadata": {},
   "source": [
    "invoke the function from the command line to start the remote execution in the cloud environment"
   ]
  },
  {
   "cell_type": "code",
   "execution_count": null,
   "metadata": {},
   "outputs": [],
   "source": [
    "!modal run podcast_backend.py --url https://access.acast.com/rss/d556eb54-6160-4c85-95f4-47d9f5216c49 --path \"\""
   ]
  },
  {
   "cell_type": "markdown",
   "metadata": {},
   "source": [
    "### Step 2 - Create a cloud information extraction function"
   ]
  },
  {
   "cell_type": "markdown",
   "metadata": {},
   "source": [
    "### Wikipedia version"
   ]
  },
  {
   "cell_type": "code",
   "execution_count": 58,
   "metadata": {},
   "outputs": [
    {
     "name": "stdout",
     "output_type": "stream",
     "text": [
      "Overwriting podcast_backend.py\n"
     ]
    }
   ],
   "source": [
    "%%writefile podcast_backend.py\n",
    "import modal\n",
    "\n",
    "def download_whisper():\n",
    "  # Load the Whisper model\n",
    "  import os\n",
    "  import whisper\n",
    "  print (\"Download the Whisper model\")\n",
    "\n",
    "  # Perform download only once and save to Container storage\n",
    "  model_path = pathlib.Path.cwd()\n",
    "  whisper._download(whisper._MODELS[\"medium\"], model_path, False)\n",
    "\n",
    "\n",
    "stub = modal.Stub(\"corise-podcast-project\")\n",
    "corise_image = modal.Image.debian_slim().pip_install(\"feedparser\",\n",
    "                                                     \"https://github.com/openai/whisper/archive/9f70a352f9f8630ab3aa0d06af5cb9532bd8c21d.tar.gz\",\n",
    "                                                     \"requests\",\n",
    "                                                     \"ffmpeg\",\n",
    "                                                     \"openai\",\n",
    "                                                     \"tiktoken\",\n",
    "                                                     \"wikipedia\",\n",
    "                                                     \"ffmpeg-python\").apt_install(\"ffmpeg\").run_function(download_whisper)\n",
    "\n",
    "@stub.function(image=corise_image, gpu=\"any\", timeout=600)\n",
    "def get_transcribe_podcast(rss_url, local_path):\n",
    "  print (\"Starting Podcast Transcription Function\")\n",
    "  print (\"Feed URL: \", rss_url)\n",
    "  print (\"Local Path:\", local_path)\n",
    "\n",
    "  # Read from the RSS Feed URL\n",
    "  import feedparser\n",
    "  intelligence_feed = feedparser.parse(rss_url)\n",
    "  podcast_title = intelligence_feed['feed']['title']\n",
    "  episode_title = intelligence_feed.entries[0]['title']\n",
    "  episode_image = intelligence_feed['feed']['image'].href\n",
    "  for item in intelligence_feed.entries[0].links:\n",
    "    if (item['type'] == 'audio/mpeg'):\n",
    "      episode_url = item.href\n",
    "  episode_name = \"podcast_episode.mp3\"\n",
    "  print (\"RSS URL read and episode URL: \", episode_url)\n",
    "\n",
    "  # Download the podcast episode by parsing the RSS feed\n",
    "  from pathlib import Path\n",
    "  p = Path(local_path)\n",
    "  p.mkdir(exist_ok=True)\n",
    "\n",
    "  print (\"Downloading the podcast episode\")\n",
    "  import requests\n",
    "  with requests.get(episode_url, stream=True) as r:\n",
    "    r.raise_for_status()\n",
    "    episode_path = p.joinpath(episode_name)\n",
    "    with open(episode_path, 'wb') as f:\n",
    "      for chunk in r.iter_content(chunk_size=8192):\n",
    "        f.write(chunk)\n",
    "\n",
    "  print (\"Podcast Episode downloaded\")\n",
    "\n",
    "  # Load the Whisper model\n",
    "  import os\n",
    "  import whisper\n",
    "\n",
    "  # Load model from saved location\n",
    "  print (\"Load the Whisper model\")\n",
    "  model = whisper.load_model('medium', device='cuda', download_root=model_path)\n",
    "\n",
    "  # Perform the transcription\n",
    "  print (\"Starting podcast transcription\")\n",
    "  result = model.transcribe(local_path + episode_name)\n",
    "\n",
    "  # Return the transcribed text\n",
    "  print (\"Podcast transcription completed, returning results...\")\n",
    "  output = {}\n",
    "  output['podcast_title'] = podcast_title\n",
    "  output['episode_title'] = episode_title\n",
    "  output['episode_image'] = episode_image\n",
    "  output['episode_transcript'] = result['text']\n",
    "  return output\n",
    "\n",
    "@stub.function(image=corise_image, secret=modal.Secret.from_name(\"my-openai-secret\"))\n",
    "def get_podcast_summary(podcast_transcript):\n",
    "  import openai\n",
    "  instructPrompt = \"\"\"\n",
    "  You are an expert copywriter who is responsible for publishing newsletters with thousands of subscribers. You recently listened to a great podcast and want to share a summary of it with your readers. Please write the summary of this podcast making sure to cover the important aspects that were discussed and please keep it concise.\n",
    "  The transcript of the podcast is provided below.\n",
    "  \"\"\"\n",
    "  request = instructPrompt + podcast_transcript\n",
    "  chatOutput = openai.ChatCompletion.create(model=\"gpt-3.5-turbo-16k\",\n",
    "                                            messages=[{\"role\": \"system\", \"content\": \"You are a helpful assistant.\"},\n",
    "                                                      {\"role\": \"user\", \"content\": request}\n",
    "                                                      ]\n",
    "                                            )\n",
    "  podcastSummary = chatOutput.choices[0].message.content\n",
    "  return podcastSummary\n",
    "\n",
    "@stub.function(image=corise_image, secret=modal.Secret.from_name(\"my-openai-secret\"))\n",
    "def get_podcast_guest(podcast_transcript):\n",
    "  import openai\n",
    "  import wikipedia\n",
    "  import json\n",
    "  from langchain.llms import OpenAI\n",
    "  from langchain.agents import load_tools\n",
    "  from langchain.agents import initialize_agent\n",
    "  from serpapi import GoogleSearch\n",
    "  import os\n",
    "  \n",
    "  request = podcast_transcript[:10000]\n",
    "  completion = openai.ChatCompletion.create(\n",
    "    model=\"gpt-3.5-turbo\",\n",
    "    messages=[{\"role\": \"user\", \"content\": request}],\n",
    "    functions=[\n",
    "    {\n",
    "        \"name\": \"get_podcast_guest_information\",\n",
    "        \"description\": \"Get information on the podcast guest using their full name and the name of the organization they are part of to search for them on Wikipedia or Google\",\n",
    "        \"parameters\": {\n",
    "            \"type\": \"object\",\n",
    "            \"properties\": {\n",
    "                \"guest_name\": {\n",
    "                    \"type\": \"string\",\n",
    "                    \"description\": \"If a guest is introduced and speaks in the podcast, the full name of the guest. If no guest is introduced, then 'None'\",\n",
    "                },\n",
    "                \"guest_organization\": {\n",
    "                    \"type\": \"string\",\n",
    "                    \"description\": \"If the guest_name is not 'None', The full name of the organization that the podcast guest belongs to or runs, otherwise 'None'\",\n",
    "                },\n",
    "                \"guest_title\": {\n",
    "                    \"type\": \"string\",\n",
    "                    \"description\": \"If the guest_organization is not 'None', The title, designation or role of the podcast guest in their organization, otherwise 'None'\",\n",
    "                },\n",
    "            },\n",
    "            \"required\": [\"guest_name\"],\n",
    "        },\n",
    "    }],\n",
    "    function_call={\"name\": \"get_podcast_guest_information\"})\n",
    "  response_message = completion[\"choices\"][0][\"message\"]\n",
    "\n",
    "  if response_message.get(\"function_call\"):\n",
    "    function_name = response_message[\"function_call\"][\"name\"]\n",
    "    function_args = json.loads(response_message[\"function_call\"][\"arguments\"])\n",
    "    podcast_guest=function_args.get(\"guest_name\")\n",
    "    podcast_guest_org=function_args.get(\"guest_organization\")\n",
    "    podcast_guest_title=function_args.get(\"guest_title\")\n",
    "\n",
    "  if (podcast_guest is not None):\n",
    "    if (podcast_guest_org is None):\n",
    "      podcast_guest_org = \"\"\n",
    "    if (podcast_guest_title is None):\n",
    "      podcast_guest_title = \"\"\n",
    "    try:\n",
    "      input = wikipedia.page(podcast_guest + \" \" + podcast_guest_org + \" \" + podcast_guest_title, auto_suggest=True)\n",
    "      podcast_guest_summary = input.summary\n",
    "    except wikipedia.exceptions.PageError:\n",
    "      print(f'The page for guest \"{podcast_guest} does not exist on Wikipedia.')\n",
    "      podcast_guest_summary = \"Not Available\"\n",
    "    except wikipedia.exceptions.DisambiguationError as e:\n",
    "      print(f'The page for guest \"{podcast_guest} is ambiguous. Possible matches are:')\n",
    "      print(e.options)\n",
    "      podcast_guest_summary = \"Not Available\"\n",
    "  else:\n",
    "    podcast_guest = \"Not Available\"\n",
    "    podcast_guest_org = \"Not Available\"\n",
    "    podcast_guest_title = \"Not Available\"\n",
    "    podcast_guest_summary = \"Not Available\"\n",
    "\n",
    "  podcastGuest = {}\n",
    "  podcastGuest['name'] = podcast_guest\n",
    "  podcastGuest['org'] = podcast_guest_org\n",
    "  podcastGuest['title'] = podcast_guest_title\n",
    "  podcastGuest['summary'] = podcast_guest_summary\n",
    "  return podcastGuest\n",
    "\n",
    "@stub.function(image=corise_image, secret=modal.Secret.from_name(\"my-openai-secret\"))\n",
    "def get_podcast_highlights(podcast_transcript):\n",
    "  import openai\n",
    "  instructPrompt = \"\"\"\n",
    "  You are a podcast editor and producer. You are provided with the transcript of a podcast episode and have to identify the 5 most significant moments in the podcast as highlights\n",
    "  - Each highlight needs to be a statement by one of the podcast guests\n",
    "  - Each highlight has to be impactful and an important takeaway from this podcast episode\n",
    "  - Each highlight must be concise and make listeners want to hear more about why the podcast guest said that\n",
    "  - The highlights that you pick must be spread out throughout the episode\n",
    "\n",
    "  Provide only the highlights and nothing else. Provide the full sentence of the highlight and format it as follows -\n",
    "\n",
    "  - Highlight 1 of the podcast\n",
    "  - Highlight 2 of the podcast\n",
    "  - Highlight 3 of the podcast\n",
    "  \"\"\"\n",
    "\n",
    "  request = instructPrompt + podcast_transcript\n",
    "  chatOutput = openai.ChatCompletion.create(model=\"gpt-3.5-turbo-16k\",\n",
    "                                            messages=[{\"role\": \"system\", \"content\": \"You are a helpful assistant.\"},\n",
    "                                                      {\"role\": \"user\", \"content\": request}\n",
    "                                                      ]\n",
    "                                            )\n",
    "  podcastHighlights = chatOutput.choices[0].message.content\n",
    "  return podcastHighlights\n",
    "\n",
    "@stub.function(image=corise_image, secret=modal.Secret.from_name(\"my-openai-secret\"), timeout=1200)\n",
    "def process_podcast(url, path):\n",
    "  output = {}\n",
    "  podcast_details = get_transcribe_podcast.call(url, path)\n",
    "  podcast_summary = get_podcast_summary.call(podcast_details['episode_transcript'])\n",
    "  podcast_guest = get_podcast_guest.call(podcast_details['episode_transcript'])\n",
    "  podcast_highlights = get_podcast_highlights.call(podcast_details['episode_transcript'])\n",
    "  output['podcast_details'] = podcast_details\n",
    "  output['podcast_summary'] = podcast_summary\n",
    "  output['podcast_guest'] = podcast_guest\n",
    "  output['podcast_highlights'] = podcast_highlights\n",
    "  return output\n",
    "\n",
    "@stub.local_entrypoint()\n",
    "def test_method(url, path):\n",
    "  output = {}\n",
    "  podcast_details = get_transcribe_podcast.call(url, path)\n",
    "  print (\"Podcast Summary: \", get_podcast_summary.call(podcast_details['episode_transcript']))\n",
    "  print (\"Podcast Guest Information: \", get_podcast_guest.call(podcast_details['episode_transcript']))\n",
    "  print (\"Podcast Highlights: \", get_podcast_highlights.call(podcast_details['episode_transcript']))"
   ]
  },
  {
   "cell_type": "markdown",
   "metadata": {},
   "source": [
    "### Google Search Version"
   ]
  },
  {
   "cell_type": "code",
   "execution_count": 65,
   "metadata": {},
   "outputs": [
    {
     "name": "stdout",
     "output_type": "stream",
     "text": [
      "Overwriting podcast_backend.py\n"
     ]
    }
   ],
   "source": [
    "%%writefile podcast_backend.py\n",
    "import modal\n",
    "\n",
    "def download_whisper():\n",
    "  # Load the Whisper model\n",
    "  import os\n",
    "  import whisper\n",
    "  import pathlib\n",
    "  print (\"Download the Whisper model\")\n",
    "\n",
    "  # Perform download only once and save to Container storage\n",
    "  model_path = pathlib.Path.cwd()\n",
    "  whisper._download(whisper._MODELS[\"medium\"], model_path, False)\n",
    "\n",
    "\n",
    "stub = modal.Stub(\"corise-podcast-project\")\n",
    "corise_image = modal.Image.debian_slim().pip_install(\"feedparser\",\n",
    "                                                     \"https://github.com/openai/whisper/archive/9f70a352f9f8630ab3aa0d06af5cb9532bd8c21d.tar.gz\",\n",
    "                                                     \"requests\",\n",
    "                                                     \"ffmpeg\",\n",
    "                                                     \"openai\",\n",
    "                                                     \"tiktoken\",\n",
    "                                                     \"wikipedia\",\n",
    "                                                     \"ffmpeg-python\").apt_install(\"ffmpeg\").run_function(download_whisper)\n",
    "\n",
    "@stub.function(image=corise_image, gpu=\"any\", timeout=600)\n",
    "def get_transcribe_podcast(rss_url, local_path):\n",
    "  print (\"Starting Podcast Transcription Function\")\n",
    "  print (\"Feed URL: \", rss_url)\n",
    "  print (\"Local Path:\", local_path)\n",
    "\n",
    "  # Read from the RSS Feed URL\n",
    "  import feedparser\n",
    "  intelligence_feed = feedparser.parse(rss_url)\n",
    "  podcast_title = intelligence_feed['feed']['title']\n",
    "  episode_title = intelligence_feed.entries[0]['title']\n",
    "  episode_image = intelligence_feed['feed']['image'].href\n",
    "  for item in intelligence_feed.entries[0].links:\n",
    "    if (item['type'] == 'audio/mpeg'):\n",
    "      episode_url = item.href\n",
    "  episode_name = \"podcast_episode.mp3\"\n",
    "  print (\"RSS URL read and episode URL: \", episode_url)\n",
    "\n",
    "  # Download the podcast episode by parsing the RSS feed\n",
    "  from pathlib import Path\n",
    "  p = Path(local_path)\n",
    "  p.mkdir(exist_ok=True)\n",
    "\n",
    "  print (\"Downloading the podcast episode\")\n",
    "  import requests\n",
    "  with requests.get(episode_url, stream=True) as r:\n",
    "    r.raise_for_status()\n",
    "    episode_path = p.joinpath(episode_name)\n",
    "    with open(episode_path, 'wb') as f:\n",
    "      for chunk in r.iter_content(chunk_size=8192):\n",
    "        f.write(chunk)\n",
    "\n",
    "  print (\"Podcast Episode downloaded\")\n",
    "\n",
    "  # Load the Whisper model\n",
    "  import os\n",
    "  import whisper\n",
    "  import pathlib\n",
    "\n",
    "  # Load model from saved location\n",
    "  print (\"Load the Whisper model\")\n",
    "  model_path = pathlib.Path.cwd()\n",
    "  model = whisper.load_model('medium', device='cuda', download_root=model_path)\n",
    "\n",
    "  # Perform the transcription\n",
    "  print (\"Starting podcast transcription\")\n",
    "  result = model.transcribe(local_path + episode_name)\n",
    "\n",
    "  # Return the transcribed text\n",
    "  print (\"Podcast transcription completed, returning results...\")\n",
    "  output = {}\n",
    "  output['podcast_title'] = podcast_title\n",
    "  output['episode_title'] = episode_title\n",
    "  output['episode_image'] = episode_image\n",
    "  output['episode_transcript'] = result['text']\n",
    "  return output\n",
    "\n",
    "@stub.function(image=corise_image, secret=modal.Secret.from_name(\"my-openai-secret\"))\n",
    "def get_podcast_summary(podcast_transcript):\n",
    "  import openai\n",
    "  instructPrompt = \"\"\"\n",
    "  You are an expert copywriter who is responsible for publishing newsletters with thousands of subscribers. You recently listened to a great podcast and want to share a summary of it with your readers. Please write the summary of this podcast making sure to cover the important aspects that were discussed and please keep it concise.\n",
    "  The transcript of the podcast is provided below.  \n",
    "  \"\"\"\n",
    "  request = instructPrompt + podcast_transcript\n",
    "  chatOutput = openai.ChatCompletion.create(model=\"gpt-3.5-turbo-16k\",\n",
    "                                            messages=[{\"role\": \"system\", \"content\": \"You are a helpful assistant.\"},\n",
    "                                                      {\"role\": \"user\", \"content\": request}\n",
    "                                                      ]\n",
    "                                            )\n",
    "  podcastSummary = chatOutput.choices[0].message.content\n",
    "  return podcastSummary\n",
    "\n",
    "@stub.function(image=corise_image, secret=modal.Secret.from_name(\"my-openai-secret\"))\n",
    "def get_podcast_guest(podcast_transcript):\n",
    "  import openai\n",
    "  import wikipedia\n",
    "  import json\n",
    "  from langchain.llms import OpenAI\n",
    "  from langchain.agents import load_tools\n",
    "  from langchain.agents import initialize_agent\n",
    "  from serpapi import GoogleSearch\n",
    "  import os\n",
    "  \n",
    "  request = podcast_transcript[:10000]\n",
    "  completion = openai.ChatCompletion.create(\n",
    "    model=\"gpt-3.5-turbo\",\n",
    "    messages=[{\"role\": \"user\", \"content\": request}],\n",
    "    functions=[\n",
    "    {\n",
    "        \"name\": \"get_podcast_guest_information\",\n",
    "        \"description\": \"Get information on the podcast guest using their full name and the name of the organization they are part of to search for them on Wikipedia or Google\",\n",
    "        \"parameters\": {\n",
    "            \"type\": \"object\",\n",
    "            \"properties\": {\n",
    "                \"guest_name\": {\n",
    "                    \"type\": \"string\",\n",
    "                    \"description\": \"The full name of the guest in the podcast. This person is not the podcast host. The host will be the main narrator of the podcast. You can generally identify a guest because they will be introduced by the host, and will engage in conversation with, or be interviewed by, the host. If no guest is introduced, then 'None'\",\n",
    "                },\n",
    "                \"guest_organization\": {\n",
    "                    \"type\": \"string\",\n",
    "                    \"description\": \"If the guest_name is not 'None', The full name of the organization that the podcast guest belongs to or runs, otherwise 'None'\",\n",
    "                },\n",
    "                \"guest_title\": {\n",
    "                    \"type\": \"string\",\n",
    "                    \"description\": \"If the guest_organization is not 'None', The title, designation or role of the podcast guest in their organization, otherwise 'None'\",\n",
    "                },\n",
    "            },\n",
    "            \"required\": [\"guest_name\"],\n",
    "        },\n",
    "    }],\n",
    "    function_call={\"name\": \"get_podcast_guest_information\"})\n",
    "  response_message = completion[\"choices\"][0][\"message\"]\n",
    "\n",
    "  if response_message.get(\"function_call\"):\n",
    "    function_name = response_message[\"function_call\"][\"name\"]\n",
    "    function_args = json.loads(response_message[\"function_call\"][\"arguments\"])\n",
    "    podcast_guest=function_args.get(\"guest_name\")\n",
    "    podcast_guest_org=function_args.get(\"guest_organization\")\n",
    "    podcast_guest_title=function_args.get(\"guest_title\")\n",
    "\n",
    "  if (podcast_guest is not None):\n",
    "    if (podcast_guest_org is None):\n",
    "      podcast_guest_org = \"\"\n",
    "    if (podcast_guest_title is None):\n",
    "      podcast_guest_title = \"\"\n",
    "    try:\n",
    "      input = wikipedia.page(podcast_guest + \" \" + podcast_guest_org + \" \" + podcast_guest_title, auto_suggest=True)\n",
    "      podcast_guest_summary = input.summary\n",
    "    except wikipedia.exceptions.PageError:\n",
    "      print(f'The page for guest \"{podcast_guest} does not exist on Wikipedia.')\n",
    "      podcast_guest_summary = \"Not Available\"\n",
    "    except wikipedia.exceptions.DisambiguationError as e:\n",
    "      print(f'The page for guest \"{podcast_guest} is ambiguous. Possible matches are:')\n",
    "      print(e.options)\n",
    "      podcast_guest_summary = \"Not Available\"\n",
    "  else:\n",
    "    podcast_guest = \"Not Available\"\n",
    "    podcast_guest_org = \"Not Available\"\n",
    "    podcast_guest_title = \"Not Available\"\n",
    "    podcast_guest_summary = \"Not Available\"\n",
    "\n",
    "  podcastGuest = {}\n",
    "  podcastGuest['name'] = podcast_guest\n",
    "  podcastGuest['org'] = podcast_guest_org\n",
    "  podcastGuest['title'] = podcast_guest_title\n",
    "  podcastGuest['summary'] = podcast_guest_summary\n",
    "  return podcastGuest\n",
    "\n",
    "@stub.function(image=corise_image, secret=modal.Secret.from_name(\"my-openai-secret\"))\n",
    "def get_podcast_highlights(podcast_transcript):\n",
    "  import openai\n",
    "  instructPrompt = \"\"\"\n",
    "  You are a podcast editor and producer. You are provided with the transcript of a podcast episode and have to identify the 5 most significant moments in the podcast as highlights\n",
    "  - Each highlight needs to be a statement by one of the podcast guests\n",
    "  - Each highlight has to be impactful and an important takeaway from this podcast episode\n",
    "  - Each highlight must be concise and make listeners want to hear more about why the podcast guest said that\n",
    "  - The highlights that you pick must be spread out throughout the episode\n",
    "\n",
    "  Provide only the highlights and nothing else. Provide the full sentence of the highlight and format it as follows -\n",
    "\n",
    "  - Highlight 1 of the podcast\n",
    "  - Highlight 2 of the podcast\n",
    "  - Highlight 3 of the podcast\n",
    "  \"\"\"\n",
    "\n",
    "  request = instructPrompt + podcast_transcript\n",
    "  chatOutput = openai.ChatCompletion.create(model=\"gpt-3.5-turbo-16k\",\n",
    "                                            messages=[{\"role\": \"system\", \"content\": \"You are a helpful assistant.\"},\n",
    "                                                      {\"role\": \"user\", \"content\": request}\n",
    "                                                      ]\n",
    "                                            )\n",
    "  podcastHighlights = chatOutput.choices[0].message.content\n",
    "  return podcastHighlights\n",
    "\n",
    "@stub.function(image=corise_image, secret=modal.Secret.from_name(\"my-openai-secret\"), timeout=1200)\n",
    "def process_podcast(url, path):\n",
    "  output = {}\n",
    "  podcast_details = get_transcribe_podcast.call(url, path)\n",
    "  podcast_summary = get_podcast_summary.call(podcast_details['episode_transcript'])\n",
    "  podcast_guest = get_podcast_guest.call(podcast_details['episode_transcript'])\n",
    "  podcast_highlights = get_podcast_highlights.call(podcast_details['episode_transcript'])\n",
    "  output['podcast_details'] = podcast_details\n",
    "  output['podcast_summary'] = podcast_summary\n",
    "  output['podcast_guest'] = podcast_guest\n",
    "  output['podcast_highlights'] = podcast_highlights\n",
    "  return output\n",
    "\n",
    "@stub.local_entrypoint()\n",
    "def test_method(url, path):\n",
    "  output = {}\n",
    "  podcast_details = get_transcribe_podcast.call(url, path)\n",
    "  print (\"Podcast Summary: \", get_podcast_summary.call(podcast_details['episode_transcript']))\n",
    "  print (\"Podcast Guest Information: \", get_podcast_guest.call(podcast_details['episode_transcript']))\n",
    "  print (\"Podcast Highlights: \", get_podcast_highlights.call(podcast_details['episode_transcript']))"
   ]
  },
  {
   "cell_type": "code",
   "execution_count": 66,
   "metadata": {},
   "outputs": [],
   "source": [
    "!modal run podcast_backend.py --url https://access.acast.com/rss/d556eb54-6160-4c85-95f4-47d9f5216c49 --path \"\""
   ]
  },
  {
   "cell_type": "code",
   "execution_count": 50,
   "metadata": {},
   "outputs": [],
   "source": [
    "!modal deploy podcast_backend.py"
   ]
  },
  {
   "cell_type": "code",
   "execution_count": 52,
   "metadata": {},
   "outputs": [
    {
     "name": "stderr",
     "output_type": "stream",
     "text": [
      "C:\\Users\\Jeffrey.Roth.NMES\\AppData\\Local\\Temp\\ipykernel_23880\\1431846519.py:4: DeprecationError: 2023-08-16: `f.call(...)` is deprecated. It has been renamed to `f.remote(...)`\n",
      "  output = f.call('https://feeds.npr.org/510289/podcast.xml', '')\n"
     ]
    }
   ],
   "source": [
    "# Trying to call the deployed function from another python session\n",
    "import modal\n",
    "f = modal.Function.lookup(\"corise-podcast-project\", \"process_podcast\")\n",
    "output = f.call('https://feeds.npr.org/510289/podcast.xml', '')"
   ]
  },
  {
   "cell_type": "code",
   "execution_count": 54,
   "metadata": {},
   "outputs": [],
   "source": [
    "import json\n",
    "with open(\"podcast-3.json\", \"w\") as outfile:\n",
    "  json.dump(output, outfile)"
   ]
  },
  {
   "cell_type": "markdown",
   "metadata": {},
   "source": [
    "# Part 3: Deploying the front-end application"
   ]
  },
  {
   "cell_type": "code",
   "execution_count": 6,
   "metadata": {},
   "outputs": [
    {
     "name": "stdout",
     "output_type": "stream",
     "text": [
      "Overwriting podcast_frontend.py\n"
     ]
    }
   ],
   "source": [
    "%%writefile podcast_frontend.py\n",
    "import streamlit as st\n",
    "import modal\n",
    "import json\n",
    "import os\n",
    "\n",
    "def main():\n",
    "    st.title(\"Newsletter Dashboard\")\n",
    "\n",
    "    available_podcast_info = create_dict_from_json_files('.')\n",
    "\n",
    "    # Left section - Input fields\n",
    "    st.sidebar.header(\"Podcast RSS Feeds\")\n",
    "\n",
    "    # Dropdown box\n",
    "    st.sidebar.subheader(\"Available Podcasts Feeds\")\n",
    "    selected_podcast = st.sidebar.selectbox(\"Select Podcast\", options=available_podcast_info.keys())\n",
    "\n",
    "    if selected_podcast:\n",
    "\n",
    "        podcast_info = available_podcast_info[selected_podcast]\n",
    "\n",
    "        # Right section - Newsletter content\n",
    "        st.header(\"Newsletter Content\")\n",
    "\n",
    "        # Display the podcast title\n",
    "        st.subheader(\"Episode Title\")\n",
    "        st.write(podcast_info['podcast_details']['episode_title'])\n",
    "\n",
    "        # Display the podcast summary and the cover image in a side-by-side layout\n",
    "        col1, col2 = st.columns([7, 3])\n",
    "\n",
    "        with col1:\n",
    "            # Display the podcast episode summary\n",
    "            st.subheader(\"Podcast Episode Summary\")\n",
    "            st.write(podcast_info['podcast_summary'])\n",
    "\n",
    "        with col2:\n",
    "            st.image(podcast_info['podcast_details']['episode_image'], caption=\"Podcast Cover\", width=300, use_column_width=True)\n",
    "\n",
    "        # Display the podcast guest and their details in a side-by-side layout\n",
    "        col3, col4 = st.columns([3, 7])\n",
    "\n",
    "        with col3:\n",
    "            st.subheader(\"Podcast Guest\")\n",
    "            st.write(podcast_info['podcast_guest']['name'])\n",
    "\n",
    "        with col4:\n",
    "            st.subheader(\"Podcast Guest Details\")\n",
    "            st.write(podcast_info[\"podcast_guest\"]['summary'])\n",
    "\n",
    "        # Display the five key moments\n",
    "        st.subheader(\"Key Moments\")\n",
    "        key_moments = podcast_info['podcast_highlights']\n",
    "        for moment in key_moments.split('\\n'):\n",
    "            st.markdown(\n",
    "                f\"<p style='margin-bottom: 5px;'>{moment}</p>\", unsafe_allow_html=True)\n",
    "\n",
    "    # User Input box\n",
    "    st.sidebar.subheader(\"Add and Process New Podcast Feed\")\n",
    "    url = st.sidebar.text_input(\"Link to RSS Feed\")\n",
    "\n",
    "    process_button = st.sidebar.button(\"Process Podcast Feed\")\n",
    "    st.sidebar.markdown(\"**Note**: Podcast processing can take upto 5 mins, please be patient.\")\n",
    "\n",
    "    if process_button:\n",
    "\n",
    "        # Call the function to process the URLs and retrieve podcast guest information\n",
    "        podcast_info = process_podcast_info(url)\n",
    "\n",
    "        # Right section - Newsletter content\n",
    "        st.header(\"Newsletter Content\")\n",
    "\n",
    "        # Display the podcast title\n",
    "        st.subheader(\"Episode Title\")\n",
    "        st.write(podcast_info['podcast_details']['episode_title'])\n",
    "\n",
    "        # Display the podcast summary and the cover image in a side-by-side layout\n",
    "        col1, col2 = st.columns([7, 3])\n",
    "\n",
    "        with col1:\n",
    "            # Display the podcast episode summary\n",
    "            st.subheader(\"Podcast Episode Summary\")\n",
    "            st.write(podcast_info['podcast_summary'])\n",
    "\n",
    "        with col2:\n",
    "            st.image(podcast_info['podcast_details']['episode_image'], caption=\"Podcast Cover\", width=300, use_column_width=True)\n",
    "\n",
    "        # Display the podcast guest and their details in a side-by-side layout\n",
    "        col3, col4 = st.columns([3, 7])\n",
    "\n",
    "        with col3:\n",
    "            st.subheader(\"Podcast Guest\")\n",
    "            st.write(podcast_info['podcast_guest']['name'])\n",
    "\n",
    "        with col4:\n",
    "            st.subheader(\"Podcast Guest Details\")\n",
    "            st.write(podcast_info[\"podcast_guest\"]['summary'])\n",
    "\n",
    "        # Display the five key moments\n",
    "        st.subheader(\"Key Moments\")\n",
    "        key_moments = podcast_info['podcast_highlights']\n",
    "        for moment in key_moments.split('\\n'):\n",
    "            st.markdown(\n",
    "                f\"<p style='margin-bottom: 5px;'>{moment}</p>\", unsafe_allow_html=True)\n",
    "\n",
    "def create_dict_from_json_files(folder_path):\n",
    "    json_files = [f for f in os.listdir(folder_path) if f.endswith('.json')]\n",
    "    data_dict = {}\n",
    "\n",
    "    for file_name in json_files:\n",
    "        file_path = os.path.join(folder_path, file_name)\n",
    "        with open(file_path, 'r') as file:\n",
    "            podcast_info = json.load(file)\n",
    "            podcast_name = podcast_info['podcast_details']['podcast_title']\n",
    "            # Process the file data as needed\n",
    "            data_dict[podcast_name] = podcast_info\n",
    "\n",
    "    return data_dict\n",
    "\n",
    "def process_podcast_info(url):\n",
    "    f = modal.Function.lookup(\"corise-podcast-project\", \"process_podcast\")\n",
    "    output = f.call(url, '')\n",
    "    return output\n",
    "\n",
    "if __name__ == '__main__':\n",
    "    main()"
   ]
  },
  {
   "cell_type": "code",
   "execution_count": 56,
   "metadata": {},
   "outputs": [
    {
     "name": "stdout",
     "output_type": "stream",
     "text": [
      "Overwriting requirements.txt\n"
     ]
    }
   ],
   "source": [
    "%%writefile requirements.txt\n",
    "streamlit\n",
    "modal"
   ]
  },
  {
   "cell_type": "code",
   "execution_count": null,
   "metadata": {},
   "outputs": [],
   "source": []
  }
 ],
 "metadata": {
  "kernelspec": {
   "display_name": ".venv",
   "language": "python",
   "name": "python3"
  },
  "language_info": {
   "codemirror_mode": {
    "name": "ipython",
    "version": 3
   },
   "file_extension": ".py",
   "mimetype": "text/x-python",
   "name": "python",
   "nbconvert_exporter": "python",
   "pygments_lexer": "ipython3",
   "version": "3.11.4"
  },
  "orig_nbformat": 4
 },
 "nbformat": 4,
 "nbformat_minor": 2
}
