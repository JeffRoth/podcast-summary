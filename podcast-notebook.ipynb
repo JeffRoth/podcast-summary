{
 "cells": [
  {
   "cell_type": "markdown",
   "metadata": {},
   "source": [
    "# Part 1: Podcast Transcription and Information Extraction"
   ]
  },
  {
   "cell_type": "markdown",
   "metadata": {},
   "source": [
    "### Step 1 - Retrieve the audio file"
   ]
  },
  {
   "cell_type": "code",
   "execution_count": 3,
   "metadata": {},
   "outputs": [
    {
     "name": "stdout",
     "output_type": "stream",
     "text": [
      "Collecting feedparser\n",
      "  Downloading feedparser-6.0.10-py3-none-any.whl (81 kB)\n",
      "     ---------------------------------------- 0.0/81.1 kB ? eta -:--:--\n",
      "     ---------------------------------------- 81.1/81.1 kB 2.3 MB/s eta 0:00:00\n",
      "Collecting sgmllib3k (from feedparser)\n",
      "  Downloading sgmllib3k-1.0.0.tar.gz (5.8 kB)\n",
      "  Installing build dependencies: started\n",
      "  Installing build dependencies: finished with status 'done'\n",
      "  Getting requirements to build wheel: started\n",
      "  Getting requirements to build wheel: finished with status 'done'\n",
      "  Preparing metadata (pyproject.toml): started\n",
      "  Preparing metadata (pyproject.toml): finished with status 'done'\n",
      "Building wheels for collected packages: sgmllib3k\n",
      "  Building wheel for sgmllib3k (pyproject.toml): started\n",
      "  Building wheel for sgmllib3k (pyproject.toml): finished with status 'done'\n",
      "  Created wheel for sgmllib3k: filename=sgmllib3k-1.0.0-py3-none-any.whl size=6061 sha256=ce0f2251aa7e9c568c1240926aeb89c0efafd68d8d7105f0b1ebe7769d46e2c7\n",
      "  Stored in directory: c:\\users\\jeffr\\appdata\\local\\pip\\cache\\wheels\\3b\\25\\2a\\105d6a15df6914f4d15047691c6c28f9052cc1173e40285d03\n",
      "Successfully built sgmllib3k\n",
      "Installing collected packages: sgmllib3k, feedparser\n",
      "Successfully installed feedparser-6.0.10 sgmllib3k-1.0.0\n",
      "Note: you may need to restart the kernel to use updated packages.\n"
     ]
    }
   ],
   "source": [
    "%pip install feedparser"
   ]
  },
  {
   "cell_type": "code",
   "execution_count": 1,
   "metadata": {},
   "outputs": [],
   "source": [
    "import feedparser\n",
    "podcast_feed_url = \"https://feeds.acast.com/public/shows/d556eb54-6160-4c85-95f4-47d9f5216c49\"\n",
    "podcast_feed = feedparser.parse(podcast_feed_url)"
   ]
  },
  {
   "cell_type": "code",
   "execution_count": 2,
   "metadata": {},
   "outputs": [
    {
     "name": "stderr",
     "output_type": "stream",
     "text": [
      "UsageError: Line magic function `%wget` not found.\n"
     ]
    }
   ],
   "source": [
    "for item in podcast_feed.entries[0].links:\n",
    "  if (item['type'] == 'audio/mpeg'):\n",
    "    episode_url = item.href\n",
    "%wget -O podcast_episode.mp3 {episode_url}"
   ]
  },
  {
   "cell_type": "markdown",
   "metadata": {},
   "source": [
    "### Step 2 - Transcribe the audio file"
   ]
  },
  {
   "cell_type": "code",
   "execution_count": 6,
   "metadata": {},
   "outputs": [
    {
     "name": "stdout",
     "output_type": "stream",
     "text": [
      "Note: you may need to restart the kernel to use updated packages.\n"
     ]
    }
   ],
   "source": [
    "%pip install git+https://github.com/openai/whisper.git  -q"
   ]
  },
  {
   "cell_type": "code",
   "execution_count": 11,
   "metadata": {},
   "outputs": [
    {
     "name": "stderr",
     "output_type": "stream",
     "text": [
      "UsageError: Line magic function `%wget` not found.\n"
     ]
    }
   ],
   "source": [
    "%winget install ffmpeg"
   ]
  },
  {
   "cell_type": "code",
   "execution_count": 3,
   "metadata": {},
   "outputs": [],
   "source": [
    "import pathlib\n",
    "import whisper"
   ]
  },
  {
   "cell_type": "code",
   "execution_count": 4,
   "metadata": {},
   "outputs": [
    {
     "name": "stdout",
     "output_type": "stream",
     "text": [
      "Model has been downloaded, no re-download necessary\n"
     ]
    }
   ],
   "source": [
    "# Perform download only once and save to Network storage\n",
    "model_path = pathlib.Path.cwd()\n",
    "if model_path.joinpath(\"medium.pt\").exists():\n",
    "  print (\"Model has been downloaded, no re-download necessary\")\n",
    "else:\n",
    "  print (\"Starting download of Whisper Model\")\n",
    "  whisper._download(whisper._MODELS[\"medium\"], str(model_path), False)"
   ]
  },
  {
   "cell_type": "code",
   "execution_count": 5,
   "metadata": {},
   "outputs": [],
   "source": [
    "# Load model from saved location\n",
    "model = whisper.load_model('medium', device='cpu', download_root=model_path)"
   ]
  },
  {
   "cell_type": "code",
   "execution_count": 7,
   "metadata": {},
   "outputs": [
    {
     "name": "stdout",
     "output_type": "stream",
     "text": [
      "CPU times: total: 2h 3min 50s\n",
      "Wall time: 15min 32s\n"
     ]
    }
   ],
   "source": [
    "%%time\n",
    "result = model.transcribe(\"podcast_episode.mp3\")"
   ]
  },
  {
   "cell_type": "code",
   "execution_count": 8,
   "metadata": {},
   "outputs": [
    {
     "data": {
      "text/plain": [
       "\" Hello and welcome to The Intelligence from The Economist. I'm Jason Palmer. And I'm Aura Ogunbiyi. Every weekday we provide a fresh perspective on the events shaping your world. Egg freezing is supposed to give women the opportunity to delay having children. Their fertility is, well, frozen in time. But as yet, there's not much data on how successful it is. We pick through some of the best numbers that are available. And our obituaries editor remembers Isabel Crook, the Canadian anthropologist who saw the founding of the Chinese Communist Party and became an ardent supporter of its cause, despite its horrors. But first. Home ownership is a cornerstone of the American dream, but it has rarely been harder to attain than today. Those looking to enter the property market face costly mortgages and limited choice. They also face high property prices, despite changes from the Federal Reserve. In July, the Fed raised interest rates yet again for the 11th time since March 2022. During that tim\""
      ]
     },
     "execution_count": 8,
     "metadata": {},
     "output_type": "execute_result"
    }
   ],
   "source": [
    "# Check the transcription happened correctly by peeking into the first 1000 characters\n",
    "podcast_transcript = result['text']\n",
    "result['text'][:1000]"
   ]
  },
  {
   "cell_type": "code",
   "execution_count": 9,
   "metadata": {},
   "outputs": [
    {
     "data": {
      "text/plain": [
       "\" Hello and welcome to The Intelligence from The Economist. I'm Jason Palmer. And I'm Aura Ogunbiyi. Every weekday we provide a fresh perspective on the events shaping your world. Egg freezing is supposed to give women the opportunity to delay having children. Their fertility is, well, frozen in time. But as yet, there's not much data on how successful it is. We pick through some of the best numbers that are available. And our obituaries editor remembers Isabel Crook, the Canadian anthropologist who saw the founding of the Chinese Communist Party and became an ardent supporter of its cause, despite its horrors. But first. Home ownership is a cornerstone of the American dream, but it has rarely been harder to attain than today. Those looking to enter the property market face costly mortgages and limited choice. They also face high property prices, despite changes from the Federal Reserve. In July, the Fed raised interest rates yet again for the 11th time since March 2022. During that time, that bank rate has gone from near zero to more than 5%. And according to Chairman Jerome Powell, there may well be more hikes on the horizon. We are prepared to raise rates further, if appropriate, and intend to hold policy at a restrictive level until we are confident that inflation is moving sustainably down toward our objective. Such rate jumps would normally address at least one of the problems facing prospective homeowners, cost, even as it makes loans harder to come by. But while the property sector is usually sensitive to interest rate changes, the US housing market remains stubbornly buoyant. Interest rates in America have gone up quite dramatically, and that has pushed mortgage rates to their highest in four decades. Simon Rabinovich is The Economist's US economics editor. Normally you would think that would reduce house prices. In fact, just the opposite has happened. Prices have been rising this year back towards record highs. And for anybody who's trying to get into the housing market, it's damn near impossible. And normally, when interest rates rise, house prices tend to fall. Why is that not happening this time? Well, as you say, I mean, the normal expected relationship is that as mortgages go up, you would think that housing prices would come down. Just to give you a sense of how expensive mortgage costs are now today, just a few years ago, the average monthly mortgage payment was about 14, 15 percent of the average monthly income. That's now closer to 29 percent. So it's more than a doubling in the space of three years. And of course, housing prices themselves have not come down. And the reason for that really is that what's happened is that you've had a big freeze in the housing market. A lot of people locked in very, very low rates over the past number of years. In America, mortgages tend to be for extremely long terms, fixed rates that last for roughly 30 years. And so nobody wants to sell their house because selling their house would imply that you're giving up your sweetheart deal of a mortgage and shifting to a mortgage rate that's twice as high. So the volume of sales of existing homes has gone down quite dramatically. So the inventory of available housing is much lower than it was a couple of years ago. So demand is down, but supply is down by roughly an equal amount. And usually you'd expect all this to have a dampening effect on economic activity. Is that happening? Well, so yes and no. It's actually quite complicated in the sense that, you know, you're right, that if housing transactions are down, you would normally think that that would then have a negative broad consequence for the economy. But in fact, two different things have compensated for that downward shift. So number one, there's been a lot of spending on remodeling. People who may have wanted to sell their homes and perhaps upgrade instead are upgrading their home in place. So they're spending a lot of money on remodeling upwards of about 500, $600 billion a year for the economy as a whole. That's roughly 2% of GDP and is 40% higher than what was registered back in 2019. The second effect is that the existing home market is in a state of suspended animation, but the new built home market has actually been doing a lot better. So you still have developers, house builders that are buying up land, that are building lots of new homes. Because there's so little competition from existing homes on the market, they're actually doing pretty well. So if you look purely at housing construction, that has actually rebounded fairly strongly over the past year. So the macroeconomic consequences of the freeze in the housing market have actually been reasonably positive. And Simon, why are new builds doing so much better even in this difficult market? So the first factor, as I mentioned, is that simply there's availability. If you look at the overall inventory of the housing stock, you know, what is on the market for people New build homes typically are roughly 10% of the market. Over the past year, they've been about one third of the market. So there's homes that people can buy. But the second thing is that the home builders have actually been really aggressive with offering kind of a range of incentives to home buyers. And by far the most popular of these incentives is that they themselves have been lowering mortgage rates. They've been what's called buying down mortgage rates, basically prepaying a certain percentage of the mortgage and then offering a lower rate to the home buyers. So over the past year, the say the average mortgage rate was about 6.5%. But if you were purely buying a new home, you could actually be getting a mortgage rate of 5%. Now, the reason that the home builders were able to do that is that they have really strong balance sheets, a lot of them locked in cheaper financing early on in the pandemic, because house prices are up, they have pretty hefty margins. So from their perspective, it's basically like a discount on the home price, say a five or six percent discount for the home buyer, it looks like a really, really nice mortgage rate, especially relative to what they could get on an existing home. So a lot of activity has moved from the existing home market to the new home market. So that seems like a short term solution, basically offering discounts to manage demand. Is that going to be viable in the long term? Well the higher that mortgage rates go, the less viable it will be. You know, if you just think of it in terms of the discounted mortgage rates. So say they were able to offer a 5% mortgage rate when mortgage rates for the economy as a whole were closer to 6.5%. Well now mortgage rates for the economy as a whole are going up to about 7.5%. So the discount mortgage rate that the home builders can offer is also going up and at 6%, there will be less demand than there was at 5%. And you know, as far as the sustainability for their balance sheets is concerned, you know, at some point the margin compression does also begin to become a problem for them. So I think they've been successful up till now in propping up demand, but that's going to be harder going forward. And also to the extent that they are successful, that home prices don't fall, that's going to be a concern for the Federal Reserve. How so? What do you mean? Well the big underlying concern for the Fed is how does the property market activity interact with inflation more generally? Now it's a kind of complicated relationship. You know, people often think about home prices equating to inflation. In fact, if you look at inflation indexes, it's not the price of homes that are being purchased, but it's actually the rental level, which is incorporated into the inflation indexes. Rents have come down over the past year. That is actually feeding through into inflation with a lag. That's a very good thing. But the tighter that the housing market is, the harder it is for people to buy homes, the more expensive new homes are, more people will be pushed into the rental market. So there's a lag with all these things, but you would expect that the resilience in the property market and the rising house prices will eventually feed through into rising rents as well, and that in turn will feed through into inflation. So I mean, of course, the Fed does not want to see a collapse in the housing market, but they also don't want to see a strong rebound, especially when housing prices are as high as they currently are. So this does complicate the inflation path for the Fed, and I think we'll see some of those complications later next year. So what do you make of this resilience in housing? Is it going to last? Well, I think at the highest level, if you look at it, it really is quite remarkable that the housing market has been as resilient as it has been despite having four decade highs in mortgage rates. For people who are trying to get into the housing market, for couples who are trying to buy their first home, it's an incredibly frustrating period. Housing affordability is the worst it's been since 1985, and of course, the Fed is concerned about whether or not this resilience will make its job in tackling inflation that much more difficult. I mean, of course, nobody in their right mind wants to see a property crash in America, but a little bit of softness would be very welcome. Simon, thank you so much for your time. Thank you, Aura. Psst, hey, psst, do you want to make a small amount of cash? We're doing some research to help us continue to improve our shows and looking for listeners to participate, particularly those who haven't filled in one of our surveys before. We'll be keeping in touch with you via WhatsApp over eight weeks, and then it's payday, a modest one. Help us out by clicking the link in the show notes. A decade or so ago, commercial egg freezing companies began offering women more control over their fertility. It seemed that through technology, women could overcome a time limit on having children that's imposed by the finite number of eggs they have at birth. Freeze Now, IVF later was the idea, but it's only now becoming clear just how much the technique is delivering on its promise. As part of a big look that the economists took into IVF, I was particularly interested in the largest American study on elective egg freezing to date, which was published last year. In that study, researchers found that 39% of the women they observed were able to have at least one baby using the eggs that they'd frozen, which may have involved multiple attempts over the 15-year period. So before we talk about the study and what it found, talk us through the process of egg freezing. So, egg freezing is a lot like the first part of what IVF treatment is like. So what happens is women will take daily hormone injections to boost the number of eggs capable of being fertilized, which are then removed from the ovaries using a needle, dehydrated, and frozen. These frozen eggs will then be thawed at a later date, fertilized, and then the embryo will be implanted into the womb. And as a procedure, how common is that? Egg freezing only really went mainstream about 10 years or so ago. It was considered experimental in the U.S. until 2012. So relatively few women have tried egg freezing, and the data is limited. Even fewer women have thawed their eggs, which also makes it kind of hard to know how common or successful it is. And most research also doesn't differentiate between elective egg freezing and egg freezing done for medical purposes. So for example, women who are going to have to undergo chemotherapy who may want to freeze their eggs in case they want to use them later. So that lack of differentiation could also skew results. And so in that sense, with a small numbers problem, how valuable is this study? This study, which was done by researchers at New York University, only observed 543 at just one fertility clinic in the city. But their paper stands out because it followed real clinical outcomes for almost two decades, whereas most other studies are based just on mathematical modeling. So we have this headline figure of a 39% success rate, but what else caught your eye in this study? So the current data suggests that there are two important factors when it comes to egg freezing. The age at when you freeze your eggs and the number of eggs stored. If a woman first froze her eggs before she was 38 years old, she had a 51% chance of at least one live birth in the study. And if she thought at least 20 eggs, then the chances went up to 70%. But for a woman who first froze her eggs when she was 41 years old or older, the success rate was only 23%. Although if she thought at least 10 eggs, the success rate went up to 33%. How does this one compare with the other studies that you mentioned? There are other studies, including one on elective egg freezing that was conducted in Spain, as well as an analysis of countrywide data in the US that have yielded similar conclusions. If you look at it one way, the odds of having a baby from frozen eggs aren't especially high, but those chances can look stronger when you put it in other contexts. There was a report published in the UK in 2018 that suggested that at 18 years old, a woman had a 25% chance of conceiving naturally every month. But by the time she got to 35, that chance would fall to 10%. But for women who freeze their eggs, the age at which they use them and the length of time that they remain frozen seems to have no impact on their success rate. I mean, objectively, 39% success rate is not that big a number. It suggests that there's nothing like a guarantee of prolonged fertility here. Yeah, definitely. So looked at one way, those odds really aren't high, but they are stronger in certain contexts. There's a real concern that demand for egg freezing is from a belief that it's a failsafe, but people have to remember that being able to start a family is never a certainty. What egg freezing offers instead is a slowing down of the rate at which it becomes harder for hopeful mothers to conceive. Erica, thanks so much for your time. Thanks for having me. The best moment of Isabel Crook's life came on October the 1st, 1949, when she was at the occasion of the founding of the Chinese Communist Party. Anne Rowe is The Economist's obituaries editor. It took place in Tiananmen Square, in the presence of Mao and all the communist leaders, with huge crowds and processions that went on for six hours of both civilians and soldiers. She and her husband David were some of the very few Westerners there. She thought she had never seen anything as joyful as that moment. Her cause, her great overriding passion, was communism. She had always wanted to have a cause in her life as she was growing up, hadn't seemed to find it in religion or anything else, but she'd started to read books about Marxism and communism. Eventually met David Crook, who was an ardent communist. He was actually a spy for the Soviet Union and had also fought with the Republicans in the Spanish Civil War. So from then on, she was utterly caught up in his own passion. She was comrade Isabel to everyone. She studied anthropology at Toronto University and went back to China to do her field work in remote villages in Sichuan province in the far west. And when she did this field work, she really became Chinese to all intents and purposes. She would sleep on a brick bed, she would wear homespun clothes, eat as the Chinese ate, just adore being in a Chinese village, living that life with the people. When she did her field work, China was being run by a nationalist government. And Japan had just invaded. The nationalist government was looking pretty weak, but it was trying to carry out agrarian reforms. She looked at how the reforms were going and found that the nationalist government was really not managing to get anything to work at all there. First of all, it was press-ganging the men to try to go and fight the Japanese. It was also imposing swindling taxes on farmers who simply couldn't afford it. Her studies had been interrupted by the Second World War, but she and her husband had come back to live in China. And she went to a village called Ten Mile Inn to investigate how it would look now that the nationalist government was on its last legs. And it was now the communists who were in the ascendant. And the People's Liberation Army, under the ultimate leadership of Mao, were gradually taking over the country and freeing village after village. And she helped to enhance the revolution by going out and harvesting or hoeing the fields. All this activity did raise the question of whether the studies she was producing, which were very carefully produced and on the basis of lots of interviews and gathering of data, whether those reports were really worth anything if she was so committed to one side. But in general, she didn't notice any of the horrors that the outside world did. The Cultural Revolution, for example, even though her husband David was actually arrested and held for five years in jail by the young students and tufts who were promoting the Cultural Revolution, she didn't hold it against the government. And nor did she hold against them the fact that she was under house arrest for much of that time. As David had said to her, if you're suffering from a long lingering disease, wouldn't you rather have a fairly violent operation than go on suffering? So she would always support the Cultural Revolution and say she found house arrest rather restful and useful. She managed to study volumes one to four of Mao's complete works and found he had a great sense of humor. She was possibly more worried as the years went on by, first of all, the protests and demonstrations in Tiananmen Square in 1989. She did protest about those as her husband did, and they took plastic sheets and bottled water to the students in the square and wrote to the people's daily appealing to the government not to use force against the students, which of course the government ignored. She was perhaps just as bothered though by the direction China went in, especially in the last decades when she was there, when after Deng Xiaoping's reforms in the late 1970s, China became a rip-roaring capitalist and enterprising country. When it began to become the great producer of goods for the world and the people began to care a good deal about consumption and generally becoming rather western in their love of money and enterprise. She was bothered by capitalism, which you could see running riot in China. And yet when she came to think about it, perhaps China had simply, under Mao, built its house with the stones that were there, used what it had and the needs of the people at the time to change the way it was run. And by the time the 19th century and by the time the 1970s had come along, in fact, there was a need for something different in China, different stones to build a different house. And that was the way she could justify it to herself. She was still absolutely intent to give China whatever its people wanted and wherever its people or wherever the party told her to go, then she would go there and do what she could to help. Ann Rowe on Isabelle Crook who has died aged 107. That's all for this episode of The Intelligence. The show's editors are Chris Impey and Jack Gill. Our deputy editor is John Joe Devlin and our sound engineer is Will Rowe. Our senior producers are Sam Westrin and Rory Galloway. Our senior creative producer is William Warren. Our producers are Alize Jean-Baptiste, Kevin Caners, Barclay Bram and Sarah Larniuk. And our assistant producer is Henrietta McFarlane. Extra production help this week from Maggie Kadifa and Benji Guy. We'll all see you back here on Monday.\""
      ]
     },
     "execution_count": 9,
     "metadata": {},
     "output_type": "execute_result"
    }
   ],
   "source": [
    "podcast_transcript"
   ]
  },
  {
   "cell_type": "markdown",
   "metadata": {},
   "source": [
    "### Step 3 - Create a summary of the podcast"
   ]
  },
  {
   "cell_type": "code",
   "execution_count": null,
   "metadata": {},
   "outputs": [],
   "source": [
    "%pip install openai\n",
    "%pip install tiktoken"
   ]
  },
  {
   "cell_type": "code",
   "execution_count": 12,
   "metadata": {},
   "outputs": [],
   "source": [
    "import openai\n",
    "from getpass import getpass\n",
    "\n",
    "openai.api_key = getpass('Enter the OpenAI API Key in the cell  ')"
   ]
  },
  {
   "cell_type": "code",
   "execution_count": null,
   "metadata": {},
   "outputs": [],
   "source": [
    "# we can confirm that the API key works by listing all the OpenAI models\n",
    "models = openai.Model.list()\n",
    "for model in models[\"data\"]:\n",
    "  print (model[\"root\"])"
   ]
  },
  {
   "cell_type": "code",
   "execution_count": 14,
   "metadata": {},
   "outputs": [
    {
     "name": "stdout",
     "output_type": "stream",
     "text": [
      "Number of tokens in input prompt  4166\n"
     ]
    }
   ],
   "source": [
    "import tiktoken\n",
    "enc = tiktoken.encoding_for_model(\"gpt-3.5-turbo\")\n",
    "print (\"Number of tokens in input prompt \", len(enc.encode(podcast_transcript)))"
   ]
  },
  {
   "cell_type": "code",
   "execution_count": 15,
   "metadata": {},
   "outputs": [],
   "source": [
    "instructPrompt = \"\"\"\n",
    "Please provide a summary of the following podcast, the transcript for which is provided below.\n",
    "\n",
    "Here is how I would like you to perform this task:\n",
    "- Identify the main speakers or participants in the podcast, and classify them as hosts or guests. Generally the podcast will be narrated by one or more hosts. You can generally identify a guest because they will be introduced by the host, and will then be interviewed by the host. For each participant, identify what organization they belong to (if any) and what their title is. Not every episode will have a guest.\n",
    "- Break the podcast into sections, based on topics or themes.\n",
    "- For each topic, summarize the topic with a concise summary.\n",
    "\n",
    "When printing your summary, please organize it as follows:\n",
    "- At the beginning of your response, for each podcast guest (not including the host/s), print the following information in the following format: GUEST NAME: [name]\\nGUEST ORGANIZATION: [org]\\nGUEST TITLE: [title]\n",
    "- If there is no guest, then set [name] [org] and [title] equal to \"none\"\n",
    "- After printing the guest information, print the summary of the episode, breaking it into the individual topics if needed.\n",
    "- Finally, print any interesting takeaways from the episode. These should be items that are the most interesting or surprising moments in the entire episode. Please limit these to a maximum of 3 bullet points.\n",
    "\n",
    "Here is the podcast transcript:\n",
    "\n",
    "\n",
    "\"\"\"\n",
    "\n",
    "request = instructPrompt + podcast_transcript"
   ]
  },
  {
   "cell_type": "code",
   "execution_count": 16,
   "metadata": {},
   "outputs": [],
   "source": [
    "chatOutput = openai.ChatCompletion.create(model=\"gpt-3.5-turbo-16k\",\n",
    "                                            messages=[{\"role\": \"system\", \"content\": \"You are a helpful assistant.\"},\n",
    "                                                      {\"role\": \"user\", \"content\": request}\n",
    "                                                      ]\n",
    "                                            )"
   ]
  },
  {
   "cell_type": "code",
   "execution_count": 17,
   "metadata": {},
   "outputs": [
    {
     "data": {
      "text/plain": [
       "'none\\nSummary:\\n- The US housing market has remained buoyant despite rising interest rates, with house prices rising back towards record highs. This is unusual, as higher interest rates typically lead to lower house prices.\\n- The reason for this is a freeze in the housing market, with fewer people selling their homes due to the higher mortgage rates. This has led to a decrease in the volume of sales and a lower inventory of available housing.\\n- However, the housing market freeze has led to increased spending on remodeling and a boost in the new home market, as developers are building more homes due to limited competition. This has supported the housing construction sector and had positive macroeconomic consequences.\\n- The high house prices and resilient housing market pose concerns for the Federal Reserve in managing inflation, as the strong rebound in housing prices could lead to rising rents and increased inflationary pressures.\\n- While the housing market has remained resilient thus far, the sustainability of the high prices and the viability of offering discounts on mortgage rates in the long term may become more challenging for home builders as mortgage rates rise further.'"
      ]
     },
     "execution_count": 17,
     "metadata": {},
     "output_type": "execute_result"
    }
   ],
   "source": [
    "podcastSummary = chatOutput.choices[0].message.content\n",
    "podcastSummary"
   ]
  },
  {
   "cell_type": "markdown",
   "metadata": {},
   "source": [
    "### Step 4 - Using functions to extract additional information to provide additional context on the episode"
   ]
  },
  {
   "cell_type": "code",
   "execution_count": 18,
   "metadata": {},
   "outputs": [
    {
     "name": "stdout",
     "output_type": "stream",
     "text": [
      "Number of tokens in input prompt  1023\n"
     ]
    }
   ],
   "source": [
    "request = podcast_transcript[:5000]\n",
    "enc = tiktoken.encoding_for_model(\"gpt-3.5-turbo\")\n",
    "print (\"Number of tokens in input prompt \", len(enc.encode(request)))"
   ]
  },
  {
   "cell_type": "code",
   "execution_count": 19,
   "metadata": {},
   "outputs": [],
   "source": [
    "completion = openai.ChatCompletion.create(\n",
    "    model=\"gpt-3.5-turbo\",\n",
    "    messages=[{\"role\": \"user\", \"content\": request}],\n",
    "    functions=[\n",
    "    {\n",
    "        \"name\": \"get_podcast_guest_information\",\n",
    "        \"description\": \"Get information on the podcast guest using their name to search on Wikipedia\",\n",
    "        \"parameters\": {\n",
    "            \"type\": \"object\",\n",
    "            \"properties\": {\n",
    "                \"guest_name\": {\n",
    "                    \"type\": \"string\",\n",
    "                    \"description\": \"The name of the guest who is speaking in the podcast\",\n",
    "                },\n",
    "                \"unit\": {\"type\": \"string\"},\n",
    "            },\n",
    "            \"required\": [\"guest_name\"],\n",
    "        },\n",
    "    }\n",
    "    ],\n",
    "    function_call={\"name\": \"get_podcast_guest_information\"}\n",
    "    )"
   ]
  },
  {
   "cell_type": "code",
   "execution_count": null,
   "metadata": {},
   "outputs": [],
   "source": [
    "completion"
   ]
  },
  {
   "cell_type": "code",
   "execution_count": 21,
   "metadata": {},
   "outputs": [
    {
     "name": "stdout",
     "output_type": "stream",
     "text": [
      "Podcast Guest is  Simon Rabinovich\n"
     ]
    }
   ],
   "source": [
    "import json\n",
    "\n",
    "podcast_guest = \"\"\n",
    "response_message = completion[\"choices\"][0][\"message\"]\n",
    "if response_message.get(\"function_call\"):\n",
    "  function_name = response_message[\"function_call\"][\"name\"]\n",
    "  function_args = json.loads(response_message[\"function_call\"][\"arguments\"])\n",
    "  podcast_guest=function_args.get(\"guest_name\")\n",
    "\n",
    "print (\"Podcast Guest is \", podcast_guest)"
   ]
  },
  {
   "cell_type": "code",
   "execution_count": null,
   "metadata": {},
   "outputs": [],
   "source": [
    "%pip install wikipedia"
   ]
  },
  {
   "cell_type": "code",
   "execution_count": null,
   "metadata": {},
   "outputs": [],
   "source": [
    "import wikipedia\n",
    "input = wikipedia.page(podcast_guest, auto_suggest=False)"
   ]
  },
  {
   "cell_type": "code",
   "execution_count": null,
   "metadata": {},
   "outputs": [],
   "source": [
    "podcast_guest_info = input.summary\n",
    "print (podcast_guest_info)"
   ]
  },
  {
   "cell_type": "markdown",
   "metadata": {},
   "source": [
    "### adjust prompt to extract full name of podcast guest"
   ]
  },
  {
   "cell_type": "code",
   "execution_count": 25,
   "metadata": {},
   "outputs": [
    {
     "name": "stdout",
     "output_type": "stream",
     "text": [
      "[]\n"
     ]
    }
   ],
   "source": [
    "import re\n",
    "\n",
    "text = podcastSummary\n",
    "# Regular expression to extract guest information\n",
    "pattern = r\"GUEST NAME: (?P<name>.+?)\\nGUEST ORGANIZATION: (?P<org>.+?)\\nGUEST TITLE: (?P<title>.+?)\\n\\n\"\n",
    "\n",
    "# Extracting the details using regex\n",
    "matches = list(re.finditer(pattern, text))\n",
    "\n",
    "guest_details = [{\"name\": match.group(\"name\"), \"organization\": match.group(\"org\"), \"title\": match.group(\"title\")} for match in matches]\n",
    "\n",
    "print(guest_details)"
   ]
  },
  {
   "cell_type": "code",
   "execution_count": 26,
   "metadata": {},
   "outputs": [
    {
     "name": "stdout",
     "output_type": "stream",
     "text": [
      "Number of tokens in input prompt  1\n"
     ]
    }
   ],
   "source": [
    "request = str(guest_details)\n",
    "enc = tiktoken.encoding_for_model(\"gpt-3.5-turbo\")\n",
    "print (\"Number of tokens in input prompt \", len(enc.encode(request)))"
   ]
  },
  {
   "cell_type": "code",
   "execution_count": 27,
   "metadata": {},
   "outputs": [],
   "source": [
    "completion = openai.ChatCompletion.create(\n",
    "    model=\"gpt-3.5-turbo\",\n",
    "    messages=[{\"role\": \"user\", \"content\": request}],\n",
    "    functions=[\n",
    "    {\n",
    "        \"name\": \"get_podcast_guest_information\",\n",
    "        \"description\": \"Get information on the podcast guest using their full name and the name of the organization they are part of to search for them on Wikipedia or Google.\",\n",
    "        \"parameters\": {\n",
    "            \"type\": \"object\",\n",
    "            \"properties\": {\n",
    "                \"guest_name\": {\n",
    "                    \"type\": \"string\",\n",
    "                    \"description\": \"The full name of the guest who is speaking in the podcast\",\n",
    "                },\n",
    "                \"guest_organization\": {\n",
    "                    \"type\": \"string\",\n",
    "                    \"description\": \"The full name of the organization that the podcast guest belongs to or runs\",\n",
    "                },\n",
    "                \"guest_title\": {\n",
    "                    \"type\": \"string\",\n",
    "                    \"description\": \"The title, designation or role of the podcast guest in their organization\",\n",
    "                },\n",
    "            },\n",
    "            \"required\": [\"guest_name\"],\n",
    "        },\n",
    "    }\n",
    "],\n",
    "function_call={\"name\": \"get_podcast_guest_information\"}\n",
    ")"
   ]
  },
  {
   "cell_type": "code",
   "execution_count": 28,
   "metadata": {},
   "outputs": [],
   "source": [
    "import json\n",
    "\n",
    "podcast_guest = \"\"\n",
    "podcast_guest_org = \"\"\n",
    "podcast_guest_title = \"\"\n",
    "response_message = completion[\"choices\"][0][\"message\"]\n",
    "if response_message.get(\"function_call\"):\n",
    "  function_name = response_message[\"function_call\"][\"name\"]\n",
    "  function_args = json.loads(response_message[\"function_call\"][\"arguments\"])\n",
    "  podcast_guest=function_args.get(\"guest_name\")\n",
    "  podcast_guest_org=function_args.get(\"guest_organization\")\n",
    "  podcast_guest_title=function_args.get(\"guest_title\")"
   ]
  },
  {
   "cell_type": "code",
   "execution_count": 29,
   "metadata": {},
   "outputs": [
    {
     "name": "stdout",
     "output_type": "stream",
     "text": [
      "Barack Obama\n",
      "None\n",
      "None\n"
     ]
    }
   ],
   "source": [
    "print (podcast_guest)\n",
    "print (podcast_guest_org)\n",
    "print (podcast_guest_title)"
   ]
  },
  {
   "cell_type": "code",
   "execution_count": 30,
   "metadata": {},
   "outputs": [],
   "source": [
    "if podcast_guest_org is None:\n",
    "  podcast_guest_org = \"\"\n",
    "if podcast_guest_title is None:\n",
    "  podcast_guest_title = \"\""
   ]
  },
  {
   "cell_type": "code",
   "execution_count": 31,
   "metadata": {},
   "outputs": [],
   "source": [
    "input = wikipedia.page(podcast_guest + \" \" + podcast_guest_org + \" \" + podcast_guest_title, auto_suggest=True)"
   ]
  },
  {
   "cell_type": "code",
   "execution_count": 32,
   "metadata": {},
   "outputs": [
    {
     "data": {
      "text/plain": [
       "\"Barack Hussein Obama II (  bə-RAHK hoo-SAYN oh-BAH-mə; born August 4, 1961) is an American politician who served as the 44th president of the United States from 2009 to 2017. A member of the Democratic Party, he was the first African-American  president. Obama previously served as a U.S. senator representing Illinois from 2005 to 2008 and as an Illinois state senator from 1997 to 2004, and worked as a civil rights lawyer and university lecturer. \\nObama was born in Honolulu, Hawaii. After graduating from Columbia University in 1983, he worked as a community organizer in Chicago. In 1988, he enrolled in Harvard Law School, where he was the first black president of the Harvard Law Review. After graduating, he became a civil rights attorney and an academic, teaching constitutional law at the University of Chicago Law School from 1992 to 2004. Turning to elective politics, he represented the 13th district in the Illinois Senate from 1997 until 2004, when he successfully ran for the U.S. Senate. In 2008, after a close primary campaign against Hillary Clinton, he was nominated by the Democratic Party for president and chose Joe Biden as his running mate. Obama was elected President, defeating Republican nominee John McCain in the presidential election and was inaugurated on January 20, 2009. Nine months later, he was named the 2009 Nobel Peace Prize laureate, a decision that drew a mixture of praise and criticism.\\nObama's first-term actions addressed the global financial crisis and included a major stimulus package, a partial extension of George W. Bush's tax cuts, legislation to reform health care, a major financial regulation reform bill, and the end of a major U.S. military presence in Iraq. Obama also appointed Supreme Court justices Sonia Sotomayor and Elena Kagan, the former being the first Hispanic American on the Supreme Court. He ordered the counterterrorism raid which killed Osama bin Laden and downplayed Bush's counterinsurgency model, expanding air strikes and making extensive use of special forces while encouraging greater reliance on host-government militaries. Obama also ordered military involvement in Libya in order to implement UN Security Council Resolution 1973, contributing to the overthrow of Muammar Gaddafi.\\nAfter winning re-election by defeating Republican opponent Mitt Romney, Obama was sworn in for a second term on January 20, 2013. In his second term, Obama took steps to combat climate change, signing a major international climate agreement and an executive order to limit carbon emissions. Obama also presided over the implementation of the Affordable Care Act and other legislation passed in his first term, and he negotiated a nuclear agreement with Iran and normalized relations with Cuba. The number of American soldiers in Afghanistan fell dramatically during Obama's second term, though U.S. soldiers remained in the country throughout Obama's presidency. Obama promoted inclusion for LGBT Americans, culminating in the Supreme Court's decision to strike down same-sex marriage bans as unconstitutional in Obergefell v. Hodges.\\nDuring Obama's terms as president, the United States' reputation abroad, as well as the American economy, significantly improved. Obama left office on January 20, 2017, and continues to reside in Washington, D.C. His presidential library in Chicago began construction in 2021. Since leaving office, Obama has remained active in Democratic politics, including campaigning for candidates in various American elections. Outside of politics, Obama has published three bestselling books: Dreams from My Father (1995), The Audacity of Hope (2006) and A Promised Land (2020). Rankings by scholars and historians, in which he has been featured since 2010, place him in the middle to upper tier of American presidents.\""
      ]
     },
     "execution_count": 32,
     "metadata": {},
     "output_type": "execute_result"
    }
   ],
   "source": [
    "input.summary"
   ]
  },
  {
   "cell_type": "markdown",
   "metadata": {},
   "source": [
    "### Try Google Search using langchain to find guest info"
   ]
  },
  {
   "cell_type": "code",
   "execution_count": null,
   "metadata": {},
   "outputs": [],
   "source": [
    "%pip install langchain\n",
    "%pip install google-search-results\n",
    "%pip install openai"
   ]
  },
  {
   "cell_type": "code",
   "execution_count": 34,
   "metadata": {},
   "outputs": [
    {
     "name": "stdout",
     "output_type": "stream",
     "text": [
      "\n",
      "\n",
      "\u001b[1m> Entering new AgentExecutor chain...\u001b[0m\n",
      "\u001b[32;1m\u001b[1;3m I should find out more information about Barack Obama  \n",
      "Action: Search  \n",
      "Action Input: \"Barack Obama\"  \u001b[0m\n",
      "Observation: \u001b[36;1m\u001b[1;3m[{'title': \"Tucker Carlson seems to think Obama is a gay crack addict. It's a new low for conservatism\", 'link': 'https://www.telegraph.co.uk/news/2023/09/07/tucker-carlson-twitter-larry-sinclair-interview-obama/', 'source': 'The Telegraph', 'date': '1 day ago', 'thumbnail': 'https://serpapi.com/searches/64fc7af63824277f7215e7f3/images/51e36422425c3a3f65aaf07ed75939bb929293d64a12839e.jpeg'}, {'title': 'Musk slams Tucker Carlson interview with fraudster who claims he had sex with Barack Obama', 'link': 'https://nypost.com/2023/09/07/musk-calls-for-evidence-after-tucker-carlson-interview-with-man-claiming-he-had-sex-with-obama/', 'source': 'New York Post', 'date': '1 day ago', 'thumbnail': 'https://serpapi.com/searches/64fc7af63824277f7215e7f3/images/51e36422425c3a3f0878607ad86029bd059b430c91818d83.jpeg'}, {'title': 'Even for Tucker Carlson, his supposed Obama sex exposé was ridiculous', 'link': 'https://www.theguardian.com/commentisfree/2023/sep/07/tucker-carlson-obama-sex-expose-ridiculous', 'source': 'The Guardian', 'date': '1 day ago', 'thumbnail': 'https://serpapi.com/searches/64fc7af63824277f7215e7f3/images/51e36422425c3a3f3d9d1aa355244813e21bd381c4bfacf3.jpeg'}, {'title': 'For too much of the right, an Obama fixation is tough to shake', 'link': 'https://www.msnbc.com/rachel-maddow-show/maddowblog/much-right-obama-fixation-tough-shake-rcna103833', 'source': 'MSNBC News', 'date': '2 days ago', 'thumbnail': 'https://serpapi.com/searches/64fc7af63824277f7215e7f3/images/51e36422425c3a3f8a22b19db70309ceca29bc3cf48ad235.jpeg'}, {'title': \"Dave Portnoy says there's '0.0%' truth to Larry Sinclair's claims of 'crack cocaine-fueled sex' with Obama\", 'link': 'https://www.nydailynews.com/2023/09/07/larry-sinclair-obama-allegations-tucker-carlson-interview-dave-portnoy/', 'source': 'New York Daily News', 'date': '1 day ago', 'thumbnail': 'https://serpapi.com/searches/64fc7af63824277f7215e7f3/images/51e36422425c3a3f7c46d13fa2c3fba7841d65372d2f3cc4.jpeg'}, {'title': 'Obama Foundation Backs Away From Tiger Woods Golf Course In Jackson Park', 'link': 'https://blockclubchicago.org/2023/09/08/obama-foundation-backs-away-from-tiger-woods-golf-course-in-jackson-park/', 'source': 'Block Club Chicago', 'date': '19 hours ago', 'thumbnail': 'https://serpapi.com/searches/64fc7af63824277f7215e7f3/images/51e36422425c3a3f3515b68fcd11cb07bfe41845a7e44de8.jpeg'}, {'title': 'Presidential centers from Hoover to Bush and Obama unite to warn of fragile state of US democracy', 'link': 'https://apnews.com/article/united-states-democracy-presidents-threats-joint-statement-5530a89df2c41d58a22961f63fb0e6ff', 'source': 'AP News', 'date': '1 day ago', 'thumbnail': 'https://serpapi.com/searches/64fc7af63824277f7215e7f3/images/51e36422425c3a3ff64de21037506f402b8cbe28f9f1c4cb.jpeg'}]\u001b[0m\n",
      "Thought:\u001b[32;1m\u001b[1;3m I now have a better understanding of Barack Obama  \n",
      "Final Answer: Barack Obama is a former President of the United States who served from 2009 to 2017. He is currently involved in a number of initiatives, including the Obama Foundation and the Obama Presidential Center. He is also the subject of numerous news stories, many of which focus on his legacy and his current activities.\u001b[0m\n",
      "\n",
      "\u001b[1m> Finished chain.\u001b[0m\n",
      "Barack Obama is a former President of the United States who served from 2009 to 2017. He is currently involved in a number of initiatives, including the Obama Foundation and the Obama Presidential Center. He is also the subject of numerous news stories, many of which focus on his legacy and his current activities.\n"
     ]
    }
   ],
   "source": [
    "# Get description of guest via LangChain SERP API tool\n",
    "from langchain.llms import OpenAI\n",
    "from langchain.agents import load_tools\n",
    "from langchain.agents import initialize_agent\n",
    "import os\n",
    "\n",
    "os.environ['OPENAI_API_KEY'] = getpass('Enter the OpenAI API Key in the cell  ')\n",
    "os.environ[\"SERPAPI_API_KEY\"] = getpass('Enter the Serapi API Key in the cell  ')\n",
    "\n",
    "llm = OpenAI(temperature=0.3)\n",
    "tools = load_tools([\"serpapi\"], llm=llm)\n",
    "agent = initialize_agent(tools, llm, agent=\"zero-shot-react-description\", verbose=True)\n",
    "\n",
    "# Using the agent to get a description of the podcast guest\n",
    "query = f\"Describe this person: {podcast_guest} {podcast_guest_org} {podcast_guest_title}\"\n",
    "result = agent.run(query)\n",
    "podcast_guest_summary = result\n",
    "print(result)"
   ]
  },
  {
   "cell_type": "code",
   "execution_count": 148,
   "metadata": {},
   "outputs": [
    {
     "name": "stdout",
     "output_type": "stream",
     "text": [
      "{'search_metadata': {'id': '64f74057f55d77ab82259af8', 'status': 'Success', 'json_endpoint': 'https://serpapi.com/searches/bb78c06be09107a0/64f74057f55d77ab82259af8.json', 'created_at': '2023-09-05 14:51:03 UTC', 'processed_at': '2023-09-05 14:51:03 UTC', 'google_images_url': 'https://www.google.com/search?q=Robert+Guest+The+Economist+Deputy+Editor&oq=Robert+Guest+The+Economist+Deputy+Editor&hl=en&gl=us&tbm=isch', 'raw_html_file': 'https://serpapi.com/searches/bb78c06be09107a0/64f74057f55d77ab82259af8.html', 'total_time_taken': 3.72}, 'search_parameters': {'engine': 'google_images', 'q': 'Robert Guest The Economist Deputy Editor', 'google_domain': 'google.com', 'hl': 'en', 'gl': 'us', 'device': 'desktop'}, 'search_information': {'image_results_state': 'Results for exact spelling', 'menu_items': [{'position': 1, 'title': 'All', 'link': 'https://www.google.com/search?q=Robert+Guest+The+Economist+Deputy+Editor&source=lmns&gl=us&hl=en&sa=X&ved=2ahUKEwjpxOOM3JOBAxX4Nd4AHf6MB_8Q0pQJKAB6BAgBEAI', 'serpapi_link': 'https://serpapi.com/search.json?device=desktop&engine=google&gl=us&google_domain=google.com&hl=en&q=Robert+Guest+The+Economist+Deputy+Editor'}, {'position': 2, 'title': 'News', 'link': 'https://www.google.com/search?q=Robert+Guest+The+Economist+Deputy+Editor&source=lmns&tbm=nws&gl=us&hl=en&sa=X&ved=2ahUKEwjpxOOM3JOBAxX4Nd4AHf6MB_8Q0pQJKAF6BAgBEAQ', 'serpapi_link': 'https://serpapi.com/search.json?device=desktop&engine=google&gl=us&google_domain=google.com&hl=en&q=Robert+Guest+The+Economist+Deputy+Editor&tbm=nws'}, {'position': 3, 'title': 'Images'}, {'position': 4, 'title': 'Books', 'link': 'https://www.google.com/search?q=Robert+Guest+The+Economist+Deputy+Editor&source=lmns&tbm=bks&gl=us&hl=en&sa=X&ved=2ahUKEwjpxOOM3JOBAxX4Nd4AHf6MB_8Q0pQJKAN6BAgBEAg'}, {'position': 5, 'title': 'Videos', 'link': 'https://www.google.com/search?q=Robert+Guest+The+Economist+Deputy+Editor&source=lmns&tbm=vid&gl=us&hl=en&sa=X&ved=2ahUKEwjpxOOM3JOBAxX4Nd4AHf6MB_8Q0pQJKAR6BAgBEAo', 'serpapi_link': 'https://serpapi.com/search.json?device=desktop&engine=google_videos&gl=us&google_domain=google.com&hl=en&q=Robert+Guest+The+Economist+Deputy+Editor'}, {'position': 6, 'title': 'Shopping', 'link': 'https://www.google.com/search?q=Robert+Guest+The+Economist+Deputy+Editor&source=lmns&tbm=shop&gl=us&hl=en&sa=X&ved=2ahUKEwjpxOOM3JOBAxX4Nd4AHf6MB_8Q0pQJKAB6BAgBEA0', 'serpapi_link': 'https://serpapi.com/search.json?device=desktop&engine=google_shopping&gl=us&google_domain=google.com&hl=en&q=Robert+Guest+The+Economist+Deputy+Editor'}, {'position': 7, 'title': 'Maps', 'link': 'https://maps.google.com/maps?q=Robert+Guest+The+Economist+Deputy+Editor&source=lmns&entry=mc&gl=us&hl=en&sa=X&ved=2ahUKEwjpxOOM3JOBAxX4Nd4AHf6MB_8Q0pQJKAF6BAgBEA4'}, {'position': 8, 'title': 'Flights', 'link': 'https://www.google.com/travel/flights?q=Robert+Guest+The+Economist+Deputy+Editor&source=lmns&tbm=flm&gl=us&hl=en&sa=X&ved=2ahUKEwjpxOOM3JOBAxX4Nd4AHf6MB_8Q0pQJKAJ6BAgBEA8'}, {'position': 9, 'title': 'Finance', 'link': 'https://www.google.com/search?q=Robert+Guest+The+Economist+Deputy+Editor&source=lmns&tbm=fin&gl=us&hl=en&sa=X&ved=2ahUKEwjpxOOM3JOBAxX4Nd4AHf6MB_8Q0pQJKAN6BAgBEBA'}]}, 'suggested_searches': [{'name': 'borderless', 'link': 'https://www.google.com/search?q=Robert+Guest+The+Economist+Deputy+Editor&tbm=isch&hl=en&gl=us&chips=q:robert+guest+the+economist+deputy+editor,online_chips:borderless:J0d5lO_nk6U%3D&sa=X&ved=2ahUKEwjpxOOM3JOBAxX4Nd4AHf6MB_8Q4lYoAHoECAEQMg', 'chips': 'q:robert+guest+the+economist+deputy+editor,online_chips:borderless:J0d5lO_nk6U%3D', 'serpapi_link': 'https://serpapi.com/search.json?chips=q%3Arobert%2Bguest%2Bthe%2Beconomist%2Bdeputy%2Beditor%2Conline_chips%3Aborderless%3AJ0d5lO_nk6U%253D&device=desktop&engine=google_images&gl=us&google_domain=google.com&hl=en&q=Robert+Guest+The+Economist+Deputy+Editor', 'thumbnail': 'https://serpapi.com/searches/64f74057f55d77ab82259af8/images/e72d378c69d8cf28619782b33258dd3f2e5bc0ee211497d727b577dbe76c06e5.jpeg'}, {'name': 'borderless economics', 'link': 'https://www.google.com/search?q=Robert+Guest+The+Economist+Deputy+Editor&tbm=isch&hl=en&gl=us&chips=q:robert+guest+the+economist+deputy+editor,online_chips:borderless+economics:fGQi0K703sQ%3D&sa=X&ved=2ahUKEwjpxOOM3JOBAxX4Nd4AHf6MB_8Q4lYoAXoECAEQNA', 'chips': 'q:robert+guest+the+economist+deputy+editor,online_chips:borderless+economics:fGQi0K703sQ%3D', 'serpapi_link': 'https://serpapi.com/search.json?chips=q%3Arobert%2Bguest%2Bthe%2Beconomist%2Bdeputy%2Beditor%2Conline_chips%3Aborderless%2Beconomics%3AfGQi0K703sQ%253D&device=desktop&engine=google_images&gl=us&google_domain=google.com&hl=en&q=Robert+Guest+The+Economist+Deputy+Editor', 'thumbnail': 'https://serpapi.com/searches/64f74057f55d77ab82259af8/images/e72d378c69d8cf28619782b33258dd3fff57bbd0be1dae648976895a03e9edcc.jpeg'}, {'name': 'economist newspaper', 'link': 'https://www.google.com/search?q=Robert+Guest+The+Economist+Deputy+Editor&tbm=isch&hl=en&gl=us&chips=q:robert+guest+the+economist+deputy+editor,online_chips:economist+newspaper:C0si7SEYUSw%3D&sa=X&ved=2ahUKEwjpxOOM3JOBAxX4Nd4AHf6MB_8Q4lYoAnoECAEQNg', 'chips': 'q:robert+guest+the+economist+deputy+editor,online_chips:economist+newspaper:C0si7SEYUSw%3D', 'serpapi_link': 'https://serpapi.com/search.json?chips=q%3Arobert%2Bguest%2Bthe%2Beconomist%2Bdeputy%2Beditor%2Conline_chips%3Aeconomist%2Bnewspaper%3AC0si7SEYUSw%253D&device=desktop&engine=google_images&gl=us&google_domain=google.com&hl=en&q=Robert+Guest+The+Economist+Deputy+Editor', 'thumbnail': 'https://serpapi.com/searches/64f74057f55d77ab82259af8/images/e72d378c69d8cf28619782b33258dd3f976547c9d0982e308695d83265e5827e.jpeg'}, {'name': 'economist magazine', 'link': 'https://www.google.com/search?q=Robert+Guest+The+Economist+Deputy+Editor&tbm=isch&hl=en&gl=us&chips=q:robert+guest+the+economist+deputy+editor,online_chips:economist+magazine:R8ri2UA49Gk%3D&sa=X&ved=2ahUKEwjpxOOM3JOBAxX4Nd4AHf6MB_8Q4lYoA3oECAEQOA', 'chips': 'q:robert+guest+the+economist+deputy+editor,online_chips:economist+magazine:R8ri2UA49Gk%3D', 'serpapi_link': 'https://serpapi.com/search.json?chips=q%3Arobert%2Bguest%2Bthe%2Beconomist%2Bdeputy%2Beditor%2Conline_chips%3Aeconomist%2Bmagazine%3AR8ri2UA49Gk%253D&device=desktop&engine=google_images&gl=us&google_domain=google.com&hl=en&q=Robert+Guest+The+Economist+Deputy+Editor', 'thumbnail': 'https://serpapi.com/searches/64f74057f55d77ab82259af8/images/e72d378c69d8cf28619782b33258dd3fc938db65da6199cac09efc7492302aa6.jpeg'}, {'name': 'freelance writer', 'link': 'https://www.google.com/search?q=Robert+Guest+The+Economist+Deputy+Editor&tbm=isch&hl=en&gl=us&chips=q:robert+guest+the+economist+deputy+editor,online_chips:freelance+writer:9chtAN2A9ZA%3D&sa=X&ved=2ahUKEwjpxOOM3JOBAxX4Nd4AHf6MB_8Q4lYoBHoECAEQOg', 'chips': 'q:robert+guest+the+economist+deputy+editor,online_chips:freelance+writer:9chtAN2A9ZA%3D', 'serpapi_link': 'https://serpapi.com/search.json?chips=q%3Arobert%2Bguest%2Bthe%2Beconomist%2Bdeputy%2Beditor%2Conline_chips%3Afreelance%2Bwriter%3A9chtAN2A9ZA%253D&device=desktop&engine=google_images&gl=us&google_domain=google.com&hl=en&q=Robert+Guest+The+Economist+Deputy+Editor', 'thumbnail': 'https://serpapi.com/searches/64f74057f55d77ab82259af8/images/e72d378c69d8cf28619782b33258dd3f12b57971e1e6ffb70c06b2fa7811229a.jpeg'}, {'name': 'sea turtles', 'link': 'https://www.google.com/search?q=Robert+Guest+The+Economist+Deputy+Editor&tbm=isch&hl=en&gl=us&chips=q:robert+guest+the+economist+deputy+editor,online_chips:sea+turtles&sa=X&ved=2ahUKEwjpxOOM3JOBAxX4Nd4AHf6MB_8Q4lYoBXoECAEQPA', 'chips': 'q:robert+guest+the+economist+deputy+editor,online_chips:sea+turtles', 'serpapi_link': 'https://serpapi.com/search.json?chips=q%3Arobert%2Bguest%2Bthe%2Beconomist%2Bdeputy%2Beditor%2Conline_chips%3Asea%2Bturtles&device=desktop&engine=google_images&gl=us&google_domain=google.com&hl=en&q=Robert+Guest+The+Economist+Deputy+Editor'}, {'name': 'speakers', 'link': 'https://www.google.com/search?q=Robert+Guest+The+Economist+Deputy+Editor&tbm=isch&hl=en&gl=us&chips=q:robert+guest+the+economist+deputy+editor,online_chips:speakers:oYPpngr6cBs%3D&sa=X&ved=2ahUKEwjpxOOM3JOBAxX4Nd4AHf6MB_8Q4lYoBnoECAEQPQ', 'chips': 'q:robert+guest+the+economist+deputy+editor,online_chips:speakers:oYPpngr6cBs%3D', 'serpapi_link': 'https://serpapi.com/search.json?chips=q%3Arobert%2Bguest%2Bthe%2Beconomist%2Bdeputy%2Beditor%2Conline_chips%3Aspeakers%3AoYPpngr6cBs%253D&device=desktop&engine=google_images&gl=us&google_domain=google.com&hl=en&q=Robert+Guest+The+Economist+Deputy+Editor', 'thumbnail': 'https://serpapi.com/searches/64f74057f55d77ab82259af8/images/e72d378c69d8cf28619782b33258dd3f8015ade23d7a29ccc7b959067ea58e90.jpeg'}, {'name': 'shackled continent', 'link': 'https://www.google.com/search?q=Robert+Guest+The+Economist+Deputy+Editor&tbm=isch&hl=en&gl=us&chips=q:robert+guest+the+economist+deputy+editor,online_chips:shackled+continent&sa=X&ved=2ahUKEwjpxOOM3JOBAxX4Nd4AHf6MB_8Q4lYoB3oECAEQPw', 'chips': 'q:robert+guest+the+economist+deputy+editor,online_chips:shackled+continent', 'serpapi_link': 'https://serpapi.com/search.json?chips=q%3Arobert%2Bguest%2Bthe%2Beconomist%2Bdeputy%2Beditor%2Conline_chips%3Ashackled%2Bcontinent&device=desktop&engine=google_images&gl=us&google_domain=google.com&hl=en&q=Robert+Guest+The+Economist+Deputy+Editor'}, {'name': 'global capitalism', 'link': 'https://www.google.com/search?q=Robert+Guest+The+Economist+Deputy+Editor&tbm=isch&hl=en&gl=us&chips=q:robert+guest+the+economist+deputy+editor,online_chips:global+capitalism:sZ2jOPeBif8%3D&sa=X&ved=2ahUKEwjpxOOM3JOBAxX4Nd4AHf6MB_8Q4lYoCHoECAEQQA', 'chips': 'q:robert+guest+the+economist+deputy+editor,online_chips:global+capitalism:sZ2jOPeBif8%3D', 'serpapi_link': 'https://serpapi.com/search.json?chips=q%3Arobert%2Bguest%2Bthe%2Beconomist%2Bdeputy%2Beditor%2Conline_chips%3Aglobal%2Bcapitalism%3AsZ2jOPeBif8%253D&device=desktop&engine=google_images&gl=us&google_domain=google.com&hl=en&q=Robert+Guest+The+Economist+Deputy+Editor', 'thumbnail': 'https://serpapi.com/searches/64f74057f55d77ab82259af8/images/e72d378c69d8cf28619782b33258dd3f0f10ce513333235ad442599d07205b3c.jpeg'}, {'name': 'washington correspondent', 'link': 'https://www.google.com/search?q=Robert+Guest+The+Economist+Deputy+Editor&tbm=isch&hl=en&gl=us&chips=q:robert+guest+the+economist+deputy+editor,online_chips:washington+correspondent&sa=X&ved=2ahUKEwjpxOOM3JOBAxX4Nd4AHf6MB_8Q4lYoCXoECAEQQg', 'chips': 'q:robert+guest+the+economist+deputy+editor,online_chips:washington+correspondent', 'serpapi_link': 'https://serpapi.com/search.json?chips=q%3Arobert%2Bguest%2Bthe%2Beconomist%2Bdeputy%2Beditor%2Conline_chips%3Awashington%2Bcorrespondent&device=desktop&engine=google_images&gl=us&google_domain=google.com&hl=en&q=Robert+Guest+The+Economist+Deputy+Editor'}, {'name': 'columnist', 'link': 'https://www.google.com/search?q=Robert+Guest+The+Economist+Deputy+Editor&tbm=isch&hl=en&gl=us&chips=q:robert+guest+the+economist+deputy+editor,online_chips:columnist&sa=X&ved=2ahUKEwjpxOOM3JOBAxX4Nd4AHf6MB_8Q4lYoCnoECAEQQw', 'chips': 'q:robert+guest+the+economist+deputy+editor,online_chips:columnist', 'serpapi_link': 'https://serpapi.com/search.json?chips=q%3Arobert%2Bguest%2Bthe%2Beconomist%2Bdeputy%2Beditor%2Conline_chips%3Acolumnist&device=desktop&engine=google_images&gl=us&google_domain=google.com&hl=en&q=Robert+Guest+The+Economist+Deputy+Editor'}], 'images_results': [{'position': 1, 'thumbnail': 'https://serpapi.com/searches/64f74057f55d77ab82259af8/images/34c4bf27a8f7105f8c68d43f504b5d33975380abb218c09e9cde57dbb713f76c.jpeg', 'related_content_id': 'YWZRNFFObml5a2RERU1cIixcImI3dUFpNWVjXzllR2VN', 'serpapi_related_content_link': 'https://serpapi.com/search.json?engine=google_images_related_content&gl=us&hl=en&q=Robert+Guest+The+Economist+Deputy+Editor&related_content_id=YWZRNFFObml5a2RERU1cIixcImI3dUFpNWVjXzllR2VN', 'source': 'Economist Media Directory', 'source_logo': 'https://encrypted-tbn2.gstatic.com/faviconV2?url=https://mediadirectory.economist.com&client=VFE&size=16&type=FAVICON&fallback_opts=TYPE,SIZE,URL&nfrp=2', 'title': 'Robert Guest - Economist', 'link': 'https://mediadirectory.economist.com/people/robert-guest/', 'original': 'https://mediadirectory.economist.com/wp-content/uploads/2015/09/Robert-Guest.jpg', 'original_width': 3179, 'original_height': 4827, 'is_product': False}, {'position': 2, 'thumbnail': 'https://serpapi.com/searches/64f74057f55d77ab82259af8/images/34c4bf27a8f7105fe210bdb56f0716dfc08c9776ad9ac6fa29c849452befc777.jpeg', 'related_content_id': 'eE43MHJ0QWlaSHlGTE1cIixcIkpZSzVVUFlBNDVtSVNN', 'serpapi_related_content_link': 'https://serpapi.com/search.json?engine=google_images_related_content&gl=us&hl=en&q=Robert+Guest+The+Economist+Deputy+Editor&related_content_id=eE43MHJ0QWlaSHlGTE1cIixcIkpZSzVVUFlBNDVtSVNN', 'source': 'Twitter', 'source_logo': 'https://serpapi.com/searches/64f74057f55d77ab82259af8/images/34c4bf27a8f7105fe210bdb56f0716df4fd0dc77d9f032a8ec52af8f41b96fde.png', 'title': 'Robert Guest (@robertguest1) / X', 'link': 'https://twitter.com/robertguest1', 'original': 'https://pbs.twimg.com/profile_images/472386034714419200/UlEwZFIe_400x400.jpeg', 'original_width': 400, 'original_height': 400, 'is_product': False}, {'position': 3, 'thumbnail': 'https://serpapi.com/searches/64f74057f55d77ab82259af8/images/34c4bf27a8f7105f7c13811419173ea97cc32876ca8c058e531a3ff19acff3f6.jpeg', 'related_content_id': 'WEw0Z0hnVmRMOTFYSU1cIixcIlM4d3JLWTExaE0xb1hN', 'serpapi_related_content_link': 'https://serpapi.com/search.json?engine=google_images_related_content&gl=us&hl=en&q=Robert+Guest+The+Economist+Deputy+Editor&related_content_id=WEw0Z0hnVmRMOTFYSU1cIixcIlM4d3JLWTExaE0xb1hN', 'source': 'Wikipedia', 'source_logo': 'https://serpapi.com/searches/64f74057f55d77ab82259af8/images/34c4bf27a8f7105f7c13811419173ea9dd27a6b3eae0a780f1b383845b93a749.png', 'title': 'Robert Guest - Wikipedia', 'link': 'https://en.wikipedia.org/wiki/Robert_Guest', 'original': 'https://upload.wikimedia.org/wikipedia/commons/c/c9/Robert_Guest_-_Annual_Meeting_of_the_New_Champions_2012.jpg', 'original_width': 3106, 'original_height': 3109, 'is_product': False}, {'position': 4, 'thumbnail': 'https://serpapi.com/searches/64f74057f55d77ab82259af8/images/34c4bf27a8f7105f31aa2ad78816ece7140e0254f4266a45229f86ae75b250a3.jpeg', 'related_content_id': 'XzRtQjl6aWpuYkhhYk1cIixcImN4QTRDN2VEdExSSkxN', 'serpapi_related_content_link': 'https://serpapi.com/search.json?engine=google_images_related_content&gl=us&hl=en&q=Robert+Guest+The+Economist+Deputy+Editor&related_content_id=XzRtQjl6aWpuYkhhYk1cIixcImN4QTRDN2VEdExSSkxN', 'source': 'TFWA', 'source_logo': 'https://serpapi.com/searches/64f74057f55d77ab82259af8/images/34c4bf27a8f7105f31aa2ad78816ece7fb5d118df0f1eae8cd36d4e7a74f8fc0.jpeg', 'title': 'Robert Guest - TFWA Asia Pacific Exhibition &amp; Conference - 2019 | TFWA', 'link': 'https://www.tfwa.com/tfwa-asia-pacific-exhibition-conference/robert-guest-100009072', 'original': 'https://www.tfwa.com/sites/tfwa.com/files/inline-images/Guest%20robert%20-%20250.jpg', 'original_width': 250, 'original_height': 250, 'is_product': False}, {'position': 5, 'thumbnail': 'https://serpapi.com/searches/64f74057f55d77ab82259af8/images/34c4bf27a8f7105faa604b502f3fb64fdfd15fd4b2e574223d8c53eba9616027.jpeg', 'related_content_id': 'RzNENkNwN3BnNkg5TU1cIixcIkFQbHpWWXJzQ3VqeXFN', 'serpapi_related_content_link': 'https://serpapi.com/search.json?engine=google_images_related_content&gl=us&hl=en&q=Robert+Guest+The+Economist+Deputy+Editor&related_content_id=RzNENkNwN3BnNkg5TU1cIixcIkFQbHpWWXJzQ3VqeXFN', 'source': 'JLA Speaker Bureau', 'source_logo': 'https://serpapi.com/searches/64f74057f55d77ab82259af8/images/34c4bf27a8f7105faa604b502f3fb64f76f6f9625da2f91858ddba5b5dc1aa29.png', 'title': 'Book Robert Guest - Contact speaker agent - JLA', 'link': 'https://www.jla.co.uk/conference-speakers/robert-guest', 'original': 'https://www.jla.co.uk/uploads/images/Robert%20Guest.png', 'original_width': 224, 'original_height': 224, 'is_product': False}, {'position': 6, 'thumbnail': 'https://serpapi.com/searches/64f74057f55d77ab82259af8/images/34c4bf27a8f7105ff1019a8f25ea268d82c3d1d7790fbbdeea05c68048992885.jpeg', 'related_content_id': 'WW43ZWI1Qi1XT04xak1cIixcIkswTGlLOS1OXzRib1lN', 'serpapi_related_content_link': 'https://serpapi.com/search.json?engine=google_images_related_content&gl=us&hl=en&q=Robert+Guest+The+Economist+Deputy+Editor&related_content_id=WW43ZWI1Qi1XT04xak1cIixcIkswTGlLOS1OXzRib1lN', 'source': 'The Den (Mercer University)', 'source_logo': 'https://serpapi.com/searches/64f74057f55d77ab82259af8/images/34c4bf27a8f7105ff1019a8f25ea268d6ab8c48c4b1e9f22b3bb2254f7a39b26.png', 'title': 'Executive Forum to Welcome Foreign Editor of The Economist Robert Guest -  The Den', 'link': 'https://den.mercer.edu/executive-forum-to-welcome-foreign-editor-of-the-economist-robert-guest/', 'original': 'https://den.mercer.edu/wp-content/uploads/2018/03/Guest-small.jpg', 'original_width': 355, 'original_height': 225, 'is_product': False}, {'position': 7, 'thumbnail': 'https://serpapi.com/searches/64f74057f55d77ab82259af8/images/34c4bf27a8f7105f36dc023cff86da10c50c0cdb29ce3ca2ac1f8948248b9c44.jpeg', 'related_content_id': 'a1BXQTNRQnR5UFhac01cIixcImhmT1J2MTd2WlhrdTJN', 'serpapi_related_content_link': 'https://serpapi.com/search.json?engine=google_images_related_content&gl=us&hl=en&q=Robert+Guest+The+Economist+Deputy+Editor&related_content_id=a1BXQTNRQnR5UFhac01cIixcImhmT1J2MTd2WlhrdTJN', 'source': 'MN2S', 'source_logo': 'https://serpapi.com/searches/64f74057f55d77ab82259af8/images/34c4bf27a8f7105f36dc023cff86da108abc4f9c8a448b5a53efbcad079d93ce.png', 'title': 'Robert Guest | Booking Agent | Speakers Roster | MN2S', 'link': 'https://mn2s.com/booking-agency/talent-roster/robert-guest/', 'original': 'https://mn2s-content.s3.eu-west-2.amazonaws.com/wp-content/uploads/2019/12/20120626/Robert-Guest-MN2S.png', 'original_width': 605, 'original_height': 448, 'is_product': False}, {'position': 8, 'thumbnail': 'https://serpapi.com/searches/64f74057f55d77ab82259af8/images/34c4bf27a8f7105fb90b2cec3d4d45e448682591652354a4ab3831d9c2933e30.jpeg', 'related_content_id': 'dkRtOWkxWlFXWVlQWk1cIixcIlJKMGdzekZONDV5M19N', 'serpapi_related_content_link': 'https://serpapi.com/search.json?engine=google_images_related_content&gl=us&hl=en&q=Robert+Guest+The+Economist+Deputy+Editor&related_content_id=dkRtOWkxWlFXWVlQWk1cIixcIlJKMGdzekZONDV5M19N', 'source': 'The Insight Bureau', 'source_logo': 'https://encrypted-tbn2.gstatic.com/faviconV2?url=https://insightbureau.com&client=VFE&size=16&type=FAVICON&fallback_opts=TYPE,SIZE,URL&nfrp=2', 'title': 'Africa Economy & Business', 'link': 'http://www.insightbureau.com/insight_speakers/AfricaEconomy&Business.html', 'original': 'http://www.insightbureau.com/insight_speakers/speakers/robert_guest/rg2.1.jpg', 'original_width': 217, 'original_height': 264, 'is_product': False}, {'position': 9, 'thumbnail': 'https://serpapi.com/searches/64f74057f55d77ab82259af8/images/34c4bf27a8f7105f6a8b740b53e1f9c3a46f8cde9d180fda8213e4f583a56756.jpeg', 'related_content_id': 'emZKRTZrWVFleFMxSE1cIixcIkFQbHpWWXJzQ3VqeXFN', 'serpapi_related_content_link': 'https://serpapi.com/search.json?engine=google_images_related_content&gl=us&hl=en&q=Robert+Guest+The+Economist+Deputy+Editor&related_content_id=emZKRTZrWVFleFMxSE1cIixcIkFQbHpWWXJzQ3VqeXFN', 'source': 'JLA Speaker Bureau', 'source_logo': 'https://serpapi.com/searches/64f74057f55d77ab82259af8/images/34c4bf27a8f7105f6a8b740b53e1f9c372c211608ed1cbb291a305449898fe92.png', 'title': 'Book Robert Guest - Contact speaker agent - JLA', 'link': 'https://www.jla.co.uk/conference-speakers/robert-guest', 'original': 'https://i.vimeocdn.com/video/1413400324-6e9ccacd47a90b9f44419b37ecdcb8696476d12b6f5c2ec6ae4ad0ed1ac02a2a-d_640?f=webp', 'original_width': 640, 'original_height': 360, 'is_product': False}, {'position': 10, 'thumbnail': 'https://serpapi.com/searches/64f74057f55d77ab82259af8/images/34c4bf27a8f7105f5a1e7d2d482cc30175e3a07c0704c913dad188c1586dbee7.jpeg', 'related_content_id': 'cFpQbjc1UjVSeWVRSU1cIixcIkZEamRFWTRDdUh6LVZN', 'serpapi_related_content_link': 'https://serpapi.com/search.json?engine=google_images_related_content&gl=us&hl=en&q=Robert+Guest+The+Economist+Deputy+Editor&related_content_id=cFpQbjc1UjVSeWVRSU1cIixcIkZEamRFWTRDdUh6LVZN', 'source': 'Wikipedia', 'source_logo': 'https://serpapi.com/searches/64f74057f55d77ab82259af8/images/34c4bf27a8f7105f5a1e7d2d482cc301f0dfa322d2a6dc5c32b18aed4d2039f0.png', 'title': 'Borderless Economics - Wikipedia', 'link': 'https://en.wikipedia.org/wiki/Borderless_Economics', 'original': 'https://upload.wikimedia.org/wikipedia/en/7/7e/Borderless_Economics.jpg', 'original_width': 258, 'original_height': 392, 'is_product': False}, {'position': 11, 'thumbnail': 'https://serpapi.com/searches/64f74057f55d77ab82259af8/images/34c4bf27a8f7105fe210bdb56f0716dfe8bf7964f8826c789de4a7f076e4d7df.jpeg', 'related_content_id': 'RGdCWE1yM1AzTms1Sk1cIixcIjRCTlAtNmJfak9tRV9N', 'serpapi_related_content_link': 'https://serpapi.com/search.json?engine=google_images_related_content&gl=us&hl=en&q=Robert+Guest+The+Economist+Deputy+Editor&related_content_id=RGdCWE1yM1AzTms1Sk1cIixcIjRCTlAtNmJfak9tRV9N', 'source': 'LinkedIn', 'source_logo': 'https://serpapi.com/searches/64f74057f55d77ab82259af8/images/34c4bf27a8f7105fe210bdb56f0716dfdd78e9cf4b27f6fdde165c1302fb97b8.png', 'title': 'Robert Arons - Managing Economist - Freshwater Prestige Econ | LinkedIn', 'link': 'https://www.linkedin.com/in/robert-arons-12287815', 'original': 'https://media.licdn.com/dms/image/C5603AQGGk-fxaM_XJg/profile-displayphoto-shrink_800_800/0/1652898957004?e=2147483647&v=beta&t=c_ipmc15hjtzG51xVaufGwn4TItlwz6T0yTuxgJMsgU', 'original_width': 800, 'original_height': 800, 'is_product': False}, {'position': 12, 'thumbnail': 'https://serpapi.com/searches/64f74057f55d77ab82259af8/images/34c4bf27a8f7105fe210bdb56f0716df38662a5066cdba6e3a021f5ceaaf6b86.jpeg', 'related_content_id': 'bG1IeGdYRDNQZElyeE1cIixcIk4zOXU5VTV4dXhLdDZN', 'serpapi_related_content_link': 'https://serpapi.com/search.json?engine=google_images_related_content&gl=us&hl=en&q=Robert+Guest+The+Economist+Deputy+Editor&related_content_id=bG1IeGdYRDNQZElyeE1cIixcIk4zOXU5VTV4dXhLdDZN', 'source': 'RocketReach', 'source_logo': 'https://serpapi.com/searches/64f74057f55d77ab82259af8/images/34c4bf27a8f7105fe210bdb56f0716df519a7ece52910b873707fedaebd5c0c9.png', 'title': 'Robert Guest email address & phone number | The Economist Business editor  contact information - RocketReach', 'link': 'https://rocketreach.co/robert-guest-email_34873116', 'original': 'https://d1hbpr09pwz0sk.cloudfront.net/profile_pic/edward-mcbride-8ff99413', 'original_width': 400, 'original_height': 400, 'is_product': False}, {'position': 13, 'thumbnail': 'https://serpapi.com/searches/64f74057f55d77ab82259af8/images/34c4bf27a8f7105fe210bdb56f0716df8a77b287a451ad027ab999525446ac19.jpeg', 'related_content_id': 'Y3g5dGdMUkVkMHZja01cIixcInhTZE54dC1YSktOeTFN', 'serpapi_related_content_link': 'https://serpapi.com/search.json?engine=google_images_related_content&gl=us&hl=en&q=Robert+Guest+The+Economist+Deputy+Editor&related_content_id=Y3g5dGdMUkVkMHZja01cIixcInhTZE54dC1YSktOeTFN', 'source': 'The Economist', 'source_logo': 'https://serpapi.com/searches/64f74057f55d77ab82259af8/images/34c4bf27a8f7105fe210bdb56f0716df44d6d54183801c6081d5ae24973aeaeb.png', 'title': \"Our deputy editor's pick of the week's stories\", 'link': 'https://www.economist.com/films/2023/07/14/our-deputy-editors-pick-of-the-weeks-stories', 'original': 'https://www.economist.com/media-assets/image/20230714_FLP001.jpg', 'original_width': 1280, 'original_height': 720, 'is_product': False}, {'position': 14, 'thumbnail': 'https://serpapi.com/searches/64f74057f55d77ab82259af8/images/34c4bf27a8f7105fe210bdb56f0716dfa9a8bcad1c3d4014e3aa1c9b6be750b3.jpeg', 'related_content_id': 'R2ppSWlYME1mU1NUbU1cIixcIjg2WV9sNjk0TzgxWmhN', 'serpapi_related_content_link': 'https://serpapi.com/search.json?engine=google_images_related_content&gl=us&hl=en&q=Robert+Guest+The+Economist+Deputy+Editor&related_content_id=R2ppSWlYME1mU1NUbU1cIixcIjg2WV9sNjk0TzgxWmhN', 'source': 'gb.china-embassy.gov.cn', 'source_logo': 'https://encrypted-tbn2.gstatic.com/faviconV2?url=https://gb.china-embassy.gov.cn&client=VFE&size=16&type=FAVICON&fallback_opts=TYPE,SIZE,URL&nfrp=2', 'title': 'Ambassador Liu Xiaoming Meets with New Editor of the Economist Zanny Minton  Beddoes', 'link': 'http://gb.china-embassy.gov.cn/eng/ambassador/dshd/2015year/201505/t20150521_3384839.htm', 'original': 'http://gb.china-embassy.gov.cn/eng/ambassador/dshd/2015year/201505/W020210711132482077301.jpg', 'original_width': 5616, 'original_height': 3744, 'is_product': False}, {'position': 15, 'thumbnail': 'https://serpapi.com/searches/64f74057f55d77ab82259af8/images/34c4bf27a8f7105fe210bdb56f0716dff45c56d43f634f6730f75032a96f2523.jpeg', 'related_content_id': 'NFROLWlnVTR5SVZUQk1cIixcIkFQbHpWWXJzQ3VqeXFN', 'serpapi_related_content_link': 'https://serpapi.com/search.json?engine=google_images_related_content&gl=us&hl=en&q=Robert+Guest+The+Economist+Deputy+Editor&related_content_id=NFROLWlnVTR5SVZUQk1cIixcIkFQbHpWWXJzQ3VqeXFN', 'source': 'JLA Speaker Bureau', 'source_logo': 'https://serpapi.com/searches/64f74057f55d77ab82259af8/images/34c4bf27a8f7105fe210bdb56f0716df46ef4154073eab7c463eac666858a58a.png', 'title': 'Book Robert Guest - Contact speaker agent - JLA', 'link': 'https://www.jla.co.uk/conference-speakers/robert-guest', 'original': 'https://i.vimeocdn.com/video/856142507-ba34f76d8664c48e8e860863c17fa9ad1f0dec500219b3a09253175d192088c5-d_640?f=webp', 'original_width': 640, 'original_height': 360, 'is_product': False}, {'position': 16, 'thumbnail': 'https://serpapi.com/searches/64f74057f55d77ab82259af8/images/34c4bf27a8f7105fe210bdb56f0716dff1174f41070e990837bc093c505bc801.jpeg', 'related_content_id': 'OXhENGFmRy1yVTFTaU1cIixcIkthVW1QX1hIWmFtZTlN', 'serpapi_related_content_link': 'https://serpapi.com/search.json?engine=google_images_related_content&gl=us&hl=en&q=Robert+Guest+The+Economist+Deputy+Editor&related_content_id=OXhENGFmRy1yVTFTaU1cIixcIkthVW1QX1hIWmFtZTlN', 'source': 'The Economist', 'source_logo': 'https://serpapi.com/searches/64f74057f55d77ab82259af8/images/34c4bf27a8f7105fe210bdb56f0716df5e5d33c3acdee77b8810c553eede820d.png', 'title': 'Mimi was sold to a pimp. Now she fights people-traffickers in Niger', 'link': 'https://www.economist.com/1843/2023/08/07/mimi-was-sold-to-a-pimp-now-she-fights-people-traffickers-in-niger', 'original': 'https://www.economist.com/media-assets/image/1843_20230807_TRAFFICKING_TEASER_ALT.jpg', 'original_width': 1955, 'original_height': 1100, 'is_product': False}, {'position': 17, 'thumbnail': 'https://serpapi.com/searches/64f74057f55d77ab82259af8/images/34c4bf27a8f7105fe210bdb56f0716df363c2829189fcbca50d62543ea062d1c.jpeg', 'related_content_id': 'TExIRnc4U0lsTS00Tk1cIixcIno5RE9hcWh2YW9QQ1ZN', 'serpapi_related_content_link': 'https://serpapi.com/search.json?engine=google_images_related_content&gl=us&hl=en&q=Robert+Guest+The+Economist+Deputy+Editor&related_content_id=TExIRnc4U0lsTS00Tk1cIixcIno5RE9hcWh2YW9QQ1ZN', 'source': 'Amazon', 'source_logo': 'https://serpapi.com/searches/64f74057f55d77ab82259af8/images/34c4bf27a8f7105fe210bdb56f0716dffd41cd9dd174434c5a49ad033c195aee.png', 'title': 'The Shackled Continent: Robert Guest: 9780330419727: Amazon.com: Books', 'link': 'https://www.amazon.com/Shackled-Continent-Robert-Guest/dp/0330419722', 'original': 'https://m.media-amazon.com/images/I/71akvtoyN5L._AC_UF1000,1000_QL80_.jpg', 'original_width': 662, 'original_height': 1000, 'is_product': False}, {'position': 18, 'thumbnail': 'https://serpapi.com/searches/64f74057f55d77ab82259af8/images/34c4bf27a8f7105fe210bdb56f0716df4e5ce184d01cbe1465ab60b084dc9846.jpeg', 'related_content_id': 'aGoyaW5LaGhhMURta01cIixcInJmeksza0JiRnhBeGFN', 'serpapi_related_content_link': 'https://serpapi.com/search.json?engine=google_images_related_content&gl=us&hl=en&q=Robert+Guest+The+Economist+Deputy+Editor&related_content_id=aGoyaW5LaGhhMURta01cIixcInJmeksza0JiRnhBeGFN', 'source': 'The Economist', 'source_logo': 'https://serpapi.com/searches/64f74057f55d77ab82259af8/images/34c4bf27a8f7105fe210bdb56f0716dfc446f2ac66d396dbca0c1be4928c7043.png', 'title': 'Why civil wars are lasting longer', 'link': 'https://www.economist.com/films/2023/04/18/why-civil-wars-are-lasting-longer', 'original': 'https://www.economist.com/media-assets/image/20230418_FLP001.jpg', 'original_width': 1280, 'original_height': 720, 'is_product': False}, {'position': 19, 'thumbnail': 'https://serpapi.com/searches/64f74057f55d77ab82259af8/images/34c4bf27a8f7105fe210bdb56f0716dfe940586fca90819b6efe4b2c60f02400.jpeg', 'related_content_id': 'NzRndnhydndWRDR1Z01cIixcIlRFcko1bERJRDM3YkdN', 'serpapi_related_content_link': 'https://serpapi.com/search.json?engine=google_images_related_content&gl=us&hl=en&q=Robert+Guest+The+Economist+Deputy+Editor&related_content_id=NzRndnhydndWRDR1Z01cIixcIlRFcko1bERJRDM3YkdN', 'source': 'National Speakers Bureau', 'source_logo': 'https://serpapi.com/searches/64f74057f55d77ab82259af8/images/34c4bf27a8f7105fe210bdb56f0716dfc2c88779ae1ae5483e3e399df14065fd.png', 'title': 'Sung Won Sohn - Global Business Speakers | National Speakers Bureau', 'link': 'https://nationalspeakers.com/global-business/sungwon-sohn', 'original': 'https://d29zunrt9sid73.cloudfront.net/speaker_media/asset/11157/large_70_11157.jpg', 'original_width': 350, 'original_height': 350, 'is_product': False}, {'position': 20, 'thumbnail': 'https://serpapi.com/searches/64f74057f55d77ab82259af8/images/34c4bf27a8f7105fe210bdb56f0716df3f3a44ff9204bde3ab473f5451764e84.jpeg', 'related_content_id': 'bkJBS0FjQkN3N0tVNE1cIixcIkRURlhFekIxOUxxZjdN', 'serpapi_related_content_link': 'https://serpapi.com/search.json?engine=google_images_related_content&gl=us&hl=en&q=Robert+Guest+The+Economist+Deputy+Editor&related_content_id=bkJBS0FjQkN3N0tVNE1cIixcIkRURlhFekIxOUxxZjdN', 'source': 'www.middlebury.edu', 'source_logo': 'https://serpapi.com/searches/64f74057f55d77ab82259af8/images/34c4bf27a8f7105fe210bdb56f0716dfd1a9b2f6b4e755bb6cb5a46d3bbbc899.png', 'title': 'Robert Rogowsky | Middlebury Institute of International Studies at Monterey', 'link': 'https://www.middlebury.edu/institute/people/robert-rogowsky', 'original': 'https://www.middlebury.edu/institute/sites/www.middlebury.edu.institute/files/2022-04/Robert%20Rogowsky.JPG?fv=Rxrr8Cjn', 'original_width': 800, 'original_height': 1200, 'is_product': False}, {'position': 21, 'thumbnail': 'https://encrypted-tbn0.gstatic.com/images?q=tbn:ANd9GcRu7inppaBHF3HNKYWX6XuaJjsPGr2y7Ma2Qw&usqp=CAU', 'related_content_id': 'MnlzaWtHdXgwTkJEMk1cIixcIkU4UUVrYTVvTWdtS05N', 'serpapi_related_content_link': 'https://serpapi.com/search.json?engine=google_images_related_content&gl=us&hl=en&q=Robert+Guest+The+Economist+Deputy+Editor&related_content_id=MnlzaWtHdXgwTkJEMk1cIixcIkU4UUVrYTVvTWdtS05N', 'source': 'Focus Economics', 'source_logo': 'https://encrypted-tbn2.gstatic.com/faviconV2?url=https://focus-economics.com&client=VFE&size=16&type=FAVICON&fallback_opts=TYPE,SIZE,URL&nfrp=2', 'title': 'Top Economics Influencers to Follow - FocusEconomics', 'link': 'https://www.focus-economics.com/blog/top-economics-influencers-to-follow/', 'original': 'https://www.focus-economics.com/app/uploads/2022/11/Careers_165317204-scaled.jpg', 'original_width': 2560, 'original_height': 1785, 'is_product': False}, {'position': 22, 'thumbnail': 'https://encrypted-tbn0.gstatic.com/images?q=tbn:ANd9GcSKgrd0-HGpGBaWPc56wxgj-YT2Jl76gPlaIg&usqp=CAU', 'related_content_id': 'R1oxd2wwNVdkcFZReU1cIixcIkZaWTI4NmFHb3A4bWZN', 'serpapi_related_content_link': 'https://serpapi.com/search.json?engine=google_images_related_content&gl=us&hl=en&q=Robert+Guest+The+Economist+Deputy+Editor&related_content_id=R1oxd2wwNVdkcFZReU1cIixcIkZaWTI4NmFHb3A4bWZN', 'source': 'LinkedIn', 'source_logo': 'https://encrypted-tbn2.gstatic.com/faviconV2?url=https://linkedin.com&client=VFE&size=16&type=FAVICON&fallback_opts=TYPE,SIZE,URL&nfrp=2', 'title': 'Robert Wood - Principal Economist, Latin America | Manager, Country Risk  Service - The Economist Intelligence Unit (The EIU) | LinkedIn', 'link': 'https://www.linkedin.com/in/robert-wood-780a2019', 'original': 'https://media.licdn.com/dms/image/C4D03AQFWb-a77UanXQ/profile-displayphoto-shrink_800_800/0/1516822127648?e=2147483647&v=beta&t=UOUxsUH0R2EmKG5A5rBYHb7ihnDsQbSr8e3Dvz2TGOU', 'original_width': 242, 'original_height': 242, 'is_product': False}, {'position': 23, 'thumbnail': 'https://encrypted-tbn0.gstatic.com/images?q=tbn:ANd9GcTm2AejmZujM3l0fGxBJ8wlKcirp3zjTXPGMg&usqp=CAU', 'related_content_id': 'QnBoT0ZJWGtlVWkxSU1cIixcIlFsd2tTS29ZbFhGWWZN', 'serpapi_related_content_link': 'https://serpapi.com/search.json?engine=google_images_related_content&gl=us&hl=en&q=Robert+Guest+The+Economist+Deputy+Editor&related_content_id=QnBoT0ZJWGtlVWkxSU1cIixcIlFsd2tTS29ZbFhGWWZN', 'source': 'Vimeo', 'source_logo': 'https://encrypted-tbn2.gstatic.com/faviconV2?url=https://vimeo.com&client=VFE&size=16&type=FAVICON&fallback_opts=TYPE,SIZE,URL&nfrp=2', 'title': 'Post Trade War Scenarios- Robert Guest, Foreign Editor, The Economist on  Vimeo', 'link': 'https://vimeo.com/339155389', 'original': 'https://i.vimeocdn.com/video/787300811-fe486683e117b6beea165efc88507cc8e5e8e4fba3948a97194dd53b3c0d8023-d', 'original_width': 1920, 'original_height': 1080, 'is_product': False}]}\n",
      "https://mediadirectory.economist.com/wp-content/uploads/2015/09/Robert-Guest.jpg\n"
     ]
    }
   ],
   "source": [
    "from serpapi import GoogleSearch\n",
    "\n",
    "image_query = f\"{podcast_guest} {podcast_guest_org} {podcast_guest_title}\"\n",
    "search = GoogleSearch({\n",
    "    \"engine\": \"google_images\",\n",
    "    \"q\": image_query,\n",
    "    \"api_key\": os.environ[\"SERPAPI_API_KEY\"]\n",
    "})\n",
    "image_search_result = search.get_dict()\n",
    "print(image_search_result)\n",
    "image_url = image_search_result['images_results'][0]['original']\n",
    "print(image_url)"
   ]
  },
  {
   "cell_type": "code",
   "execution_count": 149,
   "metadata": {},
   "outputs": [
    {
     "name": "stdout",
     "output_type": "stream",
     "text": [
      "{'name': 'Robert Guest', 'organization': 'The Economist', 'title': 'Deputy Editor', 'summary': \"Robert Guest is The Economist's deputy editor. His previous roles include foreign editor, US editor, business editor, Washington correspondent, and other roles.\", 'profile_picture': 'https://mediadirectory.economist.com/wp-content/uploads/2015/09/Robert-Guest.jpg'}\n"
     ]
    }
   ],
   "source": [
    "podcast_guest = {\n",
    "    \"name\": podcast_guest,\n",
    "    \"organization\": podcast_guest_org,\n",
    "    \"title\": podcast_guest_title,\n",
    "    \"summary\": podcast_guest_summary,\n",
    "    \"profile_picture\": image_url\n",
    "}\n",
    "\n",
    "print(podcast_guest)"
   ]
  },
  {
   "cell_type": "markdown",
   "metadata": {},
   "source": [
    "### Step 5 - Extract the Highlights of the podcast"
   ]
  },
  {
   "cell_type": "code",
   "execution_count": 150,
   "metadata": {},
   "outputs": [],
   "source": [
    "instructPrompt = \"\"\"\n",
    "You are a podcast editor and producer. You are provided with the transcript of a podcast episode and have to identify the 5 most significant moments in the podcast as highlights\n",
    "- Each highlight needs to be a statement by one of the podcast guests\n",
    "- Each highlight has to be impactful and an important takeaway from this podcast episode\n",
    "- Each highlight must be concise and make listeners want to hear more about why the podcast guest said that\n",
    "- The highlights that you pick must be spread out throughout the episode\n",
    "\n",
    "Provide only the highlights and nothing else. Provide the full sentence of the highlight and format it as follows -\n",
    "\n",
    "- Highlight 1 of the podcast\n",
    "- Highlight 2 of the podcast\n",
    "- Highlight 3 of the podcast\n",
    "\"\"\"\n",
    "\n",
    "request = instructPrompt + podcast_transcript"
   ]
  },
  {
   "cell_type": "code",
   "execution_count": 151,
   "metadata": {},
   "outputs": [],
   "source": [
    "chatOutput = openai.ChatCompletion.create(model=\"gpt-3.5-turbo-16k\",\n",
    "                                            messages=[{\"role\": \"system\", \"content\": \"You are a helpful assistant.\"},\n",
    "                                                      {\"role\": \"user\", \"content\": request}\n",
    "                                                      ]\n",
    "                                            )"
   ]
  },
  {
   "cell_type": "code",
   "execution_count": 152,
   "metadata": {},
   "outputs": [
    {
     "data": {
      "text/plain": [
       "\"- Tunisian president blaming black Africans for the country's problems\\n- Increase in Americans seeking to move to Europe due to remote working opportunities\\n- Reasons why African-American families are leaving the US: gun violence and racism\\n- The story of Andrei Pilsikov, a Ukrainian fighter pilot lobbying for F-16 jets\\n- The impact of fear and nationalism on global politics\""
      ]
     },
     "execution_count": 152,
     "metadata": {},
     "output_type": "execute_result"
    }
   ],
   "source": [
    "chatOutput.choices[0].message.content"
   ]
  },
  {
   "cell_type": "markdown",
   "metadata": {},
   "source": [
    "# Part 2: On-demand information extraction"
   ]
  },
  {
   "cell_type": "code",
   "execution_count": null,
   "metadata": {},
   "outputs": [],
   "source": [
    "%pip install feedparser\n",
    "%pip install git+https://github.com/openai/whisper.git  -q\n",
    "%pip install requests"
   ]
  },
  {
   "cell_type": "code",
   "execution_count": 153,
   "metadata": {},
   "outputs": [],
   "source": [
    "def get_transcribe_podcast(rss_url, local_path):\n",
    "  print (\"Starting Podcast Transcription Function\")\n",
    "  print (\"Feed URL: \", rss_url)\n",
    "  print (\"Local Path:\", local_path)\n",
    "\n",
    "  # Read from the RSS Feed URL\n",
    "  import feedparser\n",
    "  intelligence_feed = feedparser.parse(rss_url)\n",
    "  for item in intelligence_feed.entries[0].links:\n",
    "    if (item['type'] == 'audio/mpeg'):\n",
    "      episode_url = item.href\n",
    "  episode_name = \"podcast_episode.mp3\"\n",
    "  print (\"RSS URL read and episode URL: \", episode_url)\n",
    "\n",
    "  # Download the podcast episode by parsing the RSS feed\n",
    "  from pathlib import Path\n",
    "  p = Path(local_path)\n",
    "  p.mkdir(exist_ok=True)\n",
    "\n",
    "  print (\"Downloading the podcast episode\")\n",
    "  import requests\n",
    "  with requests.get(episode_url, stream=True) as r:\n",
    "    r.raise_for_status()\n",
    "    episode_path = p.joinpath(episode_name)\n",
    "    with open(episode_path, 'wb') as f:\n",
    "      for chunk in r.iter_content(chunk_size=8192):\n",
    "        f.write(chunk)\n",
    "\n",
    "  print (\"Podcast Episode downloaded\")\n",
    "\n",
    "  # Load the Whisper model\n",
    "  import os\n",
    "  import whisper\n",
    "  print (\"Download and Load the Whisper model\")\n",
    "  model = whisper.load_model(\"medium\")\n",
    "  print (model.device)\n",
    "\n",
    "  # Perform the transcription\n",
    "  print (\"Starting podcast transcription\")\n",
    "  result = model.transcribe(local_path + episode_name)\n",
    "\n",
    "  # Return the transcribed text\n",
    "  print (\"Podcast transcription completed, returning results...\")\n",
    "  return result"
   ]
  },
  {
   "cell_type": "code",
   "execution_count": 154,
   "metadata": {},
   "outputs": [
    {
     "name": "stdout",
     "output_type": "stream",
     "text": [
      "Starting Podcast Transcription Function\n",
      "Feed URL:  https://access.acast.com/rss/d556eb54-6160-4c85-95f4-47d9f5216c49\n",
      "Local Path: \n",
      "RSS URL read and episode URL:  https://sphinx.acast.com/p/acast/s/theintelligencepodcast/e/64f6f0098ead840010184bd4/media.mp3?tk=eyJ0ayI6ImRlZmF1bHQiLCJhZHMiOnRydWUsInNwb25zIjp0cnVlLCJzdGF0dXMiOiJwdWJsaWMifQ==&sig=PXCwn25R5znSLGYwlOWjY-A019arO2ZQI8c3BXT9krI\n",
      "Downloading the podcast episode\n",
      "Podcast Episode downloaded\n",
      "Download and Load the Whisper model\n",
      "cpu\n",
      "Starting podcast transcription\n",
      "Podcast transcription completed, returning results...\n"
     ]
    }
   ],
   "source": [
    "output = get_transcribe_podcast(\"https://access.acast.com/rss/d556eb54-6160-4c85-95f4-47d9f5216c49\", \"\")"
   ]
  },
  {
   "cell_type": "code",
   "execution_count": 155,
   "metadata": {},
   "outputs": [
    {
     "data": {
      "text/plain": [
       "\" I am Charlotte Casaragui and in partnership with the House of Chanel, I present to you the Les Rencontres podcast. As part of the Rendez-vous littéraire at Rue Cambon, this podcast spotlights the birth of a female writer. You can listen to the various episodes and their authors on your preferred streaming platforms. Hello and welcome to The Intelligence from The Economist. I'm Jason Palmer. And I'm Auret Ogunbiyi. Every weekday we provide a fresh perspective on the events shaping your world. Around now, lots of kids are heading back to school. But in America, two years after a post-pandemic grand reopening, terrifying proportion of students just aren't in class. And if you've ever tried to get a rickshaw or a tuk-tuk in Bangalore, you know just how stressful it can be. Now there's a new app trying to change that. And that's good news not just for the customers, but for the drivers too. First up though. For decades, America and the Soviet Union were locked in a tense and often terrifyi\""
      ]
     },
     "execution_count": 155,
     "metadata": {},
     "output_type": "execute_result"
    }
   ],
   "source": [
    "output['text'][:1000]"
   ]
  },
  {
   "cell_type": "markdown",
   "metadata": {},
   "source": [
    "### Step 1 - Create a cloud transcription function"
   ]
  },
  {
   "cell_type": "code",
   "execution_count": null,
   "metadata": {},
   "outputs": [],
   "source": [
    "%pip install modal"
   ]
  },
  {
   "cell_type": "code",
   "execution_count": null,
   "metadata": {},
   "outputs": [],
   "source": [
    "%modal token new --source corise > authenticationURL.txt"
   ]
  },
  {
   "cell_type": "code",
   "execution_count": 156,
   "metadata": {},
   "outputs": [],
   "source": [
    "import getpass\n",
    "import subprocess\n",
    "\n",
    "def set_modal_token():\n",
    "  token_id = getpass.getpass('Please enter your Modal token ID in the cell: ')\n",
    "  token_secret = getpass.getpass('Please enter your Modal token secret in the cell:  ')\n",
    "\n",
    "  # Using subprocess to execute the command\n",
    "  subprocess.run(f\"!modal token set --token-id (token_id) --token-secret (token_secret)\", shell=True)"
   ]
  },
  {
   "cell_type": "code",
   "execution_count": 157,
   "metadata": {},
   "outputs": [],
   "source": [
    "import getpass\n",
    "import subprocess\n",
    "\n",
    "def set_modal_token():\n",
    "    token_id = getpass.getpass('Please enter your Modal token ID in the cell: ')\n",
    "    token_secret = getpass.getpass('Please enter your Modal token secret in the cell: ')\n",
    "\n",
    "    # Properly format the subprocess command string\n",
    "    command = f\"modal token set --token-id {token_id} --token-secret {token_secret}\"\n",
    "\n",
    "    # Using subprocess to execute the command\n",
    "    subprocess.run(command, shell=True)"
   ]
  },
  {
   "cell_type": "code",
   "execution_count": 158,
   "metadata": {},
   "outputs": [],
   "source": [
    "set_modal_token()"
   ]
  },
  {
   "cell_type": "code",
   "execution_count": 159,
   "metadata": {},
   "outputs": [
    {
     "name": "stdout",
     "output_type": "stream",
     "text": [
      "Overwriting /content/podcast/podcast_backend.py\n"
     ]
    }
   ],
   "source": [
    "%%writefile /content/podcast/podcast_backend.py\n",
    "import modal\n",
    "\n",
    "def download_whisper():\n",
    "  # Load the Whisper model\n",
    "  import os\n",
    "  import whisper\n",
    "  print (\"Download the Whisper model\")\n",
    "\n",
    "  # Perform download only once and save to Container storage\n",
    "  whisper._download(whisper._MODELS[\"medium\"], '/content/podcast/', False)\n",
    "\n",
    "stub = modal.Stub(\"corise-podcast-project\")\n",
    "corise_image = modal.Image.debian_slim().pip_install(\"feedparser\",\n",
    "                                                     \"https://github.com/openai/whisper/archive/9f70a352f9f8630ab3aa0d06af5cb9532bd8c21d.tar.gz\",\n",
    "                                                     \"requests\",\n",
    "                                                     \"ffmpeg\").apt_install(\"ffmpeg\").run_function(download_whisper)\n",
    "\n",
    "@stub.function(image=corise_image, gpu=\"any\")\n",
    "def get_transcribe_podcast(rss_url, local_path):\n",
    "  print (\"Starting Podcast Transcription Function\")\n",
    "  print (\"Feed URL: \", rss_url)\n",
    "  print (\"Local Path:\", local_path)\n",
    "\n",
    "  # Read from the RSS Feed URL\n",
    "  import feedparser\n",
    "  intelligence_feed = feedparser.parse(rss_url)\n",
    "  for item in intelligence_feed.entries[0].links:\n",
    "    if (item['type'] == 'audio/mpeg'):\n",
    "      episode_url = item.href\n",
    "  episode_name = \"podcast_episode.mp3\"\n",
    "  print (\"RSS URL read and episode URL: \", episode_url)\n",
    "\n",
    "  # Download the podcast episode by parsing the RSS feed\n",
    "  from pathlib import Path\n",
    "  p = Path(local_path)\n",
    "  p.mkdir(exist_ok=True)\n",
    "\n",
    "  print (\"Downloading the podcast episode\")\n",
    "  import requests\n",
    "  with requests.get(episode_url, stream=True) as r:\n",
    "    r.raise_for_status()\n",
    "    episode_path = p.joinpath(episode_name)\n",
    "    with open(episode_path, 'wb') as f:\n",
    "      for chunk in r.iter_content(chunk_size=8192):\n",
    "        f.write(chunk)\n",
    "\n",
    "  print (\"Podcast Episode downloaded\")\n",
    "\n",
    "  # Load the Whisper model\n",
    "  import os\n",
    "  import whisper\n",
    "\n",
    "  # Load model from saved location\n",
    "  print (\"Load the Whisper model\")\n",
    "  model = whisper.load_model('medium', device='cuda', download_root='/content/podcast/')\n",
    "\n",
    "  # Perform the transcription\n",
    "  print (\"Starting podcast transcription\")\n",
    "  result = model.transcribe(local_path + episode_name)\n",
    "\n",
    "  # Return the transcribed text\n",
    "  print (\"Podcast transcription completed, returning results...\")\n",
    "  return result\n",
    "\n",
    "@stub.local_entrypoint()\n",
    "def main(url, path):\n",
    "  output = get_transcribe_podcast.call(url, path)\n",
    "  print (output['text'])"
   ]
  },
  {
   "cell_type": "code",
   "execution_count": null,
   "metadata": {},
   "outputs": [],
   "source": [
    "%modal token set"
   ]
  },
  {
   "cell_type": "markdown",
   "metadata": {},
   "source": [
    "invoke the function from the command line to start the remote execution in the cloud environment"
   ]
  },
  {
   "cell_type": "code",
   "execution_count": 160,
   "metadata": {},
   "outputs": [
    {
     "name": "stderr",
     "output_type": "stream",
     "text": [
      "UsageError: Line magic function `%modal` not found.\n"
     ]
    }
   ],
   "source": [
    "%modal run /content/podcast/podcast_backend.py --url https://access.acast.com/rss/d556eb54-6160-4c85-95f4-47d9f5216c49 --path /content/podcast/"
   ]
  },
  {
   "cell_type": "markdown",
   "metadata": {},
   "source": [
    "### Step 2 - Create a cloud information extraction function"
   ]
  },
  {
   "cell_type": "markdown",
   "metadata": {},
   "source": [
    "### Wikipedia version"
   ]
  },
  {
   "cell_type": "code",
   "execution_count": 104,
   "metadata": {},
   "outputs": [
    {
     "name": "stdout",
     "output_type": "stream",
     "text": [
      "Overwriting /content/podcast/podcast_backend.py\n"
     ]
    }
   ],
   "source": [
    "%%writefile /content/podcast/podcast_backend.py\n",
    "import modal\n",
    "\n",
    "def download_whisper():\n",
    "  # Load the Whisper model\n",
    "  import os\n",
    "  import whisper\n",
    "  print (\"Download the Whisper model\")\n",
    "\n",
    "  # Perform download only once and save to Container storage\n",
    "  whisper._download(whisper._MODELS[\"medium\"], '/content/podcast/', False)\n",
    "\n",
    "\n",
    "stub = modal.Stub(\"corise-podcast-project\")\n",
    "corise_image = modal.Image.debian_slim().pip_install(\"feedparser\",\n",
    "                                                     \"https://github.com/openai/whisper/archive/9f70a352f9f8630ab3aa0d06af5cb9532bd8c21d.tar.gz\",\n",
    "                                                     \"requests\",\n",
    "                                                     \"ffmpeg\",\n",
    "                                                     \"openai\",\n",
    "                                                     \"tiktoken\",\n",
    "                                                     \"wikipedia\",\n",
    "                                                     \"ffmpeg-python\").apt_install(\"ffmpeg\").run_function(download_whisper)\n",
    "\n",
    "@stub.function(image=corise_image, gpu=\"any\", timeout=600)\n",
    "def get_transcribe_podcast(rss_url, local_path):\n",
    "  print (\"Starting Podcast Transcription Function\")\n",
    "  print (\"Feed URL: \", rss_url)\n",
    "  print (\"Local Path:\", local_path)\n",
    "\n",
    "  # Read from the RSS Feed URL\n",
    "  import feedparser\n",
    "  intelligence_feed = feedparser.parse(rss_url)\n",
    "  podcast_title = intelligence_feed['feed']['title']\n",
    "  episode_title = intelligence_feed.entries[0]['title']\n",
    "  episode_image = intelligence_feed['feed']['image'].href\n",
    "  for item in intelligence_feed.entries[0].links:\n",
    "    if (item['type'] == 'audio/mpeg'):\n",
    "      episode_url = item.href\n",
    "  episode_name = \"podcast_episode.mp3\"\n",
    "  print (\"RSS URL read and episode URL: \", episode_url)\n",
    "\n",
    "  # Download the podcast episode by parsing the RSS feed\n",
    "  from pathlib import Path\n",
    "  p = Path(local_path)\n",
    "  p.mkdir(exist_ok=True)\n",
    "\n",
    "  print (\"Downloading the podcast episode\")\n",
    "  import requests\n",
    "  with requests.get(episode_url, stream=True) as r:\n",
    "    r.raise_for_status()\n",
    "    episode_path = p.joinpath(episode_name)\n",
    "    with open(episode_path, 'wb') as f:\n",
    "      for chunk in r.iter_content(chunk_size=8192):\n",
    "        f.write(chunk)\n",
    "\n",
    "  print (\"Podcast Episode downloaded\")\n",
    "\n",
    "  # Load the Whisper model\n",
    "  import os\n",
    "  import whisper\n",
    "\n",
    "  # Load model from saved location\n",
    "  print (\"Load the Whisper model\")\n",
    "  model = whisper.load_model('medium', device='cuda', download_root='/content/podcast/')\n",
    "\n",
    "  # Perform the transcription\n",
    "  print (\"Starting podcast transcription\")\n",
    "  result = model.transcribe(local_path + episode_name)\n",
    "\n",
    "  # Return the transcribed text\n",
    "  print (\"Podcast transcription completed, returning results...\")\n",
    "  output = {}\n",
    "  output['podcast_title'] = podcast_title\n",
    "  output['episode_title'] = episode_title\n",
    "  output['episode_image'] = episode_image\n",
    "  output['episode_transcript'] = result['text']\n",
    "  return output\n",
    "\n",
    "@stub.function(image=corise_image, secret=modal.Secret.from_name(\"my-openai-secret\"))\n",
    "def get_podcast_summary(podcast_transcript):\n",
    "  import openai\n",
    "  instructPrompt = \"\"\"\n",
    "  You are an expert copywriter who is responsible for publishing newsletters with thousands of subscribers. You recently listened to a great podcast and want to share a summary of it with your readers. Please write the summary of this podcast making sure to cover the important aspects that were discussed and please keep it concise.\n",
    "  The transcript of the podcast is provided below.\n",
    "  \"\"\"\n",
    "  request = instructPrompt + podcast_transcript\n",
    "  chatOutput = openai.ChatCompletion.create(model=\"gpt-3.5-turbo-16k\",\n",
    "                                            messages=[{\"role\": \"system\", \"content\": \"You are a helpful assistant.\"},\n",
    "                                                      {\"role\": \"user\", \"content\": request}\n",
    "                                                      ]\n",
    "                                            )\n",
    "  podcastSummary = chatOutput.choices[0].message.content\n",
    "  return podcastSummary\n",
    "\n",
    "@stub.function(image=corise_image, secret=modal.Secret.from_name(\"my-openai-secret\"))\n",
    "def get_podcast_guest(podcast_transcript):\n",
    "  import openai\n",
    "  import wikipedia\n",
    "  import json\n",
    "  from langchain.llms import OpenAI\n",
    "  from langchain.agents import load_tools\n",
    "  from langchain.agents import initialize_agent\n",
    "  from serpapi import GoogleSearch\n",
    "  import os\n",
    "  \n",
    "  request = podcast_transcript[:10000]\n",
    "  completion = openai.ChatCompletion.create(\n",
    "    model=\"gpt-3.5-turbo\",\n",
    "    messages=[{\"role\": \"user\", \"content\": request}],\n",
    "    functions=[\n",
    "    {\n",
    "        \"name\": \"get_podcast_guest_information\",\n",
    "        \"description\": \"Get information on the podcast guest using their full name and the name of the organization they are part of to search for them on Wikipedia or Google\",\n",
    "        \"parameters\": {\n",
    "            \"type\": \"object\",\n",
    "            \"properties\": {\n",
    "                \"guest_name\": {\n",
    "                    \"type\": \"string\",\n",
    "                    \"description\": \"If a guest is introduced and speaks in the podcast, the full name of the guest. If no guest is introduced, then 'None'\",\n",
    "                },\n",
    "                \"guest_organization\": {\n",
    "                    \"type\": \"string\",\n",
    "                    \"description\": \"If the guest_name is not 'None', The full name of the organization that the podcast guest belongs to or runs, otherwise 'None'\",\n",
    "                },\n",
    "                \"guest_title\": {\n",
    "                    \"type\": \"string\",\n",
    "                    \"description\": \"If the guest_organization is not 'None', The title, designation or role of the podcast guest in their organization, otherwise 'None'\",\n",
    "                },\n",
    "            },\n",
    "            \"required\": [\"guest_name\"],\n",
    "        },\n",
    "    }],\n",
    "    function_call={\"name\": \"get_podcast_guest_information\"})\n",
    "  response_message = completion[\"choices\"][0][\"message\"]\n",
    "\n",
    "  if response_message.get(\"function_call\"):\n",
    "    function_name = response_message[\"function_call\"][\"name\"]\n",
    "    function_args = json.loads(response_message[\"function_call\"][\"arguments\"])\n",
    "    podcast_guest=function_args.get(\"guest_name\")\n",
    "    podcast_guest_org=function_args.get(\"guest_organization\")\n",
    "    podcast_guest_title=function_args.get(\"guest_title\")\n",
    "\n",
    "  if (podcast_guest is not None):\n",
    "    if (podcast_guest_org is None):\n",
    "      podcast_guest_org = \"\"\n",
    "    if (podcast_guest_title is None):\n",
    "      podcast_guest_title = \"\"\n",
    "    try:\n",
    "      input = wikipedia.page(podcast_guest + \" \" + podcast_guest_org + \" \" + podcast_guest_title, auto_suggest=True)\n",
    "      podcast_guest_summary = input.summary\n",
    "    except wikipedia.exceptions.PageError:\n",
    "      print(f'The page for guest \"{podcast_guest} does not exist on Wikipedia.')\n",
    "      podcast_guest_summary = \"Not Available\"\n",
    "    except wikipedia.exceptions.DisambiguationError as e:\n",
    "      print(f'The page for guest \"{podcast_guest} is ambiguous. Possible matches are:')\n",
    "      print(e.options)\n",
    "      podcast_guest_summary = \"Not Available\"\n",
    "  else:\n",
    "    podcast_guest = \"Not Available\"\n",
    "    podcast_guest_org = \"Not Available\"\n",
    "    podcast_guest_title = \"Not Available\"\n",
    "    podcast_guest_summary = \"Not Available\"\n",
    "\n",
    "  podcastGuest = {}\n",
    "  podcastGuest['name'] = podcast_guest\n",
    "  podcastGuest['org'] = podcast_guest_org\n",
    "  podcastGuest['title'] = podcast_guest_title\n",
    "  podcastGuest['summary'] = podcast_guest_summary\n",
    "  return podcastGuest\n",
    "\n",
    "@stub.function(image=corise_image, secret=modal.Secret.from_name(\"my-openai-secret\"))\n",
    "def get_podcast_highlights(podcast_transcript):\n",
    "  import openai\n",
    "  instructPrompt = \"\"\"\n",
    "  You are a podcast editor and producer. You are provided with the transcript of a podcast episode and have to identify the 5 most significant moments in the podcast as highlights\n",
    "  - Each highlight needs to be a statement by one of the podcast guests\n",
    "  - Each highlight has to be impactful and an important takeaway from this podcast episode\n",
    "  - Each highlight must be concise and make listeners want to hear more about why the podcast guest said that\n",
    "  - The highlights that you pick must be spread out throughout the episode\n",
    "\n",
    "  Provide only the highlights and nothing else. Provide the full sentence of the highlight and format it as follows -\n",
    "\n",
    "  - Highlight 1 of the podcast\n",
    "  - Highlight 2 of the podcast\n",
    "  - Highlight 3 of the podcast\n",
    "  \"\"\"\n",
    "\n",
    "  request = instructPrompt + podcast_transcript\n",
    "  chatOutput = openai.ChatCompletion.create(model=\"gpt-3.5-turbo-16k\",\n",
    "                                            messages=[{\"role\": \"system\", \"content\": \"You are a helpful assistant.\"},\n",
    "                                                      {\"role\": \"user\", \"content\": request}\n",
    "                                                      ]\n",
    "                                            )\n",
    "  podcastHighlights = chatOutput.choices[0].message.content\n",
    "  return podcastHighlights\n",
    "\n",
    "@stub.function(image=corise_image, secret=modal.Secret.from_name(\"my-openai-secret\"), timeout=1200)\n",
    "def process_podcast(url, path):\n",
    "  output = {}\n",
    "  podcast_details = get_transcribe_podcast.call(url, path)\n",
    "  podcast_summary = get_podcast_summary.call(podcast_details['episode_transcript'])\n",
    "  podcast_guest = get_podcast_guest.call(podcast_details['episode_transcript'])\n",
    "  podcast_highlights = get_podcast_highlights.call(podcast_details['episode_transcript'])\n",
    "  output['podcast_details'] = podcast_details\n",
    "  output['podcast_summary'] = podcast_summary\n",
    "  output['podcast_guest'] = podcast_guest\n",
    "  output['podcast_highlights'] = podcast_highlights\n",
    "  return output\n",
    "\n",
    "@stub.local_entrypoint()\n",
    "def test_method(url, path):\n",
    "  output = {}\n",
    "  podcast_details = get_transcribe_podcast.call(url, path)\n",
    "  print (\"Podcast Summary: \", get_podcast_summary.call(podcast_details['episode_transcript']))\n",
    "  print (\"Podcast Guest Information: \", get_podcast_guest.call(podcast_details['episode_transcript']))\n",
    "  print (\"Podcast Highlights: \", get_podcast_highlights.call(podcast_details['episode_transcript']))"
   ]
  },
  {
   "cell_type": "markdown",
   "metadata": {},
   "source": [
    "### Google Search Version"
   ]
  },
  {
   "cell_type": "code",
   "execution_count": 161,
   "metadata": {},
   "outputs": [
    {
     "name": "stdout",
     "output_type": "stream",
     "text": [
      "Overwriting podcast_backend.py\n"
     ]
    }
   ],
   "source": [
    "%%writefile podcast_backend.py\n",
    "import modal\n",
    "\n",
    "def download_whisper():\n",
    "  # Load the Whisper model\n",
    "  import os\n",
    "  import whisper\n",
    "  print (\"Download the Whisper model\")\n",
    "\n",
    "  # Perform download only once and save to Container storage\n",
    "  whisper._download(whisper._MODELS[\"medium\"], 0'/content/podcast/', False)\n",
    "\n",
    "\n",
    "stub = modal.Stub(\"corise-podcast-project\")\n",
    "corise_image = modal.Image.debian_slim().pip_install(\"feedparser\",\n",
    "                                                     \"https://github.com/openai/whisper/archive/9f70a352f9f8630ab3aa0d06af5cb9532bd8c21d.tar.gz\",\n",
    "                                                     \"requests\",\n",
    "                                                     \"ffmpeg\",\n",
    "                                                     \"openai\",\n",
    "                                                     \"tiktoken\",\n",
    "                                                     \"wikipedia\",\n",
    "                                                     \"ffmpeg-python\").apt_install(\"ffmpeg\").run_function(download_whisper)\n",
    "\n",
    "@stub.function(image=corise_image, gpu=\"any\", timeout=600)\n",
    "def get_transcribe_podcast(rss_url, local_path):\n",
    "  print (\"Starting Podcast Transcription Function\")\n",
    "  print (\"Feed URL: \", rss_url)\n",
    "  print (\"Local Path:\", local_path)\n",
    "\n",
    "  # Read from the RSS Feed URL\n",
    "  import feedparser\n",
    "  intelligence_feed = feedparser.parse(rss_url)\n",
    "  podcast_title = intelligence_feed['feed']['title']\n",
    "  episode_title = intelligence_feed.entries[0]['title']\n",
    "  episode_image = intelligence_feed['feed']['image'].href\n",
    "  for item in intelligence_feed.entries[0].links:\n",
    "    if (item['type'] == 'audio/mpeg'):\n",
    "      episode_url = item.href\n",
    "  episode_name = \"podcast_episode.mp3\"\n",
    "  print (\"RSS URL read and episode URL: \", episode_url)\n",
    "\n",
    "  # Download the podcast episode by parsing the RSS feed\n",
    "  from pathlib import Path\n",
    "  p = Path(local_path)\n",
    "  p.mkdir(exist_ok=True)\n",
    "\n",
    "  print (\"Downloading the podcast episode\")\n",
    "  import requests\n",
    "  with requests.get(episode_url, stream=True) as r:\n",
    "    r.raise_for_status()\n",
    "    episode_path = p.joinpath(episode_name)\n",
    "    with open(episode_path, 'wb') as f:\n",
    "      for chunk in r.iter_content(chunk_size=8192):\n",
    "        f.write(chunk)\n",
    "\n",
    "  print (\"Podcast Episode downloaded\")\n",
    "\n",
    "  # Load the Whisper model\n",
    "  import os\n",
    "  import whisper\n",
    "\n",
    "  # Load model from saved location\n",
    "  print (\"Load the Whisper model\")\n",
    "  model = whisper.load_model('medium', device='cuda', download_root='/content/podcast/')\n",
    "\n",
    "  # Perform the transcription\n",
    "  print (\"Starting podcast transcription\")\n",
    "  result = model.transcribe(local_path + episode_name)\n",
    "\n",
    "  # Return the transcribed text\n",
    "  print (\"Podcast transcription completed, returning results...\")\n",
    "  output = {}\n",
    "  output['podcast_title'] = podcast_title\n",
    "  output['episode_title'] = episode_title\n",
    "  output['episode_image'] = episode_image\n",
    "  output['episode_transcript'] = result['text']\n",
    "  return output\n",
    "\n",
    "@stub.function(image=corise_image, secret=modal.Secret.from_name(\"my-openai-secret\"))\n",
    "def get_podcast_summary(podcast_transcript):\n",
    "  import openai\n",
    "  instructPrompt = \"\"\"\n",
    "  You are an expert copywriter who is responsible for publishing newsletters with thousands of subscribers. You recently listened to a great podcast and want to share a summary of it with your readers. Please write the summary of this podcast making sure to cover the important aspects that were discussed and please keep it concise.\n",
    "  The transcript of the podcast is provided below.  \n",
    "  \"\"\"\n",
    "  request = instructPrompt + podcast_transcript\n",
    "  chatOutput = openai.ChatCompletion.create(model=\"gpt-3.5-turbo-16k\",\n",
    "                                            messages=[{\"role\": \"system\", \"content\": \"You are a helpful assistant.\"},\n",
    "                                                      {\"role\": \"user\", \"content\": request}\n",
    "                                                      ]\n",
    "                                            )\n",
    "  podcastSummary = chatOutput.choices[0].message.content\n",
    "  return podcastSummary\n",
    "\n",
    "@stub.function(image=corise_image, secret=modal.Secret.from_name(\"my-openai-secret\"))\n",
    "def get_podcast_guest(podcast_transcript):\n",
    "  import openai\n",
    "  import wikipedia\n",
    "  import json\n",
    "  from langchain.llms import OpenAI\n",
    "  from langchain.agents import load_tools\n",
    "  from langchain.agents import initialize_agent\n",
    "  from serpapi import GoogleSearch\n",
    "  import os\n",
    "  \n",
    "  request = podcast_transcript[:10000]\n",
    "  completion = openai.ChatCompletion.create(\n",
    "    model=\"gpt-3.5-turbo\",\n",
    "    messages=[{\"role\": \"user\", \"content\": request}],\n",
    "    functions=[\n",
    "    {\n",
    "        \"name\": \"get_podcast_guest_information\",\n",
    "        \"description\": \"Get information on the podcast guest using their full name and the name of the organization they are part of to search for them on Wikipedia or Google\",\n",
    "        \"parameters\": {\n",
    "            \"type\": \"object\",\n",
    "            \"properties\": {\n",
    "                \"guest_name\": {\n",
    "                    \"type\": \"string\",\n",
    "                    \"description\": \"The full name of the guest in the podcast. This person is not the podcast host. The host will be the main narrator of the podcast. You can generally identify a guest because they will be introduced by the host, and will engage in conversation with, or be interviewed by, the host. If no guest is introduced, then 'None'\",\n",
    "                },\n",
    "                \"guest_organization\": {\n",
    "                    \"type\": \"string\",\n",
    "                    \"description\": \"If the guest_name is not 'None', The full name of the organization that the podcast guest belongs to or runs, otherwise 'None'\",\n",
    "                },\n",
    "                \"guest_title\": {\n",
    "                    \"type\": \"string\",\n",
    "                    \"description\": \"If the guest_organization is not 'None', The title, designation or role of the podcast guest in their organization, otherwise 'None'\",\n",
    "                },\n",
    "            },\n",
    "            \"required\": [\"guest_name\"],\n",
    "        },\n",
    "    }],\n",
    "    function_call={\"name\": \"get_podcast_guest_information\"})\n",
    "  response_message = completion[\"choices\"][0][\"message\"]\n",
    "\n",
    "  if response_message.get(\"function_call\"):\n",
    "    function_name = response_message[\"function_call\"][\"name\"]\n",
    "    function_args = json.loads(response_message[\"function_call\"][\"arguments\"])\n",
    "    podcast_guest=function_args.get(\"guest_name\")\n",
    "    podcast_guest_org=function_args.get(\"guest_organization\")\n",
    "    podcast_guest_title=function_args.get(\"guest_title\")\n",
    "\n",
    "  if (podcast_guest is not None):\n",
    "    if (podcast_guest_org is None):\n",
    "      podcast_guest_org = \"\"\n",
    "    if (podcast_guest_title is None):\n",
    "      podcast_guest_title = \"\"\n",
    "    try:\n",
    "      input = wikipedia.page(podcast_guest + \" \" + podcast_guest_org + \" \" + podcast_guest_title, auto_suggest=True)\n",
    "      podcast_guest_summary = input.summary\n",
    "    except wikipedia.exceptions.PageError:\n",
    "      print(f'The page for guest \"{podcast_guest} does not exist on Wikipedia.')\n",
    "      podcast_guest_summary = \"Not Available\"\n",
    "    except wikipedia.exceptions.DisambiguationError as e:\n",
    "      print(f'The page for guest \"{podcast_guest} is ambiguous. Possible matches are:')\n",
    "      print(e.options)\n",
    "      podcast_guest_summary = \"Not Available\"\n",
    "  else:\n",
    "    podcast_guest = \"Not Available\"\n",
    "    podcast_guest_org = \"Not Available\"\n",
    "    podcast_guest_title = \"Not Available\"\n",
    "    podcast_guest_summary = \"Not Available\"\n",
    "\n",
    "  podcastGuest = {}\n",
    "  podcastGuest['name'] = podcast_guest\n",
    "  podcastGuest['org'] = podcast_guest_org\n",
    "  podcastGuest['title'] = podcast_guest_title\n",
    "  podcastGuest['summary'] = podcast_guest_summary\n",
    "  return podcastGuest\n",
    "\n",
    "@stub.function(image=corise_image, secret=modal.Secret.from_name(\"my-openai-secret\"))\n",
    "def get_podcast_highlights(podcast_transcript):\n",
    "  import openai\n",
    "  instructPrompt = \"\"\"\n",
    "  You are a podcast editor and producer. You are provided with the transcript of a podcast episode and have to identify the 5 most significant moments in the podcast as highlights\n",
    "  - Each highlight needs to be a statement by one of the podcast guests\n",
    "  - Each highlight has to be impactful and an important takeaway from this podcast episode\n",
    "  - Each highlight must be concise and make listeners want to hear more about why the podcast guest said that\n",
    "  - The highlights that you pick must be spread out throughout the episode\n",
    "\n",
    "  Provide only the highlights and nothing else. Provide the full sentence of the highlight and format it as follows -\n",
    "\n",
    "  - Highlight 1 of the podcast\n",
    "  - Highlight 2 of the podcast\n",
    "  - Highlight 3 of the podcast\n",
    "  \"\"\"\n",
    "\n",
    "  request = instructPrompt + podcast_transcript\n",
    "  chatOutput = openai.ChatCompletion.create(model=\"gpt-3.5-turbo-16k\",\n",
    "                                            messages=[{\"role\": \"system\", \"content\": \"You are a helpful assistant.\"},\n",
    "                                                      {\"role\": \"user\", \"content\": request}\n",
    "                                                      ]\n",
    "                                            )\n",
    "  podcastHighlights = chatOutput.choices[0].message.content\n",
    "  return podcastHighlights\n",
    "\n",
    "@stub.function(image=corise_image, secret=modal.Secret.from_name(\"my-openai-secret\"), timeout=1200)\n",
    "def process_podcast(url, path):\n",
    "  output = {}\n",
    "  podcast_details = get_transcribe_podcast.call(url, path)\n",
    "  podcast_summary = get_podcast_summary.call(podcast_details['episode_transcript'])\n",
    "  podcast_guest = get_podcast_guest.call(podcast_details['episode_transcript'])\n",
    "  podcast_highlights = get_podcast_highlights.call(podcast_details['episode_transcript'])\n",
    "  output['podcast_details'] = podcast_details\n",
    "  output['podcast_summary'] = podcast_summary\n",
    "  output['podcast_guest'] = podcast_guest\n",
    "  output['podcast_highlights'] = podcast_highlights\n",
    "  return output\n",
    "\n",
    "@stub.local_entrypoint()\n",
    "def test_method(url, path):\n",
    "  output = {}\n",
    "  podcast_details = get_transcribe_podcast.call(url, path)\n",
    "  print (\"Podcast Summary: \", get_podcast_summary.call(podcast_details['episode_transcript']))\n",
    "  print (\"Podcast Guest Information: \", get_podcast_guest.call(podcast_details['episode_transcript']))\n",
    "  print (\"Podcast Highlights: \", get_podcast_highlights.call(podcast_details['episode_transcript']))"
   ]
  },
  {
   "cell_type": "code",
   "execution_count": null,
   "metadata": {},
   "outputs": [],
   "source": [
    "!modal run /content/podcast/podcast_backend.py --url https://access.acast.com/rss/d556eb54-6160-4c85-95f4-47d9f5216c49 --path /content/podcast/"
   ]
  },
  {
   "cell_type": "code",
   "execution_count": null,
   "metadata": {},
   "outputs": [],
   "source": [
    "!modal deploy /content/podcast/podcast_backend.py"
   ]
  },
  {
   "cell_type": "code",
   "execution_count": null,
   "metadata": {},
   "outputs": [],
   "source": [
    "# Trying to call the deployed function from another python session\n",
    "import modal\n",
    "f = modal.Function.lookup(\"corise-podcast-project\", \"process_podcast\")\n",
    "output = f.call('https://feeds.npr.org/510289/podcast.xml', '/content/podcast/')"
   ]
  },
  {
   "cell_type": "code",
   "execution_count": null,
   "metadata": {},
   "outputs": [],
   "source": [
    "import json\n",
    "with open(\"/content/podcast/podcast-3.json\", \"w\") as outfile:\n",
    "  json.dump(output, outfile)"
   ]
  },
  {
   "cell_type": "code",
   "execution_count": null,
   "metadata": {},
   "outputs": [],
   "source": []
  },
  {
   "cell_type": "markdown",
   "metadata": {},
   "source": [
    "# Part 3: Deploying the front-end application"
   ]
  },
  {
   "cell_type": "code",
   "execution_count": 45,
   "metadata": {},
   "outputs": [
    {
     "name": "stdout",
     "output_type": "stream",
     "text": [
      "Writing /content/podcast/podcast_frontend.py\n"
     ]
    }
   ],
   "source": [
    "%%writefile /content/podcast/podcast_frontend.py\n",
    "import streamlit as st\n",
    "import modal\n",
    "import json\n",
    "import os\n",
    "\n",
    "def main():\n",
    "    st.title(\"Newsletter Dashboard\")\n",
    "\n",
    "    available_podcast_info = create_dict_from_json_files('.')\n",
    "\n",
    "    # Left section - Input fields\n",
    "    st.sidebar.header(\"Podcast RSS Feeds\")\n",
    "\n",
    "    # Dropdown box\n",
    "    st.sidebar.subheader(\"Available Podcasts Feeds\")\n",
    "    selected_podcast = st.sidebar.selectbox(\"Select Podcast\", options=available_podcast_info.keys())\n",
    "\n",
    "    if selected_podcast:\n",
    "\n",
    "        podcast_info = available_podcast_info[selected_podcast]\n",
    "\n",
    "        # Right section - Newsletter content\n",
    "        st.header(\"Newsletter Content\")\n",
    "\n",
    "        # Display the podcast title\n",
    "        st.subheader(\"Episode Title\")\n",
    "        st.write(podcast_info['podcast_details']['episode_title'])\n",
    "\n",
    "        # Display the podcast summary and the cover image in a side-by-side layout\n",
    "        col1, col2 = st.columns([7, 3])\n",
    "\n",
    "        with col1:\n",
    "            # Display the podcast episode summary\n",
    "            st.subheader(\"Podcast Episode Summary\")\n",
    "            st.write(podcast_info['podcast_summary'])\n",
    "\n",
    "        with col2:\n",
    "            st.image(podcast_info['podcast_details']['episode_image'], caption=\"Podcast Cover\", width=300, use_column_width=True)\n",
    "\n",
    "        # Display the podcast guest and their details in a side-by-side layout\n",
    "        col3, col4 = st.columns([3, 7])\n",
    "\n",
    "        with col3:\n",
    "            st.subheader(\"Podcast Guest\")\n",
    "            st.write(podcast_info['podcast_guest']['name'])\n",
    "\n",
    "        with col4:\n",
    "            st.subheader(\"Podcast Guest Details\")\n",
    "            st.write(podcast_info[\"podcast_guest\"]['summary'])\n",
    "\n",
    "        # Display the five key moments\n",
    "        st.subheader(\"Key Moments\")\n",
    "        key_moments = podcast_info['podcast_highlights']\n",
    "        for moment in key_moments.split('\\n'):\n",
    "            st.markdown(\n",
    "                f\"<p style='margin-bottom: 5px;'>{moment}</p>\", unsafe_allow_html=True)\n",
    "\n",
    "    # User Input box\n",
    "    st.sidebar.subheader(\"Add and Process New Podcast Feed\")\n",
    "    url = st.sidebar.text_input(\"Link to RSS Feed\")\n",
    "\n",
    "    process_button = st.sidebar.button(\"Process Podcast Feed\")\n",
    "    st.sidebar.markdown(\"**Note**: Podcast processing can take upto 5 mins, please be patient.\")\n",
    "\n",
    "    if process_button:\n",
    "\n",
    "        # Call the function to process the URLs and retrieve podcast guest information\n",
    "        podcast_info = process_podcast_info(url)\n",
    "\n",
    "        # Right section - Newsletter content\n",
    "        st.header(\"Newsletter Content\")\n",
    "\n",
    "        # Display the podcast title\n",
    "        st.subheader(\"Episode Title\")\n",
    "        st.write(podcast_info['podcast_details']['episode_title'])\n",
    "\n",
    "        # Display the podcast summary and the cover image in a side-by-side layout\n",
    "        col1, col2 = st.columns([7, 3])\n",
    "\n",
    "        with col1:\n",
    "            # Display the podcast episode summary\n",
    "            st.subheader(\"Podcast Episode Summary\")\n",
    "            st.write(podcast_info['podcast_summary'])\n",
    "\n",
    "        with col2:\n",
    "            st.image(podcast_info['podcast_details']['episode_image'], caption=\"Podcast Cover\", width=300, use_column_width=True)\n",
    "\n",
    "        # Display the podcast guest and their details in a side-by-side layout\n",
    "        col3, col4 = st.columns([3, 7])\n",
    "\n",
    "        with col3:\n",
    "            st.subheader(\"Podcast Guest\")\n",
    "            st.write(podcast_info['podcast_guest']['name'])\n",
    "\n",
    "        with col4:\n",
    "            st.subheader(\"Podcast Guest Details\")\n",
    "            st.write(podcast_info[\"podcast_guest\"]['summary'])\n",
    "\n",
    "        # Display the five key moments\n",
    "        st.subheader(\"Key Moments\")\n",
    "        key_moments = podcast_info['podcast_highlights']\n",
    "        for moment in key_moments.split('\\n'):\n",
    "            st.markdown(\n",
    "                f\"<p style='margin-bottom: 5px;'>{moment}</p>\", unsafe_allow_html=True)\n",
    "\n",
    "def create_dict_from_json_files(folder_path):\n",
    "    json_files = [f for f in os.listdir(folder_path) if f.endswith('.json')]\n",
    "    data_dict = {}\n",
    "\n",
    "    for file_name in json_files:\n",
    "        file_path = os.path.join(folder_path, file_name)\n",
    "        with open(file_path, 'r') as file:\n",
    "            podcast_info = json.load(file)\n",
    "            podcast_name = podcast_info['podcast_details']['podcast_title']\n",
    "            # Process the file data as needed\n",
    "            data_dict[podcast_name] = podcast_info\n",
    "\n",
    "    return data_dict\n",
    "\n",
    "def process_podcast_info(url):\n",
    "    f = modal.Function.lookup(\"corise-podcast-project\", \"process_podcast\")\n",
    "    output = f.call(url, '/content/podcast/')\n",
    "    return output\n",
    "\n",
    "if __name__ == '__main__':\n",
    "    main()"
   ]
  },
  {
   "cell_type": "code",
   "execution_count": 46,
   "metadata": {},
   "outputs": [
    {
     "name": "stdout",
     "output_type": "stream",
     "text": [
      "Writing /content/podcast/requirements.txt\n"
     ]
    }
   ],
   "source": [
    "%%writefile /content/podcast/requirements.txt\n",
    "streamlit\n",
    "modal"
   ]
  },
  {
   "cell_type": "code",
   "execution_count": null,
   "metadata": {},
   "outputs": [],
   "source": []
  }
 ],
 "metadata": {
  "kernelspec": {
   "display_name": ".venv",
   "language": "python",
   "name": "python3"
  },
  "language_info": {
   "codemirror_mode": {
    "name": "ipython",
    "version": 3
   },
   "file_extension": ".py",
   "mimetype": "text/x-python",
   "name": "python",
   "nbconvert_exporter": "python",
   "pygments_lexer": "ipython3",
   "version": "3.11.4"
  },
  "orig_nbformat": 4
 },
 "nbformat": 4,
 "nbformat_minor": 2
}
