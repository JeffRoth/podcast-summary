{
 "cells": [
  {
   "cell_type": "markdown",
   "metadata": {},
   "source": [
    "# Part 1: Podcast Transcription and Information Extraction"
   ]
  },
  {
   "cell_type": "markdown",
   "metadata": {},
   "source": [
    "## Step 1 - Retrieve the audio file"
   ]
  },
  {
   "cell_type": "code",
   "execution_count": 3,
   "metadata": {},
   "outputs": [
    {
     "name": "stdout",
     "output_type": "stream",
     "text": [
      "Collecting feedparser\n",
      "  Downloading feedparser-6.0.10-py3-none-any.whl (81 kB)\n",
      "     ---------------------------------------- 0.0/81.1 kB ? eta -:--:--\n",
      "     ---------------------------------------- 81.1/81.1 kB 2.3 MB/s eta 0:00:00\n",
      "Collecting sgmllib3k (from feedparser)\n",
      "  Downloading sgmllib3k-1.0.0.tar.gz (5.8 kB)\n",
      "  Installing build dependencies: started\n",
      "  Installing build dependencies: finished with status 'done'\n",
      "  Getting requirements to build wheel: started\n",
      "  Getting requirements to build wheel: finished with status 'done'\n",
      "  Preparing metadata (pyproject.toml): started\n",
      "  Preparing metadata (pyproject.toml): finished with status 'done'\n",
      "Building wheels for collected packages: sgmllib3k\n",
      "  Building wheel for sgmllib3k (pyproject.toml): started\n",
      "  Building wheel for sgmllib3k (pyproject.toml): finished with status 'done'\n",
      "  Created wheel for sgmllib3k: filename=sgmllib3k-1.0.0-py3-none-any.whl size=6061 sha256=ce0f2251aa7e9c568c1240926aeb89c0efafd68d8d7105f0b1ebe7769d46e2c7\n",
      "  Stored in directory: c:\\users\\jeffr\\appdata\\local\\pip\\cache\\wheels\\3b\\25\\2a\\105d6a15df6914f4d15047691c6c28f9052cc1173e40285d03\n",
      "Successfully built sgmllib3k\n",
      "Installing collected packages: sgmllib3k, feedparser\n",
      "Successfully installed feedparser-6.0.10 sgmllib3k-1.0.0\n",
      "Note: you may need to restart the kernel to use updated packages.\n"
     ]
    }
   ],
   "source": [
    "%pip install feedparser"
   ]
  },
  {
   "cell_type": "code",
   "execution_count": 1,
   "metadata": {},
   "outputs": [],
   "source": [
    "import feedparser\n",
    "podcast_feed_url = \"https://feeds.acast.com/public/shows/d556eb54-6160-4c85-95f4-47d9f5216c49\"\n",
    "podcast_feed = feedparser.parse(podcast_feed_url)"
   ]
  },
  {
   "cell_type": "code",
   "execution_count": 2,
   "metadata": {},
   "outputs": [
    {
     "name": "stderr",
     "output_type": "stream",
     "text": [
      "UsageError: Line magic function `%wget` not found.\n"
     ]
    }
   ],
   "source": [
    "for item in podcast_feed.entries[0].links:\n",
    "  if (item['type'] == 'audio/mpeg'):\n",
    "    episode_url = item.href\n",
    "%wget -O podcast_episode.mp3 {episode_url}"
   ]
  },
  {
   "cell_type": "markdown",
   "metadata": {},
   "source": [
    "## Step 2 - Transcribe the audio file"
   ]
  },
  {
   "cell_type": "code",
   "execution_count": 6,
   "metadata": {},
   "outputs": [
    {
     "name": "stdout",
     "output_type": "stream",
     "text": [
      "Note: you may need to restart the kernel to use updated packages.\n"
     ]
    }
   ],
   "source": [
    "%pip install git+https://github.com/openai/whisper.git  -q"
   ]
  },
  {
   "cell_type": "code",
<<<<<<< HEAD
=======
   "execution_count": 11,
   "metadata": {},
   "outputs": [
    {
     "name": "stderr",
     "output_type": "stream",
     "text": [
      "UsageError: Line magic function `%wget` not found.\n"
     ]
    }
   ],
   "source": [
    "%winget install ffmpeg"
   ]
  },
  {
   "cell_type": "code",
>>>>>>> e4d638fce79132c3e2746f56669d6570e780d92a
   "execution_count": 3,
   "metadata": {},
   "outputs": [],
   "source": [
    "import pathlib\n",
    "import whisper"
   ]
  },
  {
   "cell_type": "code",
   "execution_count": 4,
   "metadata": {},
   "outputs": [
    {
     "name": "stdout",
     "output_type": "stream",
     "text": [
      "Model has been downloaded, no re-download necessary\n"
     ]
    }
   ],
   "source": [
    "# Perform download only once and save to Network storage\n",
    "model_path = pathlib.Path.cwd()\n",
    "if model_path.joinpath(\"medium.pt\").exists():\n",
    "  print (\"Model has been downloaded, no re-download necessary\")\n",
    "else:\n",
    "  print (\"Starting download of Whisper Model\")\n",
    "  whisper._download(whisper._MODELS[\"medium\"], str(model_path), False)"
   ]
  },
  {
   "cell_type": "code",
   "execution_count": 5,
   "metadata": {},
   "outputs": [],
   "source": [
    "# Load model from saved location\n",
    "model = whisper.load_model('medium', device='cpu', download_root=model_path)"
   ]
  },
  {
   "cell_type": "code",
<<<<<<< HEAD
   "execution_count": 6,
   "metadata": {},
   "outputs": [
    {
     "name": "stderr",
     "output_type": "stream",
     "text": [
      "c:\\Users\\Jeffrey.Roth.NMES\\projects\\podcast-summary\\.venv\\Lib\\site-packages\\whisper\\transcribe.py:114: UserWarning: FP16 is not supported on CPU; using FP32 instead\n",
      "  warnings.warn(\"FP16 is not supported on CPU; using FP32 instead\")\n"
     ]
    },
    {
     "name": "stdout",
     "output_type": "stream",
     "text": [
      "CPU times: total: 4min 29s\n",
      "Wall time: 10min 13s\n"
=======
   "execution_count": 7,
   "metadata": {},
   "outputs": [
    {
     "name": "stdout",
     "output_type": "stream",
     "text": [
      "CPU times: total: 2h 3min 50s\n",
      "Wall time: 15min 32s\n"
>>>>>>> e4d638fce79132c3e2746f56669d6570e780d92a
     ]
    }
   ],
   "source": [
    "%%time\n",
    "result = model.transcribe(\"podcast_episode.mp3\")"
   ]
  },
  {
   "cell_type": "code",
<<<<<<< HEAD
   "execution_count": 7,
=======
   "execution_count": 8,
>>>>>>> e4d638fce79132c3e2746f56669d6570e780d92a
   "metadata": {},
   "outputs": [
    {
     "data": {
      "text/plain": [
<<<<<<< HEAD
       "\" I am Charlotte Casaragui and in partnership with the House of Chanel, I present to you the Les Rencontres podcast. As part of the Rendez-vous littéraire at Rue Cambon, this podcast spotlights the birth of a female writer. You can listen to the various episodes and their authors on your preferred streaming platforms. Hello and welcome to The Intelligence from The Economist. I'm Jason Palmer. And I'm Auret Ogunbiyi. Every weekday we provide a fresh perspective on the events shaping your world. Around now, lots of kids are heading back to school. But in America, two years after a post-pandemic grand reopening, terrifying proportion of students just aren't in class. And if you've ever tried to get a rickshaw or a tuk-tuk in Bangalore, you know just how stressful it can be. Now there's a new app trying to change that. And that's good news not just for the customers, but for the drivers too. First up though. For decades, America and the Soviet Union were locked in a tense and often terrifyi\""
      ]
     },
     "execution_count": 7,
=======
       "\" Hello and welcome to The Intelligence from The Economist. I'm Jason Palmer. And I'm Aura Ogunbiyi. Every weekday we provide a fresh perspective on the events shaping your world. Egg freezing is supposed to give women the opportunity to delay having children. Their fertility is, well, frozen in time. But as yet, there's not much data on how successful it is. We pick through some of the best numbers that are available. And our obituaries editor remembers Isabel Crook, the Canadian anthropologist who saw the founding of the Chinese Communist Party and became an ardent supporter of its cause, despite its horrors. But first. Home ownership is a cornerstone of the American dream, but it has rarely been harder to attain than today. Those looking to enter the property market face costly mortgages and limited choice. They also face high property prices, despite changes from the Federal Reserve. In July, the Fed raised interest rates yet again for the 11th time since March 2022. During that tim\""
      ]
     },
     "execution_count": 8,
>>>>>>> e4d638fce79132c3e2746f56669d6570e780d92a
     "metadata": {},
     "output_type": "execute_result"
    }
   ],
   "source": [
    "# Check the transcription happened correctly by peeking into the first 1000 characters\n",
    "podcast_transcript = result['text']\n",
    "result['text'][:1000]"
   ]
  },
  {
   "cell_type": "code",
<<<<<<< HEAD
   "execution_count": 8,
=======
   "execution_count": 9,
>>>>>>> e4d638fce79132c3e2746f56669d6570e780d92a
   "metadata": {},
   "outputs": [
    {
     "data": {
      "text/plain": [
<<<<<<< HEAD
       "\" I am Charlotte Casaragui and in partnership with the House of Chanel, I present to you the Les Rencontres podcast. As part of the Rendez-vous littéraire at Rue Cambon, this podcast spotlights the birth of a female writer. You can listen to the various episodes and their authors on your preferred streaming platforms. Hello and welcome to The Intelligence from The Economist. I'm Jason Palmer. And I'm Auret Ogunbiyi. Every weekday we provide a fresh perspective on the events shaping your world. Around now, lots of kids are heading back to school. But in America, two years after a post-pandemic grand reopening, terrifying proportion of students just aren't in class. And if you've ever tried to get a rickshaw or a tuk-tuk in Bangalore, you know just how stressful it can be. Now there's a new app trying to change that. And that's good news not just for the customers, but for the drivers too. First up though. For decades, America and the Soviet Union were locked in a tense and often terrifying game of nuclear brinkmanship. Many people think these weapons serve a useful purpose and actually prevent war. They believe that nations will be so afraid of the possible effects of a nuclear war, they'll avoid any war at all costs. The threat of mutually assured destruction eventually concentrated minds on both sides. The endless accumulation of weapons stock files just could not continue. International treaties limiting nuclear weapons development were signed during the 1960s and 70s. The governments of the United States and the Soviet Union, after reviewing the course of their talks on the limitation of strategic armaments, have agreed to concentrate this year on working out an agreement for the limitation of the deployment of anti-ballistic missile systems, ABMs. And continued right through to the 2010s. This treaty is rooted in a practice that dates back to Ronald Reagan. The idea is simple. As the two nations with over 90% of the world's nuclear weapons, the United States and Russia have a responsibility to work together to reduce our arsenals. New START, the current treaty introduced during the Obama administration, came into force in 2011. But as that pact looks set to expire, the future of nuclear arms control appears worryingly unpredictable. The world has had decades of arms control, which has greatly reduced tensions. Anton LaGuardia is The Economist's diplomatic editor. I think the world is on the brink of a new nuclear arms race and one that will be harder to stop because it's more complex. But there have been worries about an arms race pretty much since atomic weapons were created. What's different about this new arms race? Where do things currently stand between the major powers? Nuclear weapons are inherently dangerous, but there are, I think, several reasons for which this is a different moment. First of all, the war in Ukraine. You've seen a great nuclear power invade another country. It has also made nuclear threats. You've got the rise of China, which is building up its nuclear stockpile quite fast, according to the Pentagon. And you've also got the breakdown of arms control, which is the thing that kept these tensions under check because America and Russia, the two biggest nuclear powers, have now stopped exchanging information on what they're doing with their missiles. And New START, which is the last main restraint on the size of their stockpiles, is about to expire in 2026. And there is no sign of a follow-on agreement. And the last factor, I think, is technology. You've got improvements in missiles, with hypersonic missiles coming into the arsenals. You've got improvements in accuracy, improvements in sensors, and you've got the introduction of artificial intelligence into the military domain, all of which makes for a very unpredictable, unstable and dangerous mix. Why is nuclear arms control breaking down? I think it's breaking down for a number of reasons, mainly because of the rivalry over Ukraine. America and Russia had started to talk about a follow-on agreement, but then Russia invaded Ukraine, talks were suspended and have never been resumed. The other problem is that China has been completely uninterested in this years-long process of arms control that America and the Soviet Union and then America and Russia engaged in, partly because it had a minimal deterrent for years and partly because it sees constraints as a way of limiting its rise and giving America license to take risks. How much do we know about what China is doing specifically? We know what the Pentagon says China is doing, which is that it's building up its nuclear stockpile quickly, from a few hundred warheads at the beginning of this decade to maybe a thousand by the end of the decade and maybe 1,500 by 2035. Now that number is close to the deployed limit that New START imposed on America and Russia and therefore we're moving towards a world where you have not two nuclear peers but three and that is a lot more complicated. The Chinese don't say a lot about what they're up to, they don't like engaging in discussions about their doctrine, they're not constrained by arms control agreements, they don't much like confidence building measures. The Americans have tried to draw them into a dialogue about so-called guard rails but Jake Sullivan, the American national security advisor, summed up the Chinese attitude in this way which is that if you wear a seatbelt you're more likely to drive recklessly and likely to have an accident, therefore better not to have seatbelts. The Americans say no this is completely backwards, seatbelts have saved countless lives and have not led to more reckless driving. And so what does three-way deterrence look like? What does America do about this? So three-way deterrence looks a lot more complicated and a lot scarier to be honest. During the Cold War America and the Soviet Union and then Russia had a thing called mutual assured destruction which is they wanted enough weapons to be able to survive a first strike by the other side and have enough left over to destroy the enemy that attacked them. And agreements were based on parity, America and Russia have roughly the same number of nuclear weapons. So the question now is what does parity mean in a world where there are three countries with large stockpiles and you have two countries that are close friends, Russia and China, which have said that they have a friendship without limits, that conduct joint air patrols, conduct joint maritime patrols and conceivably in future might be allies. So does America need an equal number of weapons as the two of them combined? Now that's plainly unfeasible because they will want to build up to American levels as well. So you have this inherent pressure to increase numbers. And at some point in this cycle the Indians might want to increase their stockpile because they have a border dispute with China. The Pakistanis might want to increase their stockpile because they have fought several wars with India and so on and so forth. So the thing becomes extremely unstable very quickly if the parties are not careful. Okay, this doesn't sound great. It sounds like escalation is far from ideal. How can the great powers make sure that the worst doesn't happen? I think there's several things that can be done. The first thing is don't panic. The second thing is start talking and start talking quickly. America has offered talks on arms control to both Russia and China. I think Russia and China need to say yes, let's talk quickly. American Russia do have a history of talking to each other even in bad times. So you have to hope that at some point, maybe after the Ukraine war, the two sides can start talking to each other again. And because they are the biggest nuclear powers by far, that is the most important thing that needs to happen. And until then, if both sides are willing to stick to the current limits, it would be a good idea for them to do so. As far as China is concerned, it is difficult to understand their calculations, but surely they must know that an unrestrained nuclear competition is not in their interest. Their economy is not doing brilliantly. The risks are high. They too must see that some kind of restraint ultimately makes sense. They may not come around to that realization yet. They don't have the same history that the Americans and the Russians have, and they have not had the scare of the 1962 Cuban Missile Crisis, which is what ultimately made the Americans and the Soviet Union step back from the brink. Anton, thank you so much for joining us. You're very welcome. Very nice to talk to you. For most of the past century, attendance across all sorts of education in America has been on the rise. Then the COVID-19 pandemic happened. For the best part of two years, schools were closed. Children were forced to learn at home, staring at laptops. Those pandemic-era school closures are now a thing of the past, but the classrooms still aren't as full as they used to be. School is starting soon, or has already started, for millions of school children in America. Tamara Jokes-Boer is our U.S. public policy correspondent. And it's been about two years since schools reopened after the pandemic, but we're seeing a new problem develop. Schools may be open to in-person learning, but many students are struggling to come back to class. When you say many, how many do you mean? So, the best data we have is from a study out of Stanford University. It looked at attendance in 40 states and D.C., and it found that in the 2021-2022 academic year, 28% of school children across the country missed at least three weeks of school. And this chronic absenteeism, which means missing 10% or more of school, almost doubled from before the pandemic. In Alaska, almost half of students are chronically absent. And this seems to be impacting poor students the most. In Alaska, 55% of low-income kids were chronically absent, compared to 49% of kids overall. Now, some of this might have to do with surges in the Omicron variant that year, but it doesn't explain all of it. Two states, Connecticut and Massachusetts, have released data from last year, 2022-23, and it seems like this troubling trend is continuing. And so do we have any idea as to why? So it's really hard to know why these children are missing school. But I think the easiest way to think about it is through the lens of the work-from-home revolution with adults. Working from home is easier. You get to work from a comfortable place. You don't have to wear uncomfortable work clothing or spend money on them. You can sneak a nap. And kids are feeling this, too. For some families, this is financial and logistical. For example, some families are struggling with child care, and an older sibling staying home when a younger sibling is sick makes it easier so a parent can go to work. Many teens also started working during the pandemic, and they're now juggling working with school. So absences can quickly rack up when you're doing things like that. And of course, all of this existed long before the pandemic, but few ever imagined actually changing the five-day in-person model of schooling. And the pandemic really shook things up. So now people are starting to think differently about how kids can learn. And what's troubling is that this seems to be extending beyond just absences, but also to whether children are attending school at all. We're starting to see enrollment declines as well. Meaning not just missing some school, but just opting out of school altogether? Yes. So we are seeing a rise in private schooling, but it's small. There was a 30% rise in homeschooling between the fall of 2019 and the fall of 2021. And exactly what that means for how much kids are learning isn't entirely clear. Some states actually have strict rules for homeschool children, but some barely check on them at all. And that's clearly a huge issue. And many studies have shown that going to school in person is important. Kids get better scores, they graduate at higher rates. And schools do more than just provide education. They also provide social services, like free meals, like after-school programs, sometimes even medical and dental help, and of course access to sports. And kids learn social skills. So what's to be done about this? What kind of enforcement options are there? I remember when I was a kid, it was actually illegal for me to skip a bunch of school. Yeah, and it still is. And some states fine or even jail parents if their kids are truant. But it seems like that doesn't really work. I mean, if your parent is in jail, are you going to go to school now? We have to really think about the root problems here. Why is staying at home so appealing to these families? And then we can maybe help them through social services or helping them with childcare or whatever it is that is the reason that they're staying home from school. What is interesting is that during the pandemic, we, as in the media, made a really big deal about kids returning to school. And for a while, it seemed like everyone was scrambling to get back to in-person learning. But now it's clear that there were many people who were much less eager to do so. Thanks very much for joining us, Tamara. Thanks for having me. There's a lot to like in Bangalore. The weather is good. The energy in the startup capital is quite high intensity. But one thing most visitors and residents will tell you, the traffic is terrible. Shailesh Chitnesh is the economist's global business correspondent. And sometimes the fastest way to get around the city is not through a two-wheeler, but through a three-wheeler called rickshaw or a tuk-tuk. But the problem with the rickshaw is that the drivers may not want to go where you want to go. And so a typical joke in Bangalore is anytime you're making plans, first ask the rickshaw driver where he wants to go and then make your plans accordingly. It's a bit of a joke, but there's also truth to that because for the longest time, hailing a rickshaw was a problem. And this is something I personally experienced on multiple occasions. It requires pleas, threats, invoking all kinds of gods before the driver agrees to go where you want to go. And sometimes even that is not enough. And the experience is no better using some of the ride hailing apps like Ola, which is a local Indian ride sharing app, or Uber, which most of the listeners would be familiar with. Both these apps charge a commission to the driver. And as a result, the drivers are not very incentivized to use the app. So all in all, not a great experience for the riders. And it's not that great of an experience for the drivers as well as they're voting by staying off the platform. But recently, since November, things have started to change slightly for the better. In what way? Well, it's thanks to a new app that's called Namayathri, which in the local language means our journey. This app was launched in November by the local rickshaw drivers union. And it directly connects drivers to the riders without any digital middlemen. Now what makes this app interesting is it charges no commission and all the transaction directly happens between the two parties. And so separate from Ola and Uber, there's not a 25 or 30% commission. It's a straight transaction between the two parties. And this app has now grown in popularity since it's launched. The last I looked at the numbers, it averages around 70,000 trips a day and has more than 80,000 drivers on the platform, which is roughly a third of all Bangalore rickshaw drivers. And it has around 1.5 million customers on its platform. Okay, so it sounds pretty successful. How are the drivers union able to do this? Yes, so that's a good question. This app is built on a platform called the ONDC. That's a mouthful, but what it stands for is Open Network for Digital Commerce. Now ONDC has been built in partnership with the Indian government and a few software communities, which is essentially a part of India's digital stack that tries to make the digital marketplace more accessible to more number of users. If you think about a marketplace like Amazon, the key benefit that it offers is it connects the sellers to the buyers. And by virtue of having all the sellers and buyers on their platform, Amazon is actually able to skim some money off the top in terms of the services that it offers. But because of that, it also has market power in deciding who can be on their platform. And if for some reason you don't agree with the terms of use or you don't agree with the charges, you may not be on the platform. So that can be a big disincentive for a lot of smaller operators. And ONDC is built to actually take care of the problem where a lot of smaller retailers, smaller operators who want to build their own marketplace can do so using this framework. But why is the Indian government doing this? What's their aim here? I think if you look at it from one standpoint, it's to defang the platform power for a lot of the marketplaces like Amazon. There's another company called Flipkart, which has a very large market share in India. And there's a concern that these companies are quite powerful and over time their power is increasing. And the idea behind ONDC is it applies to all kinds of transactions. And essentially you can create smaller communities of marketplaces between buyers and sellers. And it's not just restricted to cab drivers. If a group of restaurants within an area wants to come together and have their own food delivery They can actually use this platform to offer their services, which could be a competitor to Uber Eats or Swiggy or Zomato, which are local Indian food delivery companies as well. So I think the Indian government wants to move India away from its dependence on a few large players and introduce what I'd like to call a noisy digital buzzer, replicating the noisy markets in India, replicating them online as well. And so what's your take on this app? Is it actually helping small businesses? I think it's too early to tell. Definitely the Namayyathri story has been a success story and it's worked much better than anyone would have expected. So that's definitely a plus. But I do worry that the government is getting too involved in this. And by this I mean ONDC is meant to be an open platform. It's supposed to be an open source protocol. But recently the Commerce Minister Piyush Goyal, he made a comment that all big platforms need to be on ONDC. Otherwise, they would risk being banned from the platform, which implies that the government somehow has a say in who is on the platform and who stays out. So this sends a wrong signal because what it implies is this would not be a truly open platform, but it's a government-backed platform. As with most things in India, the government should not overplay its hand and let the market play this out as it were. Thank you so much for coming on the show, Shailesh. Thank you. My pleasure. That's all for this episode of The Intelligence. We've got some news for you if you're a subscriber. The Economist's app now has a dedicated tab for this show and for all of our podcasts. It's the easiest way to tune in every day. And if you're not a subscriber to The Economist, check out the special offer we've got at the moment, a free 30-day digital subscription. Just head to economist.com slash intelligence offer or click the link in the show notes. We will see you back here tomorrow.\""
      ]
     },
     "execution_count": 8,
=======
       "\" Hello and welcome to The Intelligence from The Economist. I'm Jason Palmer. And I'm Aura Ogunbiyi. Every weekday we provide a fresh perspective on the events shaping your world. Egg freezing is supposed to give women the opportunity to delay having children. Their fertility is, well, frozen in time. But as yet, there's not much data on how successful it is. We pick through some of the best numbers that are available. And our obituaries editor remembers Isabel Crook, the Canadian anthropologist who saw the founding of the Chinese Communist Party and became an ardent supporter of its cause, despite its horrors. But first. Home ownership is a cornerstone of the American dream, but it has rarely been harder to attain than today. Those looking to enter the property market face costly mortgages and limited choice. They also face high property prices, despite changes from the Federal Reserve. In July, the Fed raised interest rates yet again for the 11th time since March 2022. During that time, that bank rate has gone from near zero to more than 5%. And according to Chairman Jerome Powell, there may well be more hikes on the horizon. We are prepared to raise rates further, if appropriate, and intend to hold policy at a restrictive level until we are confident that inflation is moving sustainably down toward our objective. Such rate jumps would normally address at least one of the problems facing prospective homeowners, cost, even as it makes loans harder to come by. But while the property sector is usually sensitive to interest rate changes, the US housing market remains stubbornly buoyant. Interest rates in America have gone up quite dramatically, and that has pushed mortgage rates to their highest in four decades. Simon Rabinovich is The Economist's US economics editor. Normally you would think that would reduce house prices. In fact, just the opposite has happened. Prices have been rising this year back towards record highs. And for anybody who's trying to get into the housing market, it's damn near impossible. And normally, when interest rates rise, house prices tend to fall. Why is that not happening this time? Well, as you say, I mean, the normal expected relationship is that as mortgages go up, you would think that housing prices would come down. Just to give you a sense of how expensive mortgage costs are now today, just a few years ago, the average monthly mortgage payment was about 14, 15 percent of the average monthly income. That's now closer to 29 percent. So it's more than a doubling in the space of three years. And of course, housing prices themselves have not come down. And the reason for that really is that what's happened is that you've had a big freeze in the housing market. A lot of people locked in very, very low rates over the past number of years. In America, mortgages tend to be for extremely long terms, fixed rates that last for roughly 30 years. And so nobody wants to sell their house because selling their house would imply that you're giving up your sweetheart deal of a mortgage and shifting to a mortgage rate that's twice as high. So the volume of sales of existing homes has gone down quite dramatically. So the inventory of available housing is much lower than it was a couple of years ago. So demand is down, but supply is down by roughly an equal amount. And usually you'd expect all this to have a dampening effect on economic activity. Is that happening? Well, so yes and no. It's actually quite complicated in the sense that, you know, you're right, that if housing transactions are down, you would normally think that that would then have a negative broad consequence for the economy. But in fact, two different things have compensated for that downward shift. So number one, there's been a lot of spending on remodeling. People who may have wanted to sell their homes and perhaps upgrade instead are upgrading their home in place. So they're spending a lot of money on remodeling upwards of about 500, $600 billion a year for the economy as a whole. That's roughly 2% of GDP and is 40% higher than what was registered back in 2019. The second effect is that the existing home market is in a state of suspended animation, but the new built home market has actually been doing a lot better. So you still have developers, house builders that are buying up land, that are building lots of new homes. Because there's so little competition from existing homes on the market, they're actually doing pretty well. So if you look purely at housing construction, that has actually rebounded fairly strongly over the past year. So the macroeconomic consequences of the freeze in the housing market have actually been reasonably positive. And Simon, why are new builds doing so much better even in this difficult market? So the first factor, as I mentioned, is that simply there's availability. If you look at the overall inventory of the housing stock, you know, what is on the market for people New build homes typically are roughly 10% of the market. Over the past year, they've been about one third of the market. So there's homes that people can buy. But the second thing is that the home builders have actually been really aggressive with offering kind of a range of incentives to home buyers. And by far the most popular of these incentives is that they themselves have been lowering mortgage rates. They've been what's called buying down mortgage rates, basically prepaying a certain percentage of the mortgage and then offering a lower rate to the home buyers. So over the past year, the say the average mortgage rate was about 6.5%. But if you were purely buying a new home, you could actually be getting a mortgage rate of 5%. Now, the reason that the home builders were able to do that is that they have really strong balance sheets, a lot of them locked in cheaper financing early on in the pandemic, because house prices are up, they have pretty hefty margins. So from their perspective, it's basically like a discount on the home price, say a five or six percent discount for the home buyer, it looks like a really, really nice mortgage rate, especially relative to what they could get on an existing home. So a lot of activity has moved from the existing home market to the new home market. So that seems like a short term solution, basically offering discounts to manage demand. Is that going to be viable in the long term? Well the higher that mortgage rates go, the less viable it will be. You know, if you just think of it in terms of the discounted mortgage rates. So say they were able to offer a 5% mortgage rate when mortgage rates for the economy as a whole were closer to 6.5%. Well now mortgage rates for the economy as a whole are going up to about 7.5%. So the discount mortgage rate that the home builders can offer is also going up and at 6%, there will be less demand than there was at 5%. And you know, as far as the sustainability for their balance sheets is concerned, you know, at some point the margin compression does also begin to become a problem for them. So I think they've been successful up till now in propping up demand, but that's going to be harder going forward. And also to the extent that they are successful, that home prices don't fall, that's going to be a concern for the Federal Reserve. How so? What do you mean? Well the big underlying concern for the Fed is how does the property market activity interact with inflation more generally? Now it's a kind of complicated relationship. You know, people often think about home prices equating to inflation. In fact, if you look at inflation indexes, it's not the price of homes that are being purchased, but it's actually the rental level, which is incorporated into the inflation indexes. Rents have come down over the past year. That is actually feeding through into inflation with a lag. That's a very good thing. But the tighter that the housing market is, the harder it is for people to buy homes, the more expensive new homes are, more people will be pushed into the rental market. So there's a lag with all these things, but you would expect that the resilience in the property market and the rising house prices will eventually feed through into rising rents as well, and that in turn will feed through into inflation. So I mean, of course, the Fed does not want to see a collapse in the housing market, but they also don't want to see a strong rebound, especially when housing prices are as high as they currently are. So this does complicate the inflation path for the Fed, and I think we'll see some of those complications later next year. So what do you make of this resilience in housing? Is it going to last? Well, I think at the highest level, if you look at it, it really is quite remarkable that the housing market has been as resilient as it has been despite having four decade highs in mortgage rates. For people who are trying to get into the housing market, for couples who are trying to buy their first home, it's an incredibly frustrating period. Housing affordability is the worst it's been since 1985, and of course, the Fed is concerned about whether or not this resilience will make its job in tackling inflation that much more difficult. I mean, of course, nobody in their right mind wants to see a property crash in America, but a little bit of softness would be very welcome. Simon, thank you so much for your time. Thank you, Aura. Psst, hey, psst, do you want to make a small amount of cash? We're doing some research to help us continue to improve our shows and looking for listeners to participate, particularly those who haven't filled in one of our surveys before. We'll be keeping in touch with you via WhatsApp over eight weeks, and then it's payday, a modest one. Help us out by clicking the link in the show notes. A decade or so ago, commercial egg freezing companies began offering women more control over their fertility. It seemed that through technology, women could overcome a time limit on having children that's imposed by the finite number of eggs they have at birth. Freeze Now, IVF later was the idea, but it's only now becoming clear just how much the technique is delivering on its promise. As part of a big look that the economists took into IVF, I was particularly interested in the largest American study on elective egg freezing to date, which was published last year. In that study, researchers found that 39% of the women they observed were able to have at least one baby using the eggs that they'd frozen, which may have involved multiple attempts over the 15-year period. So before we talk about the study and what it found, talk us through the process of egg freezing. So, egg freezing is a lot like the first part of what IVF treatment is like. So what happens is women will take daily hormone injections to boost the number of eggs capable of being fertilized, which are then removed from the ovaries using a needle, dehydrated, and frozen. These frozen eggs will then be thawed at a later date, fertilized, and then the embryo will be implanted into the womb. And as a procedure, how common is that? Egg freezing only really went mainstream about 10 years or so ago. It was considered experimental in the U.S. until 2012. So relatively few women have tried egg freezing, and the data is limited. Even fewer women have thawed their eggs, which also makes it kind of hard to know how common or successful it is. And most research also doesn't differentiate between elective egg freezing and egg freezing done for medical purposes. So for example, women who are going to have to undergo chemotherapy who may want to freeze their eggs in case they want to use them later. So that lack of differentiation could also skew results. And so in that sense, with a small numbers problem, how valuable is this study? This study, which was done by researchers at New York University, only observed 543 at just one fertility clinic in the city. But their paper stands out because it followed real clinical outcomes for almost two decades, whereas most other studies are based just on mathematical modeling. So we have this headline figure of a 39% success rate, but what else caught your eye in this study? So the current data suggests that there are two important factors when it comes to egg freezing. The age at when you freeze your eggs and the number of eggs stored. If a woman first froze her eggs before she was 38 years old, she had a 51% chance of at least one live birth in the study. And if she thought at least 20 eggs, then the chances went up to 70%. But for a woman who first froze her eggs when she was 41 years old or older, the success rate was only 23%. Although if she thought at least 10 eggs, the success rate went up to 33%. How does this one compare with the other studies that you mentioned? There are other studies, including one on elective egg freezing that was conducted in Spain, as well as an analysis of countrywide data in the US that have yielded similar conclusions. If you look at it one way, the odds of having a baby from frozen eggs aren't especially high, but those chances can look stronger when you put it in other contexts. There was a report published in the UK in 2018 that suggested that at 18 years old, a woman had a 25% chance of conceiving naturally every month. But by the time she got to 35, that chance would fall to 10%. But for women who freeze their eggs, the age at which they use them and the length of time that they remain frozen seems to have no impact on their success rate. I mean, objectively, 39% success rate is not that big a number. It suggests that there's nothing like a guarantee of prolonged fertility here. Yeah, definitely. So looked at one way, those odds really aren't high, but they are stronger in certain contexts. There's a real concern that demand for egg freezing is from a belief that it's a failsafe, but people have to remember that being able to start a family is never a certainty. What egg freezing offers instead is a slowing down of the rate at which it becomes harder for hopeful mothers to conceive. Erica, thanks so much for your time. Thanks for having me. The best moment of Isabel Crook's life came on October the 1st, 1949, when she was at the occasion of the founding of the Chinese Communist Party. Anne Rowe is The Economist's obituaries editor. It took place in Tiananmen Square, in the presence of Mao and all the communist leaders, with huge crowds and processions that went on for six hours of both civilians and soldiers. She and her husband David were some of the very few Westerners there. She thought she had never seen anything as joyful as that moment. Her cause, her great overriding passion, was communism. She had always wanted to have a cause in her life as she was growing up, hadn't seemed to find it in religion or anything else, but she'd started to read books about Marxism and communism. Eventually met David Crook, who was an ardent communist. He was actually a spy for the Soviet Union and had also fought with the Republicans in the Spanish Civil War. So from then on, she was utterly caught up in his own passion. She was comrade Isabel to everyone. She studied anthropology at Toronto University and went back to China to do her field work in remote villages in Sichuan province in the far west. And when she did this field work, she really became Chinese to all intents and purposes. She would sleep on a brick bed, she would wear homespun clothes, eat as the Chinese ate, just adore being in a Chinese village, living that life with the people. When she did her field work, China was being run by a nationalist government. And Japan had just invaded. The nationalist government was looking pretty weak, but it was trying to carry out agrarian reforms. She looked at how the reforms were going and found that the nationalist government was really not managing to get anything to work at all there. First of all, it was press-ganging the men to try to go and fight the Japanese. It was also imposing swindling taxes on farmers who simply couldn't afford it. Her studies had been interrupted by the Second World War, but she and her husband had come back to live in China. And she went to a village called Ten Mile Inn to investigate how it would look now that the nationalist government was on its last legs. And it was now the communists who were in the ascendant. And the People's Liberation Army, under the ultimate leadership of Mao, were gradually taking over the country and freeing village after village. And she helped to enhance the revolution by going out and harvesting or hoeing the fields. All this activity did raise the question of whether the studies she was producing, which were very carefully produced and on the basis of lots of interviews and gathering of data, whether those reports were really worth anything if she was so committed to one side. But in general, she didn't notice any of the horrors that the outside world did. The Cultural Revolution, for example, even though her husband David was actually arrested and held for five years in jail by the young students and tufts who were promoting the Cultural Revolution, she didn't hold it against the government. And nor did she hold against them the fact that she was under house arrest for much of that time. As David had said to her, if you're suffering from a long lingering disease, wouldn't you rather have a fairly violent operation than go on suffering? So she would always support the Cultural Revolution and say she found house arrest rather restful and useful. She managed to study volumes one to four of Mao's complete works and found he had a great sense of humor. She was possibly more worried as the years went on by, first of all, the protests and demonstrations in Tiananmen Square in 1989. She did protest about those as her husband did, and they took plastic sheets and bottled water to the students in the square and wrote to the people's daily appealing to the government not to use force against the students, which of course the government ignored. She was perhaps just as bothered though by the direction China went in, especially in the last decades when she was there, when after Deng Xiaoping's reforms in the late 1970s, China became a rip-roaring capitalist and enterprising country. When it began to become the great producer of goods for the world and the people began to care a good deal about consumption and generally becoming rather western in their love of money and enterprise. She was bothered by capitalism, which you could see running riot in China. And yet when she came to think about it, perhaps China had simply, under Mao, built its house with the stones that were there, used what it had and the needs of the people at the time to change the way it was run. And by the time the 19th century and by the time the 1970s had come along, in fact, there was a need for something different in China, different stones to build a different house. And that was the way she could justify it to herself. She was still absolutely intent to give China whatever its people wanted and wherever its people or wherever the party told her to go, then she would go there and do what she could to help. Ann Rowe on Isabelle Crook who has died aged 107. That's all for this episode of The Intelligence. The show's editors are Chris Impey and Jack Gill. Our deputy editor is John Joe Devlin and our sound engineer is Will Rowe. Our senior producers are Sam Westrin and Rory Galloway. Our senior creative producer is William Warren. Our producers are Alize Jean-Baptiste, Kevin Caners, Barclay Bram and Sarah Larniuk. And our assistant producer is Henrietta McFarlane. Extra production help this week from Maggie Kadifa and Benji Guy. We'll all see you back here on Monday.\""
      ]
     },
     "execution_count": 9,
>>>>>>> e4d638fce79132c3e2746f56669d6570e780d92a
     "metadata": {},
     "output_type": "execute_result"
    }
   ],
   "source": [
    "podcast_transcript"
   ]
  },
  {
   "cell_type": "markdown",
   "metadata": {},
   "source": [
    "## Step 3 - Create a summary of the podcast"
   ]
  },
  {
   "cell_type": "code",
   "execution_count": null,
   "metadata": {},
   "outputs": [],
   "source": [
    "%pip install openai\n",
    "%pip install tiktoken"
   ]
  },
  {
   "cell_type": "code",
<<<<<<< HEAD
   "execution_count": 9,
=======
   "execution_count": 12,
>>>>>>> e4d638fce79132c3e2746f56669d6570e780d92a
   "metadata": {},
   "outputs": [],
   "source": [
    "import openai\n",
    "from getpass import getpass\n",
    "\n",
    "openai.api_key = getpass('Enter the OpenAI API Key in the cell  ')"
   ]
  },
  {
   "cell_type": "code",
   "execution_count": null,
   "metadata": {},
   "outputs": [],
   "source": [
    "# we can confirm that the API key works by listing all the OpenAI models\n",
    "models = openai.Model.list()\n",
    "for model in models[\"data\"]:\n",
    "  print (model[\"root\"])"
   ]
  },
  {
   "cell_type": "code",
<<<<<<< HEAD
   "execution_count": 11,
=======
   "execution_count": 14,
>>>>>>> e4d638fce79132c3e2746f56669d6570e780d92a
   "metadata": {},
   "outputs": [
    {
     "name": "stdout",
     "output_type": "stream",
     "text": [
<<<<<<< HEAD
      "Number of tokens in input prompt  4103\n"
=======
      "Number of tokens in input prompt  4166\n"
>>>>>>> e4d638fce79132c3e2746f56669d6570e780d92a
     ]
    }
   ],
   "source": [
    "import tiktoken\n",
    "enc = tiktoken.encoding_for_model(\"gpt-3.5-turbo\")\n",
    "print (\"Number of tokens in input prompt \", len(enc.encode(podcast_transcript)))"
   ]
  },
  {
   "cell_type": "code",
<<<<<<< HEAD
   "execution_count": 12,
=======
   "execution_count": 15,
>>>>>>> e4d638fce79132c3e2746f56669d6570e780d92a
   "metadata": {},
   "outputs": [],
   "source": [
    "instructPrompt = \"\"\"\n",
    "Please provide a summary of the following podcast, the transcript for which is provided below.\n",
    "\n",
    "Here is how I would like you to perform this task:\n",
    "- Identify the main speakers or participants in the podcast, and classify them as hosts or guests. Generally the podcast will be narrated by one or more hosts. You can generally identify a guest because they will be introduced by the host, and will then be interviewed by the host. For each participant, identify what organization they belong to (if any) and what their title is. Not every episode will have a guest.\n",
    "- Break the podcast into sections, based on topics or themes.\n",
    "- For each topic, summarize the topic with a concise summary.\n",
    "\n",
    "When printing your summary, please organize it as follows:\n",
    "- At the beginning of your response, for each podcast guest (not including the host/s), print the following information in the following format: GUEST NAME: [name]\\nGUEST ORGANIZATION: [org]\\nGUEST TITLE: [title]\n",
    "- If there is no guest, then set [name] [org] and [title] equal to \"none\"\n",
    "- After printing the guest information, print the summary of the episode, breaking it into the individual topics if needed.\n",
    "- Finally, print any interesting takeaways from the episode. These should be items that are the most interesting or surprising moments in the entire episode. Please limit these to a maximum of 3 bullet points.\n",
    "\n",
    "Here is the podcast transcript:\n",
    "\n",
    "\n",
    "\"\"\"\n",
    "\n",
    "request = instructPrompt + podcast_transcript"
   ]
  },
  {
   "cell_type": "code",
<<<<<<< HEAD
   "execution_count": 13,
=======
   "execution_count": 16,
>>>>>>> e4d638fce79132c3e2746f56669d6570e780d92a
   "metadata": {},
   "outputs": [],
   "source": [
    "chatOutput = openai.ChatCompletion.create(model=\"gpt-3.5-turbo-16k\",\n",
    "                                            messages=[{\"role\": \"system\", \"content\": \"You are a helpful assistant.\"},\n",
    "                                                      {\"role\": \"user\", \"content\": request}\n",
    "                                                      ]\n",
    "                                            )"
   ]
  },
  {
   "cell_type": "code",
<<<<<<< HEAD
   "execution_count": 14,
=======
   "execution_count": 17,
>>>>>>> e4d638fce79132c3e2746f56669d6570e780d92a
   "metadata": {},
   "outputs": [
    {
     "data": {
      "text/plain": [
<<<<<<< HEAD
       "\"none\\nSummary:\\n- The podcast discusses the state of nuclear arms control and the potential for a new arms race. The breakdown of arms control treaties and the development of new technologies like hypersonic missiles and artificial intelligence have created a more unpredictable and unstable environment.\\n- The guest, Anton LaGuardia, The Economist's diplomatic editor, explains that several factors contribute to this new arms race, including the war in Ukraine, the rise of China's nuclear stockpile, the breakdown of arms control agreements between the US and Russia, and advancements in technology.\\n- It is suggested that countries like the US, Russia, and China need to start talking and working towards a new arms control agreement to prevent further escalation. The importance of maintaining current limits and avoiding panic is emphasized.\\n- Another topic discussed is the decline in attendance and enrollment in American schools following the pandemic. Data shows that a significant number of students are missing school, with chronic absenteeism doubling since before the pandemic. Reasons for this include logistical challenges, work obligations, and a shift in attitudes towards in-person learning.\\n- The podcast also highlights a new app called Namayathri in Bangalore, India, which directly connects rickshaw drivers and riders without any digital middlemen. The app has gained popularity due to its lack of commission charges and has provided a more efficient and convenient option for riders and drivers.\\n- The app is built on the Open Network for Digital Commerce (ONDC), an Indian government initiative that aims to create a more accessible and decentralized digital marketplace to reduce the influence of large platforms like Amazon and Flipkart.\\n- The success of the Namayathri app demonstrates the potential of ONDC to empower smaller businesses and disrupt the dominance of big platforms. However, concerns are raised about government involvement and potential limitations on platform openness.\\nTakeaways:\\n- The world is on the brink of a new nuclear arms race, mainly due to geopolitical tensions, the breakdown of arms control agreements, and advancements in technology.\\n- Countries like the US, Russia, and China need to start talking and working towards a new arms control agreement to prevent further escalation.\\n- Chronic absenteeism among American students has increased since the pandemic, posing challenges to education and highlighting the need for support and solutions.\\n- New apps like Namayathri in Bangalore offer a more efficient and direct platform for rickshaw drivers and riders, disrupting traditional models and empowering smaller businesses.\""
      ]
     },
     "execution_count": 14,
=======
       "'none\\nSummary:\\n- The US housing market has remained buoyant despite rising interest rates, with house prices rising back towards record highs. This is unusual, as higher interest rates typically lead to lower house prices.\\n- The reason for this is a freeze in the housing market, with fewer people selling their homes due to the higher mortgage rates. This has led to a decrease in the volume of sales and a lower inventory of available housing.\\n- However, the housing market freeze has led to increased spending on remodeling and a boost in the new home market, as developers are building more homes due to limited competition. This has supported the housing construction sector and had positive macroeconomic consequences.\\n- The high house prices and resilient housing market pose concerns for the Federal Reserve in managing inflation, as the strong rebound in housing prices could lead to rising rents and increased inflationary pressures.\\n- While the housing market has remained resilient thus far, the sustainability of the high prices and the viability of offering discounts on mortgage rates in the long term may become more challenging for home builders as mortgage rates rise further.'"
      ]
     },
     "execution_count": 17,
>>>>>>> e4d638fce79132c3e2746f56669d6570e780d92a
     "metadata": {},
     "output_type": "execute_result"
    }
   ],
   "source": [
    "podcastSummary = chatOutput.choices[0].message.content\n",
    "podcastSummary"
   ]
  },
  {
   "cell_type": "markdown",
   "metadata": {},
   "source": [
    "## Step 4 - Using functions to extract additional information to provide additional context on the episode"
   ]
  },
  {
   "cell_type": "code",
<<<<<<< HEAD
   "execution_count": 15,
=======
   "execution_count": 18,
>>>>>>> e4d638fce79132c3e2746f56669d6570e780d92a
   "metadata": {},
   "outputs": [
    {
     "name": "stdout",
     "output_type": "stream",
     "text": [
<<<<<<< HEAD
      "Number of tokens in input prompt  1013\n"
=======
      "Number of tokens in input prompt  1023\n"
>>>>>>> e4d638fce79132c3e2746f56669d6570e780d92a
     ]
    }
   ],
   "source": [
    "request = podcast_transcript[:5000]\n",
    "enc = tiktoken.encoding_for_model(\"gpt-3.5-turbo\")\n",
    "print (\"Number of tokens in input prompt \", len(enc.encode(request)))"
   ]
  },
  {
   "cell_type": "code",
<<<<<<< HEAD
   "execution_count": 16,
=======
   "execution_count": 19,
>>>>>>> e4d638fce79132c3e2746f56669d6570e780d92a
   "metadata": {},
   "outputs": [],
   "source": [
    "completion = openai.ChatCompletion.create(\n",
    "    model=\"gpt-3.5-turbo\",\n",
    "    messages=[{\"role\": \"user\", \"content\": request}],\n",
    "    functions=[\n",
    "    {\n",
    "        \"name\": \"get_podcast_guest_information\",\n",
    "        \"description\": \"Get information on the podcast guest using their name to search on Wikipedia\",\n",
    "        \"parameters\": {\n",
    "            \"type\": \"object\",\n",
    "            \"properties\": {\n",
    "                \"guest_name\": {\n",
    "                    \"type\": \"string\",\n",
    "                    \"description\": \"The name of the guest who is speaking in the podcast\",\n",
    "                },\n",
    "                \"unit\": {\"type\": \"string\"},\n",
    "            },\n",
    "            \"required\": [\"guest_name\"],\n",
    "        },\n",
    "    }\n",
    "    ],\n",
    "    function_call={\"name\": \"get_podcast_guest_information\"}\n",
    "    )"
   ]
  },
  {
   "cell_type": "code",
   "execution_count": null,
   "metadata": {},
   "outputs": [],
   "source": [
    "completion"
   ]
  },
  {
   "cell_type": "code",
<<<<<<< HEAD
   "execution_count": 18,
=======
   "execution_count": 21,
>>>>>>> e4d638fce79132c3e2746f56669d6570e780d92a
   "metadata": {},
   "outputs": [
    {
     "name": "stdout",
     "output_type": "stream",
     "text": [
<<<<<<< HEAD
      "Podcast Guest is  Anton LaGuardia\n"
=======
      "Podcast Guest is  Simon Rabinovich\n"
>>>>>>> e4d638fce79132c3e2746f56669d6570e780d92a
     ]
    }
   ],
   "source": [
    "import json\n",
    "\n",
    "podcast_guest = \"\"\n",
    "response_message = completion[\"choices\"][0][\"message\"]\n",
    "if response_message.get(\"function_call\"):\n",
    "  function_name = response_message[\"function_call\"][\"name\"]\n",
    "  function_args = json.loads(response_message[\"function_call\"][\"arguments\"])\n",
    "  podcast_guest=function_args.get(\"guest_name\")\n",
    "\n",
    "print (\"Podcast Guest is \", podcast_guest)"
   ]
  },
  {
   "cell_type": "code",
   "execution_count": null,
   "metadata": {},
   "outputs": [],
   "source": [
    "%pip install wikipedia"
   ]
  },
  {
   "cell_type": "code",
   "execution_count": null,
   "metadata": {},
   "outputs": [],
   "source": [
    "import wikipedia\n",
    "input = wikipedia.page(podcast_guest, auto_suggest=False)"
   ]
  },
  {
   "cell_type": "code",
   "execution_count": null,
   "metadata": {},
   "outputs": [],
   "source": [
    "podcast_guest_info = input.summary\n",
    "print (podcast_guest_info)"
   ]
  },
  {
   "cell_type": "markdown",
   "metadata": {},
   "source": [
    "### adjust prompt to extract full name of podcast guest"
   ]
  },
  {
   "cell_type": "code",
<<<<<<< HEAD
   "execution_count": 21,
=======
   "execution_count": 25,
>>>>>>> e4d638fce79132c3e2746f56669d6570e780d92a
   "metadata": {},
   "outputs": [
    {
     "name": "stdout",
     "output_type": "stream",
     "text": [
      "[]\n"
     ]
    }
   ],
   "source": [
    "import re\n",
    "\n",
    "text = podcastSummary\n",
    "# Regular expression to extract guest information\n",
    "pattern = r\"GUEST NAME: (?P<name>.+?)\\nGUEST ORGANIZATION: (?P<org>.+?)\\nGUEST TITLE: (?P<title>.+?)\\n\\n\"\n",
    "\n",
    "# Extracting the details using regex\n",
    "matches = list(re.finditer(pattern, text))\n",
    "\n",
    "guest_details = [{\"name\": match.group(\"name\"), \"organization\": match.group(\"org\"), \"title\": match.group(\"title\")} for match in matches]\n",
    "\n",
    "print(guest_details)"
   ]
  },
  {
   "cell_type": "code",
<<<<<<< HEAD
   "execution_count": 22,
=======
   "execution_count": 26,
>>>>>>> e4d638fce79132c3e2746f56669d6570e780d92a
   "metadata": {},
   "outputs": [
    {
     "name": "stdout",
     "output_type": "stream",
     "text": [
      "Number of tokens in input prompt  1\n"
     ]
    }
   ],
   "source": [
    "request = str(guest_details)\n",
    "enc = tiktoken.encoding_for_model(\"gpt-3.5-turbo\")\n",
    "print (\"Number of tokens in input prompt \", len(enc.encode(request)))"
   ]
  },
  {
   "cell_type": "code",
<<<<<<< HEAD
   "execution_count": 23,
=======
   "execution_count": 27,
>>>>>>> e4d638fce79132c3e2746f56669d6570e780d92a
   "metadata": {},
   "outputs": [],
   "source": [
    "completion = openai.ChatCompletion.create(\n",
    "    model=\"gpt-3.5-turbo\",\n",
    "    messages=[{\"role\": \"user\", \"content\": request}],\n",
    "    functions=[\n",
    "    {\n",
    "        \"name\": \"get_podcast_guest_information\",\n",
    "        \"description\": \"Get information on the podcast guest using their full name and the name of the organization they are part of to search for them on Wikipedia or Google.\",\n",
    "        \"parameters\": {\n",
    "            \"type\": \"object\",\n",
    "            \"properties\": {\n",
    "                \"guest_name\": {\n",
    "                    \"type\": \"string\",\n",
    "                    \"description\": \"The full name of the guest who is speaking in the podcast\",\n",
    "                },\n",
    "                \"guest_organization\": {\n",
    "                    \"type\": \"string\",\n",
    "                    \"description\": \"The full name of the organization that the podcast guest belongs to or runs\",\n",
    "                },\n",
    "                \"guest_title\": {\n",
    "                    \"type\": \"string\",\n",
    "                    \"description\": \"The title, designation or role of the podcast guest in their organization\",\n",
    "                },\n",
    "            },\n",
    "            \"required\": [\"guest_name\"],\n",
    "        },\n",
    "    }\n",
    "],\n",
    "function_call={\"name\": \"get_podcast_guest_information\"}\n",
    ")"
   ]
  },
  {
   "cell_type": "code",
<<<<<<< HEAD
   "execution_count": 24,
=======
   "execution_count": 28,
>>>>>>> e4d638fce79132c3e2746f56669d6570e780d92a
   "metadata": {},
   "outputs": [],
   "source": [
    "import json\n",
    "\n",
    "podcast_guest = \"\"\n",
    "podcast_guest_org = \"\"\n",
    "podcast_guest_title = \"\"\n",
    "response_message = completion[\"choices\"][0][\"message\"]\n",
    "if response_message.get(\"function_call\"):\n",
    "  function_name = response_message[\"function_call\"][\"name\"]\n",
    "  function_args = json.loads(response_message[\"function_call\"][\"arguments\"])\n",
    "  podcast_guest=function_args.get(\"guest_name\")\n",
    "  podcast_guest_org=function_args.get(\"guest_organization\")\n",
    "  podcast_guest_title=function_args.get(\"guest_title\")"
   ]
  },
  {
   "cell_type": "code",
<<<<<<< HEAD
   "execution_count": 25,
=======
   "execution_count": 29,
>>>>>>> e4d638fce79132c3e2746f56669d6570e780d92a
   "metadata": {},
   "outputs": [
    {
     "name": "stdout",
     "output_type": "stream",
     "text": [
<<<<<<< HEAD
      "John Doe\n",
      "ABC Company\n",
      "CEO\n"
=======
      "Barack Obama\n",
      "None\n",
      "None\n"
>>>>>>> e4d638fce79132c3e2746f56669d6570e780d92a
     ]
    }
   ],
   "source": [
    "print (podcast_guest)\n",
    "print (podcast_guest_org)\n",
    "print (podcast_guest_title)"
   ]
  },
  {
   "cell_type": "code",
<<<<<<< HEAD
   "execution_count": 26,
=======
   "execution_count": 30,
>>>>>>> e4d638fce79132c3e2746f56669d6570e780d92a
   "metadata": {},
   "outputs": [],
   "source": [
    "if podcast_guest_org is None:\n",
    "  podcast_guest_org = \"\"\n",
    "if podcast_guest_title is None:\n",
    "  podcast_guest_title = \"\""
   ]
  },
  {
   "cell_type": "code",
<<<<<<< HEAD
   "execution_count": 27,
=======
   "execution_count": 31,
>>>>>>> e4d638fce79132c3e2746f56669d6570e780d92a
   "metadata": {},
   "outputs": [],
   "source": [
    "input = wikipedia.page(podcast_guest + \" \" + podcast_guest_org + \" \" + podcast_guest_title, auto_suggest=True)"
   ]
  },
  {
   "cell_type": "code",
<<<<<<< HEAD
   "execution_count": 28,
=======
   "execution_count": 32,
>>>>>>> e4d638fce79132c3e2746f56669d6570e780d92a
   "metadata": {},
   "outputs": [
    {
     "data": {
      "text/plain": [
<<<<<<< HEAD
       "\"Jeffrey Edward Epstein ( EP-steen; January 20, 1953 – August 10, 2019) was an American sex offender and financier. Epstein, who was born and raised in New York City, began his professional life by teaching at the Dalton School despite lacking a college degree. After his dismissal from the school, he entered the banking and finance sector, working at Bear Stearns in various roles before starting his own firm. Epstein developed an elite social circle and procured many women and children whom he and his associates sexually abused.In 2005, police in Palm Beach, Florida, began investigating Epstein after a parent reported that he had sexually abused her 14-year-old daughter. Epstein pleaded guilty and was convicted in 2008 by a Florida state court of procuring a child for prostitution and of soliciting a prostitute. He served almost thirteen months in custody, but with extensive work release. He was convicted of only these two crimes as part of a controversial plea deal; federal officials had identified thirty-six girls, some as young as 14-years-old, whom Epstein had allegedly sexually abused.Epstein was arrested again on July 6, 2019, on federal charges for the sex trafficking of minors in Florida and New York. He died in his jail cell on August 10, 2019. The medical examiner ruled that his death was a suicide by hanging. Epstein's lawyers have disputed the ruling, and there has been significant public skepticism about the true cause of his death, resulting in numerous conspiracy theories. Since Epstein's death precluded the possibility of pursuing criminal charges against him, a judge dismissed all criminal charges on August 29, 2019. Epstein had a decades-long association with the British socialite Ghislaine Maxwell, leading to her 2021 conviction on U.S. federal charges of sex trafficking and conspiracy for helping him procure girls, including a 14-year-old, for child sexual abuse and prostitution.\""
      ]
     },
     "execution_count": 28,
=======
       "\"Barack Hussein Obama II (  bə-RAHK hoo-SAYN oh-BAH-mə; born August 4, 1961) is an American politician who served as the 44th president of the United States from 2009 to 2017. A member of the Democratic Party, he was the first African-American  president. Obama previously served as a U.S. senator representing Illinois from 2005 to 2008 and as an Illinois state senator from 1997 to 2004, and worked as a civil rights lawyer and university lecturer. \\nObama was born in Honolulu, Hawaii. After graduating from Columbia University in 1983, he worked as a community organizer in Chicago. In 1988, he enrolled in Harvard Law School, where he was the first black president of the Harvard Law Review. After graduating, he became a civil rights attorney and an academic, teaching constitutional law at the University of Chicago Law School from 1992 to 2004. Turning to elective politics, he represented the 13th district in the Illinois Senate from 1997 until 2004, when he successfully ran for the U.S. Senate. In 2008, after a close primary campaign against Hillary Clinton, he was nominated by the Democratic Party for president and chose Joe Biden as his running mate. Obama was elected President, defeating Republican nominee John McCain in the presidential election and was inaugurated on January 20, 2009. Nine months later, he was named the 2009 Nobel Peace Prize laureate, a decision that drew a mixture of praise and criticism.\\nObama's first-term actions addressed the global financial crisis and included a major stimulus package, a partial extension of George W. Bush's tax cuts, legislation to reform health care, a major financial regulation reform bill, and the end of a major U.S. military presence in Iraq. Obama also appointed Supreme Court justices Sonia Sotomayor and Elena Kagan, the former being the first Hispanic American on the Supreme Court. He ordered the counterterrorism raid which killed Osama bin Laden and downplayed Bush's counterinsurgency model, expanding air strikes and making extensive use of special forces while encouraging greater reliance on host-government militaries. Obama also ordered military involvement in Libya in order to implement UN Security Council Resolution 1973, contributing to the overthrow of Muammar Gaddafi.\\nAfter winning re-election by defeating Republican opponent Mitt Romney, Obama was sworn in for a second term on January 20, 2013. In his second term, Obama took steps to combat climate change, signing a major international climate agreement and an executive order to limit carbon emissions. Obama also presided over the implementation of the Affordable Care Act and other legislation passed in his first term, and he negotiated a nuclear agreement with Iran and normalized relations with Cuba. The number of American soldiers in Afghanistan fell dramatically during Obama's second term, though U.S. soldiers remained in the country throughout Obama's presidency. Obama promoted inclusion for LGBT Americans, culminating in the Supreme Court's decision to strike down same-sex marriage bans as unconstitutional in Obergefell v. Hodges.\\nDuring Obama's terms as president, the United States' reputation abroad, as well as the American economy, significantly improved. Obama left office on January 20, 2017, and continues to reside in Washington, D.C. His presidential library in Chicago began construction in 2021. Since leaving office, Obama has remained active in Democratic politics, including campaigning for candidates in various American elections. Outside of politics, Obama has published three bestselling books: Dreams from My Father (1995), The Audacity of Hope (2006) and A Promised Land (2020). Rankings by scholars and historians, in which he has been featured since 2010, place him in the middle to upper tier of American presidents.\""
      ]
     },
     "execution_count": 32,
>>>>>>> e4d638fce79132c3e2746f56669d6570e780d92a
     "metadata": {},
     "output_type": "execute_result"
    }
   ],
   "source": [
    "input.summary"
   ]
  },
  {
   "cell_type": "markdown",
   "metadata": {},
   "source": [
    "### Try Google Search using langchain to find guest info"
   ]
  },
  {
   "cell_type": "code",
   "execution_count": null,
   "metadata": {},
   "outputs": [],
   "source": [
    "%pip install langchain\n",
    "%pip install google-search-results\n",
    "%pip install openai"
   ]
  },
  {
   "cell_type": "code",
<<<<<<< HEAD
   "execution_count": 29,
=======
   "execution_count": 34,
>>>>>>> e4d638fce79132c3e2746f56669d6570e780d92a
   "metadata": {},
   "outputs": [
    {
     "name": "stdout",
     "output_type": "stream",
     "text": [
      "\n",
      "\n",
      "\u001b[1m> Entering new AgentExecutor chain...\u001b[0m\n",
<<<<<<< HEAD
      "\u001b[32;1m\u001b[1;3m I need to find out more information about John Doe\n",
      "Action: Search\n",
      "Action Input: \"John Doe ABC Company CEO\"\u001b[0m\n",
      "Observation: \u001b[36;1m\u001b[1;3mpresident at abc company · View mutual connections with doe · Welcome back · Experience · Explore collaborative articles · Others named doe john · View doe's full ...\u001b[0m\n",
      "Thought:\u001b[32;1m\u001b[1;3m I now have enough information to answer the question\n",
      "Final Answer: John Doe is the CEO of ABC Company. He has experience in the industry and is connected to many people in the business.\u001b[0m\n",
      "\n",
      "\u001b[1m> Finished chain.\u001b[0m\n",
      "John Doe is the CEO of ABC Company. He has experience in the industry and is connected to many people in the business.\n"
=======
      "\u001b[32;1m\u001b[1;3m I should find out more information about Barack Obama  \n",
      "Action: Search  \n",
      "Action Input: \"Barack Obama\"  \u001b[0m\n",
      "Observation: \u001b[36;1m\u001b[1;3m[{'title': \"Tucker Carlson seems to think Obama is a gay crack addict. It's a new low for conservatism\", 'link': 'https://www.telegraph.co.uk/news/2023/09/07/tucker-carlson-twitter-larry-sinclair-interview-obama/', 'source': 'The Telegraph', 'date': '1 day ago', 'thumbnail': 'https://serpapi.com/searches/64fc7af63824277f7215e7f3/images/51e36422425c3a3f65aaf07ed75939bb929293d64a12839e.jpeg'}, {'title': 'Musk slams Tucker Carlson interview with fraudster who claims he had sex with Barack Obama', 'link': 'https://nypost.com/2023/09/07/musk-calls-for-evidence-after-tucker-carlson-interview-with-man-claiming-he-had-sex-with-obama/', 'source': 'New York Post', 'date': '1 day ago', 'thumbnail': 'https://serpapi.com/searches/64fc7af63824277f7215e7f3/images/51e36422425c3a3f0878607ad86029bd059b430c91818d83.jpeg'}, {'title': 'Even for Tucker Carlson, his supposed Obama sex exposé was ridiculous', 'link': 'https://www.theguardian.com/commentisfree/2023/sep/07/tucker-carlson-obama-sex-expose-ridiculous', 'source': 'The Guardian', 'date': '1 day ago', 'thumbnail': 'https://serpapi.com/searches/64fc7af63824277f7215e7f3/images/51e36422425c3a3f3d9d1aa355244813e21bd381c4bfacf3.jpeg'}, {'title': 'For too much of the right, an Obama fixation is tough to shake', 'link': 'https://www.msnbc.com/rachel-maddow-show/maddowblog/much-right-obama-fixation-tough-shake-rcna103833', 'source': 'MSNBC News', 'date': '2 days ago', 'thumbnail': 'https://serpapi.com/searches/64fc7af63824277f7215e7f3/images/51e36422425c3a3f8a22b19db70309ceca29bc3cf48ad235.jpeg'}, {'title': \"Dave Portnoy says there's '0.0%' truth to Larry Sinclair's claims of 'crack cocaine-fueled sex' with Obama\", 'link': 'https://www.nydailynews.com/2023/09/07/larry-sinclair-obama-allegations-tucker-carlson-interview-dave-portnoy/', 'source': 'New York Daily News', 'date': '1 day ago', 'thumbnail': 'https://serpapi.com/searches/64fc7af63824277f7215e7f3/images/51e36422425c3a3f7c46d13fa2c3fba7841d65372d2f3cc4.jpeg'}, {'title': 'Obama Foundation Backs Away From Tiger Woods Golf Course In Jackson Park', 'link': 'https://blockclubchicago.org/2023/09/08/obama-foundation-backs-away-from-tiger-woods-golf-course-in-jackson-park/', 'source': 'Block Club Chicago', 'date': '19 hours ago', 'thumbnail': 'https://serpapi.com/searches/64fc7af63824277f7215e7f3/images/51e36422425c3a3f3515b68fcd11cb07bfe41845a7e44de8.jpeg'}, {'title': 'Presidential centers from Hoover to Bush and Obama unite to warn of fragile state of US democracy', 'link': 'https://apnews.com/article/united-states-democracy-presidents-threats-joint-statement-5530a89df2c41d58a22961f63fb0e6ff', 'source': 'AP News', 'date': '1 day ago', 'thumbnail': 'https://serpapi.com/searches/64fc7af63824277f7215e7f3/images/51e36422425c3a3ff64de21037506f402b8cbe28f9f1c4cb.jpeg'}]\u001b[0m\n",
      "Thought:\u001b[32;1m\u001b[1;3m I now have a better understanding of Barack Obama  \n",
      "Final Answer: Barack Obama is a former President of the United States who served from 2009 to 2017. He is currently involved in a number of initiatives, including the Obama Foundation and the Obama Presidential Center. He is also the subject of numerous news stories, many of which focus on his legacy and his current activities.\u001b[0m\n",
      "\n",
      "\u001b[1m> Finished chain.\u001b[0m\n",
      "Barack Obama is a former President of the United States who served from 2009 to 2017. He is currently involved in a number of initiatives, including the Obama Foundation and the Obama Presidential Center. He is also the subject of numerous news stories, many of which focus on his legacy and his current activities.\n"
>>>>>>> e4d638fce79132c3e2746f56669d6570e780d92a
     ]
    }
   ],
   "source": [
    "# Get description of guest via LangChain SERP API tool\n",
    "from langchain.llms import OpenAI\n",
    "from langchain.agents import load_tools\n",
    "from langchain.agents import initialize_agent\n",
    "import os\n",
    "\n",
    "os.environ['OPENAI_API_KEY'] = getpass('Enter the OpenAI API Key in the cell  ')\n",
    "os.environ[\"SERPAPI_API_KEY\"] = getpass('Enter the Serapi API Key in the cell  ')\n",
    "\n",
    "llm = OpenAI(temperature=0.3)\n",
    "tools = load_tools([\"serpapi\"], llm=llm)\n",
    "agent = initialize_agent(tools, llm, agent=\"zero-shot-react-description\", verbose=True)\n",
    "\n",
    "# Using the agent to get a description of the podcast guest\n",
    "query = f\"Describe this person: {podcast_guest} {podcast_guest_org} {podcast_guest_title}\"\n",
    "result = agent.run(query)\n",
    "podcast_guest_summary = result\n",
    "print(result)"
   ]
  },
  {
   "cell_type": "code",
   "execution_count": 30,
   "metadata": {},
   "outputs": [
    {
     "name": "stdout",
     "output_type": "stream",
     "text": [
      "{'search_metadata': {'id': '64ff432e654a8ccc86af2147', 'status': 'Success', 'json_endpoint': 'https://serpapi.com/searches/72cdd2f777018f17/64ff432e654a8ccc86af2147.json', 'created_at': '2023-09-11 16:41:18 UTC', 'processed_at': '2023-09-11 16:41:18 UTC', 'google_images_url': 'https://www.google.com/search?q=John+Doe+ABC+Company+CEO&oq=John+Doe+ABC+Company+CEO&hl=en&gl=us&tbm=isch', 'raw_html_file': 'https://serpapi.com/searches/72cdd2f777018f17/64ff432e654a8ccc86af2147.html', 'total_time_taken': 2.15}, 'search_parameters': {'engine': 'google_images', 'q': 'John Doe ABC Company CEO', 'google_domain': 'google.com', 'hl': 'en', 'gl': 'us', 'device': 'desktop'}, 'search_information': {'image_results_state': 'Results for exact spelling', 'menu_items': [{'position': 1, 'title': 'All', 'link': 'https://www.google.com/search?q=John+Doe+ABC+Company+CEO&source=lmns&gl=us&hl=en&sa=X&ved=2ahUKEwit95f3_6KBAxU6IGIAHW7FBocQ0pQJKAB6BAgBEAI', 'serpapi_link': 'https://serpapi.com/search.json?device=desktop&engine=google&gl=us&google_domain=google.com&hl=en&q=John+Doe+ABC+Company+CEO'}, {'position': 2, 'title': 'News', 'link': 'https://www.google.com/search?q=John+Doe+ABC+Company+CEO&source=lmns&tbm=nws&gl=us&hl=en&sa=X&ved=2ahUKEwit95f3_6KBAxU6IGIAHW7FBocQ0pQJKAF6BAgBEAQ', 'serpapi_link': 'https://serpapi.com/search.json?device=desktop&engine=google&gl=us&google_domain=google.com&hl=en&q=John+Doe+ABC+Company+CEO&tbm=nws'}, {'position': 3, 'title': 'Images'}, {'position': 4, 'title': 'Videos', 'link': 'https://www.google.com/search?q=John+Doe+ABC+Company+CEO&source=lmns&tbm=vid&gl=us&hl=en&sa=X&ved=2ahUKEwit95f3_6KBAxU6IGIAHW7FBocQ0pQJKAN6BAgBEAg', 'serpapi_link': 'https://serpapi.com/search.json?device=desktop&engine=google_videos&gl=us&google_domain=google.com&hl=en&q=John+Doe+ABC+Company+CEO'}, {'position': 5, 'title': 'Shopping', 'link': 'https://www.google.com/search?q=John+Doe+ABC+Company+CEO&source=lmns&tbm=shop&gl=us&hl=en&sa=X&ved=2ahUKEwit95f3_6KBAxU6IGIAHW7FBocQ0pQJKAR6BAgBEAo', 'serpapi_link': 'https://serpapi.com/search.json?device=desktop&engine=google_shopping&gl=us&google_domain=google.com&hl=en&q=John+Doe+ABC+Company+CEO'}, {'position': 6, 'title': 'Books', 'link': 'https://www.google.com/search?q=John+Doe+ABC+Company+CEO&source=lmns&tbm=bks&gl=us&hl=en&sa=X&ved=2ahUKEwit95f3_6KBAxU6IGIAHW7FBocQ0pQJKAB6BAgBEA0'}, {'position': 7, 'title': 'Maps', 'link': 'https://maps.google.com/maps?q=John+Doe+ABC+Company+CEO&source=lmns&entry=mc&gl=us&hl=en&sa=X&ved=2ahUKEwit95f3_6KBAxU6IGIAHW7FBocQ0pQJKAF6BAgBEA4'}, {'position': 8, 'title': 'Flights', 'link': 'https://www.google.com/travel/flights?q=John+Doe+ABC+Company+CEO&source=lmns&tbm=flm&gl=us&hl=en&sa=X&ved=2ahUKEwit95f3_6KBAxU6IGIAHW7FBocQ0pQJKAJ6BAgBEA8'}, {'position': 9, 'title': 'Finance', 'link': 'https://www.google.com/search?q=John+Doe+ABC+Company+CEO&source=lmns&tbm=fin&gl=us&hl=en&sa=X&ved=2ahUKEwit95f3_6KBAxU6IGIAHW7FBocQ0pQJKAN6BAgBEBA'}]}, 'suggested_searches': [{'name': 'business card', 'link': 'https://www.google.com/search?q=John+Doe+ABC+Company+CEO&tbm=isch&hl=en&gl=us&chips=q:john+doe+abc+company+ceo,online_chips:business+card:ZqV1EuJEBw0%3D&sa=X&ved=2ahUKEwit95f3_6KBAxU6IGIAHW7FBocQ4lYoAHoECAEQMg', 'chips': 'q:john+doe+abc+company+ceo,online_chips:business+card:ZqV1EuJEBw0%3D', 'serpapi_link': 'https://serpapi.com/search.json?chips=q%3Ajohn%2Bdoe%2Babc%2Bcompany%2Bceo%2Conline_chips%3Abusiness%2Bcard%3AZqV1EuJEBw0%253D&device=desktop&engine=google_images&gl=us&google_domain=google.com&hl=en&q=John+Doe+ABC+Company+CEO', 'thumbnail': 'https://serpapi.com/searches/64ff432e654a8ccc86af2147/images/15985eb9a74c7cd32985671bc1af42cefce1dff3b4e30fb66a2c743dda9ce6c6.png'}, {'name': 'value proposition', 'link': 'https://www.google.com/search?q=John+Doe+ABC+Company+CEO&tbm=isch&hl=en&gl=us&chips=q:john+doe+abc+company+ceo,online_chips:value+proposition:zdLywZM38Tc%3D&sa=X&ved=2ahUKEwit95f3_6KBAxU6IGIAHW7FBocQ4lYoAXoECAEQNA', 'chips': 'q:john+doe+abc+company+ceo,online_chips:value+proposition:zdLywZM38Tc%3D', 'serpapi_link': 'https://serpapi.com/search.json?chips=q%3Ajohn%2Bdoe%2Babc%2Bcompany%2Bceo%2Conline_chips%3Avalue%2Bproposition%3AzdLywZM38Tc%253D&device=desktop&engine=google_images&gl=us&google_domain=google.com&hl=en&q=John+Doe+ABC+Company+CEO', 'thumbnail': 'https://serpapi.com/searches/64ff432e654a8ccc86af2147/images/15985eb9a74c7cd32985671bc1af42ce2ccd69ee98422d61197d530f7e3d91e5.jpeg'}, {'name': 'resume', 'link': 'https://www.google.com/search?q=John+Doe+ABC+Company+CEO&tbm=isch&hl=en&gl=us&chips=q:john+doe+abc+company+ceo,online_chips:resume:ZCwj5EfRbG0%3D&sa=X&ved=2ahUKEwit95f3_6KBAxU6IGIAHW7FBocQ4lYoAnoECAEQNg', 'chips': 'q:john+doe+abc+company+ceo,online_chips:resume:ZCwj5EfRbG0%3D', 'serpapi_link': 'https://serpapi.com/search.json?chips=q%3Ajohn%2Bdoe%2Babc%2Bcompany%2Bceo%2Conline_chips%3Aresume%3AZCwj5EfRbG0%253D&device=desktop&engine=google_images&gl=us&google_domain=google.com&hl=en&q=John+Doe+ABC+Company+CEO', 'thumbnail': 'https://serpapi.com/searches/64ff432e654a8ccc86af2147/images/15985eb9a74c7cd32985671bc1af42cecbc05fb98e78d9e0c49c6ccfe8548eaa.jpeg'}, {'name': 'gartner', 'link': 'https://www.google.com/search?q=John+Doe+ABC+Company+CEO&tbm=isch&hl=en&gl=us&chips=q:john+doe+abc+company+ceo,online_chips:gartner:Km8f2r2WxbU%3D&sa=X&ved=2ahUKEwit95f3_6KBAxU6IGIAHW7FBocQ4lYoA3oECAEQOA', 'chips': 'q:john+doe+abc+company+ceo,online_chips:gartner:Km8f2r2WxbU%3D', 'serpapi_link': 'https://serpapi.com/search.json?chips=q%3Ajohn%2Bdoe%2Babc%2Bcompany%2Bceo%2Conline_chips%3Agartner%3AKm8f2r2WxbU%253D&device=desktop&engine=google_images&gl=us&google_domain=google.com&hl=en&q=John+Doe+ABC+Company+CEO', 'thumbnail': 'https://serpapi.com/searches/64ff432e654a8ccc86af2147/images/15985eb9a74c7cd32985671bc1af42ceb7e45070182beac54017bbbdcbe76848.jpeg'}, {'name': 'construction', 'link': 'https://www.google.com/search?q=John+Doe+ABC+Company+CEO&tbm=isch&hl=en&gl=us&chips=q:john+doe+abc+company+ceo,online_chips:construction&sa=X&ved=2ahUKEwit95f3_6KBAxU6IGIAHW7FBocQ4lYoBHoECAEQOg', 'chips': 'q:john+doe+abc+company+ceo,online_chips:construction', 'serpapi_link': 'https://serpapi.com/search.json?chips=q%3Ajohn%2Bdoe%2Babc%2Bcompany%2Bceo%2Conline_chips%3Aconstruction&device=desktop&engine=google_images&gl=us&google_domain=google.com&hl=en&q=John+Doe+ABC+Company+CEO'}, {'name': 'tax', 'link': 'https://www.google.com/search?q=John+Doe+ABC+Company+CEO&tbm=isch&hl=en&gl=us&chips=q:john+doe+abc+company+ceo,online_chips:tax:xCV4VJ6PTE4%3D&sa=X&ved=2ahUKEwit95f3_6KBAxU6IGIAHW7FBocQ4lYoBXoECAEQOw', 'chips': 'q:john+doe+abc+company+ceo,online_chips:tax:xCV4VJ6PTE4%3D', 'serpapi_link': 'https://serpapi.com/search.json?chips=q%3Ajohn%2Bdoe%2Babc%2Bcompany%2Bceo%2Conline_chips%3Atax%3AxCV4VJ6PTE4%253D&device=desktop&engine=google_images&gl=us&google_domain=google.com&hl=en&q=John+Doe+ABC+Company+CEO', 'thumbnail': 'https://serpapi.com/searches/64ff432e654a8ccc86af2147/images/15985eb9a74c7cd32985671bc1af42ceb56e281141a7d0acdb973bcdfde6fa30.png'}, {'name': 'letter', 'link': 'https://www.google.com/search?q=John+Doe+ABC+Company+CEO&tbm=isch&hl=en&gl=us&chips=q:john+doe+abc+company+ceo,online_chips:letter:6kEx8oHvsSA%3D&sa=X&ved=2ahUKEwit95f3_6KBAxU6IGIAHW7FBocQ4lYoBnoECAEQPQ', 'chips': 'q:john+doe+abc+company+ceo,online_chips:letter:6kEx8oHvsSA%3D', 'serpapi_link': 'https://serpapi.com/search.json?chips=q%3Ajohn%2Bdoe%2Babc%2Bcompany%2Bceo%2Conline_chips%3Aletter%3A6kEx8oHvsSA%253D&device=desktop&engine=google_images&gl=us&google_domain=google.com&hl=en&q=John+Doe+ABC+Company+CEO', 'thumbnail': 'https://serpapi.com/searches/64ff432e654a8ccc86af2147/images/15985eb9a74c7cd32985671bc1af42ceeae1bdf15a6395f523dd4ad26b2e9d64.jpeg'}, {'name': 'income', 'link': 'https://www.google.com/search?q=John+Doe+ABC+Company+CEO&tbm=isch&hl=en&gl=us&chips=q:john+doe+abc+company+ceo,online_chips:income:DooimtKcYZ0%3D&sa=X&ved=2ahUKEwit95f3_6KBAxU6IGIAHW7FBocQ4lYoB3oECAEQPw', 'chips': 'q:john+doe+abc+company+ceo,online_chips:income:DooimtKcYZ0%3D', 'serpapi_link': 'https://serpapi.com/search.json?chips=q%3Ajohn%2Bdoe%2Babc%2Bcompany%2Bceo%2Conline_chips%3Aincome%3ADooimtKcYZ0%253D&device=desktop&engine=google_images&gl=us&google_domain=google.com&hl=en&q=John+Doe+ABC+Company+CEO', 'thumbnail': 'https://serpapi.com/searches/64ff432e654a8ccc86af2147/images/15985eb9a74c7cd32985671bc1af42ceeadc73856097cc9c38fcd6dbbd1e3111.png'}, {'name': 'employee', 'link': 'https://www.google.com/search?q=John+Doe+ABC+Company+CEO&tbm=isch&hl=en&gl=us&chips=q:john+doe+abc+company+ceo,online_chips:employee:S5k0LbIHAcA%3D&sa=X&ved=2ahUKEwit95f3_6KBAxU6IGIAHW7FBocQ4lYoCHoECAEQQQ', 'chips': 'q:john+doe+abc+company+ceo,online_chips:employee:S5k0LbIHAcA%3D', 'serpapi_link': 'https://serpapi.com/search.json?chips=q%3Ajohn%2Bdoe%2Babc%2Bcompany%2Bceo%2Conline_chips%3Aemployee%3AS5k0LbIHAcA%253D&device=desktop&engine=google_images&gl=us&google_domain=google.com&hl=en&q=John+Doe+ABC+Company+CEO', 'thumbnail': 'https://serpapi.com/searches/64ff432e654a8ccc86af2147/images/15985eb9a74c7cd32985671bc1af42cebabb1adb81e902042790f9636dab95dc.png'}, {'name': 'resume template', 'link': 'https://www.google.com/search?q=John+Doe+ABC+Company+CEO&tbm=isch&hl=en&gl=us&chips=q:john+doe+abc+company+ceo,online_chips:resume+template:_jH4uirz0bM%3D&sa=X&ved=2ahUKEwit95f3_6KBAxU6IGIAHW7FBocQ4lYoCXoECAEQQw', 'chips': 'q:john+doe+abc+company+ceo,online_chips:resume+template:_jH4uirz0bM%3D', 'serpapi_link': 'https://serpapi.com/search.json?chips=q%3Ajohn%2Bdoe%2Babc%2Bcompany%2Bceo%2Conline_chips%3Aresume%2Btemplate%3A_jH4uirz0bM%253D&device=desktop&engine=google_images&gl=us&google_domain=google.com&hl=en&q=John+Doe+ABC+Company+CEO', 'thumbnail': 'https://serpapi.com/searches/64ff432e654a8ccc86af2147/images/15985eb9a74c7cd32985671bc1af42ce2de639890e26066e64ecdecff6c80c98.jpeg'}, {'name': 'resume examples', 'link': 'https://www.google.com/search?q=John+Doe+ABC+Company+CEO&tbm=isch&hl=en&gl=us&chips=q:john+doe+abc+company+ceo,online_chips:resume+examples:Kj4XAlzEKjg%3D&sa=X&ved=2ahUKEwit95f3_6KBAxU6IGIAHW7FBocQ4lYoCnoECAEQRQ', 'chips': 'q:john+doe+abc+company+ceo,online_chips:resume+examples:Kj4XAlzEKjg%3D', 'serpapi_link': 'https://serpapi.com/search.json?chips=q%3Ajohn%2Bdoe%2Babc%2Bcompany%2Bceo%2Conline_chips%3Aresume%2Bexamples%3AKj4XAlzEKjg%253D&device=desktop&engine=google_images&gl=us&google_domain=google.com&hl=en&q=John+Doe+ABC+Company+CEO', 'thumbnail': 'https://serpapi.com/searches/64ff432e654a8ccc86af2147/images/15985eb9a74c7cd32985671bc1af42ceaf7a42da6853a73f2b8eaacc35931944.jpeg'}, {'name': 'abc inc', 'link': 'https://www.google.com/search?q=John+Doe+ABC+Company+CEO&tbm=isch&hl=en&gl=us&chips=q:john+doe+abc+company+ceo,online_chips:abc+inc:IgxZojeoZqY%3D&sa=X&ved=2ahUKEwit95f3_6KBAxU6IGIAHW7FBocQ4lYoC3oECAEQRw', 'chips': 'q:john+doe+abc+company+ceo,online_chips:abc+inc:IgxZojeoZqY%3D', 'serpapi_link': 'https://serpapi.com/search.json?chips=q%3Ajohn%2Bdoe%2Babc%2Bcompany%2Bceo%2Conline_chips%3Aabc%2Binc%3AIgxZojeoZqY%253D&device=desktop&engine=google_images&gl=us&google_domain=google.com&hl=en&q=John+Doe+ABC+Company+CEO', 'thumbnail': 'https://serpapi.com/searches/64ff432e654a8ccc86af2147/images/15985eb9a74c7cd32985671bc1af42cece09138ea82211aebada5956f846714d.jpeg'}, {'name': 'resume sample', 'link': 'https://www.google.com/search?q=John+Doe+ABC+Company+CEO&tbm=isch&hl=en&gl=us&chips=q:john+doe+abc+company+ceo,online_chips:resume+sample:ZwEF9iGpmvA%3D&sa=X&ved=2ahUKEwit95f3_6KBAxU6IGIAHW7FBocQ4lYoDHoECAEQSQ', 'chips': 'q:john+doe+abc+company+ceo,online_chips:resume+sample:ZwEF9iGpmvA%3D', 'serpapi_link': 'https://serpapi.com/search.json?chips=q%3Ajohn%2Bdoe%2Babc%2Bcompany%2Bceo%2Conline_chips%3Aresume%2Bsample%3AZwEF9iGpmvA%253D&device=desktop&engine=google_images&gl=us&google_domain=google.com&hl=en&q=John+Doe+ABC+Company+CEO', 'thumbnail': 'https://encrypted-tbn0.gstatic.com/images?q=tbn:ANd9GcQxJVP0zzcqJMD5u7wCoKkmeiflLKE8RBu_rchuWef_wr8mBL08&usqp=CAU'}, {'name': 'cv template', 'link': 'https://www.google.com/search?q=John+Doe+ABC+Company+CEO&tbm=isch&hl=en&gl=us&chips=q:john+doe+abc+company+ceo,online_chips:cv+template&sa=X&ved=2ahUKEwit95f3_6KBAxU6IGIAHW7FBocQ4lYoDXoECAEQSw', 'chips': 'q:john+doe+abc+company+ceo,online_chips:cv+template', 'serpapi_link': 'https://serpapi.com/search.json?chips=q%3Ajohn%2Bdoe%2Babc%2Bcompany%2Bceo%2Conline_chips%3Acv%2Btemplate&device=desktop&engine=google_images&gl=us&google_domain=google.com&hl=en&q=John+Doe+ABC+Company+CEO'}, {'name': 'card design', 'link': 'https://www.google.com/search?q=John+Doe+ABC+Company+CEO&tbm=isch&hl=en&gl=us&chips=q:john+doe+abc+company+ceo,online_chips:card+design&sa=X&ved=2ahUKEwit95f3_6KBAxU6IGIAHW7FBocQ4lYoDnoECAEQTA', 'chips': 'q:john+doe+abc+company+ceo,online_chips:card+design', 'serpapi_link': 'https://serpapi.com/search.json?chips=q%3Ajohn%2Bdoe%2Babc%2Bcompany%2Bceo%2Conline_chips%3Acard%2Bdesign&device=desktop&engine=google_images&gl=us&google_domain=google.com&hl=en&q=John+Doe+ABC+Company+CEO'}], 'images_results': [{'position': 1, 'thumbnail': 'https://serpapi.com/searches/64ff432e654a8ccc86af2147/images/06403767c0a95945af7b874dbfc6a94b2b5f190a488df9fa9c77595ec6fd7e52.jpeg', 'related_content_id': 'U1E3eDZlOG0wekdGOE1cIixcIkhlLTFWSUdTOE8zWXhN', 'serpapi_related_content_link': 'https://serpapi.com/search.json?engine=google_images_related_content&gl=us&hl=en&q=John+Doe+ABC+Company+CEO&related_content_id=U1E3eDZlOG0wekdGOE1cIixcIkhlLTFWSUdTOE8zWXhN', 'source': 'LinkedIn', 'source_logo': 'https://serpapi.com/searches/64ff432e654a8ccc86af2147/images/06403767c0a95945af7b874dbfc6a94beafe14f06367b05e00e361a32e6df113.png', 'title': 'John Doe - Administrative Assistant - ABC Company | LinkedIn', 'link': 'https://ca.linkedin.com/in/johndoetest', 'original': 'https://media.licdn.com/dms/image/C5103AQFl656k2-DwOg/profile-displayphoto-shrink_100_100/0/1517034956958?e=1697068800&v=beta&t=C29n-fG57W0PWit1iiZ7Gmh8qy5AaQ_q6RYvvYtRLHM', 'original_width': 100, 'original_height': 100, 'is_product': False}, {'position': 2, 'thumbnail': 'https://serpapi.com/searches/64ff432e654a8ccc86af2147/images/06403767c0a959450511d70346c0195a6a8f45d7e67900ef75b86d8f01a1328d.jpeg', 'related_content_id': 'VFZoV0ZqN0M0RmZFMk1cIixcIkQ1b0VvOVY3UlNtYWFN', 'serpapi_related_content_link': 'https://serpapi.com/search.json?engine=google_images_related_content&gl=us&hl=en&q=John+Doe+ABC+Company+CEO&related_content_id=VFZoV0ZqN0M0RmZFMk1cIixcIkQ1b0VvOVY3UlNtYWFN', 'source': 'Chegg', 'source_logo': 'https://serpapi.com/searches/64ff432e654a8ccc86af2147/images/06403767c0a959450511d70346c0195a700f6792427d798c1239a6d7eca3c615.png', 'title': 'Solved 7.14 pts Question 3 Jane Doe is president of the ABC | Chegg.com', 'link': 'https://www.chegg.com/homework-help/questions-and-answers/714-pts-question-3-jane-doe-president-abc-company-company-decentralized-leaves-investment--q72272548', 'original': 'https://media.cheggcdn.com/study/5b6/5b62388c-2a7a-4ffb-9b64-6d75e53b986b/image', 'original_width': 681, 'original_height': 700, 'is_product': False}, {'position': 3, 'thumbnail': 'https://serpapi.com/searches/64ff432e654a8ccc86af2147/images/06403767c0a95945e8eb7266cb0e7fae834509462f67243d5cfdba1c6651e732.jpeg', 'related_content_id': 'UlMxVnNWaFNzRWo1aE1cIixcIm1wVUdGTUhjckZud0JN', 'serpapi_related_content_link': 'https://serpapi.com/search.json?engine=google_images_related_content&gl=us&hl=en&q=John+Doe+ABC+Company+CEO&related_content_id=UlMxVnNWaFNzRWo1aE1cIixcIm1wVUdGTUhjckZud0JN', 'source': 'PR Week', 'source_logo': 'https://serpapi.com/searches/64ff432e654a8ccc86af2147/images/06403767c0a95945e8eb7266cb0e7fae77931d430c3ea5cef2546eb5ce507748.png', 'title': 'John Doe co-founder Rana Reeves departs while London office recruits  creative lead | PR Week', 'link': 'https://www.prweek.com/article/1399056/john-doe-co-founder-rana-reeves-departs-london-office-recruits-creative-lead', 'original': 'https://cached.imagescaler.hbpl.co.uk/resize/scaleWidth/815/cached.offlinehbpl.hbpl.co.uk/news/ORP/B4034D5B-B9CD-0FDA-A4A4B94A79E709491-20160616043202649.jpg', 'original_width': 422, 'original_height': 281, 'is_product': False}, {'position': 4, 'thumbnail': 'https://serpapi.com/searches/64ff432e654a8ccc86af2147/images/06403767c0a95945a87154b1552a30857ddf43c9c35053be291ea4c16f648444.jpeg', 'related_content_id': 'Wm1qc2JLWUpMb0lEak1cIixcIkxtS2dXWGdiT052UC1N', 'serpapi_related_content_link': 'https://serpapi.com/search.json?engine=google_images_related_content&gl=us&hl=en&q=John+Doe+ABC+Company+CEO&related_content_id=Wm1qc2JLWUpMb0lEak1cIixcIkxtS2dXWGdiT052UC1N', 'source': 'Rigorous Themes', 'source_logo': 'https://serpapi.com/searches/64ff432e654a8ccc86af2147/images/06403767c0a95945a87154b1552a308518eb8239157dd5ca2cfd28ebac3e3c87.png', 'title': 'Dr. John Doe CEO – Education-Minimal', 'link': 'https://rigorousthemes.com/demos-education-minimal/dr-john-doe-ceo/', 'original': 'https://rigorousthemes.com/demos-education-minimal/wp-content/uploads/2018/12/team_2.jpg', 'original_width': 264, 'original_height': 350, 'is_product': False}, {'position': 5, 'thumbnail': 'https://serpapi.com/searches/64ff432e654a8ccc86af2147/images/06403767c0a95945ecda8383dcc0064c02a7c2fd42d1dcb659f65f5c1e14a2af.jpeg', 'related_content_id': 'cG1hb042SlpEQ0toS01cIixcIl9jUlU2ZXJhTWMxek9N', 'serpapi_related_content_link': 'https://serpapi.com/search.json?engine=google_images_related_content&gl=us&hl=en&q=John+Doe+ABC+Company+CEO&related_content_id=cG1hb042SlpEQ0toS01cIixcIl9jUlU2ZXJhTWMxek9N', 'source': 'Advanced Resume Services', 'source_logo': 'https://serpapi.com/searches/64ff432e654a8ccc86af2147/images/06403767c0a95945ecda8383dcc0064cc916cdb95371292d11b263a9839a8f54.png', 'title': 'JOHN DOE', 'link': 'https://advancedresumeservices.com/wp-content/uploads/2017/07/BusinessLeadershipResume_After.pdf', 'original': 'https://advancedresumeservices.com/wp-content/uploads/wp-vertical-image-slider/business-unit.jpg', 'original_width': 330, 'original_height': 380, 'is_product': False}, {'position': 6, 'thumbnail': 'https://serpapi.com/searches/64ff432e654a8ccc86af2147/images/06403767c0a959458f0efc649ce175e2dbc37aac3a34e856c4a4fe6646293b57.jpeg', 'related_content_id': 'Q1NkUXBJNWdybWQ0aE1cIixcIkJkQXZBZHdMOXlJQS1N', 'serpapi_related_content_link': 'https://serpapi.com/search.json?engine=google_images_related_content&gl=us&hl=en&q=John+Doe+ABC+Company+CEO&related_content_id=Q1NkUXBJNWdybWQ0aE1cIixcIkJkQXZBZHdMOXlJQS1N', 'source': 'Department of Energy', 'source_logo': 'https://serpapi.com/searches/64ff432e654a8ccc86af2147/images/06403767c0a959458f0efc649ce175e294d221486d8f963cbc3a98091097658d.png', 'title': 'Date Mr. John Doe President XYZ Company 1111 Somewhere Street Fun City, ZZ  11111 Dear Mr. Doe: SELECTION OF CONTRACTOR – RE', 'link': 'https://energy.gov/sites/prod/files/PF2010-78a.pdf', 'is_product': False}, {'position': 7, 'thumbnail': 'https://serpapi.com/searches/64ff432e654a8ccc86af2147/images/06403767c0a959455a302006e7b93205bac0de6aa148274b1ee9330107cedf0c.jpeg', 'related_content_id': 'VGFuUE9iS1NjcjlEdk1cIixcImRZS1NQYnFzSXc1X0hN', 'serpapi_related_content_link': 'https://serpapi.com/search.json?engine=google_images_related_content&gl=us&hl=en&q=John+Doe+ABC+Company+CEO&related_content_id=VGFuUE9iS1NjcjlEdk1cIixcImRZS1NQYnFzSXc1X0hN', 'source': 'Yahoo', 'source_logo': 'https://serpapi.com/searches/64ff432e654a8ccc86af2147/images/06403767c0a959455a302006e7b93205d7a59f41e5516f0e95035f4c9b251e86.png', 'title': 'David Bohrman, Former CNN, ABC News and Current TV Executive, Dies at 69', 'link': 'https://www.yahoo.com/entertainment/david-bohrman-former-cnn-abc-081002209.html', 'original': 'https://s.yimg.com/ny/api/res/1.2/WqmmyJW3tIrLxLWmZ.Dy.g--/YXBwaWQ9aGlnaGxhbmRlcjt3PTY0MDtoPTQyNw--/https://media.zenfs.com/en/the_hollywood_reporter_217/9cff6daeab723eb9fc57534acccf28ea', 'original_width': 630, 'original_height': 420, 'is_product': False}, {'position': 8, 'thumbnail': 'https://serpapi.com/searches/64ff432e654a8ccc86af2147/images/06403767c0a95945301effd5e88934b96877997ab5b6c6ae405bbcb3671c3eae.jpeg', 'related_content_id': 'T3hNVk1UT04tMjNud01cIixcIjFjVGpuQktrOUdMUm5N', 'serpapi_related_content_link': 'https://serpapi.com/search.json?engine=google_images_related_content&gl=us&hl=en&q=John+Doe+ABC+Company+CEO&related_content_id=T3hNVk1UT04tMjNud01cIixcIjFjVGpuQktrOUdMUm5N', 'source': 'Enthusem', 'source_logo': 'https://serpapi.com/searches/64ff432e654a8ccc86af2147/images/06403767c0a95945301effd5e88934b995d2bd4b18277bc5a3da990dcffc1365.png', 'title': 'Untitled', 'link': 'https://www.enthusem.com/hubfs/Resources%20Inner%20Images/Downloadable%20PDFs%20/BUS_MAG-003.pdf', 'is_product': False}, {'position': 9, 'thumbnail': 'https://serpapi.com/searches/64ff432e654a8ccc86af2147/images/06403767c0a9594507bf70416361a3d907f9309481c16196f0fec07c26bfa869.jpeg', 'related_content_id': 'cWdpVnFXLV9YWUlNbk1cIixcInRnWjlyWUJ3eTV1QlFN', 'serpapi_related_content_link': 'https://serpapi.com/search.json?engine=google_images_related_content&gl=us&hl=en&q=John+Doe+ABC+Company+CEO&related_content_id=cWdpVnFXLV9YWUlNbk1cIixcInRnWjlyWUJ3eTV1QlFN', 'source': 'Reel Works', 'source_logo': 'https://serpapi.com/searches/64ff432e654a8ccc86af2147/images/06403767c0a9594507bf70416361a3d93a5dfafcca4653af7bfdb420951c492c.png', 'title': 'Meet the Staff — Reel Works', 'link': 'https://www.reelworks.org/staff', 'original': 'https://images.squarespace-cdn.com/content/v1/604bcf6e48bfe56aa7f8de5b/55d72c87-9f34-454d-acd0-ae07dfc66b36/VERBOSKY_headshots1_Sept-8483.jpg', 'original_width': 2500, 'original_height': 2500, 'is_product': False}, {'position': 10, 'thumbnail': 'https://serpapi.com/searches/64ff432e654a8ccc86af2147/images/06403767c0a95945ad2bde7a2303fa65a82668917ac2aaca3c45020260159e27.jpeg', 'related_content_id': 'QmswalBndUY4Z1RkOE1cIixcIkxXdjB3RGRDRDZmZ1RN', 'serpapi_related_content_link': 'https://serpapi.com/search.json?engine=google_images_related_content&gl=us&hl=en&q=John+Doe+ABC+Company+CEO&related_content_id=QmswalBndUY4Z1RkOE1cIixcIkxXdjB3RGRDRDZmZ1RN', 'source': 'John Doe – NEXPRESS SHIPPING', 'source_logo': 'https://serpapi.com/searches/64ff432e654a8ccc86af2147/images/06403767c0a95945ad2bde7a2303fa65a5d07bf16ed482f6090985ab94cc64e4.png', 'title': 'John Doe – NEXPRESS SHIPPING', 'link': 'https://habitbottle.com/member/ccc/', 'original': 'https://habitbottle.com/wp-content/uploads/2020/12/author-3.jpg', 'original_width': 254, 'original_height': 255, 'is_product': False}, {'position': 11, 'thumbnail': 'https://serpapi.com/searches/64ff432e654a8ccc86af2147/images/06403767c0a959450511d70346c0195a5dd030fca73c8bd0b3f36f532ebd53ab.jpeg', 'related_content_id': 'R0FaekJoYmxHWE5sbE1cIixcImJLbjZxNFFiTTFnZ1FN', 'serpapi_related_content_link': 'https://serpapi.com/search.json?engine=google_images_related_content&gl=us&hl=en&q=John+Doe+ABC+Company+CEO&related_content_id=R0FaekJoYmxHWE5sbE1cIixcImJLbjZxNFFiTTFnZ1FN', 'source': 'Porto theme', 'source_logo': 'https://serpapi.com/searches/64ff432e654a8ccc86af2147/images/06403767c0a959450511d70346c0195aaff0be8da0caac5f89dfdd010cc3f1d3.png', 'title': 'John Doe - Corporate 8', 'link': 'https://www.portotheme.com/wordpress/porto/corporate8/member/john-doe/', 'original': 'https://www.portotheme.com/wordpress/porto/corporate8/wp-content/uploads/sites/14/2016/06/team-1.jpg', 'original_width': 800, 'original_height': 800, 'is_product': False}, {'position': 12, 'thumbnail': 'https://serpapi.com/searches/64ff432e654a8ccc86af2147/images/06403767c0a959450511d70346c0195a7b0e0b15b4b6683829bef65d2821c290.jpeg', 'related_content_id': 'ak01aU1ScEVvZzFYdE1cIixcInlrcXpLdzBzY3dZR1NN', 'serpapi_related_content_link': 'https://serpapi.com/search.json?engine=google_images_related_content&gl=us&hl=en&q=John+Doe+ABC+Company+CEO&related_content_id=ak01aU1ScEVvZzFYdE1cIixcInlrcXpLdzBzY3dZR1NN', 'source': 'WOODTV.com', 'source_logo': 'https://serpapi.com/searches/64ff432e654a8ccc86af2147/images/06403767c0a959450511d70346c0195a8a4e0522eeac81d7e07c83c693b6a5b8.png', 'title': 'Sketch of 1987 John Doe released as genealogists look for name | WOODTV.com', 'link': 'https://www.woodtv.com/news/southwest-michigan/sketch-of-1987-john-doe-released-as-genealogists-look-for-name/', 'original': 'https://www.woodtv.com/wp-content/uploads/sites/51/2020/10/keeler-township-john-doe-rendering-1987.jpg?w=1280', 'original_width': 960, 'original_height': 540, 'is_product': False}, {'position': 13, 'thumbnail': 'https://serpapi.com/searches/64ff432e654a8ccc86af2147/images/06403767c0a959450511d70346c0195ae01442bf3e848a9a86461e16f382409e.jpeg', 'related_content_id': 'WGNSa1I5b1ZnUEJpWk1cIixcIjg0R19tNzUzbzlCUXZN', 'serpapi_related_content_link': 'https://serpapi.com/search.json?engine=google_images_related_content&gl=us&hl=en&q=John+Doe+ABC+Company+CEO&related_content_id=WGNSa1I5b1ZnUEJpWk1cIixcIjg0R19tNzUzbzlCUXZN', 'source': 'LinkedIn', 'source_logo': 'https://serpapi.com/searches/64ff432e654a8ccc86af2147/images/06403767c0a959450511d70346c0195aaf1556512a52d59175b064d41a24531f.png', 'title': 'John Doe - Deputy CEO - Cyber Security | LinkedIn', 'link': 'https://il.linkedin.com/in/john-doe-224189189', 'original': 'https://media.licdn.com/dms/image/C4D03AQGXk3GvD9JEjA/profile-displayphoto-shrink_800_800/0/1606572916939?e=2147483647&v=beta&t=9dSQni8BLVk9ASs-RPcdr9WHVjLgdYwUjTDvLEc1Dco', 'original_width': 566, 'original_height': 566, 'is_product': False}, {'position': 14, 'thumbnail': 'https://serpapi.com/searches/64ff432e654a8ccc86af2147/images/06403767c0a959450511d70346c0195aa414020f8208ac25380e005f7e603e1d.jpeg', 'related_content_id': 'TjF2M2ktaFNJTDhKUE1cIixcIjh4c0RYYWM5X2lxb1VN', 'serpapi_related_content_link': 'https://serpapi.com/search.json?engine=google_images_related_content&gl=us&hl=en&q=John+Doe+ABC+Company+CEO&related_content_id=TjF2M2ktaFNJTDhKUE1cIixcIjh4c0RYYWM5X2lxb1VN', 'source': 'Performance Based Results', 'source_logo': 'https://serpapi.com/searches/64ff432e654a8ccc86af2147/images/06403767c0a959450511d70346c0195a54b1d224276b8b114dc001907fb241d2.png', 'title': 'Value Proposition for a C-Level Executive', 'link': 'https://pbresults.com/sales-blog/value-proposition-for-clevel-executive/', 'original': 'https://pbresults.com/sales-blog/wp-content/uploads/value-proposition-for-a-c-level-executive.jpg', 'original_width': 652, 'original_height': 326, 'is_product': False}, {'position': 15, 'thumbnail': 'https://serpapi.com/searches/64ff432e654a8ccc86af2147/images/06403767c0a959450511d70346c0195aeef430a897117c6b60153202f3ffb935.jpeg', 'related_content_id': 'X1BTN25PeUZQZk9YSE1cIixcIlJ4S25WNVlQdU8zUHBN', 'serpapi_related_content_link': 'https://serpapi.com/search.json?engine=google_images_related_content&gl=us&hl=en&q=John+Doe+ABC+Company+CEO&related_content_id=X1BTN25PeUZQZk9YSE1cIixcIlJ4S25WNVlQdU8zUHBN', 'source': 'Enhancv', 'source_logo': 'https://serpapi.com/searches/64ff432e654a8ccc86af2147/images/06403767c0a959450511d70346c0195a92bbedfa9622f29130693dcf86a30661.png', 'title': '5 Client Service Manager Resume Examples & Guide for 2023', 'link': 'https://enhancv.com/resume-examples/client-service-manager/', 'original': 'https://cdn.enhancv.com/resumes/client-service-manager-resume.png', 'original_width': 940, 'original_height': 1330, 'is_product': False}, {'position': 16, 'thumbnail': 'https://serpapi.com/searches/64ff432e654a8ccc86af2147/images/06403767c0a959450511d70346c0195a3e308f46f322886538c9a7af4139e98d.jpeg', 'related_content_id': 'czlIektycjRNZjdLX01cIixcIktQaHVIZ3NsWU1Zc0JN', 'serpapi_related_content_link': 'https://serpapi.com/search.json?engine=google_images_related_content&gl=us&hl=en&q=John+Doe+ABC+Company+CEO&related_content_id=czlIektycjRNZjdLX01cIixcIktQaHVIZ3NsWU1Zc0JN', 'source': 'Enhancv', 'source_logo': 'https://serpapi.com/searches/64ff432e654a8ccc86af2147/images/06403767c0a959450511d70346c0195adea47ebbc525c3b1dd04ab63ec29f289.png', 'title': '5 Sales Officer Resume Examples & Guide for 2023', 'link': 'https://enhancv.com/resume-examples/sales-officer/', 'original': 'https://cdn.enhancv.com/images/1098/i/aHR0cHM6Ly9jZG4uZW5oYW5jdi5jb20vcHJlZGVmaW5lZC1leGFtcGxlcy93WmlhQVZiY3pTRVNDMU8yRW9NcGV2TFhTaFVnYzFqd2xSWUpaa05tL2ltYWdlLnBuZw~~..png', 'original_width': 1410, 'original_height': 1995, 'is_product': False}, {'position': 17, 'thumbnail': 'https://serpapi.com/searches/64ff432e654a8ccc86af2147/images/06403767c0a959450511d70346c0195ad44f3674d0c5e014dab51d72c155b427.jpeg', 'related_content_id': 'SUxIdmdmSXhRZXA5Nk1cIixcIjZfeUhRZFNUVXR2cjlN', 'serpapi_related_content_link': 'https://serpapi.com/search.json?engine=google_images_related_content&gl=us&hl=en&q=John+Doe+ABC+Company+CEO&related_content_id=SUxIdmdmSXhRZXA5Nk1cIixcIjZfeUhRZFNUVXR2cjlN', 'source': 'cf.ltkcdn.net', 'source_logo': 'https://encrypted-tbn2.gstatic.com/faviconV2?url=https://cf.ltkcdn.net&client=VFE&size=16&type=FAVICON&fallback_opts=TYPE,SIZE,URL&nfrp=2', 'title': 'Request for Letter of Recommendation', 'link': 'https://cf.ltkcdn.net/business/files/3169-request-for-letter-of-recommendation.pdf', 'is_product': False}, {'position': 18, 'thumbnail': 'https://serpapi.com/searches/64ff432e654a8ccc86af2147/images/06403767c0a959450511d70346c0195a6d5666e6e996cfb4dc42b7e9981a99ca.png', 'related_content_id': 'VGt5UG5sUjRKY1N4Yk1cIixcInI5M2wtWjk1c1JkbFNN', 'serpapi_related_content_link': 'https://serpapi.com/search.json?engine=google_images_related_content&gl=us&hl=en&q=John+Doe+ABC+Company+CEO&related_content_id=VGt5UG5sUjRKY1N4Yk1cIixcInI5M2wtWjk1c1JkbFNN', 'source': 'Chegg', 'source_logo': 'https://serpapi.com/searches/64ff432e654a8ccc86af2147/images/06403767c0a959450511d70346c0195a0ef5b7f41a521b8b800593c9efd00be6.png', 'title': 'PREPARE A TAX FORM 1120-S WITH THE FOLLOWING | Chegg.com', 'link': 'https://www.chegg.com/homework-help/questions-and-answers/prepare-tax-form-1120-s-following-information-include-much-taxes-person-pay-individual-tax-q88190396', 'original': 'https://media.cheggcdn.com/media/b86/b863fe5b-2fcd-482f-95bd-affc3571f5e5/phpqvgi79', 'original_width': 994, 'original_height': 903, 'is_product': False}, {'position': 19, 'thumbnail': 'https://serpapi.com/searches/64ff432e654a8ccc86af2147/images/06403767c0a959450511d70346c0195a3cb2328c63b038d41bb14ebf384564c7.png', 'related_content_id': 'd0FFSHNpMDBtVXR5ek1cIixcIkFhWHAwckNCZUFzaF9N', 'serpapi_related_content_link': 'https://serpapi.com/search.json?engine=google_images_related_content&gl=us&hl=en&q=John+Doe+ABC+Company+CEO&related_content_id=d0FFSHNpMDBtVXR5ek1cIixcIkFhWHAwckNCZUFzaF9N', 'source': 'Hourly.io', 'source_logo': 'https://serpapi.com/searches/64ff432e654a8ccc86af2147/images/06403767c0a959450511d70346c0195a7275cce954a61ceb259247244d7d917d.png', 'title': 'Employee Termination Checklist for Small Businesses - Hourly, Inc.', 'link': 'https://www.hourly.io/post/employee-termination-checklist-for-small-businesses', 'original': 'https://assets-global.website-files.com/5e6aa7798a5728055c457ebb/64dabb8e71131fb70ede2aed_Employee_Termination_Checklist_Copy_2.png', 'original_width': 1888, 'original_height': 2698, 'is_product': False}, {'position': 20, 'thumbnail': 'https://serpapi.com/searches/64ff432e654a8ccc86af2147/images/06403767c0a959450511d70346c0195ae2abd1bfaaacaa5fffa4bdfe66587e9a.jpeg', 'related_content_id': 'ZTRESUlFWklUdy03NU1cIixcIlhwcXhyRXFueDFKandN', 'serpapi_related_content_link': 'https://serpapi.com/search.json?engine=google_images_related_content&gl=us&hl=en&q=John+Doe+ABC+Company+CEO&related_content_id=ZTRESUlFWklUdy03NU1cIixcIlhwcXhyRXFueDFKandN', 'source': 'Gartner', 'source_logo': 'https://serpapi.com/searches/64ff432e654a8ccc86af2147/images/06403767c0a959450511d70346c0195a0c9070f88f12ae0e91ba5e9c15f11902.png', 'title': 'ABC COMPANY EARNS OVERALL POSITIVE VENDOR RATING FROM GARTNER, INC. CITY,  STATE – DATE: ABC Company (ABC: NASDAQ) today annou', 'link': 'https://www.gartner.com/imagesrv/about/policies/docs/Vendor_Rating_Press_Release_v2.pdf', 'is_product': False}, {'position': 21, 'thumbnail': 'https://encrypted-tbn0.gstatic.com/images?q=tbn:ANd9GcQ0kufub7qIqsQW5Rau9ACLbMqqq1bv9PrzOQ&usqp=CAU', 'related_content_id': 'VjlVRi1ONVczM3RTQU1cIixcIjVSM3pZMm1HNnRXVUxN', 'serpapi_related_content_link': 'https://serpapi.com/search.json?engine=google_images_related_content&gl=us&hl=en&q=John+Doe+ABC+Company+CEO&related_content_id=VjlVRi1ONVczM3RTQU1cIixcIjVSM3pZMm1HNnRXVUxN', 'source': 'ABC News', 'source_logo': 'https://encrypted-tbn2.gstatic.com/faviconV2?url=https://abcnews.go.com&client=VFE&size=16&type=FAVICON&fallback_opts=TYPE,SIZE,URL&nfrp=2', 'title': 'Terry Sanderson testifies in Gwyneth Paltrow ski crash trial - ABC News', 'link': 'https://abcnews.go.com/GMA/Culture/gwyneth-paltrow-trial-2016-ski-crash/story?id=98015777', 'original': 'https://i.abcnewsfe.com/a/03ed4734-68f4-4b33-a039-283fa45443e0/court-terry-sanderson-ap-mz-38-230327_1679946356925_hpMain_1x1.jpg', 'original_width': 3072, 'original_height': 3072, 'is_product': False}, {'position': 22, 'thumbnail': 'https://encrypted-tbn0.gstatic.com/images?q=tbn:ANd9GcSOLmZZhJPW29otqK-xrqk2lRvQnsc0OsDpWg&usqp=CAU', 'related_content_id': 'SktTRWlXYWNjcWkxR01cIixcIjlBYUlReENONzlxQ0VN', 'serpapi_related_content_link': 'https://serpapi.com/search.json?engine=google_images_related_content&gl=us&hl=en&q=John+Doe+ABC+Company+CEO&related_content_id=SktTRWlXYWNjcWkxR01cIixcIjlBYUlReENONzlxQ0VN', 'source': 'Wikipedia', 'source_logo': 'https://encrypted-tbn2.gstatic.com/faviconV2?url=https://en.wikipedia.org&client=VFE&size=16&type=FAVICON&fallback_opts=TYPE,SIZE,URL&nfrp=2', 'title': 'Scott Walker (politician) - Wikipedia', 'link': 'https://en.wikipedia.org/wiki/Scott_Walker_%28politician%29', 'original': 'https://upload.wikimedia.org/wikipedia/commons/a/aa/Scott_Walker_at_CPAC_2017%28crop%29.jpg', 'original_width': 1602, 'original_height': 2200, 'is_product': False}, {'position': 23, 'thumbnail': 'https://encrypted-tbn0.gstatic.com/images?q=tbn:ANd9GcQZQl6DYt6Nz5LiKMVSQsimrgpByLXHFp8poA&usqp=CAU', 'related_content_id': 'QlRHNjRLLW5hQU41ZE1cIixcIkRLZlZXblRoaFpncGhN', 'serpapi_related_content_link': 'https://serpapi.com/search.json?engine=google_images_related_content&gl=us&hl=en&q=John+Doe+ABC+Company+CEO&related_content_id=QlRHNjRLLW5hQU41ZE1cIixcIkRLZlZXblRoaFpncGhN', 'source': 'Policy Commons', 'source_logo': 'https://encrypted-tbn2.gstatic.com/faviconV2?url=https://policycommons.net&client=VFE&size=16&type=FAVICON&fallback_opts=TYPE,SIZE,URL&nfrp=2', 'title': 'Handy Guide to Easement Preparation - LIMITED LIABILITY COMPANY: CORPORATE  OWNERSHIP: | Policy Commons', 'link': 'https://policycommons.net/artifacts/3491983/handy-guide-to-easement-preparation-limited-liability-company/4292717/', 'original': 'https://coherent-commons.s3.amazonaws.com/artifacts/artifact/img/762d14f7-f4be-40e7-bae9-8e67c8d14727.png', 'original_width': 400, 'original_height': 517, 'is_product': False}]}\n",
      "https://media.licdn.com/dms/image/C5103AQFl656k2-DwOg/profile-displayphoto-shrink_100_100/0/1517034956958?e=1697068800&v=beta&t=C29n-fG57W0PWit1iiZ7Gmh8qy5AaQ_q6RYvvYtRLHM\n"
     ]
    }
   ],
   "source": [
    "from serpapi import GoogleSearch\n",
    "\n",
    "image_query = f\"{podcast_guest} {podcast_guest_org} {podcast_guest_title}\"\n",
    "search = GoogleSearch({\n",
    "    \"engine\": \"google_images\",\n",
    "    \"q\": image_query,\n",
    "    \"api_key\": os.environ[\"SERPAPI_API_KEY\"]\n",
    "})\n",
    "image_search_result = search.get_dict()\n",
    "print(image_search_result)\n",
    "image_url = image_search_result['images_results'][0]['original']\n",
    "print(image_url)"
   ]
  },
  {
   "cell_type": "code",
   "execution_count": 31,
   "metadata": {},
   "outputs": [
    {
     "name": "stdout",
     "output_type": "stream",
     "text": [
      "{'name': 'John Doe', 'organization': 'ABC Company', 'title': 'CEO', 'summary': 'John Doe is the CEO of ABC Company. He has experience in the industry and is connected to many people in the business.', 'profile_picture': 'https://media.licdn.com/dms/image/C5103AQFl656k2-DwOg/profile-displayphoto-shrink_100_100/0/1517034956958?e=1697068800&v=beta&t=C29n-fG57W0PWit1iiZ7Gmh8qy5AaQ_q6RYvvYtRLHM'}\n"
     ]
    }
   ],
   "source": [
    "podcast_guest = {\n",
    "    \"name\": podcast_guest,\n",
    "    \"organization\": podcast_guest_org,\n",
    "    \"title\": podcast_guest_title,\n",
    "    \"summary\": podcast_guest_summary,\n",
    "    \"profile_picture\": image_url\n",
    "}\n",
    "\n",
    "print(podcast_guest)"
   ]
  },
  {
   "cell_type": "markdown",
   "metadata": {},
   "source": [
    "## Step 5 - Extract the Highlights of the podcast"
   ]
  },
  {
   "cell_type": "code",
   "execution_count": 32,
   "metadata": {},
   "outputs": [],
   "source": [
    "instructPrompt = \"\"\"\n",
    "You are a podcast editor and producer. You are provided with the transcript of a podcast episode and have to identify the 5 most significant moments in the podcast as highlights\n",
    "- Each highlight needs to be a statement by one of the podcast guests\n",
    "- Each highlight has to be impactful and an important takeaway from this podcast episode\n",
    "- Each highlight must be concise and make listeners want to hear more about why the podcast guest said that\n",
    "- The highlights that you pick must be spread out throughout the episode\n",
    "\n",
    "Provide only the highlights and nothing else. Provide the full sentence of the highlight and format it as follows -\n",
    "\n",
    "- Highlight 1 of the podcast\n",
    "- Highlight 2 of the podcast\n",
    "- Highlight 3 of the podcast\n",
    "\"\"\"\n",
    "\n",
    "request = instructPrompt + podcast_transcript"
   ]
  },
  {
   "cell_type": "code",
   "execution_count": 33,
   "metadata": {},
   "outputs": [],
   "source": [
    "chatOutput = openai.ChatCompletion.create(model=\"gpt-3.5-turbo-16k\",\n",
    "                                            messages=[{\"role\": \"system\", \"content\": \"You are a helpful assistant.\"},\n",
    "                                                      {\"role\": \"user\", \"content\": request}\n",
    "                                                      ]\n",
    "                                            )"
   ]
  },
  {
   "cell_type": "code",
   "execution_count": 34,
   "metadata": {},
   "outputs": [
    {
     "data": {
      "text/plain": [
       "\"Highlights from the podcast:\\n- The world is on the brink of a new nuclear arms race and one that will be harder to stop because it's more complex.\\n- Nuclear weapons are inherently dangerous, but there are several reasons for which this is a different moment.\\n- The war in Ukraine and the rise of China are factors contributing to the breakdown of arms control.\\n- China is building up its nuclear stockpile quickly, and there is no sign of a follow-on agreement to New START.\\n- Three-way deterrence between the United States, Russia, and China is complicated and potentially unstable.\\n- Schools in the United States are struggling to bring students back to class after the pandemic, with chronic absenteeism on the rise.\\n- Some families are choosing alternative forms of education, such as homeschooling, leading to enrollment declines.\\n- An app called Namayathri is improving the experience for rickshaw drivers and riders in Bangalore by directly connecting them without any commission fees.\\n- The app is built on the Open Network for Digital Commerce platform, which aims to decentralize the digital marketplace and reduce the power of large players.\\n- The success of Namayathri raises questions about the government's involvement and the need for an open and competitive market.\""
      ]
     },
     "execution_count": 34,
     "metadata": {},
     "output_type": "execute_result"
    }
   ],
   "source": [
    "chatOutput.choices[0].message.content"
   ]
  },
  {
   "cell_type": "markdown",
   "metadata": {},
   "source": [
    "# Part 2: On-demand information extraction"
   ]
  },
  {
   "cell_type": "code",
   "execution_count": null,
   "metadata": {},
   "outputs": [],
   "source": [
    "%pip install feedparser\n",
    "%pip install git+https://github.com/openai/whisper.git  -q\n",
    "%pip install requests"
   ]
  },
  {
   "cell_type": "code",
   "execution_count": 35,
   "metadata": {},
   "outputs": [],
   "source": [
    "def get_transcribe_podcast(rss_url, local_path):\n",
    "  print (\"Starting Podcast Transcription Function\")\n",
    "  print (\"Feed URL: \", rss_url)\n",
    "  print (\"Local Path:\", local_path)\n",
    "\n",
    "  # Read from the RSS Feed URL\n",
    "  import feedparser\n",
    "  intelligence_feed = feedparser.parse(rss_url)\n",
    "  for item in intelligence_feed.entries[0].links:\n",
    "    if (item['type'] == 'audio/mpeg'):\n",
    "      episode_url = item.href\n",
    "  episode_name = \"podcast_episode.mp3\"\n",
    "  print (\"RSS URL read and episode URL: \", episode_url)\n",
    "\n",
    "  # Download the podcast episode by parsing the RSS feed\n",
    "  from pathlib import Path\n",
    "  p = Path(local_path)\n",
    "  p.mkdir(exist_ok=True)\n",
    "\n",
    "  print (\"Downloading the podcast episode\")\n",
    "  import requests\n",
    "  with requests.get(episode_url, stream=True) as r:\n",
    "    r.raise_for_status()\n",
    "    episode_path = p.joinpath(episode_name)\n",
    "    with open(episode_path, 'wb') as f:\n",
    "      for chunk in r.iter_content(chunk_size=8192):\n",
    "        f.write(chunk)\n",
    "\n",
    "  print (\"Podcast Episode downloaded\")\n",
    "\n",
    "  # Load the Whisper model\n",
    "  import os\n",
    "  import whisper\n",
    "  print (\"Download and Load the Whisper model\")\n",
    "  model = whisper.load_model(\"medium\")\n",
    "  print (model.device)\n",
    "\n",
    "  # Perform the transcription\n",
    "  print (\"Starting podcast transcription\")\n",
    "  result = model.transcribe(local_path + episode_name)\n",
    "\n",
    "  # Return the transcribed text\n",
    "  print (\"Podcast transcription completed, returning results...\")\n",
    "  return result"
   ]
  },
  {
   "cell_type": "code",
   "execution_count": 36,
   "metadata": {},
   "outputs": [
    {
     "name": "stdout",
     "output_type": "stream",
     "text": [
      "Starting Podcast Transcription Function\n",
      "Feed URL:  https://access.acast.com/rss/d556eb54-6160-4c85-95f4-47d9f5216c49\n",
      "Local Path: \n",
      "RSS URL read and episode URL:  https://sphinx.acast.com/p/acast/s/theintelligencepodcast/e/64feecbe903383001173dfb0/media.mp3?tk=eyJ0ayI6ImRlZmF1bHQiLCJhZHMiOnRydWUsInNwb25zIjp0cnVlLCJzdGF0dXMiOiJwdWJsaWMifQ==&sig=xkJBfl9YyjxEokmIqD9JOb6mSyI9RCSpCpdnwlj1LoE\n",
      "Downloading the podcast episode\n",
      "Podcast Episode downloaded\n",
      "Download and Load the Whisper model\n",
      "cpu\n",
      "Starting podcast transcription\n"
     ]
    },
    {
     "name": "stderr",
     "output_type": "stream",
     "text": [
      "c:\\Users\\Jeffrey.Roth.NMES\\projects\\podcast-summary\\.venv\\Lib\\site-packages\\whisper\\transcribe.py:114: UserWarning: FP16 is not supported on CPU; using FP32 instead\n",
      "  warnings.warn(\"FP16 is not supported on CPU; using FP32 instead\")\n"
     ]
    },
    {
     "name": "stdout",
     "output_type": "stream",
     "text": [
      "Podcast transcription completed, returning results...\n"
     ]
    }
   ],
   "source": [
    "output = get_transcribe_podcast(\"https://access.acast.com/rss/d556eb54-6160-4c85-95f4-47d9f5216c49\", \"\")"
   ]
  },
  {
   "cell_type": "code",
   "execution_count": 37,
   "metadata": {},
   "outputs": [
    {
     "data": {
      "text/plain": [
       "\" Whether you're driving to work, biking to a friend's place, or on the way to your next vacation, Amazon Music has your news fix covered. As an Amazon Prime member, you have access to ad-free top podcasts. To start listening, download the Amazon Music app or visit amazon.com slash on the go news. That's amazon.com slash on the go news and listen to your favorite podcasts on the go. Hello and welcome to The Intelligence from The Economist. I'm your host, Aura Ogumbi. Every weekday, we provide a fresh perspective on the events shaping your world. Over the many months since Russia invaded Ukraine, we've brought you frequent updates on the latest developments in the economy. But today's show is something special. The Economist's editor-in-chief, Zanimentan Bedos, was in Ukraine's capital, Kyiv, on Friday to talk to President Volodymyr Zelenskyy at a conference on his country's future. Maybe you want some coffee? Coffee. You want some? Yeah. The last time they spoke was in the spring of las\""
      ]
     },
     "execution_count": 37,
     "metadata": {},
     "output_type": "execute_result"
    }
   ],
   "source": [
    "output['text'][:1000]"
   ]
  },
  {
   "cell_type": "markdown",
   "metadata": {},
   "source": [
    "### Step 1 - Create a cloud transcription function"
   ]
  },
  {
   "cell_type": "code",
   "execution_count": null,
   "metadata": {},
   "outputs": [],
   "source": [
    "%pip install modal"
   ]
  },
  {
   "cell_type": "code",
   "execution_count": null,
   "metadata": {},
   "outputs": [],
   "source": [
    "%modal token new --source corise > authenticationURL.txt"
   ]
  },
  {
   "cell_type": "code",
   "execution_count": 38,
   "metadata": {},
   "outputs": [],
   "source": [
    "import getpass\n",
    "import subprocess\n",
    "\n",
    "def set_modal_token():\n",
    "  token_id = getpass.getpass('Please enter your Modal token ID in the cell: ')\n",
    "  token_secret = getpass.getpass('Please enter your Modal token secret in the cell:  ')\n",
    "\n",
    "  # Using subprocess to execute the command\n",
    "  subprocess.run(f\"!modal token set --token-id (token_id) --token-secret (token_secret)\", shell=True)"
   ]
  },
  {
   "cell_type": "code",
   "execution_count": 39,
   "metadata": {},
   "outputs": [],
   "source": [
    "import getpass\n",
    "import subprocess\n",
    "\n",
    "def set_modal_token():\n",
    "    token_id = getpass.getpass('Please enter your Modal token ID in the cell: ')\n",
    "    token_secret = getpass.getpass('Please enter your Modal token secret in the cell: ')\n",
    "\n",
    "    # Properly format the subprocess command string\n",
    "    command = f\"modal token set --token-id {token_id} --token-secret {token_secret}\"\n",
    "\n",
    "    # Using subprocess to execute the command\n",
    "    subprocess.run(command, shell=True)"
   ]
  },
  {
   "cell_type": "code",
   "execution_count": 40,
   "metadata": {},
   "outputs": [],
   "source": [
    "set_modal_token()"
   ]
  },
  {
   "cell_type": "code",
   "execution_count": 42,
   "metadata": {},
   "outputs": [
    {
     "name": "stdout",
     "output_type": "stream",
     "text": [
      "Overwriting podcast_backend.py\n"
     ]
    }
   ],
   "source": [
    "%%writefile podcast_backend.py\n",
    "import modal\n",
    "\n",
    "def download_whisper():\n",
    "  # Load the Whisper model\n",
    "  import os\n",
    "  import whisper\n",
    "  print (\"Download the Whisper model\")\n",
    "\n",
    "  # Perform download only once and save to Container storage\n",
    "  model_path = pathlib.Path.cwd()\n",
    "  whisper._download(whisper._MODELS[\"medium\"], str(model_path), False)\n",
    "\n",
    "stub = modal.Stub(\"corise-podcast-project\")\n",
    "corise_image = modal.Image.debian_slim().pip_install(\"feedparser\",\n",
    "                                                     \"https://github.com/openai/whisper/archive/9f70a352f9f8630ab3aa0d06af5cb9532bd8c21d.tar.gz\",\n",
    "                                                     \"requests\",\n",
    "                                                     \"ffmpeg\").apt_install(\"ffmpeg\").run_function(download_whisper)\n",
    "\n",
    "@stub.function(image=corise_image, gpu=\"any\")\n",
    "def get_transcribe_podcast(rss_url, local_path):\n",
    "  print (\"Starting Podcast Transcription Function\")\n",
    "  print (\"Feed URL: \", rss_url)\n",
    "  print (\"Local Path:\", local_path)\n",
    "\n",
    "  # Read from the RSS Feed URL\n",
    "  import feedparser\n",
    "  intelligence_feed = feedparser.parse(rss_url)\n",
    "  for item in intelligence_feed.entries[0].links:\n",
    "    if (item['type'] == 'audio/mpeg'):\n",
    "      episode_url = item.href\n",
    "  episode_name = \"podcast_episode.mp3\"\n",
    "  print (\"RSS URL read and episode URL: \", episode_url)\n",
    "\n",
    "  # Download the podcast episode by parsing the RSS feed\n",
    "  from pathlib import Path\n",
    "  p = Path(local_path)\n",
    "  p.mkdir(exist_ok=True)\n",
    "\n",
    "  print (\"Downloading the podcast episode\")\n",
    "  import requests\n",
    "  with requests.get(episode_url, stream=True) as r:\n",
    "    r.raise_for_status()\n",
    "    episode_path = p.joinpath(episode_name)\n",
    "    with open(episode_path, 'wb') as f:\n",
    "      for chunk in r.iter_content(chunk_size=8192):\n",
    "        f.write(chunk)\n",
    "\n",
    "  print (\"Podcast Episode downloaded\")\n",
    "\n",
    "  # Load the Whisper model\n",
    "  import os\n",
    "  import whisper\n",
    "\n",
    "  # Load model from saved location\n",
    "  print (\"Load the Whisper model\")\n",
    "  model = whisper.load_model('medium', device='cuda', download_root='/content/podcast/')\n",
    "\n",
    "  # Perform the transcription\n",
    "  print (\"Starting podcast transcription\")\n",
    "  result = model.transcribe(local_path + episode_name)\n",
    "\n",
    "  # Return the transcribed text\n",
    "  print (\"Podcast transcription completed, returning results...\")\n",
    "  return result\n",
    "\n",
    "@stub.local_entrypoint()\n",
    "def main(url, path):\n",
    "  output = get_transcribe_podcast.call(url, path)\n",
    "  print (output['text'])"
   ]
  },
  {
   "cell_type": "code",
   "execution_count": 48,
   "metadata": {},
   "outputs": [],
   "source": [
    "!modal token set"
   ]
  },
  {
   "cell_type": "markdown",
   "metadata": {},
   "source": [
    "invoke the function from the command line to start the remote execution in the cloud environment"
   ]
  },
  {
   "cell_type": "code",
   "execution_count": 49,
   "metadata": {},
   "outputs": [],
   "source": [
    "!modal run podcast_backend.py --url https://access.acast.com/rss/d556eb54-6160-4c85-95f4-47d9f5216c49 --path \".\""
   ]
  },
  {
   "cell_type": "markdown",
   "metadata": {},
   "source": [
    "### Step 2 - Create a cloud information extraction function"
   ]
  },
  {
   "cell_type": "markdown",
   "metadata": {},
   "source": [
    "### Wikipedia version"
   ]
  },
  {
   "cell_type": "code",
   "execution_count": 44,
   "metadata": {},
   "outputs": [
    {
     "name": "stdout",
     "output_type": "stream",
     "text": [
      "Overwriting podcast_backend.py\n"
     ]
    }
   ],
   "source": [
    "%%writefile podcast_backend.py\n",
    "import modal\n",
    "\n",
    "def download_whisper():\n",
    "  # Load the Whisper model\n",
    "  import os\n",
    "  import whisper\n",
    "  print (\"Download the Whisper model\")\n",
    "\n",
    "  # Perform download only once and save to Container storage\n",
    "  model_path = pathlib.Path.cwd()\n",
    "  whisper._download(whisper._MODELS[\"medium\"], model_path, False)\n",
    "\n",
    "\n",
    "stub = modal.Stub(\"corise-podcast-project\")\n",
    "corise_image = modal.Image.debian_slim().pip_install(\"feedparser\",\n",
    "                                                     \"https://github.com/openai/whisper/archive/9f70a352f9f8630ab3aa0d06af5cb9532bd8c21d.tar.gz\",\n",
    "                                                     \"requests\",\n",
    "                                                     \"ffmpeg\",\n",
    "                                                     \"openai\",\n",
    "                                                     \"tiktoken\",\n",
    "                                                     \"wikipedia\",\n",
    "                                                     \"ffmpeg-python\").apt_install(\"ffmpeg\").run_function(download_whisper)\n",
    "\n",
    "@stub.function(image=corise_image, gpu=\"any\", timeout=600)\n",
    "def get_transcribe_podcast(rss_url, local_path):\n",
    "  print (\"Starting Podcast Transcription Function\")\n",
    "  print (\"Feed URL: \", rss_url)\n",
    "  print (\"Local Path:\", local_path)\n",
    "\n",
    "  # Read from the RSS Feed URL\n",
    "  import feedparser\n",
    "  intelligence_feed = feedparser.parse(rss_url)\n",
    "  podcast_title = intelligence_feed['feed']['title']\n",
    "  episode_title = intelligence_feed.entries[0]['title']\n",
    "  episode_image = intelligence_feed['feed']['image'].href\n",
    "  for item in intelligence_feed.entries[0].links:\n",
    "    if (item['type'] == 'audio/mpeg'):\n",
    "      episode_url = item.href\n",
    "  episode_name = \"podcast_episode.mp3\"\n",
    "  print (\"RSS URL read and episode URL: \", episode_url)\n",
    "\n",
    "  # Download the podcast episode by parsing the RSS feed\n",
    "  from pathlib import Path\n",
    "  p = Path(local_path)\n",
    "  p.mkdir(exist_ok=True)\n",
    "\n",
    "  print (\"Downloading the podcast episode\")\n",
    "  import requests\n",
    "  with requests.get(episode_url, stream=True) as r:\n",
    "    r.raise_for_status()\n",
    "    episode_path = p.joinpath(episode_name)\n",
    "    with open(episode_path, 'wb') as f:\n",
    "      for chunk in r.iter_content(chunk_size=8192):\n",
    "        f.write(chunk)\n",
    "\n",
    "  print (\"Podcast Episode downloaded\")\n",
    "\n",
    "  # Load the Whisper model\n",
    "  import os\n",
    "  import whisper\n",
    "\n",
    "  # Load model from saved location\n",
    "  print (\"Load the Whisper model\")\n",
    "  model = whisper.load_model('medium', device='cuda', download_root=model_path)\n",
    "\n",
    "  # Perform the transcription\n",
    "  print (\"Starting podcast transcription\")\n",
    "  result = model.transcribe(local_path + episode_name)\n",
    "\n",
    "  # Return the transcribed text\n",
    "  print (\"Podcast transcription completed, returning results...\")\n",
    "  output = {}\n",
    "  output['podcast_title'] = podcast_title\n",
    "  output['episode_title'] = episode_title\n",
    "  output['episode_image'] = episode_image\n",
    "  output['episode_transcript'] = result['text']\n",
    "  return output\n",
    "\n",
    "@stub.function(image=corise_image, secret=modal.Secret.from_name(\"my-openai-secret\"))\n",
    "def get_podcast_summary(podcast_transcript):\n",
    "  import openai\n",
    "  instructPrompt = \"\"\"\n",
    "  You are an expert copywriter who is responsible for publishing newsletters with thousands of subscribers. You recently listened to a great podcast and want to share a summary of it with your readers. Please write the summary of this podcast making sure to cover the important aspects that were discussed and please keep it concise.\n",
    "  The transcript of the podcast is provided below.\n",
    "  \"\"\"\n",
    "  request = instructPrompt + podcast_transcript\n",
    "  chatOutput = openai.ChatCompletion.create(model=\"gpt-3.5-turbo-16k\",\n",
    "                                            messages=[{\"role\": \"system\", \"content\": \"You are a helpful assistant.\"},\n",
    "                                                      {\"role\": \"user\", \"content\": request}\n",
    "                                                      ]\n",
    "                                            )\n",
    "  podcastSummary = chatOutput.choices[0].message.content\n",
    "  return podcastSummary\n",
    "\n",
    "@stub.function(image=corise_image, secret=modal.Secret.from_name(\"my-openai-secret\"))\n",
    "def get_podcast_guest(podcast_transcript):\n",
    "  import openai\n",
    "  import wikipedia\n",
    "  import json\n",
    "  from langchain.llms import OpenAI\n",
    "  from langchain.agents import load_tools\n",
    "  from langchain.agents import initialize_agent\n",
    "  from serpapi import GoogleSearch\n",
    "  import os\n",
    "  \n",
    "  request = podcast_transcript[:10000]\n",
    "  completion = openai.ChatCompletion.create(\n",
    "    model=\"gpt-3.5-turbo\",\n",
    "    messages=[{\"role\": \"user\", \"content\": request}],\n",
    "    functions=[\n",
    "    {\n",
    "        \"name\": \"get_podcast_guest_information\",\n",
    "        \"description\": \"Get information on the podcast guest using their full name and the name of the organization they are part of to search for them on Wikipedia or Google\",\n",
    "        \"parameters\": {\n",
    "            \"type\": \"object\",\n",
    "            \"properties\": {\n",
    "                \"guest_name\": {\n",
    "                    \"type\": \"string\",\n",
    "                    \"description\": \"If a guest is introduced and speaks in the podcast, the full name of the guest. If no guest is introduced, then 'None'\",\n",
    "                },\n",
    "                \"guest_organization\": {\n",
    "                    \"type\": \"string\",\n",
    "                    \"description\": \"If the guest_name is not 'None', The full name of the organization that the podcast guest belongs to or runs, otherwise 'None'\",\n",
    "                },\n",
    "                \"guest_title\": {\n",
    "                    \"type\": \"string\",\n",
    "                    \"description\": \"If the guest_organization is not 'None', The title, designation or role of the podcast guest in their organization, otherwise 'None'\",\n",
    "                },\n",
    "            },\n",
    "            \"required\": [\"guest_name\"],\n",
    "        },\n",
    "    }],\n",
    "    function_call={\"name\": \"get_podcast_guest_information\"})\n",
    "  response_message = completion[\"choices\"][0][\"message\"]\n",
    "\n",
    "  if response_message.get(\"function_call\"):\n",
    "    function_name = response_message[\"function_call\"][\"name\"]\n",
    "    function_args = json.loads(response_message[\"function_call\"][\"arguments\"])\n",
    "    podcast_guest=function_args.get(\"guest_name\")\n",
    "    podcast_guest_org=function_args.get(\"guest_organization\")\n",
    "    podcast_guest_title=function_args.get(\"guest_title\")\n",
    "\n",
    "  if (podcast_guest is not None):\n",
    "    if (podcast_guest_org is None):\n",
    "      podcast_guest_org = \"\"\n",
    "    if (podcast_guest_title is None):\n",
    "      podcast_guest_title = \"\"\n",
    "    try:\n",
    "      input = wikipedia.page(podcast_guest + \" \" + podcast_guest_org + \" \" + podcast_guest_title, auto_suggest=True)\n",
    "      podcast_guest_summary = input.summary\n",
    "    except wikipedia.exceptions.PageError:\n",
    "      print(f'The page for guest \"{podcast_guest} does not exist on Wikipedia.')\n",
    "      podcast_guest_summary = \"Not Available\"\n",
    "    except wikipedia.exceptions.DisambiguationError as e:\n",
    "      print(f'The page for guest \"{podcast_guest} is ambiguous. Possible matches are:')\n",
    "      print(e.options)\n",
    "      podcast_guest_summary = \"Not Available\"\n",
    "  else:\n",
    "    podcast_guest = \"Not Available\"\n",
    "    podcast_guest_org = \"Not Available\"\n",
    "    podcast_guest_title = \"Not Available\"\n",
    "    podcast_guest_summary = \"Not Available\"\n",
    "\n",
    "  podcastGuest = {}\n",
    "  podcastGuest['name'] = podcast_guest\n",
    "  podcastGuest['org'] = podcast_guest_org\n",
    "  podcastGuest['title'] = podcast_guest_title\n",
    "  podcastGuest['summary'] = podcast_guest_summary\n",
    "  return podcastGuest\n",
    "\n",
    "@stub.function(image=corise_image, secret=modal.Secret.from_name(\"my-openai-secret\"))\n",
    "def get_podcast_highlights(podcast_transcript):\n",
    "  import openai\n",
    "  instructPrompt = \"\"\"\n",
    "  You are a podcast editor and producer. You are provided with the transcript of a podcast episode and have to identify the 5 most significant moments in the podcast as highlights\n",
    "  - Each highlight needs to be a statement by one of the podcast guests\n",
    "  - Each highlight has to be impactful and an important takeaway from this podcast episode\n",
    "  - Each highlight must be concise and make listeners want to hear more about why the podcast guest said that\n",
    "  - The highlights that you pick must be spread out throughout the episode\n",
    "\n",
    "  Provide only the highlights and nothing else. Provide the full sentence of the highlight and format it as follows -\n",
    "\n",
    "  - Highlight 1 of the podcast\n",
    "  - Highlight 2 of the podcast\n",
    "  - Highlight 3 of the podcast\n",
    "  \"\"\"\n",
    "\n",
    "  request = instructPrompt + podcast_transcript\n",
    "  chatOutput = openai.ChatCompletion.create(model=\"gpt-3.5-turbo-16k\",\n",
    "                                            messages=[{\"role\": \"system\", \"content\": \"You are a helpful assistant.\"},\n",
    "                                                      {\"role\": \"user\", \"content\": request}\n",
    "                                                      ]\n",
    "                                            )\n",
    "  podcastHighlights = chatOutput.choices[0].message.content\n",
    "  return podcastHighlights\n",
    "\n",
    "@stub.function(image=corise_image, secret=modal.Secret.from_name(\"my-openai-secret\"), timeout=1200)\n",
    "def process_podcast(url, path):\n",
    "  output = {}\n",
    "  podcast_details = get_transcribe_podcast.call(url, path)\n",
    "  podcast_summary = get_podcast_summary.call(podcast_details['episode_transcript'])\n",
    "  podcast_guest = get_podcast_guest.call(podcast_details['episode_transcript'])\n",
    "  podcast_highlights = get_podcast_highlights.call(podcast_details['episode_transcript'])\n",
    "  output['podcast_details'] = podcast_details\n",
    "  output['podcast_summary'] = podcast_summary\n",
    "  output['podcast_guest'] = podcast_guest\n",
    "  output['podcast_highlights'] = podcast_highlights\n",
    "  return output\n",
    "\n",
    "@stub.local_entrypoint()\n",
    "def test_method(url, path):\n",
    "  output = {}\n",
    "  podcast_details = get_transcribe_podcast.call(url, path)\n",
    "  print (\"Podcast Summary: \", get_podcast_summary.call(podcast_details['episode_transcript']))\n",
    "  print (\"Podcast Guest Information: \", get_podcast_guest.call(podcast_details['episode_transcript']))\n",
    "  print (\"Podcast Highlights: \", get_podcast_highlights.call(podcast_details['episode_transcript']))"
   ]
  },
  {
   "cell_type": "markdown",
   "metadata": {},
   "source": [
    "### Google Search Version"
   ]
  },
  {
   "cell_type": "code",
   "execution_count": 45,
   "metadata": {},
   "outputs": [
    {
     "name": "stdout",
     "output_type": "stream",
     "text": [
      "Overwriting podcast_backend.py\n"
     ]
    }
   ],
   "source": [
    "%%writefile podcast_backend.py\n",
    "import modal\n",
    "\n",
    "def download_whisper():\n",
    "  # Load the Whisper model\n",
    "  import os\n",
    "  import whisper\n",
    "  print (\"Download the Whisper model\")\n",
    "\n",
    "  # Perform download only once and save to Container storage\n",
    "  model_path = pathlib.Path.cwd()\n",
    "  whisper._download(whisper._MODELS[\"medium\"], model_path, False)\n",
    "\n",
    "\n",
    "stub = modal.Stub(\"corise-podcast-project\")\n",
    "corise_image = modal.Image.debian_slim().pip_install(\"feedparser\",\n",
    "                                                     \"https://github.com/openai/whisper/archive/9f70a352f9f8630ab3aa0d06af5cb9532bd8c21d.tar.gz\",\n",
    "                                                     \"requests\",\n",
    "                                                     \"ffmpeg\",\n",
    "                                                     \"openai\",\n",
    "                                                     \"tiktoken\",\n",
    "                                                     \"wikipedia\",\n",
    "                                                     \"ffmpeg-python\").apt_install(\"ffmpeg\").run_function(download_whisper)\n",
    "\n",
    "@stub.function(image=corise_image, gpu=\"any\", timeout=600)\n",
    "def get_transcribe_podcast(rss_url, local_path):\n",
    "  print (\"Starting Podcast Transcription Function\")\n",
    "  print (\"Feed URL: \", rss_url)\n",
    "  print (\"Local Path:\", local_path)\n",
    "\n",
    "  # Read from the RSS Feed URL\n",
    "  import feedparser\n",
    "  intelligence_feed = feedparser.parse(rss_url)\n",
    "  podcast_title = intelligence_feed['feed']['title']\n",
    "  episode_title = intelligence_feed.entries[0]['title']\n",
    "  episode_image = intelligence_feed['feed']['image'].href\n",
    "  for item in intelligence_feed.entries[0].links:\n",
    "    if (item['type'] == 'audio/mpeg'):\n",
    "      episode_url = item.href\n",
    "  episode_name = \"podcast_episode.mp3\"\n",
    "  print (\"RSS URL read and episode URL: \", episode_url)\n",
    "\n",
    "  # Download the podcast episode by parsing the RSS feed\n",
    "  from pathlib import Path\n",
    "  p = Path(local_path)\n",
    "  p.mkdir(exist_ok=True)\n",
    "\n",
    "  print (\"Downloading the podcast episode\")\n",
    "  import requests\n",
    "  with requests.get(episode_url, stream=True) as r:\n",
    "    r.raise_for_status()\n",
    "    episode_path = p.joinpath(episode_name)\n",
    "    with open(episode_path, 'wb') as f:\n",
    "      for chunk in r.iter_content(chunk_size=8192):\n",
    "        f.write(chunk)\n",
    "\n",
    "  print (\"Podcast Episode downloaded\")\n",
    "\n",
    "  # Load the Whisper model\n",
    "  import os\n",
    "  import whisper\n",
    "\n",
    "  # Load model from saved location\n",
    "  print (\"Load the Whisper model\")\n",
    "  model = whisper.load_model('medium', device='cuda', download_root=model_path)\n",
    "\n",
    "  # Perform the transcription\n",
    "  print (\"Starting podcast transcription\")\n",
    "  result = model.transcribe(local_path + episode_name)\n",
    "\n",
    "  # Return the transcribed text\n",
    "  print (\"Podcast transcription completed, returning results...\")\n",
    "  output = {}\n",
    "  output['podcast_title'] = podcast_title\n",
    "  output['episode_title'] = episode_title\n",
    "  output['episode_image'] = episode_image\n",
    "  output['episode_transcript'] = result['text']\n",
    "  return output\n",
    "\n",
    "@stub.function(image=corise_image, secret=modal.Secret.from_name(\"my-openai-secret\"))\n",
    "def get_podcast_summary(podcast_transcript):\n",
    "  import openai\n",
    "  instructPrompt = \"\"\"\n",
    "  You are an expert copywriter who is responsible for publishing newsletters with thousands of subscribers. You recently listened to a great podcast and want to share a summary of it with your readers. Please write the summary of this podcast making sure to cover the important aspects that were discussed and please keep it concise.\n",
    "  The transcript of the podcast is provided below.  \n",
    "  \"\"\"\n",
    "  request = instructPrompt + podcast_transcript\n",
    "  chatOutput = openai.ChatCompletion.create(model=\"gpt-3.5-turbo-16k\",\n",
    "                                            messages=[{\"role\": \"system\", \"content\": \"You are a helpful assistant.\"},\n",
    "                                                      {\"role\": \"user\", \"content\": request}\n",
    "                                                      ]\n",
    "                                            )\n",
    "  podcastSummary = chatOutput.choices[0].message.content\n",
    "  return podcastSummary\n",
    "\n",
    "@stub.function(image=corise_image, secret=modal.Secret.from_name(\"my-openai-secret\"))\n",
    "def get_podcast_guest(podcast_transcript):\n",
    "  import openai\n",
    "  import wikipedia\n",
    "  import json\n",
    "  from langchain.llms import OpenAI\n",
    "  from langchain.agents import load_tools\n",
    "  from langchain.agents import initialize_agent\n",
    "  from serpapi import GoogleSearch\n",
    "  import os\n",
    "  \n",
    "  request = podcast_transcript[:10000]\n",
    "  completion = openai.ChatCompletion.create(\n",
    "    model=\"gpt-3.5-turbo\",\n",
    "    messages=[{\"role\": \"user\", \"content\": request}],\n",
    "    functions=[\n",
    "    {\n",
    "        \"name\": \"get_podcast_guest_information\",\n",
    "        \"description\": \"Get information on the podcast guest using their full name and the name of the organization they are part of to search for them on Wikipedia or Google\",\n",
    "        \"parameters\": {\n",
    "            \"type\": \"object\",\n",
    "            \"properties\": {\n",
    "                \"guest_name\": {\n",
    "                    \"type\": \"string\",\n",
    "                    \"description\": \"The full name of the guest in the podcast. This person is not the podcast host. The host will be the main narrator of the podcast. You can generally identify a guest because they will be introduced by the host, and will engage in conversation with, or be interviewed by, the host. If no guest is introduced, then 'None'\",\n",
    "                },\n",
    "                \"guest_organization\": {\n",
    "                    \"type\": \"string\",\n",
    "                    \"description\": \"If the guest_name is not 'None', The full name of the organization that the podcast guest belongs to or runs, otherwise 'None'\",\n",
    "                },\n",
    "                \"guest_title\": {\n",
    "                    \"type\": \"string\",\n",
    "                    \"description\": \"If the guest_organization is not 'None', The title, designation or role of the podcast guest in their organization, otherwise 'None'\",\n",
    "                },\n",
    "            },\n",
    "            \"required\": [\"guest_name\"],\n",
    "        },\n",
    "    }],\n",
    "    function_call={\"name\": \"get_podcast_guest_information\"})\n",
    "  response_message = completion[\"choices\"][0][\"message\"]\n",
    "\n",
    "  if response_message.get(\"function_call\"):\n",
    "    function_name = response_message[\"function_call\"][\"name\"]\n",
    "    function_args = json.loads(response_message[\"function_call\"][\"arguments\"])\n",
    "    podcast_guest=function_args.get(\"guest_name\")\n",
    "    podcast_guest_org=function_args.get(\"guest_organization\")\n",
    "    podcast_guest_title=function_args.get(\"guest_title\")\n",
    "\n",
    "  if (podcast_guest is not None):\n",
    "    if (podcast_guest_org is None):\n",
    "      podcast_guest_org = \"\"\n",
    "    if (podcast_guest_title is None):\n",
    "      podcast_guest_title = \"\"\n",
    "    try:\n",
    "      input = wikipedia.page(podcast_guest + \" \" + podcast_guest_org + \" \" + podcast_guest_title, auto_suggest=True)\n",
    "      podcast_guest_summary = input.summary\n",
    "    except wikipedia.exceptions.PageError:\n",
    "      print(f'The page for guest \"{podcast_guest} does not exist on Wikipedia.')\n",
    "      podcast_guest_summary = \"Not Available\"\n",
    "    except wikipedia.exceptions.DisambiguationError as e:\n",
    "      print(f'The page for guest \"{podcast_guest} is ambiguous. Possible matches are:')\n",
    "      print(e.options)\n",
    "      podcast_guest_summary = \"Not Available\"\n",
    "  else:\n",
    "    podcast_guest = \"Not Available\"\n",
    "    podcast_guest_org = \"Not Available\"\n",
    "    podcast_guest_title = \"Not Available\"\n",
    "    podcast_guest_summary = \"Not Available\"\n",
    "\n",
    "  podcastGuest = {}\n",
    "  podcastGuest['name'] = podcast_guest\n",
    "  podcastGuest['org'] = podcast_guest_org\n",
    "  podcastGuest['title'] = podcast_guest_title\n",
    "  podcastGuest['summary'] = podcast_guest_summary\n",
    "  return podcastGuest\n",
    "\n",
    "@stub.function(image=corise_image, secret=modal.Secret.from_name(\"my-openai-secret\"))\n",
    "def get_podcast_highlights(podcast_transcript):\n",
    "  import openai\n",
    "  instructPrompt = \"\"\"\n",
    "  You are a podcast editor and producer. You are provided with the transcript of a podcast episode and have to identify the 5 most significant moments in the podcast as highlights\n",
    "  - Each highlight needs to be a statement by one of the podcast guests\n",
    "  - Each highlight has to be impactful and an important takeaway from this podcast episode\n",
    "  - Each highlight must be concise and make listeners want to hear more about why the podcast guest said that\n",
    "  - The highlights that you pick must be spread out throughout the episode\n",
    "\n",
    "  Provide only the highlights and nothing else. Provide the full sentence of the highlight and format it as follows -\n",
    "\n",
    "  - Highlight 1 of the podcast\n",
    "  - Highlight 2 of the podcast\n",
    "  - Highlight 3 of the podcast\n",
    "  \"\"\"\n",
    "\n",
    "  request = instructPrompt + podcast_transcript\n",
    "  chatOutput = openai.ChatCompletion.create(model=\"gpt-3.5-turbo-16k\",\n",
    "                                            messages=[{\"role\": \"system\", \"content\": \"You are a helpful assistant.\"},\n",
    "                                                      {\"role\": \"user\", \"content\": request}\n",
    "                                                      ]\n",
    "                                            )\n",
    "  podcastHighlights = chatOutput.choices[0].message.content\n",
    "  return podcastHighlights\n",
    "\n",
    "@stub.function(image=corise_image, secret=modal.Secret.from_name(\"my-openai-secret\"), timeout=1200)\n",
    "def process_podcast(url, path):\n",
    "  output = {}\n",
    "  podcast_details = get_transcribe_podcast.call(url, path)\n",
    "  podcast_summary = get_podcast_summary.call(podcast_details['episode_transcript'])\n",
    "  podcast_guest = get_podcast_guest.call(podcast_details['episode_transcript'])\n",
    "  podcast_highlights = get_podcast_highlights.call(podcast_details['episode_transcript'])\n",
    "  output['podcast_details'] = podcast_details\n",
    "  output['podcast_summary'] = podcast_summary\n",
    "  output['podcast_guest'] = podcast_guest\n",
    "  output['podcast_highlights'] = podcast_highlights\n",
    "  return output\n",
    "\n",
    "@stub.local_entrypoint()\n",
    "def test_method(url, path):\n",
    "  output = {}\n",
    "  podcast_details = get_transcribe_podcast.call(url, path)\n",
    "  print (\"Podcast Summary: \", get_podcast_summary.call(podcast_details['episode_transcript']))\n",
    "  print (\"Podcast Guest Information: \", get_podcast_guest.call(podcast_details['episode_transcript']))\n",
    "  print (\"Podcast Highlights: \", get_podcast_highlights.call(podcast_details['episode_transcript']))"
   ]
  },
  {
   "cell_type": "code",
   "execution_count": 46,
   "metadata": {},
   "outputs": [],
   "source": [
    "!modal run podcast_backend.py --url https://access.acast.com/rss/d556eb54-6160-4c85-95f4-47d9f5216c49 --path \".\""
   ]
  },
  {
   "cell_type": "code",
   "execution_count": 50,
   "metadata": {},
   "outputs": [],
   "source": [
    "!modal deploy podcast_backend.py"
   ]
  },
  {
   "cell_type": "code",
   "execution_count": 52,
   "metadata": {},
   "outputs": [
    {
     "name": "stderr",
     "output_type": "stream",
     "text": [
      "C:\\Users\\Jeffrey.Roth.NMES\\AppData\\Local\\Temp\\ipykernel_23880\\1431846519.py:4: DeprecationError: 2023-08-16: `f.call(...)` is deprecated. It has been renamed to `f.remote(...)`\n",
      "  output = f.call('https://feeds.npr.org/510289/podcast.xml', '')\n"
     ]
    }
   ],
   "source": [
    "# Trying to call the deployed function from another python session\n",
    "import modal\n",
    "f = modal.Function.lookup(\"corise-podcast-project\", \"process_podcast\")\n",
    "output = f.call('https://feeds.npr.org/510289/podcast.xml', '')"
   ]
  },
  {
   "cell_type": "code",
   "execution_count": 54,
   "metadata": {},
   "outputs": [],
   "source": [
    "import json\n",
    "with open(\"podcast-3.json\", \"w\") as outfile:\n",
    "  json.dump(output, outfile)"
   ]
  },
  {
   "cell_type": "markdown",
   "metadata": {},
   "source": [
    "# Part 3: Deploying the front-end application"
   ]
  },
  {
   "cell_type": "code",
   "execution_count": 55,
   "metadata": {},
   "outputs": [
    {
     "name": "stdout",
     "output_type": "stream",
     "text": [
      "Overwriting podcast_frontend.py\n"
     ]
    }
   ],
   "source": [
    "%%writefile podcast_frontend.py\n",
    "import streamlit as st\n",
    "import modal\n",
    "import json\n",
    "import os\n",
    "\n",
    "def main():\n",
    "    st.title(\"Newsletter Dashboard\")\n",
    "\n",
    "    available_podcast_info = create_dict_from_json_files('.')\n",
    "\n",
    "    # Left section - Input fields\n",
    "    st.sidebar.header(\"Podcast RSS Feeds\")\n",
    "\n",
    "    # Dropdown box\n",
    "    st.sidebar.subheader(\"Available Podcasts Feeds\")\n",
    "    selected_podcast = st.sidebar.selectbox(\"Select Podcast\", options=available_podcast_info.keys())\n",
    "\n",
    "    if selected_podcast:\n",
    "\n",
    "        podcast_info = available_podcast_info[selected_podcast]\n",
    "\n",
    "        # Right section - Newsletter content\n",
    "        st.header(\"Newsletter Content\")\n",
    "\n",
    "        # Display the podcast title\n",
    "        st.subheader(\"Episode Title\")\n",
    "        st.write(podcast_info['podcast_details']['episode_title'])\n",
    "\n",
    "        # Display the podcast summary and the cover image in a side-by-side layout\n",
    "        col1, col2 = st.columns([7, 3])\n",
    "\n",
    "        with col1:\n",
    "            # Display the podcast episode summary\n",
    "            st.subheader(\"Podcast Episode Summary\")\n",
    "            st.write(podcast_info['podcast_summary'])\n",
    "\n",
    "        with col2:\n",
    "            st.image(podcast_info['podcast_details']['episode_image'], caption=\"Podcast Cover\", width=300, use_column_width=True)\n",
    "\n",
    "        # Display the podcast guest and their details in a side-by-side layout\n",
    "        col3, col4 = st.columns([3, 7])\n",
    "\n",
    "        with col3:\n",
    "            st.subheader(\"Podcast Guest\")\n",
    "            st.write(podcast_info['podcast_guest']['name'])\n",
    "\n",
    "        with col4:\n",
    "            st.subheader(\"Podcast Guest Details\")\n",
    "            st.write(podcast_info[\"podcast_guest\"]['summary'])\n",
    "\n",
    "        # Display the five key moments\n",
    "        st.subheader(\"Key Moments\")\n",
    "        key_moments = podcast_info['podcast_highlights']\n",
    "        for moment in key_moments.split('\\n'):\n",
    "            st.markdown(\n",
    "                f\"<p style='margin-bottom: 5px;'>{moment}</p>\", unsafe_allow_html=True)\n",
    "\n",
    "    # User Input box\n",
    "    st.sidebar.subheader(\"Add and Process New Podcast Feed\")\n",
    "    url = st.sidebar.text_input(\"Link to RSS Feed\")\n",
    "\n",
    "    process_button = st.sidebar.button(\"Process Podcast Feed\")\n",
    "    st.sidebar.markdown(\"**Note**: Podcast processing can take upto 5 mins, please be patient.\")\n",
    "\n",
    "    if process_button:\n",
    "\n",
    "        # Call the function to process the URLs and retrieve podcast guest information\n",
    "        podcast_info = process_podcast_info(url)\n",
    "\n",
    "        # Right section - Newsletter content\n",
    "        st.header(\"Newsletter Content\")\n",
    "\n",
    "        # Display the podcast title\n",
    "        st.subheader(\"Episode Title\")\n",
    "        st.write(podcast_info['podcast_details']['episode_title'])\n",
    "\n",
    "        # Display the podcast summary and the cover image in a side-by-side layout\n",
    "        col1, col2 = st.columns([7, 3])\n",
    "\n",
    "        with col1:\n",
    "            # Display the podcast episode summary\n",
    "            st.subheader(\"Podcast Episode Summary\")\n",
    "            st.write(podcast_info['podcast_summary'])\n",
    "\n",
    "        with col2:\n",
    "            st.image(podcast_info['podcast_details']['episode_image'], caption=\"Podcast Cover\", width=300, use_column_width=True)\n",
    "\n",
    "        # Display the podcast guest and their details in a side-by-side layout\n",
    "        col3, col4 = st.columns([3, 7])\n",
    "\n",
    "        with col3:\n",
    "            st.subheader(\"Podcast Guest\")\n",
    "            st.write(podcast_info['podcast_guest']['name'])\n",
    "\n",
    "        with col4:\n",
    "            st.subheader(\"Podcast Guest Details\")\n",
    "            st.write(podcast_info[\"podcast_guest\"]['summary'])\n",
    "\n",
    "        # Display the five key moments\n",
    "        st.subheader(\"Key Moments\")\n",
    "        key_moments = podcast_info['podcast_highlights']\n",
    "        for moment in key_moments.split('\\n'):\n",
    "            st.markdown(\n",
    "                f\"<p style='margin-bottom: 5px;'>{moment}</p>\", unsafe_allow_html=True)\n",
    "\n",
    "def create_dict_from_json_files(folder_path):\n",
    "    json_files = [f for f in os.listdir(folder_path) if f.endswith('.json')]\n",
    "    data_dict = {}\n",
    "\n",
    "    for file_name in json_files:\n",
    "        file_path = os.path.join(folder_path, file_name)\n",
    "        with open(file_path, 'r') as file:\n",
    "            podcast_info = json.load(file)\n",
    "            podcast_name = podcast_info['podcast_details']['podcast_title']\n",
    "            # Process the file data as needed\n",
    "            data_dict[podcast_name] = podcast_info\n",
    "\n",
    "    return data_dict\n",
    "\n",
    "def process_podcast_info(url):\n",
    "    f = modal.Function.lookup(\"corise-podcast-project\", \"process_podcast\")\n",
    "    output = f.call(url, '')\n",
    "    return output\n",
    "\n",
    "if __name__ == '__main__':\n",
    "    main()"
   ]
  },
  {
   "cell_type": "code",
   "execution_count": 56,
   "metadata": {},
   "outputs": [
    {
     "name": "stdout",
     "output_type": "stream",
     "text": [
      "Overwriting requirements.txt\n"
     ]
    }
   ],
   "source": [
    "%%writefile requirements.txt\n",
    "streamlit\n",
    "modal"
   ]
  },
  {
   "cell_type": "code",
   "execution_count": null,
   "metadata": {},
   "outputs": [],
   "source": []
  }
 ],
 "metadata": {
  "kernelspec": {
   "display_name": ".venv",
   "language": "python",
   "name": "python3"
  },
  "language_info": {
   "codemirror_mode": {
    "name": "ipython",
    "version": 3
   },
   "file_extension": ".py",
   "mimetype": "text/x-python",
   "name": "python",
   "nbconvert_exporter": "python",
   "pygments_lexer": "ipython3",
   "version": "3.11.4"
  },
  "orig_nbformat": 4
 },
 "nbformat": 4,
 "nbformat_minor": 2
}
